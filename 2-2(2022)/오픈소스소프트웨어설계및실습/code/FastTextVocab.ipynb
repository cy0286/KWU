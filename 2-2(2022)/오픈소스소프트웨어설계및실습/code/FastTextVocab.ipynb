{
 "cells": [
  {
   "cell_type": "code",
   "execution_count": 17,
   "id": "eba9bf92",
   "metadata": {},
   "outputs": [
    {
     "name": "stdout",
     "output_type": "stream",
     "text": [
      "E:\\wordmo\\word2.csv 11 11\n",
      "E:\\wordmo\\word3.csv 1521 1532\n"
     ]
    }
   ],
   "source": [
    "import os\n",
    "import pandas as pd #판다스 불러오기\n",
    "import numpy as np\n",
    "base_path = \"E:\\\\wordmo\\\\\" #해당 폴더안의\n",
    "fileList = os.listdir(base_path)[1:]\n",
    "\n",
    "# 모든 문장을 하나의 데이터프레임으로 concat\n",
    "all_Sentences = pd.DataFrame()\n",
    "\n",
    "for file in fileList:\n",
    "    file_name = base_path + file\n",
    "    if file.endswith(\"csv\"): #모든 csv 파일 불러오기\n",
    "        \n",
    "        df = pd.read_csv(file_name, encoding=\"utf-8\", header=None, names=[0]) # utf-8 로 인코딩\n",
    "        if file.endswith(\"word3.csv\"): #end with word 3\n",
    "            df[0] = df[0].astype('str')\n",
    "            df[0] = df[0].apply(lambda x: x.split(\"-\")[0] if x.endswith(\"갤러리\") else x)\n",
    "            \n",
    "        all_Sentences = pd.concat([all_Sentences, df])\n",
    "        \n",
    "    else:\n",
    "        all_Sentences = pd.concat([all_Sentences, pd.read_excel(file_name, encoding=\"utf-8\", header=None, names=[0])])\n",
    "    print(file_name, len(df), len(all_Sentences))"
   ]
  },
  {
   "cell_type": "code",
   "execution_count": 18,
   "id": "7b6da614",
   "metadata": {},
   "outputs": [
    {
     "name": "stdout",
     "output_type": "stream",
     "text": [
      "1379\n"
     ]
    }
   ],
   "source": [
    "# 중복되는 단어들을 제거 : 1532 => 1379\n",
    "all_Sentences.drop_duplicates(inplace=True)\n",
    "print(len(all_Sentences))"
   ]
  },
  {
   "cell_type": "code",
   "execution_count": 19,
   "id": "f89410a4",
   "metadata": {},
   "outputs": [],
   "source": [
    "# 특수문자나 한자 등이\n",
    "#날라가지 않을 경우에 대하여\n",
    "import re\n",
    "pattern = re.compile(\"[^ㄱ-ㅎㅏ-ㅣ가-힣0-9a-zA-Z ]\") # 공백을 제외하고  제거\n",
    "\n",
    "# 규표현식 적용\n",
    "def clear_word(word):\n",
    "    word = re.sub(pattern, \"\", word) #각 단어에 대하여 \n",
    "    return word\n",
    "\n",
    "all_Sentences[0] = all_Sentences.astype('str')\n",
    "all_Sentences[0] = all_Sentences[0].apply(lambda x: clear_word(x)) #apply"
   ]
  },
  {
   "cell_type": "code",
   "execution_count": 20,
   "id": "a3629be4",
   "metadata": {},
   "outputs": [],
   "source": [
    "# index 순서를 재정비\n",
    "all_Sentences.reset_index(inplace=True) # reset_index\n",
    "all_Sentences.drop('index', axis=1, inplace=True)\n",
    "all_Sentences = all_Sentences[1:]"
   ]
  },
  {
   "cell_type": "code",
   "execution_count": 21,
   "id": "988c9170",
   "metadata": {},
   "outputs": [],
   "source": [
    "# 각 문장을 jamo_split하여 저장\n",
    "from JamoSplit import jamo_split, jamo_combine\n",
    "all_Sentences[0] = all_Sentences[0].apply(lambda x: jamo_split(x))\n",
    "all_Sentences[0] = all_Sentences[0].apply(lambda x: x.split(\" \"))"
   ]
  },
  {
   "cell_type": "code",
   "execution_count": 22,
   "id": "91ed4ac4",
   "metadata": {},
   "outputs": [
    {
     "data": {
      "text/html": [
       "<div>\n",
       "<style scoped>\n",
       "    .dataframe tbody tr th:only-of-type {\n",
       "        vertical-align: middle;\n",
       "    }\n",
       "\n",
       "    .dataframe tbody tr th {\n",
       "        vertical-align: top;\n",
       "    }\n",
       "\n",
       "    .dataframe thead th {\n",
       "        text-align: right;\n",
       "    }\n",
       "</style>\n",
       "<table border=\"1\" class=\"dataframe\">\n",
       "  <thead>\n",
       "    <tr style=\"text-align: right;\">\n",
       "      <th></th>\n",
       "      <th>0</th>\n",
       "    </tr>\n",
       "  </thead>\n",
       "  <tbody>\n",
       "    <tr>\n",
       "      <th>1</th>\n",
       "      <td>[ㅁㅣ_ㅊㅣㄴ, ㄴㅗㅁㅇㅣㄴㄱㅏ_, ㅇㅒ_ㄴㅡㄴ]</td>\n",
       "    </tr>\n",
       "    <tr>\n",
       "      <th>2</th>\n",
       "      <td>[ㅅㅣㅂㅍㅏㄹㄴㅕㄴㄷㅗ_ㅇㅔㄴ, ㅎㅏㄱㄱㅛ_ㅇㅔ_, ㄱㅏ_ㅇㅛ_]</td>\n",
       "    </tr>\n",
       "    <tr>\n",
       "      <th>3</th>\n",
       "      <td>[ㅁㅜ_ㅊㅣㄴㄴㅗㅁㅇㅣ_, ㅈㅣ_ㄴㅏ_ㄱㅏ_ㄴㅔ_, ㄴㅣ_ㄴㅏㅁㅊㅣㄴ]</td>\n",
       "    </tr>\n",
       "    <tr>\n",
       "      <th>4</th>\n",
       "      <td>[ㅇㅏ_ㄴㅣ_, ㄱㅡ_ㄴㅑㅇ, ㄱㅡ_ㄹㅓㄴㄱㅓ_ㄹㅏ_ㄱㅗ_, ㅅㅐㅇㄱㅏㄱㅎㅐ_, ㅅ...</td>\n",
       "    </tr>\n",
       "    <tr>\n",
       "      <th>5</th>\n",
       "      <td>[ㄲㅓ_ㅈㅕ_, ㅈㅓ_ㄹㅣ_ㄱㅏ_, ㅇㅣ_ㄴㅗㅁㅇㅏ_]</td>\n",
       "    </tr>\n",
       "    <tr>\n",
       "      <th>...</th>\n",
       "      <td>...</td>\n",
       "    </tr>\n",
       "    <tr>\n",
       "      <th>1374</th>\n",
       "      <td>[ㅇㅕ_ㅅㅓㅇㅎㅏㄱ, ㄷㅐ_ㅎㅏㄱㅇㅝㄴ]</td>\n",
       "    </tr>\n",
       "    <tr>\n",
       "      <th>1375</th>\n",
       "      <td>[ㅇㅢ_ㄹㅚ_ㅇㅣㄴㅇㅡㄹ, ㄴㅐ_, ㄱㅏ_ㅈㅗㄱㄱㅏㅌㅇㅣ_, ㅁㅗ_ㅅㅣ_ㄱㅔㅆㅅㅡㅂ...</td>\n",
       "    </tr>\n",
       "    <tr>\n",
       "      <th>1376</th>\n",
       "      <td>[ㅇㅓ_ㄱㅡ_, ㄱㅓ_ㅅㅣㄹㅎㅘ_]</td>\n",
       "    </tr>\n",
       "    <tr>\n",
       "      <th>1377</th>\n",
       "      <td>[ㄷㅗㅇㅅㅣ_ㅎㅡㅇ, ㅂㅜㄴㄱㅣ_ㅈㅓㅁ]</td>\n",
       "    </tr>\n",
       "    <tr>\n",
       "      <th>1378</th>\n",
       "      <td>[ㅇㅐ_ㄱㅕㄴ, ㅇㅣ_ㅂㅏㄹㄱㅣ_]</td>\n",
       "    </tr>\n",
       "  </tbody>\n",
       "</table>\n",
       "<p>1378 rows × 1 columns</p>\n",
       "</div>"
      ],
      "text/plain": [
       "                                                      0\n",
       "1                           [ㅁㅣ_ㅊㅣㄴ, ㄴㅗㅁㅇㅣㄴㄱㅏ_, ㅇㅒ_ㄴㅡㄴ]\n",
       "2                  [ㅅㅣㅂㅍㅏㄹㄴㅕㄴㄷㅗ_ㅇㅔㄴ, ㅎㅏㄱㄱㅛ_ㅇㅔ_, ㄱㅏ_ㅇㅛ_]\n",
       "3               [ㅁㅜ_ㅊㅣㄴㄴㅗㅁㅇㅣ_, ㅈㅣ_ㄴㅏ_ㄱㅏ_ㄴㅔ_, ㄴㅣ_ㄴㅏㅁㅊㅣㄴ]\n",
       "4     [ㅇㅏ_ㄴㅣ_, ㄱㅡ_ㄴㅑㅇ, ㄱㅡ_ㄹㅓㄴㄱㅓ_ㄹㅏ_ㄱㅗ_, ㅅㅐㅇㄱㅏㄱㅎㅐ_, ㅅ...\n",
       "5                        [ㄲㅓ_ㅈㅕ_, ㅈㅓ_ㄹㅣ_ㄱㅏ_, ㅇㅣ_ㄴㅗㅁㅇㅏ_]\n",
       "...                                                 ...\n",
       "1374                             [ㅇㅕ_ㅅㅓㅇㅎㅏㄱ, ㄷㅐ_ㅎㅏㄱㅇㅝㄴ]\n",
       "1375  [ㅇㅢ_ㄹㅚ_ㅇㅣㄴㅇㅡㄹ, ㄴㅐ_, ㄱㅏ_ㅈㅗㄱㄱㅏㅌㅇㅣ_, ㅁㅗ_ㅅㅣ_ㄱㅔㅆㅅㅡㅂ...\n",
       "1376                                [ㅇㅓ_ㄱㅡ_, ㄱㅓ_ㅅㅣㄹㅎㅘ_]\n",
       "1377                             [ㄷㅗㅇㅅㅣ_ㅎㅡㅇ, ㅂㅜㄴㄱㅣ_ㅈㅓㅁ]\n",
       "1378                                [ㅇㅐ_ㄱㅕㄴ, ㅇㅣ_ㅂㅏㄹㄱㅣ_]\n",
       "\n",
       "[1378 rows x 1 columns]"
      ]
     },
     "execution_count": 22,
     "metadata": {},
     "output_type": "execute_result"
    }
   ],
   "source": [
    "# 데이터 확인: 정상적으로 자모분리한 형태로 문장단위로 만들어짐\n",
    "all_Sentences"
   ]
  },
  {
   "cell_type": "code",
   "execution_count": 23,
   "id": "d655a5b9",
   "metadata": {
    "scrolled": true
   },
   "outputs": [
    {
     "data": {
      "text/plain": [
       "1378"
      ]
     },
     "execution_count": 23,
     "metadata": {},
     "output_type": "execute_result"
    }
   ],
   "source": [
    "# dataframe -> list로 변환\n",
    "sentence_list = list(all_Sentences[0])\n",
    "len(sentence_list)"
   ]
  },
  {
   "cell_type": "code",
   "execution_count": 24,
   "id": "97c9df67",
   "metadata": {},
   "outputs": [
    {
     "data": {
      "text/plain": [
       "[['ㅁㅣ_ㅊㅣㄴ', 'ㄴㅗㅁㅇㅣㄴㄱㅏ_', 'ㅇㅒ_ㄴㅡㄴ'],\n",
       " ['ㅅㅣㅂㅍㅏㄹㄴㅕㄴㄷㅗ_ㅇㅔㄴ', 'ㅎㅏㄱㄱㅛ_ㅇㅔ_', 'ㄱㅏ_ㅇㅛ_'],\n",
       " ['ㅁㅜ_ㅊㅣㄴㄴㅗㅁㅇㅣ_', 'ㅈㅣ_ㄴㅏ_ㄱㅏ_ㄴㅔ_', 'ㄴㅣ_ㄴㅏㅁㅊㅣㄴ'],\n",
       " ['ㅇㅏ_ㄴㅣ_', 'ㄱㅡ_ㄴㅑㅇ', 'ㄱㅡ_ㄹㅓㄴㄱㅓ_ㄹㅏ_ㄱㅗ_', 'ㅅㅐㅇㄱㅏㄱㅎㅐ_', 'ㅅㅐ_ㄲㅣ_ㅇㅑ_'],\n",
       " ['ㄲㅓ_ㅈㅕ_', 'ㅈㅓ_ㄹㅣ_ㄱㅏ_', 'ㅇㅣ_ㄴㅗㅁㅇㅏ_'],\n",
       " ['ㄴㅐ_ㅁㅏㄹㅈㅗㅁ', 'ㄷㅡㄹㅇㅓ_ㅂㅘ_', 'ㅅㅣㅂㄹㅕㄴㅇㅏ_', 'ㅈㅗㅁ'],\n",
       " ['ㅅㅣ_ㅇㅣ_ㅂㅏㄹ', 'ㅂㅕ_ㅇㅓㅇㅅㅣㄴㅇㅣ_', 'ㅈㅣ_ㅇㅣ_ㄹㅏㄹ'],\n",
       " ['ㅇㅡㅇ', 'ㅈㅣ_ㄹㅏㄹ'],\n",
       " ['ㅈㅗ_ㅇㅗㅈㄲㅏ_', 'ㅅㅔ_ㅇㅛ_'],\n",
       " ['ㅇㅡㅇ', 'ㅇㅏ_ㄴㅣ_ㅇㅑ_']]"
      ]
     },
     "execution_count": 24,
     "metadata": {},
     "output_type": "execute_result"
    }
   ],
   "source": [
    "# fasttext 인풋 완성됐음을 확인\n",
    "sentence_list[:10]"
   ]
  },
  {
   "cell_type": "code",
   "execution_count": 25,
   "id": "c0fb9bf5",
   "metadata": {},
   "outputs": [],
   "source": [
    "# fasttext애  적용할 차례\n",
    "from gensim.models import FastText\n",
    "# size: 좌우 2단어 \n",
    "# min_count: 최소 1번 등장한 단어들\n",
    "# workers: 4전부!!\n",
    "# sg: 성능이 좋다\n",
    "# min_n max_n : n-gram단위인. 1글자 ~ 2글자 최대 6-gram\n",
    "# epochs: 반복횟수 \n",
    "model = FastText(sentence_list, vector_size=50, window=2, min_count=1, workers=4, sg=1, min_n=3, max_n=6, epochs=10)"
   ]
  },
  {
   "cell_type": "code",
   "execution_count": 26,
   "id": "a1c4e19a",
   "metadata": {},
   "outputs": [
    {
     "data": {
      "text/plain": [
       "[('ㄱㅔ_ㅅㅐ_ㄲㅣ_', 0.8398352265357971),\n",
       " ('ㄱㅐ_ㅅㅐ_', 0.7305082082748413),\n",
       " ('ㄱㅐ_ㅅㅐ_ㄲㅑ_', 0.7271333336830139),\n",
       " ('ㅈㅗㅈㅅㅐ_ㄲㅣ_', 0.7021294832229614),\n",
       " ('ㅎㅗ_ㄹㅗ_ㅅㅐ_ㄲㅣ_', 0.697624146938324),\n",
       " ('ㄱㅐ_ㅎㅜ_ㄹㅏ_ㅅㅐ_ㄲㅣ_', 0.6936761140823364),\n",
       " ('ㄱㅐ_ㄸㅐ_ㄲㅣ_', 0.6807937026023865),\n",
       " ('ㄱㅐ_ㅅㅙㅅ', 0.6679026484489441),\n",
       " ('ㄷㅗㄴㅅㅐ_ㄲㅣ_', 0.6532419323921204),\n",
       " ('ㄱㅡ_ㅈㅣ_ㅅㅐ_ㄲㅣ_', 0.6515879034996033)]"
      ]
     },
     "execution_count": 26,
     "metadata": {},
     "output_type": "execute_result"
    }
   ],
   "source": [
    "# 유사한 형태의 단어가 출력되는 것을 확인\n",
    "model.wv.most_similar(jamo_split(\"개새끼\"))"
   ]
  },
  {
   "cell_type": "code",
   "execution_count": 12,
   "id": "540cf2f0",
   "metadata": {},
   "outputs": [],
   "source": [
    "# gensim_festtext.model => embedding model 저장\n",
    "model.save(\"./gensim_festtext.model\")"
   ]
  },
  {
   "cell_type": "code",
   "execution_count": 15,
   "id": "d6c1f8fc",
   "metadata": {},
   "outputs": [],
   "source": [
    "#from gensim.models import FastText\n",
    "model = FastText(sentence_list, vector_size=50, window=2, min_count=1, workers=4, sg=1, min_n=3, max_n=6, epochs=10)"
   ]
  },
  {
   "cell_type": "code",
   "execution_count": 1,
   "id": "b1c769e5",
   "metadata": {
    "scrolled": true
   },
   "outputs": [
    {
     "name": "stdout",
     "output_type": "stream",
     "text": [
      "\n"
     ]
    }
   ],
   "source": [
    "# 50개 문장만샘플링 하여 시각화 진행\n",
    "import random\n",
    "random_sentence_list = random.sample(sentence_list, 10)\n",
    "random_word_list = pd.DataFrame([[word, model[word]]for sentence in random_sentence_list for word in sentence])"
   ]
  },
  {
   "cell_type": "code",
   "execution_count": 3,
   "id": "c768ec46",
   "metadata": {},
   "outputs": [
    {
     "ename": "SyntaxError",
     "evalue": "invalid syntax (2166687020.py, line 1)",
     "output_type": "error",
     "traceback": [
      "\u001b[1;36m  Input \u001b[1;32mIn [3]\u001b[1;36m\u001b[0m\n\u001b[1;33m    echo \"# YOUNG\" >> README.md\u001b[0m\n\u001b[1;37m         ^\u001b[0m\n\u001b[1;31mSyntaxError\u001b[0m\u001b[1;31m:\u001b[0m invalid syntax\n"
     ]
    }
   ],
   "source": []
  }
 ],
 "metadata": {
  "kernelspec": {
   "display_name": "Python 3 (ipykernel)",
   "language": "python",
   "name": "python3"
  },
  "language_info": {
   "codemirror_mode": {
    "name": "ipython",
    "version": 3
   },
   "file_extension": ".py",
   "mimetype": "text/x-python",
   "name": "python",
   "nbconvert_exporter": "python",
   "pygments_lexer": "ipython3",
   "version": "3.9.12"
  }
 },
 "nbformat": 4,
 "nbformat_minor": 5
}
