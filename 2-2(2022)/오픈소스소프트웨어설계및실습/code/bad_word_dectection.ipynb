{
 "cells": [
  {
   "cell_type": "code",
   "execution_count": 1,
   "id": "93ffce75",
   "metadata": {},
   "outputs": [],
   "source": [
    "def return_bad_words_index(content, mode=0):\n",
    "    #욕설 위치에 *표시 return\n",
    "    if mode == 0:\n",
    "        for pattern in patternList:\n",
    "            content = re.sub(pattern, \"**\", content)\n",
    "        return content\n",
    "    \n",
    "    # 비속어 위치와 trigram return\n",
    "    else:\n",
    "        # 문장의 음절과 어절간의 리스트 생성: 어절의 위치를 뽑기 위함\n",
    "        token_position = []\n",
    "        token_index = 0\n",
    "        # 각 캐릭터 위치마다 어절 인덱스 저장\n",
    "        for char in content:\n",
    "            token_position.append(token_index)\n",
    "            if char == \" \":\n",
    "                token_index += 1\n",
    "\n",
    "        # 정규식 표현을 통해 비속어 위치 찾기\n",
    "        badwords = []\n",
    "        for pattern in patternList:\n",
    "            matchObjs = re.finditer(pattern, content)\n",
    "            badwords += [token_position[obj.span()[0]] for obj in matchObjs] # 해당 단어가 속한 어절의 위치\n",
    "            \n",
    "        content = [\" \"]+ content.split(\" \") + [\" \"] # 어절을 반환하기 위한 스플릿 & 맨앞, 맨뒤 padding\n",
    "        \n",
    "        badwords = list(set(badwords)) # 중복제거\n",
    "\n",
    "    return [(content[index], content[index+1], content[index+2], index) for index in badwords] # trigram(3어절 반환) & 단어 위치"
   ]
  },
  {
   "cell_type": "code",
   "execution_count": 2,
   "id": "5393feb7",
   "metadata": {},
   "outputs": [],
   "source": [
    "content = \"\"\"\n",
    "돼지새끼\n",
    "좃같아\n",
    "의뢰인을 내 가족같이 모시겠습니다\n",
    "개쓰레기\n",
    "내일 뭐하지?\n",
    "후배 위하는 선배가 최고죠\n",
    "미친놈\n",
    "\"\"\""
   ]
  },
  {
   "cell_type": "code",
   "execution_count": 3,
   "id": "c4369f52",
   "metadata": {},
   "outputs": [
    {
     "name": "stdout",
     "output_type": "stream",
     "text": [
      "  \n",
      "돼지새끼\n",
      "좃같아\n",
      "의뢰인을 내 가족같이 모시겠습니다\n",
      "개쓰레기\n",
      "내일 뭐하지?\n",
      "후배 위하는 선배가 최고죠\n",
      "미친놈\n",
      "\n",
      "비속어 필터링 \n",
      "돼지**\n",
      "**아\n",
      "의뢰인을 내 가족같이 모시겠습니다\n",
      "개**\n",
      "내일 뭐하지?\n",
      "후배 위하는 선배가 최고죠\n",
      "****\n",
      "\n"
     ]
    }
   ],
   "source": [
    "print(\" \", content)\n",
    "print(\"비속어 필터링\",return_bad_words_index(content, mode=0))"
   ]
  }
 ],
 "metadata": {
  "kernelspec": {
   "display_name": "Python 3 (ipykernel)",
   "language": "python",
   "name": "python3"
  },
  "language_info": {
   "codemirror_mode": {
    "name": "ipython",
    "version": 3
   },
   "file_extension": ".py",
   "mimetype": "text/x-python",
   "name": "python",
   "nbconvert_exporter": "python",
   "pygments_lexer": "ipython3",
   "version": "3.9.12"
  }
 },
 "nbformat": 4,
 "nbformat_minor": 5
}
