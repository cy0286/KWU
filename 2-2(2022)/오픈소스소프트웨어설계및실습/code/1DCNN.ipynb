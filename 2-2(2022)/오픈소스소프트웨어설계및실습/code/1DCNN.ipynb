{
 "cells": [
  {
   "cell_type": "code",
   "execution_count": null,
   "id": "9ab79776",
   "metadata": {},
   "outputs": [],
   "source": [
    "import pandas as pd #pandas 불러오기\n",
    "import numpy as np\n",
    "\n",
    "# 벡터해준 데이터를 가져오는 과정\n",
    "data = pd.read_json(\"./labeled_data.json\")\n",
    "data.columns = [\"label\", \"trigram\"]"
   ]
  },
  {
   "cell_type": "code",
   "execution_count": 1,
   "id": "b6b236e3",
   "metadata": {},
   "outputs": [
    {
     "data": {
      "text/plain": [
       "1"
      ]
     },
     "execution_count": 1,
     "metadata": {},
     "output_type": "execute_result"
    }
   ],
   "source": [
    "# 삼 곱하기 오십 차원으로 바꿔주어 flastten 해준다는 과정이다\n",
    "data['trigram'] = data['trigram'].apply(lambda x: (np.array(x).reshape(-1)))"
   ]
  },
  {
   "cell_type": "code",
   "execution_count": 2,
   "id": "9c990003",
   "metadata": {},
   "outputs": [
    {
     "name": "stdout",
     "output_type": "stream",
     "text": [
      "\n"
     ]
    }
   ],
   "source": [
    "# train데이터와 /테스트 data를 분리\n",
    "from sklearn.model_selection import train_test_split #자모스플릿 가져오기\n",
    "# data pop label 기준\n",
    "y = data.pop('label')\n",
    "X = data\n",
    "# 엑스 트레인 데이터 와이 트레인 데이터 테스트 데이터 사이즈는 0.3 스테이트는 42\n",
    "X_train, X_test, y_train, y_test = train_test_split(X, y, test_size=0.3, random_state=42)"
   ]
  },
  {
   "cell_type": "code",
   "execution_count": 3,
   "id": "b82a3160",
   "metadata": {},
   "outputs": [
    {
     "name": "stdout",
     "output_type": "stream",
     "text": [
      "\n"
     ]
    }
   ],
   "source": [
    "# keras 데이터 형식에 맞게 변환\n",
    "X_train = np.array(X_train['trigram'].tolist())\n",
    "X_test = np.array(X_test['trigram'].tolist())\n",
    "y_train = y_train.values\n",
    "y_test = y_test.values"
   ]
  },
  {
   "cell_type": "code",
   "execution_count": 4,
   "id": "c2515851",
   "metadata": {},
   "outputs": [
    {
     "name": "stdout",
     "output_type": "stream",
     "text": [
      "(1283, 50)\n"
     ]
    }
   ],
   "source": [
    "X_train.shape # row 수를  x 임베딩 차원"
   ]
  },
  {
   "cell_type": "code",
   "execution_count": 5,
   "id": "57277e04",
   "metadata": {},
   "outputs": [
    {
     "name": "stdout",
     "output_type": "stream",
     "text": [
      "(112,3)\n"
     ]
    }
   ],
   "source": [
    "y_train.shape # row개수 x 1"
   ]
  },
  {
   "cell_type": "code",
   "execution_count": 6,
   "id": "9c942064",
   "metadata": {},
   "outputs": [
    {
     "name": "stdout",
     "output_type": "stream",
     "text": [
      "\n"
     ]
    }
   ],
   "source": [
    "# reshape 과정\n",
    "def reshape(df, dim): #케라스에 넣어주기 위함\n",
    "    return df.reshape(df.shape[0], dim, 1)"
   ]
  },
  {
   "cell_type": "code",
   "execution_count": 7,
   "id": "43fa35fe",
   "metadata": {},
   "outputs": [
    {
     "name": "stdout",
     "output_type": "stream",
     "text": [
      "\n"
     ]
    }
   ],
   "source": [
    "X_train = reshape(X_train, 150) # x 트레인\n",
    "X_test = reshape(X_test, 150) # x test\n",
    "X_train.shape"
   ]
  },
  {
   "cell_type": "code",
   "execution_count": 8,
   "id": "f823e771",
   "metadata": {},
   "outputs": [
    {
     "name": "stdout",
     "output_type": "stream",
     "text": [
      "\n"
     ]
    }
   ],
   "source": [
    "# f1 score를 알아보고자 정의해주는 함수이다 \n",
    "from keras import backend as K\n",
    "\n",
    "def recall_m(y_true, y_pred):\n",
    "        true_positives = K.sum(K.round(K.clip(y_true * y_pred, 0, 1)))\n",
    "        possible_positives = K.sum(K.round(K.clip(y_true, 0, 1)))\n",
    "        recall = true_positives / (possible_positives + K.epsilon())\n",
    "        return recall\n",
    "# 오픈 소스\n",
    "def precision_m(y_true, y_pred):\n",
    "        true_positives = K.sum(K.round(K.clip(y_true * y_pred, 0, 1)))\n",
    "        predicted_positives = K.sum(K.round(K.clip(y_pred, 0, 1)))\n",
    "        precision = true_positives / (predicted_positives + K.epsilon())\n",
    "        return precision\n",
    "#precision_m\n",
    "def f1_m(y_true, y_pred):\n",
    "    precision = precision_m(y_true, y_pred)\n",
    "    recall = recall_m(y_true, y_pred)\n",
    "    return 2*((precision*recall)/(precision+recall+K.epsilon()))"
   ]
  },
  {
   "cell_type": "code",
   "execution_count": 9,
   "id": "ee68568c",
   "metadata": {},
   "outputs": [
    {
     "name": "stdout",
     "output_type": "stream",
     "text": [
      "\n"
     ]
    }
   ],
   "source": [
    "history = model.fit(X_train, y_train, epochs=50, batch_size=64, validation_split=0.3)\n",
    "from keras.models import Sequential\n",
    "from keras.layers import Conv2D, Conv1D\n",
    "from keras.layers import MaxPooling1D\n",
    "from keras.layers import Activation, Dropout, Flatten, Dense\n",
    "from keras.callbacks import ModelCheckpoint\n",
    "from keras.layers.normalization import BatchNormalization\n",
    "from keras import backend as K\n",
    "\n",
    "K.clear_session() # session 초기화\n",
    "\n",
    "model = Sequential()\n",
    "model.add(Dense(150, input_shape=(X_train.shape[1], 1), activation=\"relu\"))\n",
    "model.add(BatchNormalization()) \n",
    "model.add(Conv1D(filters=100, kernel_size=5, activation='relu'))\n",
    "model.add(Conv1D(filters=100, kernel_size=3, activation='sigmoid'))\n",
    "model.add(MaxPooling1D(pool_size=3))\n",
    "model.add(Dropout(0.4))\n",
    "model.add(Flatten())\n",
    "model.add(Dense(50, activation='relu'))\n",
    "model.add(Dense(1, activation='sigmoid'))\n",
    "model.compile(loss='binary_crossentropy', optimizer='adam', metrics=['accuracy', f1_m])\n",
    "model.summary()"
   ]
  },
  {
   "cell_type": "code",
   "execution_count": 10,
   "id": "48a137bd",
   "metadata": {},
   "outputs": [
    {
     "name": "stdout",
     "output_type": "stream",
     "text": [
      "\n"
     ]
    }
   ],
   "source": [
    "import matplotlib.pyplot as plt\n",
    "\n",
    "epochs = range(1, len(history.history['acc']) + 1)\n",
    "plt.plot(epochs, history.history['acc'])\n",
    "plt.plot(epochs, history.history['val_acc'])\n",
    "plt.plot(epochs, history.history['val_f1_m'])\n",
    "plt.title('model accuracy')\n",
    "plt.ylabel('score')\n",
    "plt.xlabel('epoch')\n",
    "plt.legend(['train_acc', 'val_acc', 'f1score'], loc='upper left')\n",
    "plt.savefig(\"./1DCNN reuslt.png\")\n",
    "plt.show()\n",
    "# train에 대해서 overfitting. val은 조금 증가.\n",
    "#epoch(iter)은 20정도가  충분하다."
   ]
  }
 ],
 "metadata": {
  "kernelspec": {
   "display_name": "Python 3 (ipykernel)",
   "language": "python",
   "name": "python3"
  },
  "language_info": {
   "codemirror_mode": {
    "name": "ipython",
    "version": 3
   },
   "file_extension": ".py",
   "mimetype": "text/x-python",
   "name": "python",
   "nbconvert_exporter": "python",
   "pygments_lexer": "ipython3",
   "version": "3.9.12"
  }
 },
 "nbformat": 4,
 "nbformat_minor": 5
}
