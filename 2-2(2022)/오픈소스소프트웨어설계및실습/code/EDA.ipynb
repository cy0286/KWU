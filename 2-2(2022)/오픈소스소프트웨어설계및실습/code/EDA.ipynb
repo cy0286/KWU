{
 "cells": [
  {
   "cell_type": "code",
   "execution_count": 41,
   "id": "44ded8a6",
   "metadata": {},
   "outputs": [],
   "source": [
    "import pandas as pd\n",
    "data = pd.read_csv(\"E:\\\\label_d\\\\word3.csv\", header=None, names=[1, 2, 3, \"label\"]) #해당위치에서 csv 불러오기"
   ]
  },
  {
   "cell_type": "code",
   "execution_count": 42,
   "id": "72a2d854",
   "metadata": {},
   "outputs": [
    {
     "name": "stdout",
     "output_type": "stream",
     "text": [
      "<class 'pandas.core.frame.DataFrame'>\n",
      "RangeIndex: 1934 entries, 0 to 1933\n",
      "Data columns (total 4 columns):\n",
      " #   Column  Non-Null Count  Dtype \n",
      "---  ------  --------------  ----- \n",
      " 0   1       1589 non-null   object\n",
      " 1   2       1874 non-null   object\n",
      " 2   3       1 non-null      object\n",
      " 3   label   1934 non-null   int64 \n",
      "dtypes: int64(1), object(3)\n",
      "memory usage: 60.6+ KB\n"
     ]
    }
   ],
   "source": [
    "data.info() # 1934개의 데이터"
   ]
  },
  {
   "cell_type": "code",
   "execution_count": 43,
   "id": "255b042a",
   "metadata": {},
   "outputs": [],
   "source": [
    "import seaborn as sns #seaborn 불러우기\n",
    "from matplotlib import rc\n",
    "from matplotlib import rcParams\n",
    "import matplotlib.pyplot as plt\n",
    "%matplotlib inline\n",
    "\n",
    "rc('font', family='AppleGothic', size=11) #사이즈 지정\n",
    "\n",
    "plt.rcParams['axes.unicode_minus'] = False"
   ]
  },
  {
   "cell_type": "code",
   "execution_count": 44,
   "id": "99b7d398",
   "metadata": {
    "scrolled": true
   },
   "outputs": [
    {
     "name": "stdout",
     "output_type": "stream",
     "text": [
      "1    1807\n",
      "0     127\n",
      "Name: label, dtype: int64\n"
     ]
    },
    {
     "data": {
      "image/png": "[encoded data removed]",
      "text/plain": [
       "<Figure size 432x288 with 1 Axes>"
      ]
     },
     "metadata": {
      "needs_background": "light"
     },
     "output_type": "display_data"
    }
   ],
   "source": [
    "plt.bar(['bad word', 'not bad word'], data['label'].value_counts(), width=0.7)\n",
    "print(data['label'].value_counts())\n",
    "# 약 7대1의 비율의 비율로 나타나는 것을 확인"
   ]
  },
  {
   "cell_type": "code",
   "execution_count": 54,
   "id": "a89c2bbe",
   "metadata": {
    "scrolled": true
   },
   "outputs": [
    {
     "name": "stderr",
     "output_type": "stream",
     "text": [
      "No artists with labels found to put in legend.  Note that artists whose label start with an underscore are ignored when legend() is called with no argument.\n",
      "E:\\anaconda3\\lib\\site-packages\\IPython\\core\\pylabtools.py:151: UserWarning: Glyph 44060 (\\N{HANGUL SYLLABLE GAE}) missing from current font.\n",
      "  fig.canvas.print_figure(bytes_io, **kw)\n",
      "E:\\anaconda3\\lib\\site-packages\\IPython\\core\\pylabtools.py:151: UserWarning: Glyph 49464 (\\N{HANGUL SYLLABLE SE}) missing from current font.\n",
      "  fig.canvas.print_figure(bytes_io, **kw)\n",
      "E:\\anaconda3\\lib\\site-packages\\IPython\\core\\pylabtools.py:151: UserWarning: Glyph 45380 (\\N{HANGUL SYLLABLE NYEON}) missing from current font.\n",
      "  fig.canvas.print_figure(bytes_io, **kw)\n",
      "E:\\anaconda3\\lib\\site-packages\\IPython\\core\\pylabtools.py:151: UserWarning: Glyph 48372 (\\N{HANGUL SYLLABLE BO}) missing from current font.\n",
      "  fig.canvas.print_figure(bytes_io, **kw)\n",
      "E:\\anaconda3\\lib\\site-packages\\IPython\\core\\pylabtools.py:151: UserWarning: Glyph 51648 (\\N{HANGUL SYLLABLE JI}) missing from current font.\n",
      "  fig.canvas.print_figure(bytes_io, **kw)\n",
      "E:\\anaconda3\\lib\\site-packages\\IPython\\core\\pylabtools.py:151: UserWarning: Glyph 46629 (\\N{HANGUL SYLLABLE DDONG}) missing from current font.\n",
      "  fig.canvas.print_figure(bytes_io, **kw)\n",
      "E:\\anaconda3\\lib\\site-packages\\IPython\\core\\pylabtools.py:151: UserWarning: Glyph 49352 (\\N{HANGUL SYLLABLE SAE}) missing from current font.\n",
      "  fig.canvas.print_figure(bytes_io, **kw)\n",
      "E:\\anaconda3\\lib\\site-packages\\IPython\\core\\pylabtools.py:151: UserWarning: Glyph 45728 (\\N{HANGUL SYLLABLE NEUM}) missing from current font.\n",
      "  fig.canvas.print_figure(bytes_io, **kw)\n",
      "E:\\anaconda3\\lib\\site-packages\\IPython\\core\\pylabtools.py:151: UserWarning: Glyph 45448 (\\N{HANGUL SYLLABLE NOM}) missing from current font.\n",
      "  fig.canvas.print_figure(bytes_io, **kw)\n",
      "E:\\anaconda3\\lib\\site-packages\\IPython\\core\\pylabtools.py:151: UserWarning: Glyph 45336 (\\N{HANGUL SYLLABLE NEOM}) missing from current font.\n",
      "  fig.canvas.print_figure(bytes_io, **kw)\n",
      "E:\\anaconda3\\lib\\site-packages\\IPython\\core\\pylabtools.py:151: UserWarning: Glyph 44053 (\\N{HANGUL SYLLABLE GANG}) missing from current font.\n",
      "  fig.canvas.print_figure(bytes_io, **kw)\n",
      "E:\\anaconda3\\lib\\site-packages\\IPython\\core\\pylabtools.py:151: UserWarning: Glyph 44036 (\\N{HANGUL SYLLABLE GAN}) missing from current font.\n",
      "  fig.canvas.print_figure(bytes_io, **kw)\n",
      "E:\\anaconda3\\lib\\site-packages\\IPython\\core\\pylabtools.py:151: UserWarning: Glyph 48512 (\\N{HANGUL SYLLABLE BU}) missing from current font.\n",
      "  fig.canvas.print_figure(bytes_io, **kw)\n",
      "E:\\anaconda3\\lib\\site-packages\\IPython\\core\\pylabtools.py:151: UserWarning: Glyph 46980 (\\N{HANGUL SYLLABLE RAL}) missing from current font.\n",
      "  fig.canvas.print_figure(bytes_io, **kw)\n",
      "E:\\anaconda3\\lib\\site-packages\\IPython\\core\\pylabtools.py:151: UserWarning: Glyph 49475 (\\N{HANGUL SYLLABLE SELB}) missing from current font.\n",
      "  fig.canvas.print_figure(bytes_io, **kw)\n",
      "E:\\anaconda3\\lib\\site-packages\\IPython\\core\\pylabtools.py:151: UserWarning: Glyph 49745 (\\N{HANGUL SYLLABLE SWEG}) missing from current font.\n",
      "  fig.canvas.print_figure(bytes_io, **kw)\n",
      "E:\\anaconda3\\lib\\site-packages\\IPython\\core\\pylabtools.py:151: UserWarning: Glyph 53412 (\\N{HANGUL SYLLABLE KI}) missing from current font.\n",
      "  fig.canvas.print_figure(bytes_io, **kw)\n",
      "E:\\anaconda3\\lib\\site-packages\\IPython\\core\\pylabtools.py:151: UserWarning: Glyph 49884 (\\N{HANGUL SYLLABLE SI}) missing from current font.\n",
      "  fig.canvas.print_figure(bytes_io, **kw)\n",
      "E:\\anaconda3\\lib\\site-packages\\IPython\\core\\pylabtools.py:151: UserWarning: Glyph 53300 (\\N{HANGUL SYLLABLE KWI}) missing from current font.\n",
      "  fig.canvas.print_figure(bytes_io, **kw)\n",
      "E:\\anaconda3\\lib\\site-packages\\IPython\\core\\pylabtools.py:151: UserWarning: Glyph 49880 (\\N{HANGUL SYLLABLE SYIK}) missing from current font.\n",
      "  fig.canvas.print_figure(bytes_io, **kw)\n",
      "E:\\anaconda3\\lib\\site-packages\\IPython\\core\\pylabtools.py:151: UserWarning: Glyph 49856 (\\N{HANGUL SYLLABLE SYI}) missing from current font.\n",
      "  fig.canvas.print_figure(bytes_io, **kw)\n",
      "E:\\anaconda3\\lib\\site-packages\\IPython\\core\\pylabtools.py:151: UserWarning: Glyph 45180 (\\N{HANGUL SYLLABLE GGI}) missing from current font.\n",
      "  fig.canvas.print_figure(bytes_io, **kw)\n",
      "E:\\anaconda3\\lib\\site-packages\\IPython\\core\\pylabtools.py:151: UserWarning: Glyph 44676 (\\N{HANGUL SYLLABLE GGYA}) missing from current font.\n",
      "  fig.canvas.print_figure(bytes_io, **kw)\n",
      "E:\\anaconda3\\lib\\site-packages\\IPython\\core\\pylabtools.py:151: UserWarning: Glyph 49772 (\\N{HANGUL SYLLABLE SWI}) missing from current font.\n",
      "  fig.canvas.print_figure(bytes_io, **kw)\n",
      "E:\\anaconda3\\lib\\site-packages\\IPython\\core\\pylabtools.py:151: UserWarning: Glyph 47532 (\\N{HANGUL SYLLABLE RI}) missing from current font.\n",
      "  fig.canvas.print_figure(bytes_io, **kw)\n",
      "E:\\anaconda3\\lib\\site-packages\\IPython\\core\\pylabtools.py:151: UserWarning: Glyph 50556 (\\N{HANGUL SYLLABLE YA}) missing from current font.\n",
      "  fig.canvas.print_figure(bytes_io, **kw)\n",
      "E:\\anaconda3\\lib\\site-packages\\IPython\\core\\pylabtools.py:151: UserWarning: Glyph 49768 (\\N{HANGUL SYLLABLE SWEK}) missing from current font.\n",
      "  fig.canvas.print_figure(bytes_io, **kw)\n",
      "E:\\anaconda3\\lib\\site-packages\\IPython\\core\\pylabtools.py:151: UserWarning: Glyph 49762 (\\N{HANGUL SYLLABLE SWEBS}) missing from current font.\n",
      "  fig.canvas.print_figure(bytes_io, **kw)\n",
      "E:\\anaconda3\\lib\\site-packages\\IPython\\core\\pylabtools.py:151: UserWarning: Glyph 55176 (\\N{HANGUL SYLLABLE HI}) missing from current font.\n",
      "  fig.canvas.print_figure(bytes_io, **kw)\n",
      "E:\\anaconda3\\lib\\site-packages\\IPython\\core\\pylabtools.py:151: UserWarning: Glyph 49353 (\\N{HANGUL SYLLABLE SAEG}) missing from current font.\n",
      "  fig.canvas.print_figure(bytes_io, **kw)\n",
      "E:\\anaconda3\\lib\\site-packages\\IPython\\core\\pylabtools.py:151: UserWarning: Glyph 49483 (\\N{HANGUL SYLLABLE SES}) missing from current font.\n",
      "  fig.canvas.print_figure(bytes_io, **kw)\n",
      "E:\\anaconda3\\lib\\site-packages\\IPython\\core\\pylabtools.py:151: UserWarning: Glyph 44592 (\\N{HANGUL SYLLABLE GI}) missing from current font.\n",
      "  fig.canvas.print_figure(bytes_io, **kw)\n",
      "E:\\anaconda3\\lib\\site-packages\\IPython\\core\\pylabtools.py:151: UserWarning: Glyph 49381 (\\N{HANGUL SYLLABLE SYAG}) missing from current font.\n",
      "  fig.canvas.print_figure(bytes_io, **kw)\n",
      "E:\\anaconda3\\lib\\site-packages\\IPython\\core\\pylabtools.py:151: UserWarning: Glyph 47092 (\\N{HANGUL SYLLABLE REOL}) missing from current font.\n",
      "  fig.canvas.print_figure(bytes_io, **kw)\n"
     ]
    },
    {
     "data": {
      "image/png": "[encoded data removed]",
      "text/plain": [
       "<Figure size 1944x504 with 1 Axes>"
      ]
     },
     "metadata": {
      "needs_background": "light"
     },
     "output_type": "display_data"
    }
   ],
   "source": [
    "fig = plt.figure(figsize=(27, 7))\n",
    "ax = plt.subplot(1, 1, 1)\n",
    "\n",
    "# plt.minorticks_on()\n",
    "# plt.tick_params(pad=20)\n",
    "plt.title('frequency')\n",
    "ax.bar(data[2].value_counts().index[:33], data[2].value_counts()[:1], )\n",
    "for label in ax.xaxis.get_ticklabels() : #프린트 오류\n",
    "    label.set_rotation(45)\n",
    "    \n",
    "plt.xlabel('bad word')\n",
    "plt.ylabel('count')\n",
    "plt.legend()\n",
    "plt.show()\n",
    "# 가운데에 욕설이 있는데 욕설의 카운트들이다"
   ]
  }
 ],
 "metadata": {
  "kernelspec": {
   "display_name": "Python 3 (ipykernel)",
   "language": "python",
   "name": "python3"
  },
  "language_info": {
   "codemirror_mode": {
    "name": "ipython",
    "version": 3
   },
   "file_extension": ".py",
   "mimetype": "text/x-python",
   "name": "python",
   "nbconvert_exporter": "python",
   "pygments_lexer": "ipython3",
   "version": "3.9.12"
  }
 },
 "nbformat": 4,
 "nbformat_minor": 5
}
