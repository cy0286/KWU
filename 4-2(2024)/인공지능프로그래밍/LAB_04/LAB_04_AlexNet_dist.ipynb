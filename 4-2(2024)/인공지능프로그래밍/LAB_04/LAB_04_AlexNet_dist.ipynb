{
  "cells": [
    {
      "cell_type": "markdown",
      "metadata": {
        "id": "j9hbMuG8bIM_"
      },
      "source": [
        "AI Programming - SW Lee"
      ]
    },
    {
      "cell_type": "markdown",
      "metadata": {
        "id": "DUb1pg2m6RJu"
      },
      "source": [
        "# Lab 04: AlexNet for ImageNet Challenge (ILSVRC)\n",
        "## Exercise: Image Classification"
      ]
    },
    {
      "cell_type": "markdown",
      "metadata": {
        "id": "4bN4T1M-bIM_"
      },
      "source": [
        "Load Libraries"
      ]
    },
    {
      "cell_type": "code",
      "execution_count": 1,
      "metadata": {
        "colab": {
          "base_uri": "https://localhost:8080/"
        },
        "id": "_tmK5mSDbINA",
        "outputId": "3ba47e26-a921-4117-e989-c409b01583b5"
      },
      "outputs": [
        {
          "output_type": "stream",
          "name": "stdout",
          "text": [
            "Num GPUs Available:  1\n"
          ]
        }
      ],
      "source": [
        "import os\n",
        "# Set the backend of Keras to TensorFlow\n",
        "os.environ[\"KERAS_BACKEND\"] = \"tensorflow\"\n",
        "\n",
        "import numpy as np\n",
        "import tensorflow as tf\n",
        "import tensorflow_datasets as tfds\n",
        "import keras\n",
        "import matplotlib.pyplot as plt\n",
        "\n",
        "# List available GPUs and print the number of GPUs\n",
        "gpus = tf.config.list_physical_devices('GPU')\n",
        "print(\"Num GPUs Available: \", len(gpus))"
      ]
    },
    {
      "cell_type": "markdown",
      "metadata": {
        "id": "W-lyfNkbbINA"
      },
      "source": [
        "Prepare Datasets"
      ]
    },
    {
      "cell_type": "code",
      "execution_count": 2,
      "metadata": {
        "colab": {
          "base_uri": "https://localhost:8080/"
        },
        "id": "tKDim4TSxK5K",
        "outputId": "b61395e0-a39e-4abf-b24d-ebc88b1f74a1"
      },
      "outputs": [
        {
          "output_type": "stream",
          "name": "stdout",
          "text": [
            "FeaturesDict({\n",
            "    'id': Text(shape=(), dtype=string),\n",
            "    'image': Image(shape=(32, 32, 3), dtype=uint8),\n",
            "    'label': ClassLabel(shape=(), dtype=int64, num_classes=10),\n",
            "})\n",
            "{'train': <SplitInfo num_examples=50000, num_shards=1>, 'test': <SplitInfo num_examples=10000, num_shards=1>}\n",
            "50000\n"
          ]
        }
      ],
      "source": [
        "dataset = 'cifar10'\n",
        "\n",
        "if dataset == 'cifar10':\n",
        "    # Load the original CIFAR10 dataset\n",
        "    # CIFAR10 dataset contains 50000 training images and 10000 test images of 32x32x3 pixels\n",
        "    # Each image contains a small object such as bird, truck, etc...\n",
        "    (ds_train, ds_test, ds_val), ds_info = tfds.load('cifar10', split=['train[:80%]', 'test', 'train[80%:]'],\n",
        "                                                 batch_size=None, shuffle_files=True, as_supervised=True,\n",
        "                                                 with_info=True)\n",
        "elif dataset == 'imagenette':\n",
        "    # Imagenette is a subset of 10 easily classified classes from Imagenet\n",
        "    # (tench, English springer, cassette player, chain saw, church, French horn, garbage truck, gas pump, golf ball, parachute).\n",
        "    (ds_train, ds_test, ds_val), ds_info = tfds.load('imagenette/320px-v2', split=['train', 'validation[:50%]', 'validation[50%:]'],\n",
        "                                                 batch_size=None, shuffle_files=True, as_supervised=True,\n",
        "                                                 with_info=True)\n",
        "else:\n",
        "    print('Dataset Error')\n",
        "\n",
        "print(ds_info.features)\n",
        "print(ds_info.splits)\n",
        "print(ds_info.splits['train'].num_examples)"
      ]
    },
    {
      "cell_type": "code",
      "execution_count": 3,
      "metadata": {
        "colab": {
          "base_uri": "https://localhost:8080/"
        },
        "id": "PJW38MwdzrGb",
        "outputId": "0ccbd79f-d2d7-4164-d13a-71c6c13d1a75"
      },
      "outputs": [
        {
          "output_type": "stream",
          "name": "stdout",
          "text": [
            "40000 10000 10000\n"
          ]
        }
      ],
      "source": [
        "# Get dataset information\n",
        "n_channels = ds_info.features['image'].shape[-1]\n",
        "\n",
        "if dataset == 'imagenette':\n",
        "    classes = ['tench', 'English springer', 'cassette player', 'chain saw',\n",
        "               'church', 'French horn', 'garbage truck', 'gas pump',\n",
        "               'golf ball', 'parachute']\n",
        "else:\n",
        "    classes = ds_info.features['label'].names\n",
        "n_classes = ds_info.features['label'].num_classes\n",
        "\n",
        "n_train = len(ds_train)\n",
        "n_test = len(ds_test)\n",
        "n_val = len(ds_val)\n",
        "\n",
        "print(n_train,n_test,n_val)"
      ]
    },
    {
      "cell_type": "markdown",
      "metadata": {
        "id": "wg2_GyyHbINB"
      },
      "source": [
        "Show a Sample Data"
      ]
    },
    {
      "cell_type": "code",
      "execution_count": 4,
      "metadata": {
        "colab": {
          "base_uri": "https://localhost:8080/",
          "height": 257
        },
        "id": "aM6_O9f-bINB",
        "outputId": "683bcfbd-68f4-4ed4-d8d5-4244f6d85dce"
      },
      "outputs": [
        {
          "output_type": "stream",
          "name": "stdout",
          "text": [
            "Image demension: (32, 32, 3) , label: 4\n"
          ]
        },
        {
          "output_type": "display_data",
          "data": {
            "text/plain": [
              "<Figure size 200x200 with 1 Axes>"
            ],
            "image/png": "[encoded data removed]"
          },
          "metadata": {}
        },
        {
          "output_type": "stream",
          "name": "stdout",
          "text": [
            "The picture is deer\n"
          ]
        }
      ],
      "source": [
        "# Select a random image from the training dataset, visualize the image, and print a class label\n",
        "idx = np.random.randint(n_train-1)\n",
        "\n",
        "for element in ds_train.skip(idx).take(1):\n",
        "    image, label = element\n",
        "\n",
        "print('Image demension:', image.shape, ', label:',label.numpy())\n",
        "\n",
        "dimage = tf.reshape(image, image.shape)\n",
        "plt.figure(figsize=(2,2))\n",
        "plt.matshow(dimage, 1)\n",
        "plt.show()\n",
        "print('The picture is', classes[label])"
      ]
    },
    {
      "cell_type": "markdown",
      "metadata": {
        "id": "LDG3ij0hUNNu"
      },
      "source": [
        "Building Input Data Pipelines"
      ]
    },
    {
      "cell_type": "code",
      "execution_count": 5,
      "metadata": {
        "id": "72gDvxucUZbm"
      },
      "outputs": [],
      "source": [
        "# Resize the image and normalize it, and convert the label to a one-hot encoded format\n",
        "def tfds_4_NET(image, label):\n",
        "\n",
        "    image = tf.image.resize((image / 255), [227,227], method='bilinear')\n",
        "    label = tf.one_hot(label, n_classes)\n",
        "\n",
        "    return image, label"
      ]
    },
    {
      "cell_type": "code",
      "execution_count": 6,
      "metadata": {
        "id": "eINDSaURSyxt"
      },
      "outputs": [],
      "source": [
        "# Prepare the training, validation, and test datasets and batching them into batches of size 64\n",
        "n_batch = 64\n",
        "\n",
        "dataset = ds_train.map(tfds_4_NET, num_parallel_calls=tf.data.AUTOTUNE)\n",
        "dataset = dataset.shuffle(buffer_size = 256).batch(batch_size=n_batch)\n",
        "\n",
        "valiset = ds_val.map(tfds_4_NET, num_parallel_calls=tf.data.AUTOTUNE)\n",
        "valiset = valiset.shuffle(buffer_size = 256).batch(batch_size=n_batch)\n",
        "\n",
        "testset = ds_test.map(tfds_4_NET, num_parallel_calls=tf.data.AUTOTUNE)\n",
        "testset = testset.shuffle(buffer_size = 256).batch(batch_size=n_batch)"
      ]
    },
    {
      "cell_type": "markdown",
      "metadata": {
        "id": "jKm7q6--AU_q"
      },
      "source": [
        "### Network Definition of AlexNet with Keras Sequential API\n",
        "\n"
      ]
    },
    {
      "cell_type": "code",
      "execution_count": 7,
      "metadata": {
        "colab": {
          "base_uri": "https://localhost:8080/",
          "height": 765
        },
        "id": "lFFUmrriAU_s",
        "outputId": "587d6f46-5dc6-451d-c2ad-6a9ae5e398c1"
      },
      "outputs": [
        {
          "output_type": "display_data",
          "data": {
            "text/plain": [
              "\u001b[1mModel: \"sequential\"\u001b[0m\n"
            ],
            "text/html": [
              "<pre style=\"white-space:pre;overflow-x:auto;line-height:normal;font-family:Menlo,'DejaVu Sans Mono',consolas,'Courier New',monospace\"><span style=\"font-weight: bold\">Model: \"sequential\"</span>\n",
              "</pre>\n"
            ]
          },
          "metadata": {}
        },
        {
          "output_type": "display_data",
          "data": {
            "text/plain": [
              "┏━━━━━━━━━━━━━━━━━━━━━━━━━━━━━━━━━━━━━━┳━━━━━━━━━━━━━━━━━━━━━━━━━━━━━┳━━━━━━━━━━━━━━━━━┓\n",
              "┃\u001b[1m \u001b[0m\u001b[1mLayer (type)                        \u001b[0m\u001b[1m \u001b[0m┃\u001b[1m \u001b[0m\u001b[1mOutput Shape               \u001b[0m\u001b[1m \u001b[0m┃\u001b[1m \u001b[0m\u001b[1m        Param #\u001b[0m\u001b[1m \u001b[0m┃\n",
              "┡━━━━━━━━━━━━━━━━━━━━━━━━━━━━━━━━━━━━━━╇━━━━━━━━━━━━━━━━━━━━━━━━━━━━━╇━━━━━━━━━━━━━━━━━┩\n",
              "│ conv2d (\u001b[38;5;33mConv2D\u001b[0m)                      │ (\u001b[38;5;45mNone\u001b[0m, \u001b[38;5;34m55\u001b[0m, \u001b[38;5;34m55\u001b[0m, \u001b[38;5;34m96\u001b[0m)          │          \u001b[38;5;34m34,944\u001b[0m │\n",
              "├──────────────────────────────────────┼─────────────────────────────┼─────────────────┤\n",
              "│ batch_normalization                  │ (\u001b[38;5;45mNone\u001b[0m, \u001b[38;5;34m55\u001b[0m, \u001b[38;5;34m55\u001b[0m, \u001b[38;5;34m96\u001b[0m)          │             \u001b[38;5;34m384\u001b[0m │\n",
              "│ (\u001b[38;5;33mBatchNormalization\u001b[0m)                 │                             │                 │\n",
              "├──────────────────────────────────────┼─────────────────────────────┼─────────────────┤\n",
              "│ max_pooling2d (\u001b[38;5;33mMaxPooling2D\u001b[0m)         │ (\u001b[38;5;45mNone\u001b[0m, \u001b[38;5;34m27\u001b[0m, \u001b[38;5;34m27\u001b[0m, \u001b[38;5;34m96\u001b[0m)          │               \u001b[38;5;34m0\u001b[0m │\n",
              "├──────────────────────────────────────┼─────────────────────────────┼─────────────────┤\n",
              "│ conv2d_1 (\u001b[38;5;33mConv2D\u001b[0m)                    │ (\u001b[38;5;45mNone\u001b[0m, \u001b[38;5;34m27\u001b[0m, \u001b[38;5;34m27\u001b[0m, \u001b[38;5;34m256\u001b[0m)         │         \u001b[38;5;34m614,656\u001b[0m │\n",
              "├──────────────────────────────────────┼─────────────────────────────┼─────────────────┤\n",
              "│ batch_normalization_1                │ (\u001b[38;5;45mNone\u001b[0m, \u001b[38;5;34m27\u001b[0m, \u001b[38;5;34m27\u001b[0m, \u001b[38;5;34m256\u001b[0m)         │           \u001b[38;5;34m1,024\u001b[0m │\n",
              "│ (\u001b[38;5;33mBatchNormalization\u001b[0m)                 │                             │                 │\n",
              "├──────────────────────────────────────┼─────────────────────────────┼─────────────────┤\n",
              "│ max_pooling2d_1 (\u001b[38;5;33mMaxPooling2D\u001b[0m)       │ (\u001b[38;5;45mNone\u001b[0m, \u001b[38;5;34m13\u001b[0m, \u001b[38;5;34m13\u001b[0m, \u001b[38;5;34m256\u001b[0m)         │               \u001b[38;5;34m0\u001b[0m │\n",
              "├──────────────────────────────────────┼─────────────────────────────┼─────────────────┤\n",
              "│ conv2d_2 (\u001b[38;5;33mConv2D\u001b[0m)                    │ (\u001b[38;5;45mNone\u001b[0m, \u001b[38;5;34m13\u001b[0m, \u001b[38;5;34m13\u001b[0m, \u001b[38;5;34m384\u001b[0m)         │         \u001b[38;5;34m885,120\u001b[0m │\n",
              "├──────────────────────────────────────┼─────────────────────────────┼─────────────────┤\n",
              "│ conv2d_3 (\u001b[38;5;33mConv2D\u001b[0m)                    │ (\u001b[38;5;45mNone\u001b[0m, \u001b[38;5;34m13\u001b[0m, \u001b[38;5;34m13\u001b[0m, \u001b[38;5;34m384\u001b[0m)         │       \u001b[38;5;34m1,327,488\u001b[0m │\n",
              "├──────────────────────────────────────┼─────────────────────────────┼─────────────────┤\n",
              "│ conv2d_4 (\u001b[38;5;33mConv2D\u001b[0m)                    │ (\u001b[38;5;45mNone\u001b[0m, \u001b[38;5;34m13\u001b[0m, \u001b[38;5;34m13\u001b[0m, \u001b[38;5;34m256\u001b[0m)         │         \u001b[38;5;34m884,992\u001b[0m │\n",
              "├──────────────────────────────────────┼─────────────────────────────┼─────────────────┤\n",
              "│ batch_normalization_2                │ (\u001b[38;5;45mNone\u001b[0m, \u001b[38;5;34m13\u001b[0m, \u001b[38;5;34m13\u001b[0m, \u001b[38;5;34m256\u001b[0m)         │           \u001b[38;5;34m1,024\u001b[0m │\n",
              "│ (\u001b[38;5;33mBatchNormalization\u001b[0m)                 │                             │                 │\n",
              "├──────────────────────────────────────┼─────────────────────────────┼─────────────────┤\n",
              "│ max_pooling2d_2 (\u001b[38;5;33mMaxPooling2D\u001b[0m)       │ (\u001b[38;5;45mNone\u001b[0m, \u001b[38;5;34m6\u001b[0m, \u001b[38;5;34m6\u001b[0m, \u001b[38;5;34m256\u001b[0m)           │               \u001b[38;5;34m0\u001b[0m │\n",
              "├──────────────────────────────────────┼─────────────────────────────┼─────────────────┤\n",
              "│ flatten (\u001b[38;5;33mFlatten\u001b[0m)                    │ (\u001b[38;5;45mNone\u001b[0m, \u001b[38;5;34m9216\u001b[0m)                │               \u001b[38;5;34m0\u001b[0m │\n",
              "├──────────────────────────────────────┼─────────────────────────────┼─────────────────┤\n",
              "│ dense (\u001b[38;5;33mDense\u001b[0m)                        │ (\u001b[38;5;45mNone\u001b[0m, \u001b[38;5;34m4096\u001b[0m)                │      \u001b[38;5;34m37,752,832\u001b[0m │\n",
              "├──────────────────────────────────────┼─────────────────────────────┼─────────────────┤\n",
              "│ dropout (\u001b[38;5;33mDropout\u001b[0m)                    │ (\u001b[38;5;45mNone\u001b[0m, \u001b[38;5;34m4096\u001b[0m)                │               \u001b[38;5;34m0\u001b[0m │\n",
              "├──────────────────────────────────────┼─────────────────────────────┼─────────────────┤\n",
              "│ dense_1 (\u001b[38;5;33mDense\u001b[0m)                      │ (\u001b[38;5;45mNone\u001b[0m, \u001b[38;5;34m4096\u001b[0m)                │      \u001b[38;5;34m16,781,312\u001b[0m │\n",
              "├──────────────────────────────────────┼─────────────────────────────┼─────────────────┤\n",
              "│ dropout_1 (\u001b[38;5;33mDropout\u001b[0m)                  │ (\u001b[38;5;45mNone\u001b[0m, \u001b[38;5;34m4096\u001b[0m)                │               \u001b[38;5;34m0\u001b[0m │\n",
              "├──────────────────────────────────────┼─────────────────────────────┼─────────────────┤\n",
              "│ dense_2 (\u001b[38;5;33mDense\u001b[0m)                      │ (\u001b[38;5;45mNone\u001b[0m, \u001b[38;5;34m10\u001b[0m)                  │          \u001b[38;5;34m40,970\u001b[0m │\n",
              "└──────────────────────────────────────┴─────────────────────────────┴─────────────────┘\n"
            ],
            "text/html": [
              "<pre style=\"white-space:pre;overflow-x:auto;line-height:normal;font-family:Menlo,'DejaVu Sans Mono',consolas,'Courier New',monospace\">┏━━━━━━━━━━━━━━━━━━━━━━━━━━━━━━━━━━━━━━┳━━━━━━━━━━━━━━━━━━━━━━━━━━━━━┳━━━━━━━━━━━━━━━━━┓\n",
              "┃<span style=\"font-weight: bold\"> Layer (type)                         </span>┃<span style=\"font-weight: bold\"> Output Shape                </span>┃<span style=\"font-weight: bold\">         Param # </span>┃\n",
              "┡━━━━━━━━━━━━━━━━━━━━━━━━━━━━━━━━━━━━━━╇━━━━━━━━━━━━━━━━━━━━━━━━━━━━━╇━━━━━━━━━━━━━━━━━┩\n",
              "│ conv2d (<span style=\"color: #0087ff; text-decoration-color: #0087ff\">Conv2D</span>)                      │ (<span style=\"color: #00d7ff; text-decoration-color: #00d7ff\">None</span>, <span style=\"color: #00af00; text-decoration-color: #00af00\">55</span>, <span style=\"color: #00af00; text-decoration-color: #00af00\">55</span>, <span style=\"color: #00af00; text-decoration-color: #00af00\">96</span>)          │          <span style=\"color: #00af00; text-decoration-color: #00af00\">34,944</span> │\n",
              "├──────────────────────────────────────┼─────────────────────────────┼─────────────────┤\n",
              "│ batch_normalization                  │ (<span style=\"color: #00d7ff; text-decoration-color: #00d7ff\">None</span>, <span style=\"color: #00af00; text-decoration-color: #00af00\">55</span>, <span style=\"color: #00af00; text-decoration-color: #00af00\">55</span>, <span style=\"color: #00af00; text-decoration-color: #00af00\">96</span>)          │             <span style=\"color: #00af00; text-decoration-color: #00af00\">384</span> │\n",
              "│ (<span style=\"color: #0087ff; text-decoration-color: #0087ff\">BatchNormalization</span>)                 │                             │                 │\n",
              "├──────────────────────────────────────┼─────────────────────────────┼─────────────────┤\n",
              "│ max_pooling2d (<span style=\"color: #0087ff; text-decoration-color: #0087ff\">MaxPooling2D</span>)         │ (<span style=\"color: #00d7ff; text-decoration-color: #00d7ff\">None</span>, <span style=\"color: #00af00; text-decoration-color: #00af00\">27</span>, <span style=\"color: #00af00; text-decoration-color: #00af00\">27</span>, <span style=\"color: #00af00; text-decoration-color: #00af00\">96</span>)          │               <span style=\"color: #00af00; text-decoration-color: #00af00\">0</span> │\n",
              "├──────────────────────────────────────┼─────────────────────────────┼─────────────────┤\n",
              "│ conv2d_1 (<span style=\"color: #0087ff; text-decoration-color: #0087ff\">Conv2D</span>)                    │ (<span style=\"color: #00d7ff; text-decoration-color: #00d7ff\">None</span>, <span style=\"color: #00af00; text-decoration-color: #00af00\">27</span>, <span style=\"color: #00af00; text-decoration-color: #00af00\">27</span>, <span style=\"color: #00af00; text-decoration-color: #00af00\">256</span>)         │         <span style=\"color: #00af00; text-decoration-color: #00af00\">614,656</span> │\n",
              "├──────────────────────────────────────┼─────────────────────────────┼─────────────────┤\n",
              "│ batch_normalization_1                │ (<span style=\"color: #00d7ff; text-decoration-color: #00d7ff\">None</span>, <span style=\"color: #00af00; text-decoration-color: #00af00\">27</span>, <span style=\"color: #00af00; text-decoration-color: #00af00\">27</span>, <span style=\"color: #00af00; text-decoration-color: #00af00\">256</span>)         │           <span style=\"color: #00af00; text-decoration-color: #00af00\">1,024</span> │\n",
              "│ (<span style=\"color: #0087ff; text-decoration-color: #0087ff\">BatchNormalization</span>)                 │                             │                 │\n",
              "├──────────────────────────────────────┼─────────────────────────────┼─────────────────┤\n",
              "│ max_pooling2d_1 (<span style=\"color: #0087ff; text-decoration-color: #0087ff\">MaxPooling2D</span>)       │ (<span style=\"color: #00d7ff; text-decoration-color: #00d7ff\">None</span>, <span style=\"color: #00af00; text-decoration-color: #00af00\">13</span>, <span style=\"color: #00af00; text-decoration-color: #00af00\">13</span>, <span style=\"color: #00af00; text-decoration-color: #00af00\">256</span>)         │               <span style=\"color: #00af00; text-decoration-color: #00af00\">0</span> │\n",
              "├──────────────────────────────────────┼─────────────────────────────┼─────────────────┤\n",
              "│ conv2d_2 (<span style=\"color: #0087ff; text-decoration-color: #0087ff\">Conv2D</span>)                    │ (<span style=\"color: #00d7ff; text-decoration-color: #00d7ff\">None</span>, <span style=\"color: #00af00; text-decoration-color: #00af00\">13</span>, <span style=\"color: #00af00; text-decoration-color: #00af00\">13</span>, <span style=\"color: #00af00; text-decoration-color: #00af00\">384</span>)         │         <span style=\"color: #00af00; text-decoration-color: #00af00\">885,120</span> │\n",
              "├──────────────────────────────────────┼─────────────────────────────┼─────────────────┤\n",
              "│ conv2d_3 (<span style=\"color: #0087ff; text-decoration-color: #0087ff\">Conv2D</span>)                    │ (<span style=\"color: #00d7ff; text-decoration-color: #00d7ff\">None</span>, <span style=\"color: #00af00; text-decoration-color: #00af00\">13</span>, <span style=\"color: #00af00; text-decoration-color: #00af00\">13</span>, <span style=\"color: #00af00; text-decoration-color: #00af00\">384</span>)         │       <span style=\"color: #00af00; text-decoration-color: #00af00\">1,327,488</span> │\n",
              "├──────────────────────────────────────┼─────────────────────────────┼─────────────────┤\n",
              "│ conv2d_4 (<span style=\"color: #0087ff; text-decoration-color: #0087ff\">Conv2D</span>)                    │ (<span style=\"color: #00d7ff; text-decoration-color: #00d7ff\">None</span>, <span style=\"color: #00af00; text-decoration-color: #00af00\">13</span>, <span style=\"color: #00af00; text-decoration-color: #00af00\">13</span>, <span style=\"color: #00af00; text-decoration-color: #00af00\">256</span>)         │         <span style=\"color: #00af00; text-decoration-color: #00af00\">884,992</span> │\n",
              "├──────────────────────────────────────┼─────────────────────────────┼─────────────────┤\n",
              "│ batch_normalization_2                │ (<span style=\"color: #00d7ff; text-decoration-color: #00d7ff\">None</span>, <span style=\"color: #00af00; text-decoration-color: #00af00\">13</span>, <span style=\"color: #00af00; text-decoration-color: #00af00\">13</span>, <span style=\"color: #00af00; text-decoration-color: #00af00\">256</span>)         │           <span style=\"color: #00af00; text-decoration-color: #00af00\">1,024</span> │\n",
              "│ (<span style=\"color: #0087ff; text-decoration-color: #0087ff\">BatchNormalization</span>)                 │                             │                 │\n",
              "├──────────────────────────────────────┼─────────────────────────────┼─────────────────┤\n",
              "│ max_pooling2d_2 (<span style=\"color: #0087ff; text-decoration-color: #0087ff\">MaxPooling2D</span>)       │ (<span style=\"color: #00d7ff; text-decoration-color: #00d7ff\">None</span>, <span style=\"color: #00af00; text-decoration-color: #00af00\">6</span>, <span style=\"color: #00af00; text-decoration-color: #00af00\">6</span>, <span style=\"color: #00af00; text-decoration-color: #00af00\">256</span>)           │               <span style=\"color: #00af00; text-decoration-color: #00af00\">0</span> │\n",
              "├──────────────────────────────────────┼─────────────────────────────┼─────────────────┤\n",
              "│ flatten (<span style=\"color: #0087ff; text-decoration-color: #0087ff\">Flatten</span>)                    │ (<span style=\"color: #00d7ff; text-decoration-color: #00d7ff\">None</span>, <span style=\"color: #00af00; text-decoration-color: #00af00\">9216</span>)                │               <span style=\"color: #00af00; text-decoration-color: #00af00\">0</span> │\n",
              "├──────────────────────────────────────┼─────────────────────────────┼─────────────────┤\n",
              "│ dense (<span style=\"color: #0087ff; text-decoration-color: #0087ff\">Dense</span>)                        │ (<span style=\"color: #00d7ff; text-decoration-color: #00d7ff\">None</span>, <span style=\"color: #00af00; text-decoration-color: #00af00\">4096</span>)                │      <span style=\"color: #00af00; text-decoration-color: #00af00\">37,752,832</span> │\n",
              "├──────────────────────────────────────┼─────────────────────────────┼─────────────────┤\n",
              "│ dropout (<span style=\"color: #0087ff; text-decoration-color: #0087ff\">Dropout</span>)                    │ (<span style=\"color: #00d7ff; text-decoration-color: #00d7ff\">None</span>, <span style=\"color: #00af00; text-decoration-color: #00af00\">4096</span>)                │               <span style=\"color: #00af00; text-decoration-color: #00af00\">0</span> │\n",
              "├──────────────────────────────────────┼─────────────────────────────┼─────────────────┤\n",
              "│ dense_1 (<span style=\"color: #0087ff; text-decoration-color: #0087ff\">Dense</span>)                      │ (<span style=\"color: #00d7ff; text-decoration-color: #00d7ff\">None</span>, <span style=\"color: #00af00; text-decoration-color: #00af00\">4096</span>)                │      <span style=\"color: #00af00; text-decoration-color: #00af00\">16,781,312</span> │\n",
              "├──────────────────────────────────────┼─────────────────────────────┼─────────────────┤\n",
              "│ dropout_1 (<span style=\"color: #0087ff; text-decoration-color: #0087ff\">Dropout</span>)                  │ (<span style=\"color: #00d7ff; text-decoration-color: #00d7ff\">None</span>, <span style=\"color: #00af00; text-decoration-color: #00af00\">4096</span>)                │               <span style=\"color: #00af00; text-decoration-color: #00af00\">0</span> │\n",
              "├──────────────────────────────────────┼─────────────────────────────┼─────────────────┤\n",
              "│ dense_2 (<span style=\"color: #0087ff; text-decoration-color: #0087ff\">Dense</span>)                      │ (<span style=\"color: #00d7ff; text-decoration-color: #00d7ff\">None</span>, <span style=\"color: #00af00; text-decoration-color: #00af00\">10</span>)                  │          <span style=\"color: #00af00; text-decoration-color: #00af00\">40,970</span> │\n",
              "└──────────────────────────────────────┴─────────────────────────────┴─────────────────┘\n",
              "</pre>\n"
            ]
          },
          "metadata": {}
        },
        {
          "output_type": "display_data",
          "data": {
            "text/plain": [
              "\u001b[1m Total params: \u001b[0m\u001b[38;5;34m58,324,746\u001b[0m (222.49 MB)\n"
            ],
            "text/html": [
              "<pre style=\"white-space:pre;overflow-x:auto;line-height:normal;font-family:Menlo,'DejaVu Sans Mono',consolas,'Courier New',monospace\"><span style=\"font-weight: bold\"> Total params: </span><span style=\"color: #00af00; text-decoration-color: #00af00\">58,324,746</span> (222.49 MB)\n",
              "</pre>\n"
            ]
          },
          "metadata": {}
        },
        {
          "output_type": "display_data",
          "data": {
            "text/plain": [
              "\u001b[1m Trainable params: \u001b[0m\u001b[38;5;34m58,323,530\u001b[0m (222.49 MB)\n"
            ],
            "text/html": [
              "<pre style=\"white-space:pre;overflow-x:auto;line-height:normal;font-family:Menlo,'DejaVu Sans Mono',consolas,'Courier New',monospace\"><span style=\"font-weight: bold\"> Trainable params: </span><span style=\"color: #00af00; text-decoration-color: #00af00\">58,323,530</span> (222.49 MB)\n",
              "</pre>\n"
            ]
          },
          "metadata": {}
        },
        {
          "output_type": "display_data",
          "data": {
            "text/plain": [
              "\u001b[1m Non-trainable params: \u001b[0m\u001b[38;5;34m1,216\u001b[0m (4.75 KB)\n"
            ],
            "text/html": [
              "<pre style=\"white-space:pre;overflow-x:auto;line-height:normal;font-family:Menlo,'DejaVu Sans Mono',consolas,'Courier New',monospace\"><span style=\"font-weight: bold\"> Non-trainable params: </span><span style=\"color: #00af00; text-decoration-color: #00af00\">1,216</span> (4.75 KB)\n",
              "</pre>\n"
            ]
          },
          "metadata": {}
        }
      ],
      "source": [
        "# Define the AlexNet model\n",
        "AlexNet = keras.Sequential([\n",
        "    ### START CODE HERE ###\n",
        "\n",
        "    # Input Layer\n",
        "    keras.layers.InputLayer(shape=(227,227,3)), # Input layer for 227x227 RGB images\n",
        "\n",
        "    # Layer 1\n",
        "    keras.layers.Conv2D(filters=96, kernel_size=(11,11), strides=4, activation='relu'), # Convolution with 96 filters, ReLU activation\n",
        "    keras.layers.BatchNormalization(),                                                  # Normalize activations\n",
        "    keras.layers.MaxPool2D(pool_size=(3,3), strides=2),                                 # Downsampling the feature maps\n",
        "\n",
        "    # Layer 2\n",
        "    keras.layers.Conv2D(filters=256, kernel_size=(5,5), strides=1, activation='relu', padding='same'),   # Convolution with 256 filters, ReLU activation, same padding\n",
        "    keras.layers.BatchNormalization(),                                                                   # Normalize activations\n",
        "    keras.layers.MaxPool2D(pool_size=(3,3), strides=2),                                                  # Downsampling\n",
        "\n",
        "    # Layer 3 to 5\n",
        "    keras.layers.Conv2D(filters=384, kernel_size=(3,3), strides=1, activation='relu', padding='same'),  # First convolutional layer\n",
        "    keras.layers.Conv2D(filters=384, kernel_size=(3,3), strides=1, activation='relu', padding='same'),  # Second convolutional layer\n",
        "    keras.layers.Conv2D(filters=256, kernel_size=(3,3), strides=1, activation='relu', padding='same'),  # Third convolutional layer\n",
        "    keras.layers.BatchNormalization(),                                                                  # Normalize activations\n",
        "    keras.layers.MaxPool2D(pool_size=(3,3), strides=2),                                                 # Downsampling\n",
        "\n",
        "    keras.layers.Flatten(), # Flatten the output\n",
        "\n",
        "    # Layer 6 to 8\n",
        "    keras.layers.Dense(4096, activation='relu'),                                                        # First dense layer\n",
        "    keras.layers.Dropout(0.5),                                                                          # Dropout for regularization\n",
        "    keras.layers.Dense(4096, activation='relu'),                                                        # Second dense layer\n",
        "    keras.layers.Dropout(0.5),                                                                          # Dropout for regularization\n",
        "    keras.layers.Dense(10, activation='softmax')                                                        # Output layer\n",
        "\n",
        "    ### END CODE HERE ###\n",
        "])\n",
        "\n",
        "AlexNet.summary()"
      ]
    },
    {
      "cell_type": "markdown",
      "metadata": {
        "id": "l5q7IeTNbINC"
      },
      "source": [
        "**Expected Outputs**\n",
        "\n",
        "```\n",
        "┏--------------------------------------┳-----------------------------┳-----------------┓\n",
        "┃ Layer (type)                         ┃ Output Shape                ┃         Param # ┃\n",
        "┡--------------------------------------╇-----------------------------╇-----------------┩\n",
        "│ conv2d (Conv2D)                      │ (None, 55, 55, 96)          │          34,944 │\n",
        "├--------------------------------------╇-----------------------------╇-----------------┤\n",
        "│ batch_normalization                  │ (None, 55, 55, 96)          │             384 │\n",
        "│ (BatchNormalization)                 │                             │                 │\n",
        "├--------------------------------------╇-----------------------------╇-----------------┤\n",
        "│ max_pooling2d (MaxPooling2D)         │ (None, 27, 27, 96)          │               0 │\n",
        "├--------------------------------------╇-----------------------------╇-----------------┤\n",
        "│ conv2d_1 (Conv2D)                    │ (None, 27, 27, 256)         │         614,656 │\n",
        "├--------------------------------------╇-----------------------------╇-----------------┤\n",
        "│ batch_normalization_1                │ (None, 27, 27, 256)         │           1,024 │\n",
        "│ (BatchNormalization)                 │                             │                 │\n",
        "├--------------------------------------╇-----------------------------╇-----------------┤\n",
        "│ max_pooling2d_1 (MaxPooling2D)       │ (None, 13, 13, 256)         │               0 │\n",
        "├--------------------------------------╇-----------------------------╇-----------------┤\n",
        "│ conv2d_2 (Conv2D)                    │ (None, 13, 13, 384)         │         885,120 │\n",
        "├--------------------------------------╇-----------------------------╇-----------------┤\n",
        "│ conv2d_3 (Conv2D)                    │ (None, 13, 13, 384)         │       1,327,488 │\n",
        "├--------------------------------------╇-----------------------------╇-----------------┤\n",
        "│ conv2d_4 (Conv2D)                    │ (None, 13, 13, 256)         │         884,992 │\n",
        "├--------------------------------------╇-----------------------------╇-----------------┤\n",
        "│ batch_normalization_2                │ (None, 13, 13, 256)         │           1,024 │\n",
        "│ (BatchNormalization)                 │                             │                 │\n",
        "├--------------------------------------╇-----------------------------╇-----------------┤\n",
        "│ max_pooling2d_2 (MaxPooling2D)       │ (None, 6, 6, 256)           │               0 │\n",
        "├--------------------------------------╇-----------------------------╇-----------------┤\n",
        "│ flatten (Flatten)                    │ (None, 9216)                │               0 │\n",
        "├--------------------------------------╇-----------------------------╇-----------------┤\n",
        "│ dense (Dense)                        │ (None, 4096)                │      37,752,832 │\n",
        "├--------------------------------------╇-----------------------------╇-----------------┤\n",
        "│ dropout (Dropout)                    │ (None, 4096)                │               0 │\n",
        "├--------------------------------------╇-----------------------------╇-----------------┤\n",
        "│ dense_1 (Dense)                      │ (None, 4096)                │      16,781,312 │\n",
        "├--------------------------------------╇-----------------------------╇-----------------┤\n",
        "│ dropout_1 (Dropout)                  │ (None, 4096)                │               0 │\n",
        "├--------------------------------------╇-----------------------------╇-----------------┤\n",
        "│ dense_2 (Dense)                      │ (None, 10)                  │          40,970 │\n",
        "└--------------------------------------┴-----------------------------┴-----------------┘\n",
        " Total params: 58,324,746 (222.49 MB)\n",
        " Trainable params: 58,323,530 (222.49 MB)\n",
        " Non-trainable params: 1,216 (4.75 KB)\n",
        " ```"
      ]
    },
    {
      "cell_type": "markdown",
      "metadata": {
        "id": "LRv7nRIVAU_w"
      },
      "source": [
        "### Training the Model"
      ]
    },
    {
      "cell_type": "code",
      "execution_count": 8,
      "metadata": {
        "id": "CocIrcZJbnIQ"
      },
      "outputs": [],
      "source": [
        "# Compile AlexNet\n",
        "opt = keras.optimizers.Adam(learning_rate=0.001)\n",
        "AlexNet.compile(optimizer=opt, loss='categorical_crossentropy', metrics=['acc'], jit_compile=True)"
      ]
    },
    {
      "cell_type": "code",
      "execution_count": 9,
      "metadata": {
        "colab": {
          "base_uri": "https://localhost:8080/"
        },
        "id": "PU9UPft8dS1M",
        "outputId": "97e6b838-58b0-4f83-e5cd-cf22fdcb7e06"
      },
      "outputs": [
        {
          "output_type": "stream",
          "name": "stdout",
          "text": [
            "Epoch 1/10\n",
            "\u001b[1m625/625\u001b[0m \u001b[32m━━━━━━━━━━━━━━━━━━━━\u001b[0m\u001b[37m\u001b[0m \u001b[1m103s\u001b[0m 134ms/step - acc: 0.2403 - loss: 4.3133 - val_acc: 0.3396 - val_loss: 1.8678\n",
            "Epoch 2/10\n",
            "\u001b[1m625/625\u001b[0m \u001b[32m━━━━━━━━━━━━━━━━━━━━\u001b[0m\u001b[37m\u001b[0m \u001b[1m121s\u001b[0m 120ms/step - acc: 0.4127 - loss: 1.6336 - val_acc: 0.3972 - val_loss: 1.6250\n",
            "Epoch 3/10\n",
            "\u001b[1m625/625\u001b[0m \u001b[32m━━━━━━━━━━━━━━━━━━━━\u001b[0m\u001b[37m\u001b[0m \u001b[1m69s\u001b[0m 110ms/step - acc: 0.4802 - loss: 1.4731 - val_acc: 0.4647 - val_loss: 1.5000\n",
            "Epoch 4/10\n",
            "\u001b[1m625/625\u001b[0m \u001b[32m━━━━━━━━━━━━━━━━━━━━\u001b[0m\u001b[37m\u001b[0m \u001b[1m81s\u001b[0m 109ms/step - acc: 0.5399 - loss: 1.3282 - val_acc: 0.5850 - val_loss: 1.2293\n",
            "Epoch 5/10\n",
            "\u001b[1m625/625\u001b[0m \u001b[32m━━━━━━━━━━━━━━━━━━━━\u001b[0m\u001b[37m\u001b[0m \u001b[1m85s\u001b[0m 114ms/step - acc: 0.5794 - loss: 1.2130 - val_acc: 0.5463 - val_loss: 1.2686\n",
            "Epoch 6/10\n",
            "\u001b[1m625/625\u001b[0m \u001b[32m━━━━━━━━━━━━━━━━━━━━\u001b[0m\u001b[37m\u001b[0m \u001b[1m71s\u001b[0m 114ms/step - acc: 0.6220 - loss: 1.1161 - val_acc: 0.5989 - val_loss: 1.1591\n",
            "Epoch 7/10\n",
            "\u001b[1m625/625\u001b[0m \u001b[32m━━━━━━━━━━━━━━━━━━━━\u001b[0m\u001b[37m\u001b[0m \u001b[1m77s\u001b[0m 106ms/step - acc: 0.6418 - loss: 1.0699 - val_acc: 0.6313 - val_loss: 1.1100\n",
            "Epoch 8/10\n",
            "\u001b[1m625/625\u001b[0m \u001b[32m━━━━━━━━━━━━━━━━━━━━\u001b[0m\u001b[37m\u001b[0m \u001b[1m82s\u001b[0m 106ms/step - acc: 0.6705 - loss: 0.9674 - val_acc: 0.5627 - val_loss: 1.1838\n",
            "Epoch 9/10\n",
            "\u001b[1m625/625\u001b[0m \u001b[32m━━━━━━━━━━━━━━━━━━━━\u001b[0m\u001b[37m\u001b[0m \u001b[1m84s\u001b[0m 110ms/step - acc: 0.6994 - loss: 0.9129 - val_acc: 0.6651 - val_loss: 1.0067\n",
            "Epoch 10/10\n",
            "\u001b[1m625/625\u001b[0m \u001b[32m━━━━━━━━━━━━━━━━━━━━\u001b[0m\u001b[37m\u001b[0m \u001b[1m79s\u001b[0m 105ms/step - acc: 0.7327 - loss: 0.7983 - val_acc: 0.7109 - val_loss: 0.8563\n"
          ]
        }
      ],
      "source": [
        "# Using the training dataset, train the AlexNet model\n",
        "n_epochs = 10\n",
        "\n",
        "results = AlexNet.fit(dataset, epochs=n_epochs, batch_size=n_batch,\n",
        "                   validation_data=valiset, validation_batch_size=n_batch,\n",
        "                   verbose=1)"
      ]
    },
    {
      "cell_type": "markdown",
      "metadata": {
        "id": "iJFjcLTUbINC"
      },
      "source": [
        "Plot Convergence Graph"
      ]
    },
    {
      "cell_type": "code",
      "execution_count": 10,
      "metadata": {
        "colab": {
          "base_uri": "https://localhost:8080/",
          "height": 388
        },
        "id": "CY3SiKwvbINC",
        "outputId": "bf3a344e-ba03-441d-e182-e6f48e3379dd"
      },
      "outputs": [
        {
          "output_type": "display_data",
          "data": {
            "text/plain": [
              "<Figure size 1000x400 with 2 Axes>"
            ],
            "image/png": "[encoded data removed]"
          },
          "metadata": {}
        }
      ],
      "source": [
        "# plot loss and accuracy\n",
        "plt.figure(figsize=(10,4))\n",
        "plt.subplot(1,2,1)\n",
        "plt.plot(results.history['loss'], 'b-', label='loss')\n",
        "plt.plot(results.history['val_loss'], 'r-', label='val_loss')\n",
        "plt.xlabel('epoch')\n",
        "plt.legend()\n",
        "\n",
        "plt.subplot(1,2,2)\n",
        "plt.plot(results.history['acc'], 'g-', label='accuracy')\n",
        "plt.plot(results.history['val_acc'], 'r-', label='val_accuracy')\n",
        "plt.xlabel('epoch')\n",
        "plt.legend()\n",
        "\n",
        "plt.show()"
      ]
    },
    {
      "cell_type": "markdown",
      "metadata": {
        "id": "pyYDIq6ibINC"
      },
      "source": [
        "Evaluate Model Performance"
      ]
    },
    {
      "cell_type": "code",
      "execution_count": 11,
      "metadata": {
        "colab": {
          "base_uri": "https://localhost:8080/"
        },
        "id": "tZr9kpC5bINC",
        "outputId": "40b9ef2e-6e1f-442b-d48c-220e1b97c0c3"
      },
      "outputs": [
        {
          "output_type": "stream",
          "name": "stdout",
          "text": [
            "\u001b[1m157/157\u001b[0m \u001b[32m━━━━━━━━━━━━━━━━━━━━\u001b[0m\u001b[37m\u001b[0m \u001b[1m7s\u001b[0m 43ms/step - acc: 0.7093 - loss: 0.8684\n"
          ]
        },
        {
          "output_type": "execute_result",
          "data": {
            "text/plain": [
              "[0.8756893277168274, 0.7081000208854675]"
            ]
          },
          "metadata": {},
          "execution_count": 11
        }
      ],
      "source": [
        "# Evaluate the performance of the AlexNet model\n",
        "AlexNet.evaluate(testset)"
      ]
    },
    {
      "cell_type": "markdown",
      "metadata": {
        "id": "BmZQrDH9n0PK"
      },
      "source": [
        "### Test Model with a Random Sample\n"
      ]
    },
    {
      "cell_type": "code",
      "execution_count": 12,
      "metadata": {
        "colab": {
          "base_uri": "https://localhost:8080/",
          "height": 275
        },
        "id": "fkSDSTtFbINC",
        "outputId": "1b8be7f2-d189-439e-cf5d-93d961e9c483"
      },
      "outputs": [
        {
          "output_type": "display_data",
          "data": {
            "text/plain": [
              "<Figure size 200x200 with 1 Axes>"
            ],
            "image/png": "[encoded data removed]"
          },
          "metadata": {}
        },
        {
          "output_type": "stream",
          "name": "stdout",
          "text": [
            "\u001b[1m1/1\u001b[0m \u001b[32m━━━━━━━━━━━━━━━━━━━━\u001b[0m\u001b[37m\u001b[0m \u001b[1m1s\u001b[0m 1s/step\n",
            "My prediction is frog\n",
            "Actual image is  frog\n"
          ]
        }
      ],
      "source": [
        "# Images are randomly selected to compare real class labels with predictions using AlexNet\n",
        "idx = np.random.randint(n_test-1)\n",
        "\n",
        "for element in ds_test.skip(idx).take(1):\n",
        "    img, lbl = element\n",
        "    X_test, y_test = tfds_4_NET(img, lbl)\n",
        "\n",
        "X_test = tf.expand_dims(X_test, axis=0)\n",
        "\n",
        "dimage = np.array(X_test[0])\n",
        "plt.figure(figsize=(2,2))\n",
        "plt.matshow(dimage, fignum=1)\n",
        "plt.show()\n",
        "\n",
        "outt_4 = AlexNet.predict(X_test)\n",
        "p_pred = np.argmax(outt_4, axis=-1)\n",
        "\n",
        "print('My prediction is ' + classes[p_pred[0]])\n",
        "print('Actual image is  ' + classes[tf.argmax(y_test, -1)])"
      ]
    },
    {
      "cell_type": "markdown",
      "metadata": {
        "id": "icO8OOMZbINC"
      },
      "source": [
        "(c) 2024 SW Lee"
      ]
    }
  ],
  "metadata": {
    "accelerator": "GPU",
    "colab": {
      "provenance": []
    },
    "interpreter": {
      "hash": "ab0787582b148005e56ebe9aaff49c38c248360ce5fb0676a65b6185761e7c4b"
    },
    "kernelspec": {
      "display_name": "Python 3 (ipykernel)",
      "language": "python",
      "name": "python3"
    },
    "language_info": {
      "codemirror_mode": {
        "name": "ipython",
        "version": 3
      },
      "file_extension": ".py",
      "mimetype": "text/x-python",
      "name": "python",
      "nbconvert_exporter": "python",
      "pygments_lexer": "ipython3",
      "version": "3.11.7"
    }
  },
  "nbformat": 4,
  "nbformat_minor": 0
}