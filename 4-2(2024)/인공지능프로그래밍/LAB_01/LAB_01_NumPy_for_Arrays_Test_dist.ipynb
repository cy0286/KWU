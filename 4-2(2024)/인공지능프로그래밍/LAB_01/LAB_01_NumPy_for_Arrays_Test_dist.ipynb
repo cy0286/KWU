{
 "cells": [
  {
   "cell_type": "markdown",
   "metadata": {},
   "source": [
    "AI Programming - SW Lee"
   ]
  },
  {
   "attachments": {},
   "cell_type": "markdown",
   "metadata": {},
   "source": [
    "# Lab 01: Numpy Basic TEST"
   ]
  },
  {
   "cell_type": "markdown",
   "metadata": {},
   "source": [
    "#### Complete the following code segments by finding array3, array4, and array6.\n",
    "- Each array should be determined by a single assignment.\n",
    "- The einsum subscripts must be defined clearly with all possible indexes.\n",
    "- You have to follow the conditions in the comments"
   ]
  },
  {
   "cell_type": "code",
   "execution_count": 111,
   "metadata": {},
   "outputs": [],
   "source": [
    "import numpy as np"
   ]
  },
  {
   "cell_type": "code",
   "execution_count": 112,
   "metadata": {},
   "outputs": [
    {
     "name": "stdout",
     "output_type": "stream",
     "text": [
      "Resulting shape:  (3, 4, 5, 6)\n",
      "All tests passed.\n"
     ]
    }
   ],
   "source": [
    "np.random.seed(0)\n",
    "array1 = np.random.rand(3,4,5,6)\n",
    "array2 = np.random.rand(4,5,6)\n",
    "\n",
    "result = array1 * array2                            # Broadcasting using the * operator\n",
    "\n",
    "res_dim = result.shape\n",
    "array3 = np.empty_like(result)\n",
    "for i in range(res_dim[0]):\n",
    "    for j in range(res_dim[1]):\n",
    "        for k in range(res_dim[2]):\n",
    "            for l in range(res_dim[3]):\n",
    "                ### START CODE HERE ### \n",
    "                # Calculate element-wise multiplication using nested loops\n",
    "                array3[i,j,k,l] = array1[i,j,k,l] * array2[j,k,l] \n",
    "                ###  END CODE HERE  ###\n",
    "\n",
    "### START CODE HERE ###\n",
    "array4 = np.multiply(array1, array2)                            # use multiply function\n",
    "array5 = np.einsum('ijkl, jkl->ijkl', array1, array2)           # use einsum\n",
    "###  END CODE HERE  ###\n",
    "\n",
    "print('Resulting shape: ', result.shape); test_passed = True\n",
    "if not np.array_equal(result, array3): \n",
    "    print('Array3 fails the test.'); test_passed = False\n",
    "if not np.array_equal(result, array4): \n",
    "    print('Array4 fails the test.'); test_passed = False\n",
    "if not np.array_equal(result, array5): \n",
    "    print('Array5 fails the test.'); test_passed = False\n",
    "if test_passed: print('All tests passed.')"
   ]
  },
  {
   "cell_type": "code",
   "execution_count": 113,
   "metadata": {},
   "outputs": [
    {
     "name": "stdout",
     "output_type": "stream",
     "text": [
      "Resulting shape:  (5, 4, 3, 2)\n",
      "All tests passed.\n"
     ]
    }
   ],
   "source": [
    "np.random.seed(0)\n",
    "array1 = np.random.rand(2,3,4,5)\n",
    "\n",
    "result = array1.T                                   # Transpose using T attribute\n",
    "\n",
    "res_dim = result.shape\n",
    "array3 = np.empty_like(result)\n",
    "for i in range(res_dim[0]):\n",
    "    for j in range(res_dim[1]):\n",
    "        for k in range(res_dim[2]):\n",
    "            for l in range(res_dim[3]):\n",
    "                ### START CODE HERE ###\n",
    "                # Transpose using nested loops\n",
    "                array3[i,j,k,l] = array1[l,k,j,i]  \n",
    "                ### END CODE HERE ###\n",
    "\n",
    "### START CODE HERE ###\n",
    "array4 = np.transpose(array1)                                 # use transpose function\n",
    "array5 = np.einsum('ijkl->lkji', array1)                      # use einsum\n",
    "### END CODE HERE ###\n",
    "\n",
    "print('Resulting shape: ', result.shape); test_passed = True\n",
    "if not np.array_equal(result, array3): \n",
    "    print('Array3 fails the test.'); test_passed = False\n",
    "if not np.array_equal(result, array4): \n",
    "    print('Array4 fails the test.'); test_passed = False\n",
    "if not np.array_equal(result, array5): \n",
    "    print('Array5 fails the test.'); test_passed = False\n",
    "if test_passed: print('All tests passed.')"
   ]
  },
  {
   "cell_type": "code",
   "execution_count": 114,
   "metadata": {},
   "outputs": [
    {
     "name": "stdout",
     "output_type": "stream",
     "text": [
      "Resulting shape:  (3, 7, 5)\n",
      "All tests passed.\n"
     ]
    }
   ],
   "source": [
    "np.random.seed(0)\n",
    "array1 = np.random.rand(3,7,6)\n",
    "array2 = np.random.rand(3,6,5)\n",
    "\n",
    "result = array1 @ array2                            # Matrix multiplication using @ operator\n",
    "\n",
    "res_dim = result.shape\n",
    "array3 = np.empty_like(result)\n",
    "for i in range(res_dim[0]):\n",
    "    for j in range(res_dim[1]):\n",
    "        for k in range(res_dim[2]):\n",
    "            ### START CODE HERE ###\n",
    "            # matrix multiplication using nested loops\n",
    "            array3[i,j,k] = array1[i,j,:] @ array2[i,:,k]    \n",
    "            ###  END CODE HERE  ###\n",
    "\n",
    "### START CODE HERE ###\n",
    "array4 = np.matmul(array1, array2)                  # use matmul function\n",
    "array5 = np.einsum('ijk, ikl->ijl', array1, array2) # use einsum\n",
    "###  END CODE HERE  ###\n",
    "\n",
    "print('Resulting shape: ', result.shape); test_passed = True\n",
    "if not np.allclose(result, array3): \n",
    "    print('Array3 fails the test.'); test_passed = False\n",
    "if not np.array_equal(result, array4): \n",
    "    print('Array4 fails the test.'); test_passed = False\n",
    "if not np.allclose(result, array5): \n",
    "    print('Array5 fails the test.'); test_passed = False\n",
    "if test_passed: print('All tests passed.')"
   ]
  },
  {
   "cell_type": "code",
   "execution_count": 115,
   "metadata": {},
   "outputs": [
    {
     "name": "stdout",
     "output_type": "stream",
     "text": [
      "Resulting shape:  (3, 7, 5)\n",
      "All tests passed.\n"
     ]
    }
   ],
   "source": [
    "np.random.seed(0)\n",
    "array1 = np.random.rand(3,7,6)\n",
    "array2 = np.random.rand(5,6)\n",
    "\n",
    "result = array1 @ array2.T                          # Matrix multiplication using @ operator and T attribute\n",
    "\n",
    "array2 = array2.reshape(1,5,6)                      # same array but one more higher dimension\n",
    "\n",
    "res_dim = result.shape\n",
    "array3 = np.empty_like(result)\n",
    "for i in range(res_dim[0]):\n",
    "    for j in range(res_dim[1]):\n",
    "        for k in range(res_dim[2]):\n",
    "            ### START CODE HERE ###\n",
    "            # matrix multiplication using nested loops and adjusted dimensions\n",
    "            array3[i,j,k] = array1[i,j,:] @ array2.T[:,k,0]\n",
    "            ###  END CODE HERE  ###\n",
    "\n",
    "### START CODE HERE ###\n",
    "array4 = np.matmul(array1, np.transpose(array2,(0,2,1)))  # use matmul and transpose; keep the dimension\n",
    "array5 = np.einsum('ijk, mk->ijm', array1, array2[0]) # use einsum\n",
    "###  END CODE HERE  ###\n",
    "\n",
    "print('Resulting shape: ', result.shape); test_passed = True\n",
    "if not np.allclose(result, array3): \n",
    "    print('Array3 fails the test.'); test_passed = False\n",
    "if not np.array_equal(result, array4): \n",
    "    print('Array4 fails the test.'); test_passed = False\n",
    "if not np.allclose(result, array5): \n",
    "    print('Array5 fails the test.'); test_passed = False\n",
    "if test_passed: print('All tests passed.')"
   ]
  },
  {
   "cell_type": "code",
   "execution_count": 116,
   "metadata": {},
   "outputs": [
    {
     "name": "stdout",
     "output_type": "stream",
     "text": [
      "Resulting shape:  (3, 5, 6)\n",
      "All tests passed.\n"
     ]
    }
   ],
   "source": [
    "np.random.seed(0)\n",
    "array1 = np.random.rand(3,5,6)\n",
    "array2 = np.random.rand(5)  \n",
    "\n",
    "# to make the following addition work\n",
    "#   result = array1 + array2\n",
    "# array2 must be broadcasted to shape of (3,5,6)\n",
    "\n",
    "res_dim = array1.shape\n",
    "result = np.empty(res_dim)\n",
    "# Compute the result using nested loops\n",
    "for i in range(res_dim[0]):\n",
    "    for j in range(res_dim[1]):\n",
    "        for k in range(res_dim[2]):\n",
    "            result[i,j,k] = array1[i,j,k] + array2[j]\n",
    "\n",
    "### START CODE HERE ###\n",
    "# Broadcast array2 to shape (1, 5, 1) and add to array1\n",
    "array3 = array1 + np.reshape(array2, (1,-1,1))               # make + operation possible with column broadcasting\n",
    "###  END CODE HERE  ###\n",
    "\n",
    "print('Resulting shape: ', result.shape); test_passed = True\n",
    "if not np.array_equal(result, array3): \n",
    "    print('Array3 fails the test.'); test_passed = False\n",
    "if test_passed: print('All tests passed.')"
   ]
  },
  {
   "cell_type": "code",
   "execution_count": 117,
   "metadata": {},
   "outputs": [
    {
     "name": "stdout",
     "output_type": "stream",
     "text": [
      "Resulting shape:  (3, 5)\n",
      "All tests passed.\n"
     ]
    }
   ],
   "source": [
    "np.random.seed(0)\n",
    "array1 = np.random.rand(3,5,6)\n",
    "array2 = np.random.rand(6,1)\n",
    "\n",
    "# in mathamtics, multiplying a multi-dimensional matrix and a column vector \n",
    "# removes the last dimension of the matrix.\n",
    "# but numpy does not work that way. make the correction.\n",
    "\n",
    "res_dim = array1.shape[0:2]\n",
    "result = np.empty(res_dim)\n",
    "# Compute the result using nested loops and summation\n",
    "for i in range(res_dim[0]):\n",
    "    for j in range(res_dim[1]):\n",
    "        result[i,j] = np.sum(array1[i,j,:] * array2[:,0])\n",
    "\n",
    "### START CODE HERE ###\n",
    "# Matrix multiplication with squeezed array2\n",
    "array3 = np.matmul(array1, np.squeeze(array2))           \n",
    "# use matmul and squeeze\n",
    "###  END CODE HERE  ###\n",
    "\n",
    "print('Resulting shape: ', result.shape); test_passed = True\n",
    "if not np.allclose(result, array3): \n",
    "    print('Array3 fails the test.'); test_passed = False\n",
    "if test_passed: print('All tests passed.')"
   ]
  },
  {
   "cell_type": "code",
   "execution_count": 118,
   "metadata": {},
   "outputs": [
    {
     "name": "stdout",
     "output_type": "stream",
     "text": [
      "Resulting shape:  (3, 7, 4, 5)\n",
      "All tests passed.\n"
     ]
    }
   ],
   "source": [
    "np.random.seed(0)\n",
    "array1 = np.random.rand(3,7,6)\n",
    "array2 = np.random.rand(4,6,5)\n",
    "\n",
    "result = np.dot(array1, array2)                     # Matrix multiplication using dot function\n",
    "\n",
    "res_dim = result.shape\n",
    "array3 = np.empty_like(result)\n",
    "# Compute the result using nested loops and matrix multiplication\n",
    "for i in range(res_dim[0]):\n",
    "    for j in range(res_dim[1]):\n",
    "        for k in range(res_dim[2]):\n",
    "            for l in range(res_dim[3]):\n",
    "                ### START CODE HERE ###\n",
    "                # Matrix product of slices\n",
    "                array3[i,j,k,l] = array1[i,j,:] @ array2[k,:,l]  \n",
    "                ###  END CODE HERE  ###\n",
    "\n",
    "array4 = np.empty_like(result)\n",
    "for i in range(res_dim[2]):\n",
    "    ### START CODE HERE ###\n",
    "    array4[:,:,i,:] = array1 @ array2[i,:,:]                                   # use @ or matmul\n",
    "    ###  END CODE HERE  ###\n",
    "\n",
    "### START CODE HERE ###\n",
    "array5 = np.einsum('ijm, kml -> ijkl', array1, array2)                          # use einsum\n",
    "###  END CODE HERE  ###\n",
    "\n",
    "print('Resulting shape: ', result.shape); test_passed = True\n",
    "if not np.allclose(result, array3): \n",
    "    print('Array3 fails the test.'); test_passed = False\n",
    "if not np.allclose(result, array4): \n",
    "    print('Array4 fails the test.'); test_passed = False\n",
    "if not np.allclose(result, array5): \n",
    "    print('Array5 fails the test.'); test_passed = False\n",
    "if test_passed: print('All tests passed.')"
   ]
  },
  {
   "cell_type": "code",
   "execution_count": 119,
   "metadata": {},
   "outputs": [
    {
     "name": "stdout",
     "output_type": "stream",
     "text": [
      "Resulting shape:  (3, 5, 4, 3)\n",
      "All tests passed.\n"
     ]
    }
   ],
   "source": [
    "np.random.seed(0)\n",
    "array1 = np.random.rand(3,5,6)\n",
    "array2 = np.random.rand(4,3,6)\n",
    "\n",
    "result = np.inner(array1, array2)                   # Inner product using inner function\n",
    "\n",
    "res_dim = (3,5,4,3)\n",
    "array3 = np.empty(res_dim)\n",
    "# Compute the result using nested loops and inner product\n",
    "for i in range(res_dim[0]):\n",
    "    for j in range(res_dim[1]):\n",
    "        for k in range(res_dim[2]):\n",
    "            for l in range(res_dim[3]):\n",
    "                ### START CODE HERE ###\n",
    "                # Sum of element-wise product\n",
    "                array3[i,j,k,l] = np.sum(array1[i,j,:] @ array2[k,l,:])   \n",
    "                ### END CODE HERE ###\n",
    "\n",
    "### START CODE HERE ###\n",
    "array4 = np.dot(array1, np.transpose(array2, (0,2,1)))                         # use dot\n",
    "array5 = np.einsum('ijm, klm->ijkl', array1, array2)                           # use einsum\n",
    "###  END CODE HERE  ###\n",
    "\n",
    "print('Resulting shape: ', result.shape); test_passed = True\n",
    "if not np.array_equal(result, array3): \n",
    "    print('Array3 fails the test.'); test_passed = False\n",
    "if not np.array_equal(result, array4): \n",
    "    print('Array4 fails the test.'); test_passed = False\n",
    "if not np.allclose(result, array5): \n",
    "    print('Array5 fails the test.'); test_passed = False\n",
    "if test_passed: print('All tests passed.')"
   ]
  },
  {
   "cell_type": "code",
   "execution_count": 120,
   "metadata": {},
   "outputs": [
    {
     "name": "stdout",
     "output_type": "stream",
     "text": [
      "Resulting shape:  (24,)\n",
      "All tests passed.\n"
     ]
    }
   ],
   "source": [
    "array1 = np.array([ 0, 12,  4, 16,  8, 20,  1, 13,  5, 17,  9, 21,  2, 14,  6, 18, 10, 22,  3, 15,  7, 19, 11, 23])\n",
    "\n",
    "result = np.array([ 0,  1,  2,  3,  4,  5,  6,  7,  8,  9, 10, 11, 12, 13, 14, 15, 16, 17, 18, 19, 20, 21, 22, 23])\n",
    "\n",
    "### START CODE HERE ###\n",
    "# Reshape to (4,3,2), transpose to (2,3,4), reshape to 1D\n",
    "array2 = np.transpose(np.reshape(array1, (4,3,2)), (2,1,0)).reshape(24)  # use rehape and transpose\n",
    "###  END CODE HERE  ###\n",
    "\n",
    "print('Resulting shape: ', result.shape); test_passed = True\n",
    "if not np.array_equal(result, array2): \n",
    "    print('Array2 fails the test.'); test_passed = False\n",
    "if test_passed: print('All tests passed.')"
   ]
  },
  {
   "cell_type": "code",
   "execution_count": 121,
   "metadata": {},
   "outputs": [
    {
     "name": "stdout",
     "output_type": "stream",
     "text": [
      "Resulting shape:  (4, 4)\n",
      "All tests passed.\n"
     ]
    }
   ],
   "source": [
    "array1 = np.array([1., 2., 3., 4.])\n",
    "\n",
    "result = np.array([[1., 0., 0., 0.], [0., 2., 0., 0.], [0., 0., 3., 0.], [0., 0., 0., 4.]])\n",
    "\n",
    "### START CODE HERE ###\n",
    "# Create identity matrix and scale by array1\n",
    "array2 =  np.eye(4) * array1                            # use eye\n",
    "###  END CODE HERE  ###\n",
    "\n",
    "print('Resulting shape: ', result.shape); test_passed = True\n",
    "if not np.array_equal(result, array2): \n",
    "    print('Array2 fails the test.'); test_passed = False\n",
    "if test_passed: print('All tests passed.')"
   ]
  },
  {
   "cell_type": "markdown",
   "metadata": {},
   "source": [
    "(c) 2024 SW Lee"
   ]
  }
 ],
 "metadata": {
  "kernelspec": {
   "display_name": "Python 3 (ipykernel)",
   "language": "python",
   "name": "python3"
  },
  "language_info": {
   "codemirror_mode": {
    "name": "ipython",
    "version": 3
   },
   "file_extension": ".py",
   "mimetype": "text/x-python",
   "name": "python",
   "nbconvert_exporter": "python",
   "pygments_lexer": "ipython3",
   "version": "3.11.7"
  },
  "vscode": {
   "interpreter": {
    "hash": "71930d9c743a2c2f7d41567bb1e631f1d30be1b0f7ff3429fb86acce8edbed56"
   }
  }
 },
 "nbformat": 4,
 "nbformat_minor": 4
}
