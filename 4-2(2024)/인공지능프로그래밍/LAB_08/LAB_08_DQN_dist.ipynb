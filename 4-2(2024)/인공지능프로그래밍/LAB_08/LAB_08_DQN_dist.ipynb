{
  "cells": [
    {
      "cell_type": "markdown",
      "metadata": {
        "id": "YT743R_-aCYB"
      },
      "source": [
        "AI Programming - SW Lee"
      ]
    },
    {
      "cell_type": "markdown",
      "metadata": {
        "id": "FJP4bcSYaCYD"
      },
      "source": [
        "# Lab 08: Deep Q Learning Network (a.k.a DQN)\n",
        "## Exercise: Cart Pole, Lunar Lander"
      ]
    },
    {
      "cell_type": "markdown",
      "metadata": {
        "id": "AIsjmrRIaCYD"
      },
      "source": [
        "### Prepare Library Packages"
      ]
    },
    {
      "cell_type": "code",
      "execution_count": 1,
      "metadata": {
        "id": "jULpv21laCYE",
        "colab": {
          "base_uri": "https://localhost:8080/"
        },
        "outputId": "0ed0b778-d6a1-47d3-ff5b-b0f8bda0e5d4"
      },
      "outputs": [
        {
          "output_type": "stream",
          "name": "stdout",
          "text": [
            "Collecting swig\n",
            "  Using cached swig-4.3.0-py2.py3-none-manylinux_2_5_x86_64.manylinux1_x86_64.whl.metadata (3.5 kB)\n",
            "Using cached swig-4.3.0-py2.py3-none-manylinux_2_5_x86_64.manylinux1_x86_64.whl (1.9 MB)\n",
            "Installing collected packages: swig\n",
            "Successfully installed swig-4.3.0\n",
            "Requirement already satisfied: gymnasium in /usr/local/lib/python3.10/dist-packages (1.0.0)\n",
            "Requirement already satisfied: numpy>=1.21.0 in /usr/local/lib/python3.10/dist-packages (from gymnasium) (1.26.4)\n",
            "Requirement already satisfied: cloudpickle>=1.2.0 in /usr/local/lib/python3.10/dist-packages (from gymnasium) (3.1.0)\n",
            "Requirement already satisfied: typing-extensions>=4.3.0 in /usr/local/lib/python3.10/dist-packages (from gymnasium) (4.12.2)\n",
            "Requirement already satisfied: farama-notifications>=0.0.1 in /usr/local/lib/python3.10/dist-packages (from gymnasium) (0.0.4)\n",
            "Requirement already satisfied: gymnasium[box2d] in /usr/local/lib/python3.10/dist-packages (1.0.0)\n",
            "Requirement already satisfied: numpy>=1.21.0 in /usr/local/lib/python3.10/dist-packages (from gymnasium[box2d]) (1.26.4)\n",
            "Requirement already satisfied: cloudpickle>=1.2.0 in /usr/local/lib/python3.10/dist-packages (from gymnasium[box2d]) (3.1.0)\n",
            "Requirement already satisfied: typing-extensions>=4.3.0 in /usr/local/lib/python3.10/dist-packages (from gymnasium[box2d]) (4.12.2)\n",
            "Requirement already satisfied: farama-notifications>=0.0.1 in /usr/local/lib/python3.10/dist-packages (from gymnasium[box2d]) (0.0.4)\n",
            "Collecting box2d-py==2.3.5 (from gymnasium[box2d])\n",
            "  Using cached box2d-py-2.3.5.tar.gz (374 kB)\n",
            "  Preparing metadata (setup.py) ... \u001b[?25l\u001b[?25hdone\n",
            "Requirement already satisfied: pygame>=2.1.3 in /usr/local/lib/python3.10/dist-packages (from gymnasium[box2d]) (2.6.1)\n",
            "Requirement already satisfied: swig==4.* in /usr/local/lib/python3.10/dist-packages (from gymnasium[box2d]) (4.3.0)\n",
            "Building wheels for collected packages: box2d-py\n",
            "  Building wheel for box2d-py (setup.py) ... \u001b[?25l\u001b[?25hdone\n",
            "  Created wheel for box2d-py: filename=box2d_py-2.3.5-cp310-cp310-linux_x86_64.whl size=2376474 sha256=158c8e5ce2c10c25b13e20e43a578e100f85dc5715f0b95eaba611a868338afa\n",
            "  Stored in directory: /root/.cache/pip/wheels/db/8f/6a/eaaadf056fba10a98d986f6dce954e6201ba3126926fc5ad9e\n",
            "Successfully built box2d-py\n",
            "Installing collected packages: box2d-py\n",
            "Successfully installed box2d-py-2.3.5\n"
          ]
        }
      ],
      "source": [
        "# Check if this code runs in Colab\n",
        "RunningInCOLAB = 'google.colab' in str(get_ipython())\n",
        "\n",
        "# Installing the required library and Import tqdm for notebook if Colab\n",
        "if RunningInCOLAB:\n",
        "    !pip install swig\n",
        "    !pip install gymnasium\n",
        "    !pip install gymnasium[box2d]\n",
        "    from tqdm.notebook import tqdm\n",
        "else:\n",
        "    from tqdm import tqdm"
      ]
    },
    {
      "cell_type": "code",
      "execution_count": 2,
      "metadata": {
        "id": "UhOT4eSzaCYF"
      },
      "outputs": [],
      "source": [
        "import os\n",
        "# Setting the Keras backend to TensorFlow\n",
        "os.environ[\"KERAS_BACKEND\"] = \"tensorflow\"\n",
        "\n",
        "# Importing necessary libraries\n",
        "import numpy as np\n",
        "import tensorflow as tf\n",
        "import keras\n",
        "import matplotlib.pyplot as plt\n",
        "\n",
        "import gymnasium as gym\n",
        "from gymnasium import wrappers\n",
        "\n",
        "from collections import deque\n",
        "import random"
      ]
    },
    {
      "cell_type": "code",
      "execution_count": 3,
      "metadata": {
        "id": "QfSdMC5vaCYF",
        "outputId": "0d60bdf4-acfa-46df-fc47-d8d392d9ce44",
        "colab": {
          "base_uri": "https://localhost:8080/"
        }
      },
      "outputs": [
        {
          "output_type": "stream",
          "name": "stdout",
          "text": [
            "[PhysicalDevice(name='/physical_device:GPU:0', device_type='GPU')]\n"
          ]
        }
      ],
      "source": [
        "# List available GPU devices\n",
        "physical_devices = tf.config.list_physical_devices('GPU')\n",
        "print(physical_devices)\n",
        "# Enable memory growth for the first GPU\n",
        "try:\n",
        "    tf.config.experimental.set_memory_growth(physical_devices[0], True)\n",
        "# Print an error message if no GPU is detected\n",
        "except:\n",
        "    print('GPU is not detected.')"
      ]
    },
    {
      "cell_type": "code",
      "execution_count": 4,
      "metadata": {
        "id": "xLQ50qSJaCYF",
        "outputId": "73d8f7a6-8c31-4a68-d344-7317f91b7bd3",
        "colab": {
          "base_uri": "https://localhost:8080/",
          "height": 35
        }
      },
      "outputs": [
        {
          "output_type": "execute_result",
          "data": {
            "text/plain": [
              "'1.0.0'"
            ],
            "application/vnd.google.colaboratory.intrinsic+json": {
              "type": "string"
            }
          },
          "metadata": {},
          "execution_count": 4
        }
      ],
      "source": [
        "# Check the installed version\n",
        "gym.__version__"
      ]
    },
    {
      "cell_type": "markdown",
      "metadata": {
        "id": "TrHG6BzQaCYG"
      },
      "source": [
        "### Select Environment"
      ]
    },
    {
      "cell_type": "markdown",
      "metadata": {
        "id": "nea3X4z4aCYG"
      },
      "source": [
        "**Cart Pole**<br>\n",
        "https://gymnasium.farama.org/environments/classic_control/cart_pole/\n",
        "\n",
        "**Lunar Lander**<br>\n",
        "https://gymnasium.farama.org/environments/box2d/lunar_lander/"
      ]
    },
    {
      "cell_type": "code",
      "execution_count": 5,
      "metadata": {
        "id": "NoQM41xBaCYG"
      },
      "outputs": [],
      "source": [
        "# select evironment\n",
        "# Discrete Action Space:    0 for Cartpole, 1 for LunarLander\n",
        "\n",
        "SELECT_ENV = 1"
      ]
    },
    {
      "cell_type": "code",
      "execution_count": 6,
      "metadata": {
        "id": "B8lr64OBaCYG"
      },
      "outputs": [],
      "source": [
        "# If the selected environment is 0 (CartPole)\n",
        "if SELECT_ENV == 0:\n",
        "    # Set environment configurations\n",
        "    env_name, res_prefix = 'CartPole-v1', 'cart'\n",
        "    max_episodes, max_ep_steps, goal_score = 400, 500, 450\n",
        "    b_size, h_size = 128, 1000\n",
        "    network_type, state_width, state_height, state_depth = 'dense', 0, 0, 0\n",
        "    kwargs = {'render_mode':'rgb_array'}\n",
        "# If the selected environment is 1 (LunarLander)\n",
        "elif SELECT_ENV == 1:\n",
        "    # Set environment configurations\n",
        "    env_name, res_prefix = 'LunarLander-v3', 'lunD'\n",
        "    max_episodes, max_ep_steps, goal_score = 400, 1000, 200\n",
        "    b_size, h_size = 128, 10000\n",
        "    network_type, state_width, state_height, state_depth = 'dense', 0, 0, 0\n",
        "    kwargs = {'continuous':False, 'render_mode':'rgb_array'}\n",
        "# If the environment selection is invalid\n",
        "else: assert False, 'environment selection error'\n",
        "\n",
        "# Function to create the environment\n",
        "def create_env():\n",
        "    env = gym.make(env_name, **kwargs)\n",
        "    return env"
      ]
    },
    {
      "cell_type": "code",
      "execution_count": 7,
      "metadata": {
        "id": "XgHn6JQVaCYG"
      },
      "outputs": [],
      "source": [
        "# Function to reset the environment\n",
        "def env_reset(env):\n",
        "    observation = env.reset()\n",
        "    state = observation[0] if type(observation)==tuple else observation\n",
        "    return state\n",
        "\n",
        " # Function to take a step in the environment\n",
        "def env_step(env, action):\n",
        "    observation = env.step(action)\n",
        "    state = observation[0]\n",
        "    reward = observation[1]\n",
        "    done = observation[2] or observation[3] if len(observation)>4 else observation[2]\n",
        "    return state, reward, done"
      ]
    },
    {
      "cell_type": "code",
      "execution_count": 8,
      "metadata": {
        "id": "eoBp8mJBaCYG"
      },
      "outputs": [],
      "source": [
        "# Create the environment, reset it to get the initial state,\n",
        "# and take a random step to get the new state, reward, and done flag\n",
        "env = create_env()\n",
        "state = env_reset(env)\n",
        "state, reward, done = env_step(env, env.action_space.sample())"
      ]
    },
    {
      "cell_type": "markdown",
      "metadata": {
        "id": "9YivIO9daCYG"
      },
      "source": [
        "### Check and Show Environment Variables"
      ]
    },
    {
      "cell_type": "code",
      "execution_count": 9,
      "metadata": {
        "id": "5Wuz6_bcaCYG"
      },
      "outputs": [],
      "source": [
        "# Set action space parameters based on its type\n",
        "action_shape = env.action_space.shape\n",
        "action_space_type = type(env.action_space)\n",
        "\n",
        "# For discrete actions: define action range and shape\n",
        "if action_space_type==gym.spaces.discrete.Discrete:\n",
        "    actn_space = 'DISCRETE'\n",
        "    action_shape = (1,)\n",
        "    action_dims = 1\n",
        "    action_range = env.action_space.n\n",
        "    num_actions = action_range  # number of actions is action range for DISCRETE actions\n",
        "    action_batch_shape = (None, action_range)\n",
        "# For continuous actions: define action range, bounds, and shape\n",
        "elif action_space_type==gym.spaces.box.Box:\n",
        "    actn_space = 'CONTINUOUS'\n",
        "    action_dims = action_shape[0]\n",
        "    actn_uppr_bound = env.action_space.high[0]\n",
        "    actn_lowr_bound = env.action_space.low[0]\n",
        "    action_range = (actn_uppr_bound - actn_lowr_bound) # x0.5 for tanh output\n",
        "    action_batch_shape = tuple([None]+[x for x in action_shape])\n",
        "    num_actions = action_dims   # number of actions is action dimension for CONTINUOUS actions\n",
        "else: assert False, 'other action space type are not supported'\n",
        "\n",
        "# Set observation space parameters based on its type\n",
        "observation_space_type = type(env.observation_space)\n",
        "observation_shape = env.observation_space.shape\n",
        "\n",
        "# For discrete observations: set number of states\n",
        "if observation_space_type==gym.spaces.discrete.Discrete:\n",
        "    observation_shape = (1,)\n",
        "    num_states = env.observation_space.n\n",
        "# For continuous observations: set number of states\n",
        "elif observation_space_type==gym.spaces.box.Box:\n",
        "    num_states = observation_shape[0]\n",
        "else: print('observation space type error')\n",
        "\n",
        "# Set batch shapes for state and value\n",
        "state_shape = observation_shape\n",
        "state_batch_shape = tuple([None]+[x for x in observation_shape])\n",
        "\n",
        "value_shape = (1,)\n",
        "num_values = 1"
      ]
    },
    {
      "cell_type": "code",
      "execution_count": 10,
      "metadata": {
        "id": "df1L6UtvaCYH",
        "outputId": "6f987ae7-1cbe-4e2f-b513-9e4f4812a8b8",
        "colab": {
          "base_uri": "https://localhost:8080/"
        }
      },
      "outputs": [
        {
          "output_type": "stream",
          "name": "stdout",
          "text": [
            "Action space  <class 'gymnasium.spaces.discrete.Discrete'>\n",
            "Action shape  (1,)\n",
            "Action dimensions  1\n",
            "Action range  4\n",
            "Action batch shape  (None, 4)\n",
            "Observation space  <class 'gymnasium.spaces.box.Box'>\n",
            "Observation shape  (8,)\n",
            "Size of State Space  8\n",
            "State shape  (8,)\n",
            "State batch shape  (None, 8)\n",
            "Vallue shape  (1,)\n",
            "Value dimensions  1\n"
          ]
        }
      ],
      "source": [
        "# Print details about action space, observation space, state space, and value shape\n",
        "print('Action space ', action_space_type)\n",
        "print('Action shape ', action_shape)\n",
        "print('Action dimensions ', action_dims)\n",
        "print('Action range ', action_range)\n",
        "if action_space_type==gym.spaces.box.Box:\n",
        "    print('Max Value of Action ', actn_uppr_bound)\n",
        "    print('Min Value of Action ', actn_lowr_bound)\n",
        "else: pass\n",
        "print('Action batch shape ', action_batch_shape)\n",
        "\n",
        "print('Observation space ', observation_space_type)\n",
        "print('Observation shape ', observation_shape)\n",
        "print('Size of State Space ', num_states)\n",
        "print('State shape ', state_shape)\n",
        "print('State batch shape ', state_batch_shape)\n",
        "\n",
        "print('Vallue shape ', value_shape)\n",
        "print('Value dimensions ', num_values)"
      ]
    },
    {
      "cell_type": "markdown",
      "metadata": {
        "id": "jT-5zs-qaCYH"
      },
      "source": [
        "### Define and Initialize The Agent\n",
        "### **Exercise:** Define Deep Q-network (TensorFlow)\n",
        "\n",
        "A NN of three fully-connected layers is enough for classic control problems.<br>\n",
        "\n",
        "**Parameters for layer definition are:**<br>\n",
        "hiddens = (unit # for layer1, unit # for layer2),<br>\n",
        "act_fn: activation function,<br>\n",
        "out_fn: activation function for output layer, <br>\n",
        "init_fn: kernel initialization function"
      ]
    },
    {
      "cell_type": "code",
      "execution_count": 11,
      "metadata": {
        "id": "otEJiiZQaCYH"
      },
      "outputs": [],
      "source": [
        "# DQNet defines a deep Q-network model\n",
        "def DQNet(hiddens, act_fn, out_fn, init_fn):    # hiddends = (layer1 units, layer2 units)\n",
        "    inputs = keras.Input(shape=state_shape)  # input layer\n",
        "\n",
        "    ### START CODE HERE ###\n",
        "\n",
        "    l1 = tf.keras.layers.Dense(units=hiddens[0], activation=act_fn, kernel_initializer=init_fn)(inputs)   # first fully connected layer\n",
        "    l2 = tf.keras.layers.Dense(units=hiddens[1], activation=act_fn, kernel_initializer=init_fn)(l1)       # second fully connected layer\n",
        "    outputs = tf.keras.layers.Dense(units=num_actions, activation=out_fn, kernel_initializer=init_fn)(l2) # output (third) layer\n",
        "\n",
        "    ###  END CODE HERE  ###\n",
        "\n",
        "    model = keras.Model(inputs=inputs, outputs=outputs, name='q_net') # Create Keras model object\n",
        "    return model\n",
        "\n",
        "# DQNet model creation function\n",
        "def build_DQNet():\n",
        "    model = DQNet(hiddens=(32,32), act_fn='relu', out_fn='linear', init_fn='he_uniform')\n",
        "    return model"
      ]
    },
    {
      "cell_type": "code",
      "execution_count": 12,
      "metadata": {
        "id": "cZVfzNsLaCYH",
        "outputId": "aa394348-01df-445a-f39d-7d2d44e91c93",
        "colab": {
          "base_uri": "https://localhost:8080/",
          "height": 272
        }
      },
      "outputs": [
        {
          "output_type": "display_data",
          "data": {
            "text/plain": [
              "\u001b[1mModel: \"q_net\"\u001b[0m\n"
            ],
            "text/html": [
              "<pre style=\"white-space:pre;overflow-x:auto;line-height:normal;font-family:Menlo,'DejaVu Sans Mono',consolas,'Courier New',monospace\"><span style=\"font-weight: bold\">Model: \"q_net\"</span>\n",
              "</pre>\n"
            ]
          },
          "metadata": {}
        },
        {
          "output_type": "display_data",
          "data": {
            "text/plain": [
              "┏━━━━━━━━━━━━━━━━━━━━━━━━━━━━━━━━━━━━━━┳━━━━━━━━━━━━━━━━━━━━━━━━━━━━━┳━━━━━━━━━━━━━━━━━┓\n",
              "┃\u001b[1m \u001b[0m\u001b[1mLayer (type)                        \u001b[0m\u001b[1m \u001b[0m┃\u001b[1m \u001b[0m\u001b[1mOutput Shape               \u001b[0m\u001b[1m \u001b[0m┃\u001b[1m \u001b[0m\u001b[1m        Param #\u001b[0m\u001b[1m \u001b[0m┃\n",
              "┡━━━━━━━━━━━━━━━━━━━━━━━━━━━━━━━━━━━━━━╇━━━━━━━━━━━━━━━━━━━━━━━━━━━━━╇━━━━━━━━━━━━━━━━━┩\n",
              "│ input_layer (\u001b[38;5;33mInputLayer\u001b[0m)             │ (\u001b[38;5;45mNone\u001b[0m, \u001b[38;5;34m8\u001b[0m)                   │               \u001b[38;5;34m0\u001b[0m │\n",
              "├──────────────────────────────────────┼─────────────────────────────┼─────────────────┤\n",
              "│ dense (\u001b[38;5;33mDense\u001b[0m)                        │ (\u001b[38;5;45mNone\u001b[0m, \u001b[38;5;34m32\u001b[0m)                  │             \u001b[38;5;34m288\u001b[0m │\n",
              "├──────────────────────────────────────┼─────────────────────────────┼─────────────────┤\n",
              "│ dense_1 (\u001b[38;5;33mDense\u001b[0m)                      │ (\u001b[38;5;45mNone\u001b[0m, \u001b[38;5;34m32\u001b[0m)                  │           \u001b[38;5;34m1,056\u001b[0m │\n",
              "├──────────────────────────────────────┼─────────────────────────────┼─────────────────┤\n",
              "│ dense_2 (\u001b[38;5;33mDense\u001b[0m)                      │ (\u001b[38;5;45mNone\u001b[0m, \u001b[38;5;34m4\u001b[0m)                   │             \u001b[38;5;34m132\u001b[0m │\n",
              "└──────────────────────────────────────┴─────────────────────────────┴─────────────────┘\n"
            ],
            "text/html": [
              "<pre style=\"white-space:pre;overflow-x:auto;line-height:normal;font-family:Menlo,'DejaVu Sans Mono',consolas,'Courier New',monospace\">┏━━━━━━━━━━━━━━━━━━━━━━━━━━━━━━━━━━━━━━┳━━━━━━━━━━━━━━━━━━━━━━━━━━━━━┳━━━━━━━━━━━━━━━━━┓\n",
              "┃<span style=\"font-weight: bold\"> Layer (type)                         </span>┃<span style=\"font-weight: bold\"> Output Shape                </span>┃<span style=\"font-weight: bold\">         Param # </span>┃\n",
              "┡━━━━━━━━━━━━━━━━━━━━━━━━━━━━━━━━━━━━━━╇━━━━━━━━━━━━━━━━━━━━━━━━━━━━━╇━━━━━━━━━━━━━━━━━┩\n",
              "│ input_layer (<span style=\"color: #0087ff; text-decoration-color: #0087ff\">InputLayer</span>)             │ (<span style=\"color: #00d7ff; text-decoration-color: #00d7ff\">None</span>, <span style=\"color: #00af00; text-decoration-color: #00af00\">8</span>)                   │               <span style=\"color: #00af00; text-decoration-color: #00af00\">0</span> │\n",
              "├──────────────────────────────────────┼─────────────────────────────┼─────────────────┤\n",
              "│ dense (<span style=\"color: #0087ff; text-decoration-color: #0087ff\">Dense</span>)                        │ (<span style=\"color: #00d7ff; text-decoration-color: #00d7ff\">None</span>, <span style=\"color: #00af00; text-decoration-color: #00af00\">32</span>)                  │             <span style=\"color: #00af00; text-decoration-color: #00af00\">288</span> │\n",
              "├──────────────────────────────────────┼─────────────────────────────┼─────────────────┤\n",
              "│ dense_1 (<span style=\"color: #0087ff; text-decoration-color: #0087ff\">Dense</span>)                      │ (<span style=\"color: #00d7ff; text-decoration-color: #00d7ff\">None</span>, <span style=\"color: #00af00; text-decoration-color: #00af00\">32</span>)                  │           <span style=\"color: #00af00; text-decoration-color: #00af00\">1,056</span> │\n",
              "├──────────────────────────────────────┼─────────────────────────────┼─────────────────┤\n",
              "│ dense_2 (<span style=\"color: #0087ff; text-decoration-color: #0087ff\">Dense</span>)                      │ (<span style=\"color: #00d7ff; text-decoration-color: #00d7ff\">None</span>, <span style=\"color: #00af00; text-decoration-color: #00af00\">4</span>)                   │             <span style=\"color: #00af00; text-decoration-color: #00af00\">132</span> │\n",
              "└──────────────────────────────────────┴─────────────────────────────┴─────────────────┘\n",
              "</pre>\n"
            ]
          },
          "metadata": {}
        },
        {
          "output_type": "display_data",
          "data": {
            "text/plain": [
              "\u001b[1m Total params: \u001b[0m\u001b[38;5;34m1,476\u001b[0m (5.77 KB)\n"
            ],
            "text/html": [
              "<pre style=\"white-space:pre;overflow-x:auto;line-height:normal;font-family:Menlo,'DejaVu Sans Mono',consolas,'Courier New',monospace\"><span style=\"font-weight: bold\"> Total params: </span><span style=\"color: #00af00; text-decoration-color: #00af00\">1,476</span> (5.77 KB)\n",
              "</pre>\n"
            ]
          },
          "metadata": {}
        },
        {
          "output_type": "display_data",
          "data": {
            "text/plain": [
              "\u001b[1m Trainable params: \u001b[0m\u001b[38;5;34m1,476\u001b[0m (5.77 KB)\n"
            ],
            "text/html": [
              "<pre style=\"white-space:pre;overflow-x:auto;line-height:normal;font-family:Menlo,'DejaVu Sans Mono',consolas,'Courier New',monospace\"><span style=\"font-weight: bold\"> Trainable params: </span><span style=\"color: #00af00; text-decoration-color: #00af00\">1,476</span> (5.77 KB)\n",
              "</pre>\n"
            ]
          },
          "metadata": {}
        },
        {
          "output_type": "display_data",
          "data": {
            "text/plain": [
              "\u001b[1m Non-trainable params: \u001b[0m\u001b[38;5;34m0\u001b[0m (0.00 B)\n"
            ],
            "text/html": [
              "<pre style=\"white-space:pre;overflow-x:auto;line-height:normal;font-family:Menlo,'DejaVu Sans Mono',consolas,'Courier New',monospace\"><span style=\"font-weight: bold\"> Non-trainable params: </span><span style=\"color: #00af00; text-decoration-color: #00af00\">0</span> (0.00 B)\n",
              "</pre>\n"
            ]
          },
          "metadata": {}
        }
      ],
      "source": [
        "# Create the DQNet model and display\n",
        "test_model = build_DQNet()\n",
        "test_model.summary()\n",
        "del test_model"
      ]
    },
    {
      "cell_type": "markdown",
      "metadata": {
        "id": "MaVlW4HAaCYH"
      },
      "source": [
        "**Model Summary:**\n",
        "\n",
        "```\n",
        "┏--------------------------------------┳-----------------------------┳-----------------┓\n",
        "┃ Layer (type)                         ┃ Output Shape                ┃         Param # ┃\n",
        "┡--------------------------------------╇-----------------------------╇-----------------┩\n",
        "│ input_layer (InputLayer)             │ (None, 4 or 8)              │               0 │\n",
        "├--------------------------------------┼-----------------------------┼-----------------┤\n",
        "│ dense (Dense)                        │ (None, 32)                  │      160 or 288 │\n",
        "├--------------------------------------┼-----------------------------┼-----------------┤\n",
        "│ dense_1 (Dense)                      │ (None, 32)                  │           1,056 │\n",
        "├--------------------------------------┼-----------------------------┼-----------------┤\n",
        "│ dense_2 (Dense)                      │ (None, 2 or 4)              │       66 or 132 │\n",
        "└--------------------------------------┴-----------------------------┴-----------------┘\n",
        "```"
      ]
    },
    {
      "cell_type": "markdown",
      "metadata": {
        "id": "q3YzoYqXaCYH"
      },
      "source": [
        "The policy function in the Agent_Net is just for getting a SINGLE sample, not for training. So you have to set `training=False` if necessary.\n",
        "Since the network takes batch format (i.e., `[batch,data]`), the input state should be given as `[None,...]` and the output should be taken as `[0,...]`.\n",
        "\n",
        "### **Exercise:** Define Policy Functions"
      ]
    },
    {
      "cell_type": "code",
      "execution_count": 13,
      "metadata": {
        "id": "Jf4G2B80aCYH"
      },
      "outputs": [],
      "source": [
        "# Agent_Net defines a reinforcement learning agent with policy and target networks for Q-learning\n",
        "class Agent_Net:\n",
        "    def __init__(self):\n",
        "        self.policy_q = build_DQNet()                       # Build policy network\n",
        "        self.target_q = build_DQNet()                       # Build target network\n",
        "        self.target_update()                                # Copy weights from policy to target\n",
        "\n",
        "    def policy(self, state, epsilon, exploring):            # Epsilon-greedy policy if exploring\n",
        "        state_input = tf.convert_to_tensor(state[None,...], dtype=tf.float32)   # Make the state network-ready\n",
        "\n",
        "        ### START CODE HERE ###\n",
        "\n",
        "        if exploring:                                       # If e-greedy policy\n",
        "            if tf.random.uniform(()) > epsilon:             # Exploit if random>epsilon\n",
        "                action_q = self.policy_q(state_input)       # Get actions for input state\n",
        "                action = tf.argmax(action_q[0])             # Find an action for maximum q value\n",
        "            else:                                           # Explore else\n",
        "                action = tf.random.uniform((), 0, action_range, tf.int64)       # Random action\n",
        "        else:                                                                   # Else greedy policy (exploitation)\n",
        "            action_q = self.policy_q(state_input)                               # Get actions for input state\n",
        "            action = tf.argmax(action_q[0])                                     # Find an action for maximum q value\n",
        "\n",
        "        ###  END CODE HERE  ###\n",
        "\n",
        "        return action.numpy()\n",
        "\n",
        "    def target_update(self):\n",
        "        self.target_q.set_weights(self.policy_q.get_weights())  # Copy weights from policy network to target network\n",
        "        return"
      ]
    },
    {
      "cell_type": "code",
      "execution_count": 14,
      "metadata": {
        "id": "oBfHrVaOaCYH",
        "colab": {
          "base_uri": "https://localhost:8080/"
        },
        "outputId": "777e1010-1eb5-451c-cec0-248ebe2f18ca"
      },
      "outputs": [
        {
          "output_type": "stream",
          "name": "stdout",
          "text": [
            "5  0  6  5  1  3  1  4  5  0  3  1  6  0  1  2  0  3  6  4  "
          ]
        }
      ],
      "source": [
        "# Test_policy simulates an epsilon-greedy policy for action selection\n",
        "def test_policy(exploring):\n",
        "\n",
        "    epsilon = 0.1                           # Set epsilon value for exploration\n",
        "    state_input = tf.random.uniform((1,3))  # Randomly generate a state input\n",
        "    action_range = 7                        # Number of possible actions\n",
        "\n",
        "    # Pretending policy_q network\n",
        "    def policy_q(x):\n",
        "        x = tf.random.uniform((tf.shape(x)[0],action_range)) # Generate random action values\n",
        "        return x\n",
        "\n",
        "    ### START CODE HERE ###\n",
        "\n",
        "    if exploring:                                           # If using epsilon-greedy policy\n",
        "        if tf.random.uniform(()) > epsilon:                 # Exploit if random > epsilon\n",
        "          action_q = policy_q(state_input)                  # Get Q-values for input state\n",
        "          action = tf.argmax(action_q[0])                   # Find an action for maximum q value\n",
        "        else:                                               # Explore else take random action\n",
        "          action = tf.random.uniform((), 0, action_range, tf.int64) # Random action selection                                                    #   random action\n",
        "    else:                                                   # Else greedy policy (exploitation)\n",
        "         action_q = policy_q(state_input)                   # Get Q-values for input state\n",
        "         action = tf.argmax(action_q[0])                    #  Find an action for maximum q value\n",
        "\n",
        "    ###  END CODE HERE  ###\n",
        "\n",
        "    return action # Return selected action\n",
        "\n",
        "tf.random.set_seed(2) # Set seed for reproducibility\n",
        "# Print actions when exploring\n",
        "for _ in range(10): print(test_policy(True).numpy(), ' ', end='')\n",
        "# Print actions when exploiting\n",
        "for _ in range(10): print(test_policy(False).numpy(), ' ', end='')"
      ]
    },
    {
      "cell_type": "markdown",
      "metadata": {
        "id": "kusDscrDaCYH"
      },
      "source": [
        "**Expected Outputs:**\n",
        "\n",
        "```\n",
        "5  0  6  5  1  3  1  4  5  0  3  1  6  0  1  2  0  3  6  4\n",
        "```"
      ]
    },
    {
      "cell_type": "markdown",
      "metadata": {
        "id": "Kou6SC6waCYH"
      },
      "source": [
        "### Define and Initialize Replay Memory\n",
        "\n",
        "The replay memory (or replay buffer) is implemented with `deque`, which maintians the fixed number of elements by discarding the oldest element automatically.<br>\n",
        "The inputs of the `put_experience` function are from environments and the outputs of the `get_batch` function are fed to the NN. Therefore the output types should be tensors."
      ]
    },
    {
      "cell_type": "code",
      "execution_count": 15,
      "metadata": {
        "id": "-FJhx-VyaCYI"
      },
      "outputs": [],
      "source": [
        "# ReplayMemory stores and manages experiences for replay buffer in reinforcement learning\n",
        "class ReplayMemory:\n",
        "    def __init__(self, memory_size):\n",
        "        self.experiences = deque(maxlen=memory_size)    # Allocate replay memory\n",
        "        self.num_episodes = 0                           # Set number of episode to zero\n",
        "\n",
        "    def put_experience(self, experience):               # Put an experience into replay memory\n",
        "        state, action, next_state, reward, not_done = experience\n",
        "        self.experiences.append((state, action, next_state, reward, not_done)) # Store experience\n",
        "        return\n",
        "\n",
        "    def get_batch(self, num_samples):                   # Get a batch of randomly sampled experiences\n",
        "        state_batch, next_state_batch, action_batch, reward_batch, not_done_batch = [], [], [], [], []\n",
        "\n",
        "        sample_batch = random.sample(self.experiences, num_samples) # Randomly sample experiences\n",
        "\n",
        "        # Extract and store individual components of each sample\n",
        "        for sample in sample_batch:\n",
        "            state, action, next_state, reward, not_done = sample\n",
        "            state_batch.append(state)\n",
        "            action_batch.append(action)\n",
        "            next_state_batch.append(next_state)\n",
        "            reward_batch.append(reward)\n",
        "            not_done_batch.append(not_done)\n",
        "\n",
        "        # Convert batches to tensors\n",
        "        batch = (tf.convert_to_tensor(state_batch, dtype=tf.float32),\n",
        "                tf.convert_to_tensor(action_batch, dtype=tf.int32),\n",
        "                tf.convert_to_tensor(next_state_batch, dtype=tf.float32),\n",
        "                tf.convert_to_tensor(reward_batch, dtype=tf.float32),\n",
        "                tf.convert_to_tensor(not_done_batch, dtype=tf.float32))\n",
        "        return batch # Return the batch of experiences"
      ]
    },
    {
      "cell_type": "markdown",
      "metadata": {
        "id": "CE7nHzIUaCYI"
      },
      "source": [
        "### **Exercise:** Initialize the replay memory\n",
        "\n",
        "A single experience consists of `(state, action, next_state, reward, not_done)`. Be careful with **`not_done`**."
      ]
    },
    {
      "cell_type": "code",
      "execution_count": 16,
      "metadata": {
        "id": "4SinD3AtaCYI"
      },
      "outputs": [],
      "source": [
        "# Init_memory initializes the replay memory by interacting with the environment for a specified number of sample\n",
        "def init_memory(mem, env, agent, num_samples):\n",
        "    state = env_reset(env)                          # Initialize environment\n",
        "    # Loop over the number of samples\n",
        "    for _ in range(num_samples):\n",
        "\n",
        "        ### START CODE HERE ###\n",
        "        action = agent.policy(state, epsilon=1.0, exploring=True)     # Get an action with the policy\n",
        "        next_state, reward, done = env_step(env, action)              # Observe the environment reaction\n",
        "        experience = (state, action, next_state, reward, not done)    # Pack observations into experience tuple\n",
        "        mem.put_experience(experience)                                # Put the experience to replay memory\n",
        "        state = env_reset(env) if done else next_state                # Set the next state (reset env if done)\n",
        "\n",
        "        ###  END CODE HERE  ###\n",
        "\n",
        "    return"
      ]
    },
    {
      "cell_type": "code",
      "execution_count": 17,
      "metadata": {
        "id": "Vpzz_ncjaCYI",
        "outputId": "4c16193a-c9ac-4dcd-8581-366081c2e6f1",
        "colab": {
          "base_uri": "https://localhost:8080/"
        }
      },
      "outputs": [
        {
          "output_type": "stream",
          "name": "stdout",
          "text": [
            "[-0.01505842  1.4191642  -0.76619244  0.17035668]\n",
            "[1 0 1 0]\n",
            "[-0.03796177  1.427054   -0.7755038   0.08992036]\n",
            "[-1.0618883 -1.0290995 -1.9180926 -1.4797792]\n",
            "[1. 1. 1. 1.]\n"
          ]
        }
      ],
      "source": [
        "# Set random seeds for reproducibility and initialize components for testing\n",
        "tf.random.set_seed(2)\n",
        "keras.utils.set_random_seed(2)\n",
        "test_agent = Agent_Net()\n",
        "test_mem = ReplayMemory(4)\n",
        "test_env = create_env()\n",
        "test_state = test_env.reset(seed=3)\n",
        "init_memory(test_mem, test_env, test_agent, 4)\n",
        "\n",
        "if SELECT_ENV==1:\n",
        "    print(test_mem.get_batch(4)[0][0][:4].numpy())\n",
        "    print(test_mem.get_batch(4)[1].numpy())\n",
        "    print(test_mem.get_batch(4)[2][0][:4].numpy())\n",
        "    print(test_mem.get_batch(4)[3].numpy())\n",
        "    print(test_mem.get_batch(4)[4].numpy())\n",
        "else:\n",
        "    print(test_mem.get_batch(4)[0][0][:4].numpy())\n",
        "    print(test_mem.get_batch(4)[1].numpy())\n",
        "    print(test_mem.get_batch(4)[2][0][:4].numpy())\n",
        "    print(test_mem.get_batch(4)[3].numpy())\n",
        "    print(test_mem.get_batch(4)[4].numpy())\n",
        "\n",
        "del test_agent, test_mem\n",
        "test_env.close()"
      ]
    },
    {
      "cell_type": "markdown",
      "metadata": {
        "id": "xLgXz-77aCYI"
      },
      "source": [
        "**Expected Outputs:**\n",
        "\n",
        "```\n",
        "[-0.04072088  0.18846463 -0.00277539 -0.32736924]\n",
        "[1 0 1 0]\n",
        "[-0.02550636 -0.00617038 -0.02836518 -0.04544564]\n",
        "[1. 1. 1. 1.]\n",
        "[1. 1. 1. 1.]\n",
        "```\n",
        "or\n",
        "```\n",
        "[-0.01505842  1.4191642  -0.76619244  0.17035668]\n",
        "[1 0 1 0]\n",
        "[-0.03796177  1.427054   -0.7755038   0.08992036]\n",
        "[-1.0618883 -1.0290995 -1.9180926 -1.4797792]\n",
        "[1. 1. 1. 1.]\n",
        "```"
      ]
    },
    {
      "cell_type": "markdown",
      "metadata": {
        "id": "-CzbH13FaCYI"
      },
      "source": [
        "### Learning Procedures\n",
        "\n",
        "DQN trains the Q-network to minimize the difference:\n",
        "\n",
        "$$ \\delta_t = (r_{t} + \\gamma \\max_{\\hat{a}_{t+1}} Q_T(s_{t+1}, \\hat{a}_{t+1}; \\theta_T)) - Q_P(s_t, a_t; \\theta_P) $$\n",
        "\n",
        "where $Q_T$ is a target network and $Q_P$ policy network.\n",
        "\n",
        "Then the loss function is\n",
        "\n",
        "$$ L(\\theta_P) = \\delta_t^2 $$\n",
        "\n",
        "### **Exercise:** Define ONE step of Training Loop and Evaluation Loop"
      ]
    },
    {
      "cell_type": "markdown",
      "metadata": {
        "id": "a8Y9iSXqaCYI"
      },
      "source": [
        "The following test has same codes as the `dqn_train` function except the last line."
      ]
    },
    {
      "cell_type": "code",
      "execution_count": 18,
      "metadata": {
        "id": "idGoXXIWaCYI"
      },
      "outputs": [],
      "source": [
        "# Computes Q-values, target rewards, and generates ground truth labels for training\n",
        "def test_training():\n",
        "    state_b = tf.random.uniform((3,4)) # Batch of states (b, s)\n",
        "    action_b = tf.random.uniform((3,), minval=0, maxval=7, dtype=tf.int32) # Batch of actions (b,)\n",
        "    next_state_b = tf.random.uniform((3,4)) # Batch of next states (b, s)\n",
        "    reward_b = tf.random.uniform((3,)) # Batch of rewards (b,)\n",
        "    not_done_b = tf.random.uniform((3,)) # Indicator for whether the episode has ended (b,)\n",
        "    gamma = tf.random.uniform((1,)) # Discount factor (scalar)\n",
        "    action_range = 7 # The number of possible actions\n",
        "\n",
        "    class test_agent:\n",
        "        def __init__(self):\n",
        "            pass\n",
        "        def policy_q(self, x):\n",
        "            return tf.reduce_sum(x, axis=-1, keepdims=True) # Q-value from policy network (b, 1)\n",
        "        def target_q(self, x):\n",
        "            return tf.reduce_sum(x, axis=-1, keepdims=True) # Q-value from target network (b, 1)\n",
        "\n",
        "    agent = test_agent()\n",
        "\n",
        "    ### START CODE HERE ###\n",
        "\n",
        "    # Get action probability with current (think of WHY!!) policy (b,a)\n",
        "    # Get the current Q-values (b,1) from the policy network\n",
        "    curr_q = agent.policy_q(state_b)\n",
        "\n",
        "    # get action probability with target policy (b,a),\n",
        "    # and then find the max Q value with it (b,)\n",
        "    # Get the Q-values (b,1) from the target network for the next state\n",
        "    next_q = agent.target_q(next_state_b)\n",
        "    max_next_q = tf.reduce_max(next_q, axis=-1)\n",
        "\n",
        "    # Calculate target reward using the Bellman equation (b,1)\n",
        "    target_reward = reward_b + gamma * max_next_q * not_done_b\n",
        "\n",
        "    # Make one-hot actions (b,a) to filter out other actions\n",
        "    action_v = tf.one_hot(action_b, action_range)\n",
        "\n",
        "    # Make ground true labels for training (b,a)\n",
        "    label_q = curr_q * (1 - action_v) + target_reward[:, None] * action_v\n",
        "    ###  END CODE HERE  ###\n",
        "\n",
        "    return label_q"
      ]
    },
    {
      "cell_type": "code",
      "execution_count": 19,
      "metadata": {
        "id": "195CPHroaCYI",
        "colab": {
          "base_uri": "https://localhost:8080/"
        },
        "outputId": "c6604a79-cabd-4b5d-cef7-2a6ce9a4afe9"
      },
      "outputs": [
        {
          "output_type": "stream",
          "name": "stdout",
          "text": [
            "Training lable test passed.\n"
          ]
        }
      ],
      "source": [
        "# Set random seed for reproducibility\n",
        "tf.random.set_seed(2)\n",
        "\n",
        "# Define the expected result for the training labels\n",
        "ans = np.array([[1.1889474 , 1.1889474 , 1.1889474 , 1.1889474 , 1.1889474 , 1.1889474 , 0.40853113],\n",
        "                [2.713482  , 2.713482  , 2.4351463 , 2.713482  , 2.713482  , 2.713482  , 2.713482  ],\n",
        "                [3.3669732 , 1.4427134 , 3.3669732 , 3.3669732 , 3.3669732 , 3.3669732 , 3.3669732 ]])\n",
        "# Call the function to get training labels\n",
        "res = test_training()\n",
        "print('Training lable test passed.') if np.allclose(res,ans) else print('Training lable test failed.')"
      ]
    },
    {
      "cell_type": "code",
      "execution_count": 20,
      "metadata": {
        "id": "VjvbHOZ-aCYI"
      },
      "outputs": [],
      "source": [
        "# Trains the DQN agent by updating its policy network using the given batch of experiences\n",
        "def dqn_train(agent, batch, config):\n",
        "    state_b, action_b, next_state_b, reward_b, not_done_b = batch # Unpack the batch\n",
        "    gamma = config.gamma # Discount factor from the config\n",
        "\n",
        "    ### START CODE HERE ###\n",
        "\n",
        "    # get action probability with current (think of WHY!!) policy (b,a)\n",
        "    # Get the current Q-values from the policy network (b, a) where a is the number of actions\n",
        "    curr_q = agent.policy_q(state_b)\n",
        "\n",
        "    # get action probability with target policy (b,a),\n",
        "    # and then find the max Q value with it (b,)\n",
        "    # Get the Q-values from the target network for the next states (b, a)\n",
        "    next_q = agent.target_q(next_state_b)\n",
        "    max_next_q = tf.reduce_max(next_q, axis=-1)\n",
        "\n",
        "    # Calculate target reward (b,1)\n",
        "    target_reward = reward_b + gamma * max_next_q * not_done_b\n",
        "\n",
        "    # Make one-hot actions (b,a) to filter out other actions\n",
        "    action_v = tf.one_hot(action_b, action_range)\n",
        "\n",
        "    # Make ground true labels for training (b,a)\n",
        "    label_q = curr_q * (1 - action_v) + target_reward[:, None] * action_v\n",
        "\n",
        "    # Training with model.fit()\n",
        "    logs = agent.policy_q.fit(state_b, label_q, epochs=1, verbose=0)\n",
        "\n",
        "    ###  END CODE HERE  ###\n",
        "\n",
        "    # Get the loss from the training logs\n",
        "    loss = logs.history['loss'][-1]\n",
        "    return loss"
      ]
    },
    {
      "cell_type": "code",
      "execution_count": 21,
      "metadata": {
        "id": "GHoUYqrvaCYI"
      },
      "outputs": [],
      "source": [
        "# To evaluate the performance of the agent by averaging rewards over multiple episodes\n",
        "def evaluate_policy(env, agent, num_avg):\n",
        "\n",
        "    total_reward = 0.0\n",
        "    episodes_to_play = num_avg\n",
        "    for i in range(episodes_to_play): # Play n episode and take the average\n",
        "        state = env_reset(env)        # Reset environment and get initial state\n",
        "        done = False\n",
        "        episode_reward = 0.0\n",
        "        while not done:\n",
        "\n",
        "            ### START CODE HERE ###\n",
        "\n",
        "            action = agent.policy(state, epsilon=0.0, exploring=False)  # Get an action with policy\n",
        "            next_state, reward, done = env_step(env, action)            # Take action and observe outcomes\n",
        "\n",
        "            ###  END CODE HERE  ###\n",
        "\n",
        "            state = next_state           # Update state\n",
        "            episode_reward += reward     # Accumulate reward for the episode\n",
        "        total_reward += episode_reward   # Add the episode reward to total reward\n",
        "\n",
        "    # Calculate the average reward across all episodes\n",
        "    average_reward = total_reward / episodes_to_play\n",
        "\n",
        "    return average_reward"
      ]
    },
    {
      "cell_type": "markdown",
      "metadata": {
        "id": "jfc2oMv8aCYJ"
      },
      "source": [
        "### Define Epsilon Function\n",
        "\n",
        "This is an example of exponential decay epsilon function. One of easist epsilon decay functions is simply to multiply 0.9. You can define your own epsilon function."
      ]
    },
    {
      "cell_type": "code",
      "execution_count": 22,
      "metadata": {
        "id": "oQ76ghhYaCYJ"
      },
      "outputs": [],
      "source": [
        "# Exploration parameters for epsilon greedy strategy\n",
        "class Epsilon:\n",
        "    def __init__(self, max_episodes, decay_speed=1.0):\n",
        "        self.explore_start = 1.0            # Exploration probability at start\n",
        "        self.explore_stop = 0.01            # Minimum exploration probability\n",
        "        self.decay_rate = decay_speed/max_episodes  # Exp decay rate for exploration prob (10/max ≈ 0.99)\n",
        "        self.episode_cnt = 0                # Episode counter\n",
        "\n",
        "    def get_epsilon(self):\n",
        "        # Calculate epsilon based on exponential decay\n",
        "        eps = (self.explore_stop\n",
        "            + (self.explore_start - self.explore_stop) * tf.math.exp(-self.decay_rate * self.episode_cnt))\n",
        "        self.episode_cnt += 1\n",
        "        return eps"
      ]
    },
    {
      "cell_type": "markdown",
      "metadata": {
        "id": "Jwu10FmeaCYJ"
      },
      "source": [
        "### Define and Initialize Hyperparameters\n"
      ]
    },
    {
      "cell_type": "code",
      "execution_count": 23,
      "metadata": {
        "id": "DOqCscQjaCYN"
      },
      "outputs": [],
      "source": [
        "# Configuration class for storing hyperparameters\n",
        "class configuration:\n",
        "    def __init__(self):\n",
        "        self.gamma = 0.99   # Discount factor for future rewards\n",
        "        self.lr = 2e-4      # Learning rate for the optimizer\n",
        "\n",
        "# Create a configuration object\n",
        "config = configuration()"
      ]
    },
    {
      "cell_type": "code",
      "execution_count": 24,
      "metadata": {
        "id": "_nBYNLSoaCYN"
      },
      "outputs": [],
      "source": [
        "# Total steps in the simulation\n",
        "max_steps = max_episodes * max_ep_steps\n",
        "batch_size = b_size\n",
        "memory_size = h_size\n",
        "\n",
        "# Initialize the agent and replay memory\n",
        "agent = Agent_Net()\n",
        "memD = ReplayMemory(memory_size)\n",
        "# Initialize memory with experiences from the environment\n",
        "init_memory(memD, env, agent, memory_size)\n",
        "# Initialize epsilon decay function and optimizer\n",
        "epsF = Epsilon(max_episodes, 10.0)\n",
        "opt = tf.optimizers.Adam(learning_rate=config.lr, clipvalue=2.0)\n",
        "\n",
        "# Compile the policy network with optimizer and loss function\n",
        "agent.policy_q.compile(optimizer=opt, loss='mse', jit_compile=False)"
      ]
    },
    {
      "cell_type": "markdown",
      "metadata": {
        "id": "7ny5oxjTaCYN"
      },
      "source": [
        "### Define Main Training Loop\n",
        "\n",
        "\n",
        "### **Exercise:** Complete Main Training Loop"
      ]
    },
    {
      "cell_type": "code",
      "execution_count": 25,
      "metadata": {
        "id": "jfXC1tU1aCYN",
        "colab": {
          "base_uri": "https://localhost:8080/",
          "height": 114,
          "referenced_widgets": [
            "0e0ce0a35b7f41c4896c60646c580720",
            "741478aa447e4e488a87adca54ea33cf",
            "9ad584ba330546058ec3ed4e03bd22f4",
            "c1c8dd86ff054e0ca9f53f71dca63863",
            "fb8a48750d38408a883cbd555206ba67",
            "ac11632c62334dc7b85bc169c000a078",
            "96182db1e45b4e298462e7d303656481",
            "ca16761b33774c85861181e27b31b096",
            "5faf4eda1bc94963bd5770b4302f7c9b",
            "923eab5849d6448d9820618120d45fac",
            "40f5663872424fc1b07761c8d7aca6a7"
          ]
        },
        "outputId": "92ca3d8a-3b78-4969-e3af-186955f9779f"
      },
      "outputs": [
        {
          "output_type": "display_data",
          "data": {
            "text/plain": [
              "  0%|          | 0/400000 [00:00<?, ?it/s]"
            ],
            "application/vnd.jupyter.widget-view+json": {
              "version_major": 2,
              "version_minor": 0,
              "model_id": "0e0ce0a35b7f41c4896c60646c580720"
            }
          },
          "metadata": {}
        },
        {
          "output_type": "stream",
          "name": "stdout",
          "text": [
            "episodes:   71, loss:1.46242, val_reward 210.16\n",
            "total steps: 34056\n"
          ]
        }
      ],
      "source": [
        "logs = keras.callbacks.History()     # Initialize a history object to store logs during training\n",
        "logs.history.update({'pi_loss':[]})  # Initialize empty lists for policy loss\n",
        "logs.history.update({'ereward':[]})  # Initialize empty lists for episode reward\n",
        "logs.history.update({'e-steps':[]})  # Initialize empty lists for episode steps\n",
        "logs.history.update({'vreward':[]})  # Initialize empty lists for validation reward\n",
        "\n",
        "# Variables for simulation\n",
        "num_episodes = 0\n",
        "val_episodes = 2  # Exit condition\n",
        "\n",
        "# Variables for episode logging\n",
        "pi_loss = 0.0\n",
        "loss_sum = 0.0\n",
        "epis_steps = 0\n",
        "epis_reward = 0.0\n",
        "eval_reward = -float('inf')\n",
        "\n",
        "# Initialize training variables\n",
        "epsilon = 1.0\n",
        "next_state = None\n",
        "done = True\n",
        "\n",
        "pbar = tqdm(range(max_steps), bar_format='{l_bar}{bar:10}{r_bar}{bar:-10b}')\n",
        "\n",
        "for sim_steps in pbar:\n",
        "\n",
        "    ### START CODE HERE ###\n",
        "\n",
        "    state = env_reset(env) if done else next_state                 # Get the current state\n",
        "    action = agent.policy(state, epsilon=epsilon, exploring=True)  # Find an action with e-greedy\n",
        "    next_state, reward, done = env_step(env, action)               # Take action and observe outcomes\n",
        "\n",
        "    experience = (state, action, next_state, reward, not done)     # Pack observations into a new experience\n",
        "    memD.put_experience(experience)                                # Put a new experience to replay buffer\n",
        "\n",
        "    batch = memD.get_batch(batch_size)                             # Get a new batch from replay buffer\n",
        "    step_pi_loss = dqn_train(agent, batch, config)                 # Train DQN for a step\n",
        "\n",
        "    ###  END CODE HERE  ###\n",
        "\n",
        "    loss_sum += step_pi_loss                                # Accumulate policy loss for a step\n",
        "    epis_reward += reward                                   # Accumulate reward for a step\n",
        "    epis_steps += 1                                         # Increase the number of steps for an episode\n",
        "\n",
        "    # Episode termination conditions\n",
        "    if epis_steps>max_ep_steps: done = True\n",
        "\n",
        "    # Summarize episode\n",
        "    if done:\n",
        "        agent.target_update()                               # Update target network whenever episode ends\n",
        "        memD.num_episodes += 1                              # Increase number of episode simulated\n",
        "        epsilon = epsF.get_epsilon()                        # Update decay epsilon value\n",
        "\n",
        "        pi_loss = loss_sum / epis_steps                     # Average policy loss for an episode\n",
        "\n",
        "        pbar.set_postfix({'episode':num_episodes, 'loss':step_pi_loss, 'reward':eval_reward, 'steps':epis_steps, 'evaluating':val_episodes})\n",
        "        eval_reward = evaluate_policy(env, agent, 1)        # Evaluate policy one time\n",
        "\n",
        "        # Update logs with the results of the episode\n",
        "        logs.history['pi_loss'].extend([pi_loss])\n",
        "        logs.history['ereward'].extend([epis_reward])\n",
        "        logs.history['e-steps'].extend([epis_steps])\n",
        "        logs.history['vreward'].extend([eval_reward])\n",
        "\n",
        "        # Reset episode tracking variables\n",
        "        loss_sum = 0.0\n",
        "        epis_reward = 0.0\n",
        "        epis_steps = 0\n",
        "        num_episodes += 1\n",
        "\n",
        "    else: pass\n",
        "\n",
        "    pbar.set_postfix({'episode':num_episodes, 'loss':step_pi_loss, 'reward':eval_reward, 'steps':epis_steps})\n",
        "\n",
        "    # Coditions to stop simulation if the goal score is reached\n",
        "    if eval_reward > goal_score:\n",
        "        eval_reward = evaluate_policy(env, agent, val_episodes) # Evaluate policy multiple times\n",
        "    if eval_reward > goal_score: break\n",
        "    # Stop simulation if the maximum number of episodes is reached\n",
        "    if num_episodes > max_episodes: break\n",
        "\n",
        "print('episodes:{0:5d}, loss:{1:7.5f}, val_reward {2:4.2f}'.format(num_episodes, pi_loss, eval_reward))\n",
        "print('total steps:', sim_steps+1)\n"
      ]
    },
    {
      "cell_type": "markdown",
      "metadata": {
        "id": "ODvNiojaaCYN"
      },
      "source": [
        "### Plot Training Histories"
      ]
    },
    {
      "cell_type": "code",
      "execution_count": 26,
      "metadata": {
        "id": "dAAkx5CmaCYO",
        "colab": {
          "base_uri": "https://localhost:8080/",
          "height": 388
        },
        "outputId": "c4ccba01-7287-4d5f-8673-e683ac9f0b3c"
      },
      "outputs": [
        {
          "output_type": "display_data",
          "data": {
            "text/plain": [
              "<Figure size 1000x400 with 2 Axes>"
            ],
            "image/png": "[encoded data removed]"
          },
          "metadata": {}
        }
      ],
      "source": [
        "# Plot loss and accuracy\n",
        "def plot_graphs(log_history, log_labels, graph_labels, graph_colors=['b-','g-']):\n",
        "    num_graphs = len(log_labels)\n",
        "    plt.figure(figsize=(5*num_graphs,4))\n",
        "    for i in range(num_graphs):\n",
        "        plt.subplot(1,num_graphs,i+1)\n",
        "        plt.plot(log_history[log_labels[i]], graph_colors[i], label=graph_labels[i])\n",
        "        plt.xlabel('episodes')\n",
        "        plt.legend()\n",
        "    plt.show()\n",
        "    return\n",
        "\n",
        "# Define the labels\n",
        "log_labels    = ['pi_loss', 'vreward']\n",
        "label_strings = ['loss', 'reward']\n",
        "label_colors  = ['b-', 'g-']\n",
        "plot_graphs(logs.history, log_labels, label_strings, label_colors)"
      ]
    },
    {
      "cell_type": "markdown",
      "metadata": {
        "id": "GPNmWV56aCYO"
      },
      "source": [
        "### Evaluate the Agent\n",
        "\n",
        "Since a single evaluation try often takes some time, evaluate the agent here to show the progress bar"
      ]
    },
    {
      "cell_type": "code",
      "execution_count": 27,
      "metadata": {
        "id": "AZ6oGSloaCYO",
        "colab": {
          "base_uri": "https://localhost:8080/",
          "height": 67,
          "referenced_widgets": [
            "eb6b2918de23499ea7740c530df0eabe",
            "2823908d43be468c9e5844a614b4b886",
            "c08180b3189241f58cc142f20795644e",
            "532d7395d6eb4912a7f6b016aa2ee592",
            "3a1f6f95f6594b47b79e4facbadc8d26",
            "0a8af84bb5094147907673764c7e4087",
            "69d7b796e2c942da9d98d905aa92c409",
            "99eb5300beb74f7c8fae2a5a5f8eaa8e",
            "dc961f883d514c2baef91f17dcae5420",
            "39de9de5abd548588ca81fe3d0d524c1",
            "c9b1c0813f694e76b93d10856808627c"
          ]
        },
        "outputId": "ff75e6d6-b77b-4828-e78f-780f1567960b"
      },
      "outputs": [
        {
          "output_type": "display_data",
          "data": {
            "text/plain": [
              "  0%|          | 0/20 [00:00<?, ?it/s]"
            ],
            "application/vnd.jupyter.widget-view+json": {
              "version_major": 2,
              "version_minor": 0,
              "model_id": "eb6b2918de23499ea7740c530df0eabe"
            }
          },
          "metadata": {}
        },
        {
          "output_type": "stream",
          "name": "stdout",
          "text": [
            "Evaluation Result: 146.06925780077114\n"
          ]
        }
      ],
      "source": [
        "evaluate_episodes = 20 # Set the number of episodes for evaluation\n",
        "sum_episode_rewards = 0.0 # Initialize the sum of episode rewards\n",
        "pbar = tqdm(range(evaluate_episodes))\n",
        "\n",
        "for i in pbar:\n",
        "    # Evaluate the policy for each episode\n",
        "    sum_episode_rewards += evaluate_policy(env, agent, 1)\n",
        "\n",
        "env.close()\n",
        "\n",
        "print('Evaluation Result:',  sum_episode_rewards/evaluate_episodes)"
      ]
    },
    {
      "cell_type": "markdown",
      "metadata": {
        "id": "_FjJ8tGnaCYO"
      },
      "source": [
        "## Show How The Agent Works"
      ]
    },
    {
      "cell_type": "code",
      "execution_count": 30,
      "metadata": {
        "id": "cKwoUG75aCYO",
        "colab": {
          "base_uri": "https://localhost:8080/"
        },
        "outputId": "dcedf946-e566-4c6a-d8aa-c23cb34777a1"
      },
      "outputs": [
        {
          "output_type": "stream",
          "name": "stderr",
          "text": [
            "/usr/local/lib/python3.10/dist-packages/gymnasium/wrappers/rendering.py:283: UserWarning: \u001b[33mWARN: Overwriting existing videos at /content/gym-results folder (try specifying a different `video_folder` for the `RecordVideo` wrapper if this is not desired)\u001b[0m\n",
            "  logger.warn(\n"
          ]
        },
        {
          "output_type": "stream",
          "name": "stdout",
          "text": [
            "Sample Total Reward: 207.9398907515973\n"
          ]
        }
      ],
      "source": [
        "env = create_env() # Create the environment\n",
        "# Wrap the environment to record videos\n",
        "env = wrappers.RecordVideo(env, video_folder='./gym-results/', name_prefix=res_prefix)\n",
        "# Evaluate the agent's policy\n",
        "eval_reward = evaluate_policy(env, agent, 1)\n",
        "\n",
        "print('Sample Total Reward:', eval_reward)\n",
        "\n",
        "env.close()"
      ]
    },
    {
      "cell_type": "code",
      "execution_count": 31,
      "metadata": {
        "id": "Gk6Q0An4aCYO",
        "colab": {
          "base_uri": "https://localhost:8080/",
          "height": 234
        },
        "outputId": "12ef04f5-7f08-4432-aa2d-6fb60bfaea09"
      },
      "outputs": [
        {
          "output_type": "execute_result",
          "data": {
            "text/plain": [
              "<IPython.core.display.HTML object>"
            ],
            "text/html": [
              "<video width=320 controls><source src=\"data:video/mp4;base64,AAAAIGZ0eXBpc29tAAACAGlzb21pc28yYXZjMW1wNDEAAAAIZnJlZQABUgFtZGF0AAACrgYF//+q3EXpvebZSLeWLNgg2SPu73gyNjQgLSBjb3JlIDE1OSByMjk5MSAxNzcxYjU1IC0gSC4yNjQvTVBFRy00IEFWQyBjb2RlYyAtIENvcHlsZWZ0IDIwMDMtMjAxOSAtIGh0dHA6Ly93d3cudmlkZW9sYW4ub3JnL3gyNjQuaHRtbCAtIG9wdGlvbnM6IGNhYmFjPTEgcmVmPTMgZGVibG9jaz0xOjA6MCBhbmFseXNlPTB4MzoweDExMyBtZT1oZXggc3VibWU9NyBwc3k9MSBwc3lfcmQ9MS4wMDowLjAwIG1peGVkX3JlZj0xIG1lX3JhbmdlPTE2IGNocm9tYV9tZT0xIHRyZWxsaXM9MSA4eDhkY3Q9MSBjcW09MCBkZWFkem9uZT0yMSwxMSBmYXN0X3Bza2lwPTEgY2hyb21hX3FwX29mZnNldD0tMiB0aHJlYWRzPTMgbG9va2FoZWFkX3RocmVhZHM9MSBzbGljZWRfdGhyZWFkcz0wIG5yPTAgZGVjaW1hdGU9MSBpbnRlcmxhY2VkPTAgYmx1cmF5X2NvbXBhdD0wIGNvbnN0cmFpbmVkX2ludHJhPTAgYmZyYW1lcz0zIGJfcHlyYW1pZD0yIGJfYWRhcHQ9MSBiX2JpYXM9MCBkaXJlY3Q9MSB3ZWlnaHRiPTEgb3Blbl9nb3A9MCB3ZWlnaHRwPTIga2V5aW50PTI1MCBrZXlpbnRfbWluPTI1IHNjZW5lY3V0PTQwIGludHJhX3JlZnJlc2g9MCByY19sb29rYWhlYWQ9NDAgcmM9Y3JmIG1idHJlZT0xIGNyZj0yMy4wIHFjb21wPTAuNjAgcXBtaW49MCBxcG1heD02OSBxcHN0ZXA9NCBpcF9yYXRpbz0xLjQwIGFxPTE6MS4wMACAAAAGpGWIhAAz//727L4FNhTIUJcRLMXaSnA+KqSAgHc02r/D0FasAJbCjzEaRjeD6/h6sTLkIZodSf4cvAwtWwjH3MCVnRxgT8mQljOxYs33uVJcTKaLqfCpWqDpVfUc674d/EoUQpgQmGvamy009lPHfoPdSGgG7DeG9gbv/kPeUT3faPSZ049OkdgD08EuUh/Du/BPILCFePG9MvPSqy19hoP1Azmkt8XC+ygLC8Pf4rccqmGmVP4EvHMvkE1jPhBL8/gig8MDFs0BDTXFEP0JdGD9RLwJn7ljeBmyELW4AAADAAAHCUf1xtvb0SPWn/jZ5Hl7TxiQUVPwaQW7hXhOTlxBH9JP5tXUfIQAccG6AACOgdQNjZeEwh4XgX0bgh47BrDcGoQIswLk/gYQXzXkKJiQHyNXuk1EZnoFAXDjAaj+MeM4HlV9HJlmjtnwF/t8vpxCdgt6lYHLWMojTXwF0h9lTmPBwEfJaFraNDqKKQMcb25e/diqD0vflmCtUGOykg2b6BHdowqamC1ABZt370jK1uSzpzXkTOm8sdZHGxkkF3B9A4HPsB76FQL4V7UdKk6wzph2KaQJVnC0raZvYbND/miqMinPNJ1dsiwXKQexRZNMxr4VPZullCFvelsGgvo6v0ccdSsO2o6EYvT7BMjzaXhKMA1EHLPEHaKt9aTMGzgM0CVhrEBei39yiNLAHpjs1ST8UefKJzCi2ULoYS6zcXvAfVvNhjO21mKW/cPmH1vVlQs7a36L4LYdFI9bFv+XoMhIoJTT+IQuu3y0N+dODhjkqPerZ7kRhfxpQCn+AVaJ+Mo4d3kmSEy6gy4qlfC37UBHsV8lSYAGccmeqfNTzG3f5ARDBiSidENLn4bJhZmKCo04Kt6MWUkmVCr/zXiY7YSyQhlD/mMiZaFmslBdtsYH2Dxcx0fxXZ+zmWWTv1jw01wgyuc7PuXdS3hbcuOjTVslXPD2EK+FVE47rubj6GYj7RY9zHNcihqQxJp9tvzDs0py4l2ANzqlTyYcgwnnWz5YsqqwVbo6eTOhD5wVm+x4n3+O1DbzyQb6T73OlZFvIe4+Dt2tB4e57bgkysc6QWVN8Md1VI4morCV5B1ycxGh/GPnFcf2Yovowta64xmbUJBqQ19razr+YWu8smKRpyd6q0j6DOb+6DlLt69osYA6pRUnS6hWoYeJjExe++VYFxCaJH+10HylAjW0vu4liazyxKQAcQM63bdytKfAIMjcVfAkCoLEAWEJMgTGBRs7j7/M3X9uY0jKZnL+zart4+PVfe0YRC6gzEeB8YclU3ZFCfG3yBn5FyAGY7UZSW9cUfxBqrD25ntXrdkZ75zGsQA0PTEGZMT7sTL1qT5txrH4ovp7i17cEQoBdRmK5troagxtvPyRSNWuT3D9l46kXYO7GII86lP3zmELpWP9wRPi//ZP0tt0vNrc36rfe5lcaz8DbYFCe3d9zSh+cY6eusyFLQ860PtygXMWyvFZC6HnyQeZTTFNOdnHCpkk1oxvs9Czg8vhRn1ycCqR3RNKV9E6AIdwadNHYAVzKYQ0HvjueD6vo3F2Xc4+wAFR9rMtljKp1C1luNjU4t68a/CUKViEm7BwKgsHEq6j1DECD0nUnQ2wANmROU5MEbHAgO8a1mqqeM/VKXKAr2YsyFWzFTixR21Wo3E1FJlfdfP/B8pJLiAejVNCW7Glg8HV8O/rftH9isFez0q5IliOAg2bhBwE/6DOJ3wAsMYsdw279nJXfuqDQTBAmOohgAZQ4oF8d11O99oseNUHj487KdNX9bZfTms+kRgL5qGz8LsPqsNePxRozdvxKet7NhoU89gjbik0xpuZOd95wwpNDzIpDofWg7McVXHiOtsPhA+4Y0vkf2Cr7/r5JlxCenZbqkRmyAu6KIBGuB3vAZVpBpesibgAAJbZmk/gtFZVdi4u51aKG92UrNrrJ/ewmlvW5zXbhHlR3lpxbvNCPBNzz5VUex/Pdr+IYExaY23n/oqwwG9m/NASGhOOUEth8E2kKKzCTnja2Sf3Es2pG3xkX7Tbi370Q4KB4We4YAAABMzpLwJdSPzl2VDYb6joY5U4wuTDfdsMylZhkj3f5clLom+x7tw1fN4pXn9W0gvKXMLuuCReaXGiVQ8N+UOauVxVCTetzhBSnzgYYs6MHzzdgwT/Q80cuaB1lzCGr7AVQGe0+v2PtoYMhHgeFaZGGWSdQ4SuoovwbihlXQ2g7tFskNDtjQIgQoAEi+sg1uCIEgUrACghAAAB9EGaJGxDP/6eLbp/nnd941z9O62PKLQAP56NKlv/NmViXvlhous5hwjnBEZrEZKKeopV+ujgDUPJC6SI5gscfDQMZPpAzjLtHco96sv4vTBiZuwpvfPgefGi1bDtFUNvqnwt3Iyya3qnPqzep4oyyUFULtxdl2FrM7Xl/tzhCAAAJhdlmiVlSFuYwq4eV+6KxYvGJNpzrVYJ5sUrcwP4mXJ01xy6YtNY5cHkOq3FJ+LAtu9bEGd2cHE3ARLs6B+f2bUw5Vf7tVgKfJQtHZ71Zcq/BOXJ47vfdtUy8HH83M4nj9gnh4gGvEkIApss4CfYI6mv7kQfHVHn0qt9VlJRXCq/RUvurclTfqZqf6MH8O7xXQErQyhUByC4fcVe5fsUO5+5Z5UFom94yjkfMRQoFSYDKAlscXn9dgbD2LyQMthphdqy3y+ixZssx/PaDZRKg4DnWukdy/OanzBxA2G7hB/jiJUeQZad/EfcMC86IQFTl5nYtkn8/inma1QMweFtVM9Mu5Wa0fWR6hc9h5aMXtuoIrvPGbLQg+LYmvhDpw0KsqZhVk0unpiL4AAc/+NzmiIQQA0vglMiXFydGmOOk5tY2wpxOTIfDYW8fvUfY5A0kGB40nkqV+yvrHoMCA3AolUddN7XlPazEW9rDUzZ2uebE5ZAAAAAk0GeQniEfw92CeaMkqIc4AJTk0dvAwOMJEcm+4pJYAnJNS5kltZrulFK+nGLPmb2o03K6xetWw0fAF5FJ9moMK/08WYx3PoFV/K8QL+5+S2SgswbgQ978gbtGEkLrabPZMegwFMuCzKCYt/cElycfVy5n1D+aGtOJ3SKTTe4t5/oq3PPyFMPs92RaBFPONoHCpVMwQAAAG8BnmF0R/8UpPe179R9eAB9uhvstSdYPhu678Brj41Lj7YzXrdvpvtpuBEVB/a0Bdt3LHvPfdyKgdBLRryyUHO4aSs/TlYkFZd4rTgWRAb3GugJ58RHDRA8qsRv3D24HtZ4rV2nZibrQZw8jqRCzegAAAB8AZ5jakf/FP0iQ+Tip+SLQ6/5MxsTISneaees44MCrXnOGn/hP4EJgAGso5ShhGF7O7yG6uFe0953N2/VXxXhiw3/5o6321jmhxXxWrnAX4kYG5X4NZhJWPMmAxh7SmXjy9EtmN7wrJbYPI586bRMk/LRlVdZ6uHcSXxUwQAAAU9BmmhJqEFomUwIZ//+niIhLhMGQw8YAQhHCPb0lGg5QCsGGOx0Uq24Rnb7NzvnnA9zgGhxd+J9h1kJj0IJ2FY8u9pkoJB76GPjkgrDLvgkk9TGmVxIIYABMRORZum3QYfOe8DRdJ//aXccLJ8QoXyo01hd2Ul1f6v4OqxWcs/YHrfe+7WqOYvNwb0ORCMgNJDmqhgtfAqWXpUTcGrfZEWt9TWFCZVKfUk62YBBqBpCln3Wt5rCy/cyY80OJrSmQ56lKA4g6vwKRM1yfx5tXsRtHU09j9mnjx5GnVTS1nKfiBEGTIJ7N3uOQNItc3/YKB2SSZu5eYT1ZXyRsUomtOVt6FyIiUlTvqJf3f8aRElJ9quZjurioEPRfP4fQXqIgHu9BnjeyjeSSnG8INqUaFYqRGrhoXvdGS0nqqIjWkE29VpUAaczCD8VlKu+tkxKgQAAAJ1BnoZFESwj/w24iJGGlpuAHr5aLnon9pHTX8TBdSdY5VJ3V1IruhrNeAEp91YAkV0cdYwHE6eEaUAtkYV7W/rcdj8H0nUA4VodPQWxTy1jAzQ81Cg+C8TtWRYbGDPrS2J//Frzm5W12NqTcF0osPO79Hq/a6RYkB95fYuQVFDYjbeC3rC4aUnRKQJd40MVW814ANXLRwsdoBQiryeBAAAAnQGepXRH/xMWlZXa8ABWSLutRqpWfXCgHXXjtEjep9BuB7qAmo7fWR1bx2X3o9Sez5GX/Tmv4BGvqpk3vZNTFPKiv//rQQ2CUC91W97U22twC3kczpz/l7XO7ULzb8hIABGiMmj6xgJuBpflvz90PD04ZUC7qPRANwD3AogwquHB3VkZmVJrlfpcMYHPdV8eRZQmI/Eik2TQpMeMY4EAAACmAZ6nakf/EwOqmOSAFlYz1n+GQ/Jo35SeS1sSWAl+O0j8a+uhcpkfa37jOkQP1JyVpdQiZ+KBPcvfmFoHnW4GaCKL2leaOJkGA8Ui5C7cQgqvyd82Q3ZdtwrlfLIzcn+JLUizPdW1IcUaQ/2GKDQ6ubjUMsH/kCRKWCqvqVqaFbdBdD3DmyFgbl8PueYaqmtEXo5FYjLDBwavkdjyMbVXhpRVQg2JpgAAAQdBmqxJqEFsmUwIZ//+niNfo4BrrkdABR1CzGoNZC7PtraetiltpdmTDuHt5Rr3/6KdYXoayaRVLbWBBHZakDcYX9dmHR53vhN/B1+GJsYCpJItgKsWl/WH6e2fFQPs+OWq8GZhuuB7BNN/MNzY/lIqwq2qb1P8+wvvYk4z/YANTsKghIy1h0XDJWEwEcv7jxVbJ+ErspnYF85UcEvmzXrRaWS58q/MN6f0qYJLHZ1o7NldPHCioNJXPIujI6MWcMb3F5+PjhjmWEfQyGnp8PALcnac5hdA/epw3ZMHw/aVHhYrHkZJZu0oB0EcAtcZnT7+TtJ3W0TPrPtRMHMjxZiTqvPRknSbUgAAAK9BnspFFSwj/w3mRCHjyO0q2GolzooXQAa8xdQAVDYpk9kcAP0s3ba1EKqf3T1sLU9sf/9X6+8jcheYQt35smhf+ww13uVFHpsP0JzJANzQDX9PGMDXebweHY4djFRwIF2bNb/2t60TT/sRLSmMDqCu7xuJoTuShwzfKa+xGPov8mCLOT9Gxn6ER4O3yRyL3Amrrlj8IsRbkdze+vSBbRLKtzngyPkUtk2LK+XtJOfHAAAAhAGe6XRH/xMWlZWijVTW/PnDU98AS6KCT+wHU1AR+dVJ3Udgp6AFKsSlqI3NtWPp9gmUc5NwUmBU/eF2/XuMB8T0FuIM0L6eHkSX92l43Jjud5NILt5jf+U1vybGucqMVO8FgTgkXTOKExiqDoQINa782Rwot1qcmap3I7NueSlWERlgQAAAAKQBnutqR/8SxMi6ooACtEbqRfIAqlALQoia3rhHFUaqEWhHkXw8RBXIOct2Rg4k8DBmES1Zi0XPS43++zi50fGgP27Z9vzlX21UMPj+d4ntQhwNWRHB1ZH29tZ5xtBmoT+LWoZ0DybzxoBAVeZSK1k8j31hyoJSvrA717prIRnpr8enIdCsxKGa47pbEHFzy9sLcqY7shQ9Mu2G6fBcLz+4a7jjDAAAARtBmvBJqEFsmUwIX//+jL3kW+ichACMC+y/yui3vNBmwtlATQct1VYDX7md41/XetizEdJQeuPBuE3boP+IqWKloypRrQZdXkwqD8AJTJ6CWMTdTjQAAAMC1HxwICJkSH4juIiBFvrU4DV52mjPrOEWZz/qBJdkDgMnGGSOmM3QPc2vB++7apnRwCtznJQH+9MFDo+2eFBFwGyRkQqSyzko8tw+wIMC/KJzfieFeZTAeT94+ieyEl+hA/d28710ITBze4+IemOnTNdxcSLLPdfUBdIY89aJCq3SgJ6rhEk7ns8982uEj3dehn4FIdqF9H/HtUAhy9skL4BUMXfCNTKlKHfbP8uxcifp3PO9ur+fsXPftXbhqa86Rn0fAAAAikGfDkUVLCP/DgEeZk9GkAJe0U7IduTh87weLwg5MPOnRo47UBtyQPNOEOJ+T79q+z3JLHNijYMKEuYTtFFqsmtHLuNfqgzyAKOJnDwflo7/MlVVdqNnGTnyB30ODEMu/o3JEEXHR3xUTCSmqGQwyC8ncjuCRE/gvjEYcN4bfaSbfyN3s6k3xOxSYQAAAKgBny10R/8TMvhaHiW8kE1PhCKAASl+AOZwwtC0hcVHPW6Cn+fNAKCdkepE9T0gqZC7RQfMKvqRFwolv7Qi1P7s3IDPTiPHDQ+LC4kypF22qLBWwemt3CwoiWKFhI0+RfVP7qoC46hIFDdmpx5F7YzvH5tkneOR0/MKM3BlF7lQs9XMvphOeKP4w872HtRrLq7i/adZk+3LLaFdJ+UXNnYnWptZdb4+nYEAAABvAZ8vakf/EzfAuRcupwMuYwpPpRNMHLMH08ieGW907hUcS8eiQAuanfeGjeE2Sk1s+kXALeXlw/87QFMTj82A5z6iCNGbOLtPUkizVJ4Jf+lPb6opTZh/GPy+3tMyWlszQH1SGraod0kdSVCJICTgAAAA3kGbM0moQWyZTAhn//6eI00/0BzXGp0qAEjbnYOAp8arJBMi/XXWcNR8hRomR3InDLj4VM0AAAMAkOpQdPAoRmTmvEQSjbvyJko9RKL73bVNIyc3PXqGDJJukbJ5SPhb9U/xU38Y5nj4Y/0DvjHOgFLE+ZyPUsv5ezwQe4ezuUKiLVHIQVxHk+TWqx8KSShckSKcF5MYTdDlzNHBWWU7lL0wRRUxIP61kbL1BOH/cQcA+Q3e/eIv8NBNWzvVzHIQs9H1TPvgrKWESAU4SqaLFNb4VlVEoVM02iHeCABBwAAAAIRBn1FFFSwj/w3wwlmDnZq79zfxoAS1UzGNs+Vzc7zi2FYOj5LhxkVeyBiLoddtJxQMdmzFNafpszQCU+6WxJgwS+OCPVt2YSfBQbmbNU0Bgdr+qiWWR+8hPENrICjZnCMSlKTsv1Zww4wexOWtWGsFt1J5TABCTsZRzLM18MXEKEzN0HEAAACZAZ9yakf/EZ1xyEp4jWLmvHtSClwQAeWJ4odF8IXOf74qo92t7cg2Vzx2qQSRdYFNOgKFXDCvhGIYIvcPLDXH6YqvriF3nprrd9S3Nh/SK4afMnfazQiNjWlK6XsfH9zfDHY4/2B+Frd4tuY7mAY1mdj9F3M6wVLlrCUTT4h9TVRlkZ7rYKAJp08gWh+qZOr98FEPLRPx1DUgAAABRUGbd0moQWyZTAhn//6eG+Kl9ffbuwWMlcAJWcH1qeKVbhGwAAADAdpHjoNGbsqWjv37qxSl2vocazlaiYAAAEiYfTyGZIyQuHmXkvCbKa+H2/0h8lecMNdhdHEf7JNGyUDuSU7Y0Iy1XvdtU0CfWB44FxqzTj5HhQo84mR+c3RP8hhlB21so6pTIKgqmnHO7RFkFPyoLusAs+FI3N31OqCD6CvgsJLSLpUIcwoNnQ+g6nqkDXafhl8rhrID5Xjgn98tdWQauiaKK7c4Icae/d+J0rrsqRPF4bpHvUFr07DGxEWc9gtJTPvEMSS9Dr0A8XBwLg0elcHeBQOEMJE20GPHm8pyN9+h93lAo7BoHj0lCUMNpEjBqCfYfc6lZ2ougomMSolsMQqq6m0RVd0LscQDr3FKBqnLQs+AXWoSkeqPGx/ABswAAACRQZ+VRRUsI/8MdGVVjX27WWMGs8KzfmTrlB3dyrD4LFD7NdXZDqAEmXf2pTTV1BgARECmcFLuRKpPkpAfKMcxY2DChLjttFFyMC8FUZaUbDQhjUZxsBPdvwHhWZBNV96Nc+83vdyU/bXEX1gmexNyD8NqXJBdQAG0Fnf2EiDQfzmWhQfrGwJV88OhJfwsc02DgQAAAHwBn7R0R/8RXCKpR1TOFuC1hYSFcoI4LqVdhej/C0AF04NFKL8+P4O+QQbnrqQb0N/kKyK4P4C3tAADhZ3hD0we2X1yahRi6lLDuosRHpVW2SVu8o1KHnLIbnCi3klOFY3nnMI7SZEexb2UWeE6vwRL4Unkg+W0hS9TFAeMAAAAkQGftmpH/xFyyYPzQ1Cv9J0bpS83lAC3iYHYrCon3OhOuFUyjqPX0t+oyd0sbfkfU3S3CRC1gStWF0AYoVGMW0+oZZmI2Vkf/Yx440Or1A+CcbZ0vICmEscRKsENnnkLwiJdDeJdeOCrIfpUe5eSHR+vqcsGreos14v2ok2tHeae4ctfzT3wGOCd296UbChpR/kAAADHQZu7SahBbJlMCGf//p4dUJ/VMeqs0dAvCDG17hTNQqXnRAARkCoM9Ky7DjsRcYXuvkmXTSMkYR1MNvVG1BAn/tWnOV2Yhc0PnWGF8dLpBc26AC0GAvT+Kn4BLM6Hf+GjCZiy/4Iapn19iF+N4renjDzhuHBA5pv+axOWSjh4rucP4s9cSUO+K2ISKdK8k1M6aH+EcAMobhmu79DNV6S6pKtijMfgu8196fKVzCLQIWlXLcqpUR0cTajjh8BBSxr31QerUbD5gQAAAJhBn9lFFSwj/wyVw+KVBxjT+OAsCmdt36F3NjZFG81eIzMmOtzLDFPGFX6EqjQCLZEwpVlUUEmD3qmz042cvOUG6Ic4lmGkh7BoBlY/rJqALjGYcNHd9juI+KLNugC8OdudSoiIxZdS7JsgovqZytqe38kzJqnMbdh+ZQjlxMY608JinN+dFzNGhA7McrFz5IsDzzs4YSfmwAAAAG4Bn/h0R/8Rm6XqPOqrGyVGZ0iuJ2Dbx/VoHWNHRa9X8ptSPPCqlfhDgAinr0EIu62MjYMcQkgie+sN53Tem1ca1tXCk+WUGFHEDkRegbLDhj1+ZmvhqTvbaiqq/s4Uq2nt8w6q6sDBoyB3gLcFfQAAAHQBn/pqR/8RiNOM1DqckeCRrIrhznVfu1HQg4IATRuNPAWUIj0+Ga1anfpqz19tByWFLVmaqUaGMPpJMIrxLZ/8ZpesOVfAUUr/dA6OZVckfo3A1mWtqL8OSO73Urd34TjLFUPbcPkG5Lrf401UQh8RbNxIeAAAANRBm/9JqEFsmUwIZ//+nhAIFDiQghAx0p6ggBtwpzIzuV7YC4ZOTNVRGdeTh4+Ue9SvHlBMw80l3gBLIGNd2vwa/51ROdo8IPlw/ih4WmPHoUYsXX35dJeqnCkaFXPjfHXQWBQa3W4pevYc+/aKJ4ZtVjpL6ZUlQ2um2hCRtLTD+VhPxPHNiiDah5OUsW4QuzK7ll4r+WrYLpdGXjN3BFJpUeGBp8Frg3OFHYaMFbyRz9jJ5aTckTOfsnDOiyCi4thpkepGC0O5t846be83v1Z9aCA6YQAAALlBnh1FFSwj/wI605MeBKQhxWnnxmONeXVHuAN8CcQtvoVbMrcYz/yFYaVdKGWZNxstHYdX2s/QK/gyFEIJEepf77ndHV6ZFMpZEnPmZKqYH4+pdzpW6tsyQ7yaSBHxBwO2+Fn0O//o2701LEQ+6qmA/EDoD+SrlSmvkkKr/cMI/bWY7IkugBKpsYU0RjAGo4qbsnXM6+VLCWlh1cTsElcsihGf0CQSoCJwe6/cdU87RbJorrpbg/ELowAAAIIBnjx0R/8DhjHYQ+TgBS1RIFmqrwpNuw+D7p6kigA3XZ+dHBdQjddylUOmKQBa7LWKqer/rDMnuwR/xYwU1poLr90StNHMj38N2lV1C7a5avReJpFb4MDxbRoyRDPwTcNU0kBdjl8gXWO088m1HDyTbnelA21Ap9xPDee9WPkjQ/Q8AAAAiwGePmpH/wOG2G2QAcDPz2LqkfNPuUJkOf4e41DxjrUkxn0lShKjh2+ziAj4ugibPVuRWWIsLWhdzTY1we1MFslLt7DmKWUNCJWCvhyxCrKZ4KBdAxccfGqr39JizkNOMGc5jxpMvUgjNEZaP322cg+TbMOiDj1WdAVXh/dACFbxGznrOiaogrPUOWAAAAEQQZojSahBbJlMCGf//p4QCC6bzrgKOmnAATl1+REABbf6AF61qCtBOQ+tpQkhQZnjYhtNl9sA78dhQByEU6n/eyTlGKl9CJgjwJj8+HrgoN60jI7epjSE0iiET0Vd8hjUxT9/9v9Qzwh+SVIftnyrLLC8Jld6qZScD6RNckT2adg1PQrU6J/HkrWBm6Cc3n0spd9O1gbStorqeQJ/xrTeY2LKlLbZg9KSWKgSeiPMKCsZCdoza7z4sP/OfUeuxH8RxCx4JMFLzes92xH8K0hyNT31Kq06FMfMSCN55ItLhqGGeJJgFI1Ngzz2TCcL/YovZzxaaByC3d5hBkzZSVgzLfpMAsMnihI59EmgTvB4IuEAAACXQZ5BRRUsI/8COwC2CDHRjWvfDtB0S5+CupFltENltK6PDjMoetlOoGZQAksDh8RkuB0vCKPz7pZRjPnjvJRvwly9bTvKOyFgc4TZRDuVKPB/z0JTX1yNtlHhQeQOTy9KI3As2zX7QYQhkoyr9ZG6JIIH21o2Oh1K9M35m8tMgQOzcCFEC18leN3mef5ZQXTgMtAVFrD/oAAAAHwBnmB0R/8DhXRG8wfSiUL+XtpmOSEW5k57BIIACWy5D3dBYWI61hIfA7HERNWfwBrK+T3eDJcYpTHGcFohZirZ9AxeMPe2NoWNrbBLyREJhGYkgRZSM1nBl/LCFJMWwWS7x5MPx66iupornSWCJ8IiwBjDl7qKJtjweQRdAAAAfQGeYmpH/wNx1PaJkPKQK+UaPSJZ5sNfplQAE0YYPXBKCJxa9XE0bQ/0MoHeLJNT7QfLxZ5RTz3JEWJcIUg/w3eMo9j+U4GSFU+v5hXQsfGnNRmmK4HNUYpxFHfiUw4gsMt9GA8enzB3snf/fCGFf9OJog0tNUN0vsTXGEvAAAAA+kGaZ0moQWyZTAhn//6eEAfH8308DEuwU9VZqGpc/xoFe9D49P/5BgwkVpTsodkxIGG344TT6OrFMc1CUHOxih2I8NSAREVZFix1maA01UjQK1ds0GfOLTtfG+tA/PWEf/DQZPKtYrk/7E3isZNAEaZ8aGAGMiIKfRLNx3ucly9VunWRFWoKKMRabEDsj7y+1+dugtWkAa+F2MzQeCI7hX5cdY2WjCLyjxm8gvgYCc7od1yH/6bQY1e6OhG3+2N2okNM21zGJcsb06FKXGNQvVqMPmsf5bTBekepcouOaSu0U5Ii7fWe+N9M475RyW6CI2cV/lNTtsN5AdMAAACYQZ6FRRUsI/8CLEYQea14a9NXnHGIhkmj54mYAFjS0L8gM4M6DAOqRGRWFZL2ikumRSHdLOEzsdR1ST4xHsf8wC9zWkcWQnAKkGs41aqDFn2ycKfCOMT86wuzP8opvUUE1BaDyrffAUTu0kbaivwEvfPGaCbWcOYn3ETjsXquc4V/MdFRq9IXBOQ7ApX8w25YivLwjGFu2IEAAACNAZ6kdEf/A3EyFjpwM3rfFbnS80SmOv1aVZsWxVgAeNcr7DTGhIxd5hpnA7mzEaZzwbmMimXd76PugaBZvVY/AJ6v3QLPu4xinBCNgN4+RZoHUcVGHzMgWFp73eYvN1ROB7go0VJQdIOhMAtHqQzkzgN1k5nKZWygGkGsdrxhFaEhQH1FXe5mHUWIMIGVAAAAuAGepmpH/wNv23HCVhwrbHu+yuduD2f8XbzsFACWWlY3/j6iwcfb8pKNOMZIt3H1JVbtn2TwrP+7rBBvsktiG13ismxLleaI7lwNBAlEaLhpGvM4ARrRuY0+l+h8gUV6Upoe1WkIzDa8SiijH3QIO/fYDabM/iN7fflpucfyYGAgkHDs9YA6XevelHiypYZ5EIwinf0sBpQv0j8W+ieZRRzDWi7XYCiHAE+by6+ux/akhdAXCnnCBn0AAADcQZqrSahBbJlMCGf//p4QAothR58atutDr9bw0ok3Rp53ABEAHxzF2QRuC1FoxxU9sWq6yKzZIzmAFXvBh0sLD+eBsVeocrrd77GtFkplLrg8nkGZrgXpeJ1eNQQ8aSnEmPrxnHndW5KHj2fm/wZ3zw4an/cBi0njwbpi7gnsivfmnGcuXlnnVQbBVKq2GgBy1Eoyyj9pyzWvZJEnWfpLIe40D7b8ofgHocP18EX3gp3sHbr7r/AVIp7flvH3zV3zStfD4Y5ZtYlHvTRmm01ws8kOeCtCRE1maDYfMAAAAIhBnslFFSwj/wDdbzpoMr54TZbuhjqlNxOypIvglgADg/uGduZ6KalgkYv3QrEeGEOy0sxqIgjkBwQUcIrkIfAY/cob6DUQVP4eUxzRNnH9wJDNs6fPE6wkPNYsxN5YBVyLoq7GMD/fTo0FBL48SLlB9Eud/IIYfTQvzoeZlvQgn7577MYpCHBAAAAAswGe6HRH/wFiGXU4dg2jbTNbGytmzN/A4AFuqR9j0AJqfr7IGZwAqfO9W4gLJt9bos/zd4tL2aekn0LHtzf+nbb4i8/AtDmqWgKzmk1WFl+LRr93h0zJEE8rT5a0j98JQyO++yvQ/5RAMDhvmKYPYME35rxDDtCGnTMvwXxQHGHJRNbD0nLnfk8dZ2n/BwELJqKKUuUIx+KkQJnY5UfHuROCAZ2GvfEFKBcDQU8S5OeaICthAAAAjAGe6mpH/wFiz0g9jgHvvlAj6zXwOpuhEZom+62h02+hNmZmgAbroV5baxPgDdCsK89CMl4UZHStddQTYE2FNYVdyWIHKQadK6QnxuO37+yAH4RFcVQ6UjP2qkMCEzZ8pYpG+xqEbbSHeKn4mlh6KBRSQq4AzM2NniERwQLEvMO7RUVU/G7dhR2tiEHAAAAA+kGa70moQWyZTAhn//6eEAKLYUeMQUaBKGgBAw0LE1v14uvZ//ViX+2BYq2hQSIUeTZHW1XLZocManBvbyqWJ8izxhjznIKjZbu1vEGRHmAePgWMKIXkfU5Yc5R8MJR9boew8xGG1qt2KCGhxrrYH7OoJi23Gq1VHpu1zEdHpUkQxybWIciXiqTVNVgpyiiGQVzEJx3mwm0gkiE7kX29r+ZtGYsg/9wwPFu+1kcZuWh1YMu7U45emAXi5y7sSrLR/6FbnEEOgmkh78xSyHo5z60oRwO8d1xAJgtTqaAyUHpAmfYsTEBKPPRvkm26QqJtafbjSPMLoR/8XNwAAACuQZ8NRRUsI/8A3W87DME6leO+xNEbOyUxbqIASIi2CS+qH7H2oEwYXuOuHEeeGnM62sObSMfDOTzRPaO02SoMZ1UaT3PCfgrzWulSj1B7cX5ueag9D1aWBQbiKEmLZaXfia/PysaMhCt4crXZ/Z6n+Jouf+ZFninZT0zhgQ1SpUWoUO6HIknHqPt/U9IqQafaXIg0D/4QVaQQHLvIyPBmPnt4CJl8eCxCqSdGIu/dAAAAhgGfLHRH/wFiGVqk2VtzamIATK/EHt2PjkfNEFz0sKBtXeaStXY5bNXWvni7H3DfE9HvxPeztjRSAO9Lh8krpUzp/WJauo70f1BVr0V9nD5gCRXxPhrVXVfm4KrAUnwgSY9cApD5wUt4LD4ThcDOliZ4mYeEkSJGUzhLr1qVIrVBsqIKcFXBAAAAgAGfLmpH/wFiz0eP2IMii59F8V2+3KxOh/XK/hY6IALqK+j/CI3E0JsVKuKegBf0WiexZlZPu//rH8iUVFZlAaWMk4u3HE1hwuSClZU0LFFO72KR64EF8qxwSi7xjMjK2d/VnGd8lv5igtrz2LCQ9gA7XVbGi9PR0TDupfwqxA9JAAAA4UGbM0moQWyZTAhn//6eEAKPzLJY5IdzdF0L1uZ7ovEv8OXcva/r3gRlZ2pmchZw4XVSxM3J3xRtod4YEkzxFfmZXeM6NGimI5g3aZ+Lf3IEpxd6dng99UxVKM/2WQmzTPGp1J7Rwv8k5R+uDBNpuqKhxDyet1cO5mxp4s8fgBloUCmwjvI8S+dhsgQse+x0ALUAk7rTHqA2Kc+TSC5y+I72I4jIBYQiEGlSHGpXBrMb2HY+8YlH1kN+jTqJ9SxaIdVEaB99BpdNjJd9wfCPGfCp0y6cGT2gyC1EIXlOmCjFvwAAAKZBn1FFFSwj/wDdbzsMwKhLO7pM58U2Z4nBemCaBiuYn0ZHTdz9SQcAN10/PbY4rF0aVEqO1LXKhuHz+PsTtE9hg48JFPLbHTNJfHGu028m/f3OSkZMVMf6kIEHDv/6MkcSlh7pg1DL2vqFdKVyhHZ7HHmGD7dn1eh1a64iqxyRivihjqeAivHIKyNAkp5Cc5PfXbXQ2FFnUPyxP869Vx4ZyhjhRE7aAAAAlwGfcHRH/wFiGYV9wzmQVBxLRkA5QP48R8ST6c9zl1c45aAAB+H0HmAvuwPQo5V0Je5dWC0dmiv1xCc2x1/v+/RG9xGaCt94L27fF29JzSotlP8NnoX2Np6vFOFkCdcA9+FSGpYm18FL6YTwqs9Ua6zimfGFvffo13cfFFjt5K+fHC38r1MYgQ9/xadDk1RMpIgrmkjZg8cAAACIAZ9yakf/AWLPTEGRj9+2uRvLryAE0yKGwB6EnXif82kFyyiAYh/raQ/MH+pZXRbsUkT5JMF9ivwiQSgOT3Wgj2JmBiAjbpebc/iepV18AO0MVOTp5D/J6rF70VemzmFjyLw8lIV0wNq0gQMOTCqCbuoNjQ3krXeQ27g8zyu+bTqBD8nQt8gwIAAAANFBm3dJqEFsmUwIZ//+nhACfdN6PRM8WfngHJ6AGgl2yaf5pChkJhr5fTmGYFK5GKY719QaYc2PqLZfiMuQrbg4coUyJ0sGOyvgpYUd3y/+qS7sO6YZMT985S2sOM7gob+0c3C6I7a7mbHNphJkVUirlobpJIP0BeN8oCV+eHInYTaZz3ljEUvgUk326xlauQmPTVvAkBLlKDw8kahoFFJl8oQQFxIYGS+6trwgJ631/2dRRW27+qlWSouDC0zqtv1wIU+muH2T0YnkQX1VV35FDAAAAIxBn5VFFSwj/wDdbzXDhaNzJyG0/HLvoZm/TfweNiAAoqyK0OyAI0RaXIlkJ6y1ru2l+j2ed4tvOqRr5UDwLiTWYhHAKkGnaey3PquWbYZCj+ndhvZgyAypwA2ZZ7IfZIJYFmxIsfrrJcpnSGyKs6+ODfxfqWCL6gDEwuEWIe+DcWqKuoyw1gOggdt0gQAAAJIBn7R0R/8BYhlAj6X9VSQqxCqaExyM+uRVJD4u0OwipTm/wS0C4yS1Z/73GmcUABsP3xFfuw2KIDw7T3J8ZlJb1YKHMVBEAsfYZozLOlu5PQEzlGiJecH+F4w/mONDO0iyHokb3dR1VCa3ev9mpx7JJVywlE/asoxV32hGH05E96qARa5/cwwlTKa1rnWOxo5hHwAAAJgBn7ZqR/8BYs1tui/tX0l8F+SSR4G9K3crXJgACZqgybXBlUmLICN2NJqVa/UVdkoMMcqpJRHK5Nzx94Mm/LC9IhlbWF68hQjTylB6Usp/jWTa6EgJkB/iVmX25dUaMyxog/7dh5wYV/18t8H+m6Gsi8L5DmcJh5nr5akPBLYBer6ShQ0wyMc0qh7V4nNBzUzp5Df73EBrQQAAAPVBm7tJqEFsmUwIZ//+nhAA8qmyqsRKqZJ31oJlH1w7nnYKtdCNLQgBZN/Fw3PRdGP7Eliq0GA7gFzcvK1mP1dFpECaFi7FkXNYUNqEqoQGKYw1oSdyYfdiQ4ZYB1U+nNrt+3aQ8xvVTK9u34TZ0wFLaGnJGCUlRtfvtMIWmyytKE5rpHM8DBD4P3ON5VnUib3gcNkK7EHKSDAfrid8D/5cZeaUbpZQWivxxmAxsgCzv00DMw9rnkwY+FmUjPwhCf62X1BsPZr3A1O0HLhh/H6+6k+ySbB0lg3HC/5jqwjEEMYea5K8QKv3E4k+9AULBzfx+maHzQAAAJFBn9lFFSwj/wDdbwHsF7Q2VFEloO7rZVxKmGUJUVdKn7nnEvU8ltGodMXkAIvZJ4GKHibzBFGtzQqpfaj6cIKKLxN23OZw0rR5NoWWUtYKvZVODqg5CnnTec+IP0shRnU/WUHwGTcRHhFZc/e3Mx16zAkn57prsBxe94ytgr2RPgL6DU4hnqU6EGO7Fc3Twk3AAAAAggGf+HRH/wFiFzK7ZohKfg0YAPLWzv9c62rZgQye3i7Xo8sSDxA500PKTk+Ox3kLRzeHQ8sW/PwXGbFUULaQROPdSTFUHLkreeIUjp2pVqyQl3ymMI7D1lG+SHlyAZFThY4zAm70nBFHeMY8NGhW9CwFBBTKdX6l7qZua3SLU+LgQsEAAAByAZ/6akf/AWLNbe5iorHdTwJV+wogPZSdYs4c9oASZbcnZvgeFAN0XgUPuZQgTf9ExlcLJZbj/TTIEz65AkP794948HicTA0B7rkXgzX/9NRHQbnFTlqKNdQFQltFBQX7QqA4qehY/wycI9bsSFXQMHjAAAAAwUGb/0moQWyZTAhn//6eEADz8Jz7+zdtqoiJWfH4d0MNlAlEMvv3q3F1iUYiyDWlyWVBG3J4HGisCRjHQPcB4vz6jU21+vnzCTAKn3tlnfU6bG5OGAkByWWmsBBe2588bgLUAyyIpLw6RoWwcFlFMXgczC8gYmvXitrcJrd+fFa9POeSEK/ic3GtV+szJjaeguBDstkfOYvU9Qes+bDsYrFGwlBx4J5y5H5DoEFfbo/3ciLpZdpJ58fVrlzNSN8AFnEAAACIQZ4dRRUsI/8A3W8B7Be0UDNZWDRFuGk4m0KK5jhgNHL1xJwAldNj7HZROqkFN574Xi+Bjgm4PsqU8trXGsQvIqwRkf//KxUPMQRFFz5N1YZDDSucEoDaPYBoaeSC7FCMSlbQmVqTqE0pwOss0VcjMX1GZwvc33ahSLhQy5rlGIy4ANXR8N/JUwAAAH8Bnjx0R/8BYhcyu2ZAxkqiz2S7ZQIaYCR0fBfdZP85I8HLpACaO/s6EDE93LZZrXOKSv8/3IhUn4rOxAUNaTWBRwfVeyvdWylDSntHd2crQMGf+fpfZyoN99TSwjqi3Yl8tsNl4W8xcg99W/GC66od/N0+xEEURDjP0CFpSiEfAAAAjQGePmpH/wFizW39i6F5ww84zyALW93wAC4evQQi7rpTMN5qgwApEb4+UtWESWHzbibqgewqDF7XPCQJ4OPM5feM3AU3wUdX8t38frUpxy31X038Hupd3QagN0pfM7UAGWfLvvkdFGj/LhLz/rAcrBU720eEFS2iumTSxrvY27Rk/4xPPLe5CZj290C2gAAAAOVBmiNJqEFsmUwIZ//+nhAA7n80kYqnxK4v03D8gp2HwVECmy0QtlniG7O+9seB7dW7Hk6Wzl8D8ebs/HRaVyuJly0Ql0koPtEASd1hhg50HxAJMdgOquJ7WP8wstzgbcAhwZyfYWy1Rc/AMYnmxCLX8QiSWjqDDNFAaUVPjoJF/4Nq6eR+MHch7oapWxiKEygFRI2jBGk05W+YyQ5hP+5tPucX01Mx8KP7gGa3jsu8S3+Xk1qtIRb/8F2cK/Na2GYUC1puPnctmW2l4HFFXHrGC0aK1PMKZ2N5x4HTTrQfI7fpAA45AAAAxkGeQUUVLCP/AN1vAcT8xxPQi49rNxgEI35ZCI4/ziJjx1b2QW5dcupQ8Nn6QqxgYB8+icivKsXw20VKQ2bFAmLGWa3D+AsGkd8tj0dgwFkbYEKnjLYPVsPwqIa+ubiEmuFxw2MWOl3aRhMj28OU0PW8dAE63zAdev+4kOgzzkq+dR6CQcXLNOyGSRGRHyLqEzjTsCNWgx4FDMvOmtOktc9wtzVYvSMN+L0jkd8NWHsKrO30IwmRi2dNPnyXsSFamWPAMkfw1QAAAJkBnmB0R/8BYhcxhkJ+e/7LfkyQADf1VSG5PqzkyysVhgySg7kAqPvTkIzPRUp4fNJ0wIsqb09YwkOZuCNeAyIcfE12HERw6JMwmeDvv5UPoOZ9ZuhyhUXIHTD9EvxkVUbA6qepYcTWddhYGouQiFo13ltGUw1Nt78Jq52hMfK++YrIgF9XK2c1Hc2RZXto3ZdkAsJns/CQNSEAAACcAZ5iakf/AWLNbEo0ajwHq+bNj/P+CIAr2x5XegUbg/R1Dcsnc1UR4Wlj24Q+FftFb+U7rByasjlCIifBEyaFMNZVxWdumIK+oRpOv3/UhoB7LE9Cfk36cCP/E078IVpV80G8TqvH5zt1jK78pCWWSj4Pb1SQMeUGgVAPTJwiEEByMVRn6Qx4OWcb4UWxDStaU4FoSNtH+ZTxkEfAAAAAz0GaZ0moQWyZTAhn//6eEADucJlmI9jygwutwXUDovAATsQFzlVz548+RcDR2UPG9Wl8oVQVqT8oUc1en7TUC299HKc5H4b1OOPnuJeta/n7jouClsKcI06ZrB4b/4F6gDSd/TuBnrtik4/Q2Izxx4Mzs/xV/NjGoyhXiG4t/564d885ucowm6TuM8zl1+DiYkejcrdmnQ1xKIitnZL8KHxXOgYjrHT1oNqjL1ITk9kTFCLf+DGocKpsl3XAodJgDuFgF4KixQQ8FMGY8aWdTQAAAIBBnoVFFSwj/wDdbwHIueYYy6vRRWDvJLK5h68GEgDAg4i7AVKUaL2gXABHT9Y3v8wE05ezZq5eJnFjoS7qdI3mR0IVVw89e2AZbj3bZEvWYfqkEhcBLRmom16UJdXxJhlzv/RvWTMil/5xNSStAGfa47qZF336GPD4vyZ4HXfUHQAAAJkBnqR0R/8BYhcxc70kDrEURizYgkAAuVstvEHiMlpP1mhz9WAjKcic7ULa/AG+fvjHvb1Dvc/XH1+6bYDZYS+vJNQRnbWqVHxYtzVoT7kvGDB6BYyi+9dr118DSQrBL8zevb3G89uQ6kHJW9YRLA1GUQsOeEZ1HWsMrt2yaACvU6MBvSSLWQ0O31A2HDNPUUI6RBPZh30SA1MAAAB7AZ6makf/AWLNUgSzh4kAUDlz4qdLe/FtV+gA8uXzwsuJDMGS9TKc/ew1ozxzSwmRw+M3l66cDdQTxzGrUTY1Xx9+OTKFQAdghSwbMhlNY1PE+7ntwqEP2fyoG7Cpk3WXyBqCq6br2TucGBGzcNiXHvK71Y5pSTm6ZDuhAAAA8EGaq0moQWyZTAhn//6eEABieE73oADhY3asD4wWFBNYjOZYc0v9UfqA0Hf+6eNMo6UHGBhyvDlWDeRk5b+980YnY3n9ip97Laxz8ILdpLhWAat1xwlYQJzVoWY58ddNzZO3woBwQkueYEVPMr/oSsozGmwSgx6lf1p+8csswq01s/xWDwXWY1GALzo7ee+TeuEGatqzUWQgicmLS6VXiz5F1UEAqEgNqxP50iHXBFtbkZWNJAgzz5H8/6Q4cj7hhJ1a/dPiBjaN58MeFuIkpaWUxz2wyItqV+AfyHhZHANk8SGnnTxSlasQArxqCABnwAAAAJFBnslFFSwj/wDdbv6dt6CTFAAuKypm7lTSBwxwj1iXL3R9UA0wyOWMDHJcIcjcCrUba7A8IFl1/WvoglU0aU2owhzit1JcPdrInsFWbO5NQ8ukDWJO2abqJBM9mPOkt9bMl/Pyh9bXbLY1Sci6KkvuRcs59kUN6w6F6f7+XRzJ1n0FYiJyTsoc7Xiqb2JwsVkNAAAAgAGe6HRH/wFiFxGuwiy6uXFH1ZucIfgAxjYagfogBMmNXlWEYveIx2GNAsMLCxbqKJRgPCn1g0/5sf07VtW2kdEfKE5/TeL+iMtJCix6WXnfCBN0Zvo+P3HRk7IfOKuzz17XD1/PxWzX3sYUhy9rrRttUJLy/3F3iqFY8HGAhgMXAAAAiwGe6mpH/wFizVNu6ZxUAKj2+4oQDkXcfXcXQxj7nWwcWH6csAKaVoDvI30/oAAUs5eIirZiRmpedcyhKpif76Di1zTwUxhDSo5mYcer0zhzXnZ6RSTOciRuSQ6LoNPXBB+rgh4uyi43nmBJpWFClc2fo9lxLTPO5EvGSASgygLYo+e/uggH7NMRiHgAAADpQZrvSahBbJlMCGf//p4QAGJ9judOrxSgQE8GIbg7Sw2nNep9luHiTU2j0GSTO/hVU8HSyVaR2ZOoE50SsxUZSMSWC9MjnPt+c+t/kXBo3eP0UBuApLqscjWmvBeA4dwBi4PjVraqecg8nqMHBjrAHcUy2hXg0LT1FBAlh2mohKfc62a7zx8DfbJ3UFSKL8A5CNInTi+bnA2PJk3Y072fSYz/QHiB0nGZS9x17faeW5kiHgyNb+k57MImonllJDsfU2nOO/Xis/jIJ18c9WY37/LcINbWrbtWB8YLCgmsRnMsOWkYqrQIm4AAAACUQZ8NRRUsI/8A3W7+v16EAjVVjkjFfFDHHo7ivHIKyNAkp5Cc5OOjGqgnoji2OCPS3KwWOP6QTOIXZj6QqLDd/R+bF78ziPY/5gGJ8FZmQqp6PjJJ+IFN6NodpqahffWy4hiJ4UwNDUoU+m25MdUfqIpnvXrAbhneEucMu5wmxW4j6xFbuDtzogfSYldvEqfaHhPFwQAAAKcBnyx0R/8BYhcT7v1UMAK5Qg8vhqXvDIaH+fpzVgZrf2yxdmJJRx1Ph1bKI2EeMXiOUbArx6dyzAOGDDG387/oXrccdJK9qKNN+5gIKt8fCdMulxG28t73A9+xMZebb9XKuHRSjndJAM7Sp9J3NyjBhedmAK+gaSzOBvGv8BFoSAkee9xnN6rNP4HAt/Du6j0zWT1lebBCYeAjb2Tk0OC+Nx7+q9wZUQAAAJYBny5qR/8BYs1UfPpAA1GWAsBMRy6G5ffcDHFqxfeRXzJkrUAm7hjAlS5XcC14TTAgB+43RBqodfLFxtKIPO0DPCa0b2R8x9ArgQ17VCg4pxdFt/3jii2gPPM/CMJlY36nTvYDoxAn7+Nd2kjS5QbO8t6+LGN/DUj06m8i6TgSriwnh6ITYebOWl/eGFroJ8NzFf0sDFkAAADyQZszSahBbJlMCGf//p4QAFs5l0izRGKrsZ0KELBmoLo2h9Ak+BevAlX059jJ9Z5yYvsPLRPFKdl4qKOPPX/QFEksu2advoIDl2UD4wIFsaMkr16XP7nPr5ogcF+z/rXx1zypK+suvf61Moq/WXbQdyuAxwYRH/ZrmolAugew06RDxYeKQQNH0VmdoFpraku1wGz+HqoT6eM+pgRq4hlHi3L0y6gM1dolNfNBieiipcLFeGtugj1da/dEtGVsC+Pt8CUI5zq9dNSYk41/O0NAxpk70DYrIf+8x0y+0U2EF1A5E5tOXK+pdT6I9mMV/0DYtoAAAACbQZ9RRRUsI/8A3W7+cPXHtonE7miyD3PmNvTGPo25PaVnBMSjJWqbhyMxUCvSPQFv4ATW5dFlk9ZduPjCJL+YEJplNPTrEna+ms3+AQS5JYM8U6M+YynjFj3Ilwix0PzAWNb1WX8Wrd8WpSgKH0yAc547SpySQBP8Je/9dQ+BZBjM7B3vX8dplALgBawarUmgsr0Gk2ewjAeEmHAAAAB3AZ9wdEf/AWIXERcpCOQ8m8IPNSMjVdrj5B6vtzvx/2rrq39NAA9v1Wm1w/sHdDaYD5oQ+PWgTTzsDumLePZjahH8TcXbCqA2mBW9a4GmBi02gcSLXUOqpV/SZ1nmH9g53TBj3XH01jdmufmuOvfuo5O0ZaCglYEAAAB+AZ9yakf/AWLNUfvGDIUMT/HYbDBzijc/g+d5cACc3QD7YGhLpxcEbdr08+x6o2nkdpTmptVh2rxAprfpzEMgBI/lLjLVlVD5WI2LFrBXw5YhWDMr8m9gxFy5uCbZJzrX5XuJblUEWOODw4r9hVN13uR3WVUGgDZkdObJ2BaQAAAAvkGbd0moQWyZTAhn//6eEABY+ZdJOm3rzQVdlDQAV4K7zGJjb8qf/ZUAAQPoPf+CCm1LKJzBnSRuSPvSjOttZIblU75etF1galS/4sxkSs88m7jxWHTD00YXphZ6A8qWTGtzO2iAzu4+9f28K4qDlfqOKVxC7bvdOFgqYH/b7NywkiUFsRrVoaeLJ1TA9jZgHe3JE1hM1w1V1Vci/8Wyz8tjgbZjEBs0sD6+kkgLAw5G6l8s7NDqdjK3b4XOH+AAAAB0QZ+VRRUsI/8A3W79RHUJAuJkVlFI2Wrn6cmtKPof18tfzDPybu/KFF61ny+Ob/+qLAC3BtLnov1dsgxg0k9LIiIjBLylTehNTSbW2pTaVtBnYVhO+ilqDwBuNV4voyiNSa5l5IrkN9XawpsjHBOhrMNNITUAAABeAZ+0dEf/AWIXBP0+5dvg9bW8xQzFKgA/ec2SNtXF+Gwh+u3z10pnEWHWocwQEMM66LFvmgATHvxGfGFlJ4Avj9U/qsnfPgZdG6Gk4VyzeGAKXCh9uH8kpoxyIvUFXAAAAH8Bn7ZqR/8BYs1Iog6G/+rm/FvjpO2dfRuXpuwttfKqgBHP8bxLdWr3Wuavzn5MudEUYL3Be/MJ3N19P56w0OXwmrdqDCmFVT7ADTeJ0eXeOi3BsM2iFIvABzeA6cImoAJPXh+K9AUWDAThdhQn9JTRZM6Tl9ZbyzANscfEQPmBAAAAv0Gbu0moQWyZTAhn//6eEAAhqIkfHbcAIl0QG6w+AfItk2vr0vUck9BB0Pgb+MxS9G9xdT+Y9iA+p0Kn7IqVo+jtR24+mnUYTATntU1AsOrZV0A2MX6V1LmmbxDPLKnBu+bIl9uxoBcO6sOSOQQmzJp0B7TUexmgpdvp+yTt9FZBny1qOxA5YwYrXHgaOAujP/KXGirad6NGS9UhibEnv/GhaG9ZCg5NYgzN6mKqCF5M04D2ymeobRpQLDOrUIa1AAAAkkGf2UUVLCP/AN1u/UR1CQLiqxqIigdqip9ZvQn6eAC1rwcVnNMYAFZsANIvUuJFoRo/MlMNXuo1XKPZDGFeC4paGMDzqmvzBbCZNTEywLNgwi7X36m9Vcm+qWhBRD01NWoRUSybHG1cSbYSknEJbbKfquDJpeZgdgI+huGSVUIC0R5ZKkpnZuLegASsY48oe+sLAAAAcQGf+HRH/wFiFwT9LBRDQUZ2wPPOpX/RFuKzKYQHp8+tFNvJY7eSyivh2k2ACMg96BGtlJT8T/gWr7Ke4nN/TKa5x96LCCzPfmsH+nm32FK7kbtGUw3NoU7A2Z6sLrO6oHTuBit12uL8O3PkjuCBvgvBAAAAYwGf+mpH/wFizUiiAoXSL8hObvJUZXe1p8e3MEuebFetwQPOg9HyWAAg9e+iC5IU0aEk7zvBOlB3Q1KatJazO9IRoKxAjWeJV5wpDpgXJjMMCe3qqfOL/4oJjvAiJl0i6dRWwAAAAN9Bm/9JqEFsmUwIZ//+nhAAIaKfwY1EVIATzAjIbRAfc/wS3q2pEy5mUzIdj1H8c7UvJkJtpZCc016Xg8RwASP9p7ifVXZECSoMDF6MnBE8tTGoPDbCuYrpuvJTTv0LX+BXY7MQJ62FvAUFgCZ6pBDLOHwUV6GW/emTtNN59Vt1UeHyOfdBbtTkHj0CXXJnkNopRDkGKOsOeNnmwg+wCGqsp9Kz8xKw2UoQwRftMD+4KVAswPoLj1s5+7wViCBJ90yIIvB73ezxpntdD1tq3kA5wLk7seGF6N8tKH0KqnXdAAAAsUGeHUUVLCP/AN1u/UR09L+hwO5/oKY8tKiO+ByAo//1ACsFw46WL5SWTisGKCSEq8wPUcuZF4/rYADLc+g1OScVKrH6iIsiS8yShSImzyffUd/EWp3YfMAsYGrE9p1ZnrB7pkAsLBNysYZXnzDAraqai47s62eyrgmZHe/2WiA5adkkfZ/+h4P2MeolRsg0H4FOPHs0MwwPeGTxj0hNmUj2wJE6V0l805hmcvB0B6gWUQAAAHwBnjx0R/8BYhcE/T7mHXNYRBP/0RwlTbEAND5kCFeb4+zo1+dSt27AISxm6IjtkM/ePEHu6U19F5IrpYZG7jZQ9p6W3U69iHuqLfrnn/f1MHMpFSA3CQKg/qWzuc+8JOiaLHnOnlO2BwI3QPA3+pyPrNjP/2bFPJRcgO6AAAAAjAGePmpH/wFizUiiEKsVnyuU3cCjNL08L7AeSJ2ZWt7FHnAbng2V8quCPT1sYAAcWFfzsC2na8elmFgp1K7D5YjbNBhjuTPTGApnGJzDaWp00QaLiUsx083Qrgoigf4z7YRts0Sn03bSz0JHyrpc4hyfPhWUtNeA++XJcFG4od4/0PCH+GimaTy/kI+AAAAAv0GaI0moQWyZTAhn//6eEAAhotYnj5e/8fx0gsCSbpm1QA49jJWSaTM1nO3TYBvmAVkyeManujzcoj2Qt620VBz3C5aW2sEkivZ8AVuDxabZruBOY7/U/oCHt20wJVsPUrv/fdaIQPeiTkFvO/xERjYjYS/hAsTbsE2Ik0Kb1ozSw7IcJOaWa8R6cMVTuO45BSYSjtUCxgjv33urHFEIOj0EuiizHrlE9i+PkhKp3FVkAKimTw4Fzmdg11NbaD5hAAAAk0GeQUUVLCP/AN1u/UR1EIH1dvPWNiNsVtYdpRufYh+e1s6XsKh5IEWTIiAFrYIyW28qpdFy5925y+fevxZW+66LTApO3VWUpgYFATyUKo7m0nicwvzTSLrnZ+l39moHBxMzHE05DfVFPSKsBxgxOmDd4kN4Vp3y/hnDeRB/EiNo3Rkvr/ETV2LK+FJi0USYNDRFgAAAAI0BnmB0R/8BYhcE/T5q24u9RKnmKra5ibQKS5L+iAEyOeT3DRiPffodqIMtoPrA0WZ3qUusLJZVN1ea8ExGA1PptaBKPaJWMsQZk+txSSH0JEAeti0G+sxPYsufwOlQi3Q0HAmU/VcxJzFp/CXs3t8Ubcg34PTN7xBZH+nNJYFGk6rZ7D3kNmClg6mKBZUAAACCAZ5iakf/AWLNSKIQqxWgtHY93wumqW/zsCwoWggAnG5JfzSlyHPKrfNqsN2Vl7X+2vfkSRZyRinYvnycbjal8XXHiNIfdUv9itXefl88SBsu5pqm2c3E10ZRwk1rnRxh4b20Wab9YkRZL2PRtzCjtRkmQvJ1C4XbCEUddzMDbe8D/AAAAJVBmmdJqEFsmUwIZ//+nhAAId03pFm8jdU+JZd2x08w6k0hg2dCxyavSq10b7SkyiZTXabJNIc53xV5QbVzKXNRqn7sJiRtsPSksPLPu/n289tDEo332rL6tGveZ64IRExYRKfOuF1Hy66GC3fpeyMgeKcxztCZx55vQQdsZmyP7Z5JWGoQjTXIi+x+y4HPKOA8JgDpgQAAAJNBnoVFFSwj/wDdbv1EdN3KgE97V6cvc1Pp+xt2uaq793HWknOBVAkIMF4fYAltkfEoNOptGgPEZK65Ds0nSMWl+40XPZMiXTJXg16ZuWeu61b4uI22C6Cvf60ZHG2aI+ARkdiGouu+QGFzaLWr1AkVmsL4Hg33WkwDOcPEx6UNTU4JdxKsGlNrTW/N2SZkrcNoD/EAAABuAZ6kdEf/AWIXBP0zTUzWGmS3ScGr9HGzwgAmkHFkwZU2KAQzywTvi0yK2Y08NVLoKRNiBRz20zi8R1cUVNH2LrBjlSOcQMKZsZd+SxMFyrwpeFgqHbYaM4dnmVgLAwbQHZWh05qjPuXfsTTA44EAAABoAZ6makf/AWLNSKIm7qIWa1UN9m3aUiumlHwgAJX61Q/T1kpjyIz4MmnFoYbWMHrWeZT2g9+X22j6Tv+pO5xTZl3Gu04cwTctGAKMkT7b/vCsdFGY1pRFgYbBNtykmzXW2aUtf4QNhbUAAACvQZqrSahBbJlMCGf//p4QAAzpG8cYesWoIh/z2Hp0jbQbsJUAFgTsi4jeSRC1Nq/OFqmb4zaf4ta6qrkDhO4lb6PqtvPx2Bneas5l9lLjKUeBV5ZqkSkqAWBmy2vyhKeSsZ/97eqrX3k9OYzcCEaa5dD7vtoB3SR0vzQylnNBseqYv1KqJEiV0HNQa817Fqqxvh6CcudbYee11r1cwLEahadhWb+NZvKzDyAeg4B0wAAAAJ5BnslFFSwj/wDdbv1EdUizOQNMrOwMixVPeg+H9AYT5QAqqPzsar+pFlYa0CwZwyEoKf03wsh5o8tgw/Fh5JG93sqvMbh05CGn0cHtXbqlvVuE/cGP3+U44EaAcfmgnuIS0j/X7PgRn1YJSNi5cA/0N8voL2mqonmFcdH5dVvpON+aFrSFmr1lup0NxKs7Xgmd6LxdnNJYefXAsHmbcwAAAGUBnuh0R/8BYhcE/UmJ8c//EUGdgjU71t5jezqQDKEBVMIT4yuxWyQxSv0zIbLSG10fPj2Ydi6mfD+xHvqwXi9nxPuAkO67ygEBueAe2io/GAYjsjZXwUkoV36oMS2oxyEaYLLA/wAAAJABnupqR/8BYs1IoheYo2q9HpRzPIJvzdt2s5hx5iaymWiAFX9MSt6uDSlwJxg71CzsVb5ySGik77j/w8dD83V4gvHRX3oBdiwc2YAEgM3dKrSUpwTiGQNRXVgyOzckg7rAZG8qioiqjPLn+BUHWRMn+DuHC3bJsfTfPkjUGfAm+LmwA0dtpfAPebem4t16DFgAAADoQZrvSahBbJlMCGf//p4QAAzvCc8UtnFwXACuleY8GtQi98fOJRCD9ozGaAC5T5PhmGXjoKyCrxMpD+vxxGqKAnWvhu48Zi7ZIvv6WGzjKEupFyxAF2oSCloNSp2UkGpkitqvR4MibxIsuVRrdehGop+zcCtil6LADBt9SuJmgqUO9CEM7BIGmQ2LiXT5vUX+2Uy6fnUNDAFZY853DnUQplIeF3WPOOP+7bJt+0Xj43aN4e5y2djcsYfdD64UJ9xq6uiPdJk6hGFEJivcrceo1KMGKekETWOEO0D/W5ixgJVWuiaXAqv7lgAAAHZBnw1FFSwj/wDdbv1EdUiZ5ctb9uIZr6nA84A0Gu2ed0YHmBhAAN03r8a8/tKTpuP6xS58x4cbVVG79WKw5ijityEBduQEzD6GyR3C99VgwmcY7BHu1hKaqeZ58mM5VcmavHW/2OGEej00UfxVJjzsBoACUgWNAAAAfgGfLHRH/wFiFwT9SYuo2EzrkO9j59AAr01+SPXoaouvtGoWC6WQLrM5bT4fLH7CnAwxgTULJ8+tqf75zVr++Cevw+JsnOPXe80F8iXFA+heeGaCx1wkSL7PkfgvwVwgaFdqLa7zvyR8fS0tJRlNOb2r0sCqzsqxVgBc3gB8wQAAAHsBny5qR/8BYs1IoheYcDL96/QWL8PCA6k4lIOyiBoAC2lvHOO/fKKOedEZ7/m3evbmE4E7fcnWSbIYk1gXQvoY//lBmNRFDkD7bPmGQr+deLvSq0sGMRJ97e3eRa9WXS805YbTlKOdMxqvcA/iSVWYPvHaHE96tDxRA9MAAADNQZszSahBbJlMCGf//p4QAAyNCOfiFPiNfCPdRNeFzptANKPz03rkD9huh2LWbwHLp9qupKXgGICX/+Tj6gduN1raKqqgiffXn42W29GhmmT5v5NGj5aCxe2Wf/w5cP3JCluZaeW24YAx//108hoIy2wfPe+NRwbo7PWEMSv9gs5YNpyDDfYjTriYD5wuKL7OlAvENH9jkJAUItp6FqIuLHR9bxjD9pCufhU8EeFv+32DTzdXbzeDUYQTaTs5YVRR5BtHT3LXa57H8793agAAAH9Bn1FFFSwj/wDdbv1EdUjFHF2+zEIOcoyAxpfOetMaK3U9aclb8jv8uZUjuSM76ACyXnJxCxGxS9oH+btsXWZwInxAG/n1uZ3siHoPtH9wd62ruoIRYzPumJ/vBD1K6H7aOjjSgiDrWc3XCTnr7Fg2edZsmZy3BR57QgWA0O2mAAAAfQGfcHRH/wFiFwT9SYumd2rJvgroAPxGJOcAY2djP8+/FDFmJvFuYmp+AciGDYSK4WSy3HQe+3jaul7ZyedyyJ3mMr+djSajw1FzgU2xNSe/nYFtO7lfoH/M4BE/r0vWrdvU+YZomOnUUBHQsSqu0vlLOQsDZUZB5lZah3FbAAAAbAGfcmpH/wFizUiiF5hwOCrqcppCuumYjZOsreVDGgAAtDtBkXrdz5/ZDDg/MxdT9OariJ6EhXxdG8N7iz1hoXn/BVSYfzBrsHvcTiJpvSh+KVJxxS9feJ0mEqZoxGj2wRY6JWS5PPpOdiAj4AAAAOBBm3dJqEFsmUwIZ//+nhAADIskLl94gBsjWka5nIEQXYPE/o7mVnpAh1evdjpkZ28OLzkgT95EFoZpnckL9x6bgPtn8rCz+mBtgCsiyBXOg7YB/jEy/w6s4ZVnnkn49tJFDeLm6QWi34OwEe6AHuaxC+Yc6coOGcV6dw2fXxzKbj+46Cl5LYsxkVpU4lJUcsyyi8O1ouHHmoTK7KU1wE34OBTGFMn5Ry+ns60JlBzAzxKz/7+gxvqsLmhb3Cr03muJU3vU+sALMyfBbfbFhh2roAh3kSEu+9N92XXN4bAwIAAAAIdBn5VFFSwj/wDdbv1EdUjFHF3QtcB4gJdVs4K4Dl1pDIiYwLvkgIIJGedeViEkzvL4B6+nNewDblgVCyUZ+30mEyTytsP2FHutOeJhhdHftbbjmFeqjvlS9JaoHgDgWAq2p3bh2FlhbqbqgM3hoWPmhxGSY+a0yZwRp248X7v39OH/jAICDHkAAAB6AZ+0dEf/AWIXBP1Ji635IenlqzkzSaP59t+uEYoa3oHfHgAh0oHLNv+RAAC1zQD9sVxzeBzJ+x3Y/ixchBaMGm55NYW0JPb7+SRFgEJMgYK7T7MpAkCKb4Xj1c7ZlzQzKvjcnW8OKC3dBW07mbW1QA9myCOyTF5gekAAAAByAZ+2akf/AWLNSKIXmHAA0G7Hy5WT15JwoPwrgAe9dLuIGOAtBaWZvm81za9H9w1N+xWk3jCRX7Mtd4idIKaiT0ZCWceLyeRDQceXsYqDG9cSPKYKGeP1U7R1KHRCpgDE4vXKJQVdAvuy5oyDY1nC/D0PAAAA90Gbu0moQWyZTAhn//6eEAAMjdY04XbpygBKnmwoP2zSHXGBcFEJuFfd8+ulJBdN7xNP6gQkwbKnYH9lYNcXnwC6Hb6vy4gHhmNArTvrKSLIBxeGy/2ShE7KsObzK3w99JfeU/QN42soOVqDLlNskI450aKatx/yM0Mv9QKrcYoxT8bPCt1P6ydQr8Xm6w/XYKP7GlHFEceNiGRWznKJ+gx3BAKs/LRXBTNTLMY0LM1W4Gwfl4hi/KkdYWGyJRN9NQTNUHGgumV/ZPW2MxZ9aqdIx1N7I5thN1q91A3cDyP/Gs5Lrr4J3Hr/Ry7JEfDzaEmvcy1gDjkAAACoQZ/ZRRUsI/8A3W79RHVIxR7uv570qpEytvxMV9iUafo0oLhHScDXV3VpfhJWWo8L7mAFRnr/OuKj9cIeo25npozwEtfW1SfcqsBA7ouMNVXpEtzc7ERcuGzwT8k+WNY+ZGQb3dKmTQHmd4bW/6/vRUGDBYth5G9YGlF9ReBaw4xydzqwETLfeUlWB0uDDLd0Rm2H3T2N/7V4b7JlA2VgH9eDCL4C0YGpAAAAegGf+HRH/wFiFwT9SYut8vALBhYM3E5eZF21jddOMklPEGbXGm4o0ox7vfLAANlW4bFho70YZB1sTSarCvUtMjT5AolbGT09cZdTI2KBlnedeOJgH3kLpzFldgpNtllTFEd2ASpZcaaQp+RozYwVp6kmoWAd0ufMQAg5AAAAfgGf+mpH/wFizUiiF5hwMs3zNhQ50rHeEKyGq7jLdw/IDo41BFTIAAd4wvZnGsetwEJ7L8kMRevrWh0Nu6S2MY1F4ufb4oVkPzmqvJGA66o1ZuztCzGcRqjSOFLiGwvoCwkob7g9WFlDVqQOr7hpOBL6ldKQIwp/gorsOsAIGAAAAPFBm/9JqEFsmUwIZ//+nhAADJmbp42WG/3MxH+viv4qD8AQygopqe08BWGS1YmjnuccntpGdzUYbxqCsaa8mj/TbZI2dPzB/L9EOHUKrMWvFrEq1LU0+k2Rv3jitSV+mD2v4+u+POSl6+3SwtGsCBcDx6zvRIZIh/CpfOplTZx1tQQmWT8gQNaEP7q8qRK2CDG6xHd1MQeowyizfCjnF/wj08rFwTDOXyHeVWzp44wq+ss6rkwTj2kw/hipymJzuo+oyMqjzgTuLQluPXo5dgP551JJoHE9n5JIOvIkdscH9mr2VyaqayffvQ60ovHANiFJAAAAlkGeHUUVLCP/AN1u/UR1SMVCKCltGhdp5D0tArcDZ3L7HLbHLbuS2gby3J8ou0BrIWJ5kRzLYT3a2InXwAWukCB1hwEYMJ6eXDD64G/MwGuyt690p5IVjdxjsjbvgBphZH6rK46Eyt4cNpOQqlCVvt7GjPTwFf41JfBrLyAVg7n0GqD41+R3+XxBw5sd9TCT7CR0J3wf4QAAAF8Bnjx0R/8BYhcE/UmLxc35yzbKtnn9MuOdNPell18Nm09Tpd27DIwAiqvwC2zad3RWhJdosfNdrSt+Nrk+0GZX1e6IVtMKEbgSQy90fgAWsvk3ydZbngORfSJE390CPgAAAIwBnj5qR/8BYs1IoheYeeskLBWtEqchKQ2Ixmv3AnwZ3eAOYXOt3RMSrrBvGI9StOsJGNvruTxAOeYNOOezpqndTyjuMPAHgGNkWnXTVW2FmxHBmeGbLB/DnzugZJ5To39heziAevYS58JDFXoqMloglQYoTrNbUpK4w+eEvhZYwmaHTHTYcJjIIUBdwAAAAQZBmiNJqEFsmUwIZ//+nhAABNuPL1K+5kVABzhv9TUoMbT/j0aHyFx7Qa5nMgXk+ubWF1RypljCNVFLGKlgjeR7Isxy3H4NY6nakm5vhV1tqmLWysPovdjPPE2kHYjvA2p9h/EW0czU6fvJU7kLacHgtHxvPPRATvhA+PIe67Um2aYjFuf1rWtjK9RKQETnVBUbeeo7lAhQCkOAlnEbD8fl0KGWdDFy2lmGwMSVOUpKV5uOCOrAso6M+Mb0fyI/kJfs8UWprFU2n/yawtF2aRp9R2AUUswwdRVII8zHM5KYyMf6cz8RXCfHzWy8hALGYqp0hpnzljCCeZnCH8fOxzVIwYldVmdlAAAAl0GeQUUVLCP/AN1u/UR1SMVDFF5ApyWbjzxgZVs2WX3z2qYWY8LDI2Tc1etZ54X5MTLy7r/XsA7VkCXy+d4/9Jg1LkzLWlsGMBxDyzAHMdAGZQkqOANL4lnks8v3/D3S0oOX8QC8hwmrq5xoSHqFRnOAb/7ZQaeEeWrTukojFw5qzsYPhfhRH3G3C0+0aWGGpXKwrXFNoo8AAABpAZ5gdEf/AWIXBP1Ji8XN+s9QlLwwN2zKyWgAjHtr4bZVdkrvahf8HHIViOPk9bNmLQd4t7Q6okQ5lStLpPxUcYWE9q3P6Uevpx+BnVR8s5utTmpWc64lmPJ9xpsd360SbV+PfsRJAAI3AAAAmQGeYmpH/wFizUiiF5h5Y00Lm7uUWxuoALoFIcDVs4e7wZLhBIUzDClLMVbPgCfrl+giswMXKP+BG1zUEeiYzcHWUMnLl5hgLaGDRsFDqLz5JWLiJD+pMCZ+dfCFRgomeKD0ZwygE2l4LlmAwYCVee4djaoSI63LAXYtmZTXpcuef8ah2MH1bsyioTHLZS7u/sz578gCHdjHXAAAAR1BmmdJqEFsmUwIZ//+nhAABT9ZuAAGouYVPbbMeFg/w/ezZ3dUEt7Ps5yBlfLW2VTd6dDpp3X92vzEu4IGX9MEiM4eHW9lORAuRfNqRw3ww1UfxIG9SC0/wBFfVC25L8LiZ4LE8NJCMZqbezv4q9vlB4hhW/8Af+6hx9uwUrnemEBFcVGn46zXze/8HOt+YpUrfgIMzKVHLJNhPlGqvp9Kh1Nwb5nYdfF6jyIBrSl7DT4c1LIrvsdE4nQuYmGjFPorN+j1iv9T3hJXfLv+FUnxQMjYv5F2BRK9om43PicUQMZK8jkCUIz9jEqnpyFEphy4P+SaQlYniVJ1qKW/9IkMoybpRlG1yDk4pJfeHwZiOYypYVoSdOFlWR8kvF0AAADDQZ6FRRUsI/8A3W79RHVIxUFmc5PpA2ADg1SfrXxL0kkEUiDZqFGwIKsf3WVyhKURSTzIxsYSOC+y1UJit5X97GKpFziT1NpCVzGiYl0jV8nkeqLNSNEqFHe4NGeiZKOPkDGgAnoa0OkpfuvzWtvCGf+gALYB6H9Am6KnacT1zsP2UZ6ORmw+hWnewGBNzOiZLGQii5aTOPs6SGqyM5CkwE3YL/WgvmUliDAts+AYpDZOcmPMnpKeSvvnk+RYVe48wQN7AAAAigGepHRH/wFiFwT9SbroKDESXhd1QAcVG9BCLxHZsN3kR3bsGOVI443JooySzA5oJUR3PE9mREKXVtILPtugQaMsG4u0HIRi5TpnuYf64M/297BOcvQyqL/EIN38SUQlZPtoSYg8rjf8BpkkHo+ZO70ayzGXxZUINYZ/ZaHgDOCl5jHbcFNP5MgBBwAAAJIBnqZqR/8BYs1Iohe4Hkd8y5LBGADiWbbMWkfqSMLkPIt4cPDnFy/fEIgK/f3Tzs4U8DKPk51hW+IY3gA+Cq33UkMTzFzXMjJ4z8TvshMb17bMwW0fcd76IUUL3ZmlcbSsgx9mgdgCZXXQrWBhzonY9uPXHz92PkczVDL5/MeixvMMsYKB/4yTEForCARgtiAHdQAAAQBBmqtJqEFsmUwIZ//+nhAABUfd/a3fkgA60ZpgOX+Mu+yXF3LVZ1pKJ8oZhdtNQUl1lH6AtI4aus+HcYaShC9SbbrgGCO5hwY5Bl+fw+aLTn4kdXWtkj1aOe4ZXojuedKuU0KlXesiv/a7ejywP4g/KVgEuokgzdbpgFG3ZuzC7ahOSLLTHHUfcqiZ2Uu6AoCaQJ1k8IlVKL8zaDZCHkn4x5oP1ZHYznP/6F9OO2c3zuY5gHvk5m8p2NVpIcimdBcX/qHnPV72BDFGDh8cR5aY/fUxczjluBWd4SNAOBM7LQG6DQ6UqyzHNqvEmdQH+CYYbdcbH4zFiEj32syE75/MAAAAtEGeyUUVLCP/AN1u/UR1SMVBZnOtS51ZHM9Wlk218AFgB26bBgk/4orWwGIBxqvz520TnYm532+hGhaTovtbPcQyHGlVNmzanfQ75oXBY+qREafIICrBMFmQjMI9a+XMJIF4TKyEpgG9qxLXZBeEfPLk0kfsDkjQEzbdUOPaEwCjHcWh28QMdYEEVhXoZ7EmazxbV/cb1v2AyR/XX+6vzJBOG7yUUx6gYD4Bf1V87XvC0l6SiQAAALABnuh0R/8BYhcE/UmLxE9u/9JABvvCPXBKBc7WoQdwGi/ndskpGsLEgnHwZ/nRv01YgtTtS6xm9W0iihO7h1aabcnmsYhodbFYdoGE1HFr3Dm6A0zLy4eDn9yOKn32q7qZv2D9GBgEyP8+u/Cv6o1xGCPNdOTBdVgGZ5oWEu8V0t6ewn3KPC8iu9JLTgs7wOTo2F5gv2jsfDsFJdvfRUe9aNbNlVf2DABbv6hjDQAScQAAAM0BnupqR/8BYs1IoheYeWNg/2j+z4ABsP3xJ3bvH/qFzNzv0TSMf7mHv0dUlpjdCe27vVSumaYzsTzyGOQfvAyRAwXjgfL9Qn2UOlMlmmVS5umtwrJ+JQX7NuR2arG3nVTtzMZGPJryL7lyPDCJmh+qJYcyUyfSxJe37UVOeHQWt8odgfMPY0ygJUEHLI1gHTOBwt0f1PbFOprmZkLU1piNxt8GQno2Nc8l/AZqFIpXQCI0KexahDoLax7BXPmREG6IfsbXyUOyMexW3rsWAAAAnEGa70moQWyZTAhn//6eEAAFYxegAIyPVZDBQXrT30mw4TrACFqiDqlcg3uvyvIOa2qTStRVMnQwshHjDLNbrAfuIjqhL9hxdxM3mVt5cyPofigzNcYtFW79VB3ZJZsNViV1dg53Ag6QemIxcjmJeYK/Em6zGyTJW72btasCwWXK8Now292DjPDR/WAXX2GzOqdmiEIRubHlVg/llAAAAIFBnw1FFSwj/wDdbv1EdUjFQQkwzs6lfACJiuoMcmT5LBYw/9picfePjPP8bjSafU+dD+D1yiYGz8R9sabHZxFs5Ef3qN+UBL7HPZ9gIkbziUFztgAkxqqSOnWVYGR665IXWcCm6UIfqXLnT4nU2yLrnkksqiZxsGrjI4TGmcSaSasAAACQAZ8sdEf/AWIXBP1Ji8R9K7JP/1o+AICz4uaTEce4nETTelD8V49yTjvsza/UmCuk9VVDePXu9oNLRjvOLMubjLAH2HyvhH282FEwKouJloxz7kDgHJJsdtRKshggKKQDPxtQZwIe5iBVsc7Kit5X/ROZouCvVm00x3IIJ8a11PDJR3d8WoaX3oimg8aLclPXAAAAfQGfLmpH/wFizUiiF5h5U3Y2vdCALOZZEAq/bnkusTl/gGPreCc8Bz8Ra4/EEC9oCwHvfIeWr61yYAz7+X1FQ7i2JgA+1h3mzJWRDDTePnI1MVpv+y3bdYyduZSDh0eour7wjp5xV5Bwgpby9SAEkVmfiRbPgnje3yzCkAYtAAAA90GbM0moQWyZTAhn//6eEAAFa936wcBBXUdqnYAcKLgPt6FkdCJ1XMzdXKVtnVSOJDWik9DIwqgPclSmqdqIoRzw/pI4AR9DRabsGZlS0/lX8fGkrkeREyXsM1WcQE64Kz7jsNOMHbjJDWSI87KcKH576Rqu37XOU6REmHkhHre7r77Ao3rF0GAU1mN/y3dhjO6S/sU4UYWQBP3/C90WxPl+5yFvbIx89SYwx2QdDDpsofAP4bminsqEGXBudtbYGUn3qPpxCSD9Vsk5weDMj3v/EFc4xl3rep+USq1z8/+mNzUEl2n1tTMsNO1FtgV1eIX4S9gyJHwAAACTQZ9RRRUsI/8A3W79RHVIxS5hT/6Mef23FSlccNUB06heOOMGUiwdZXyoCWA9W8pAC1ue0Rse71IH4ziS4JerAwmmCufSn6WJfuGDLBg4usBb0Xqw0ZeE1OaqKLkH2Nmk6FUFGZI0t2MOCE2EM03cpluJsSjf1Xjx6EKocW7NZLxZuS+A1g40j8KzAbCJFbcLdG6YAAAAYAGfcHRH/wFiFwT9SYu27Tr8AGJD4wxlD1UI1dEZyACdN7fNuWMw8cmliNTMXzd09lNoVsfcd4A9U2xzEX4eQIWTiULkFLmYqWNweQwTBUtMHq+RKHqnKXUHWCsPLds6DwAAAHcBn3JqR/8BYs1IoheYdH71YLvGBen8lU0HZmX1C2BeUM2lU6LSrkj5YqRsAOYXoPL4al7tCGiYrpop0ObKNQdHDASzwHpfEONYMcpfkj1+BSsSq8WQUI8HD9SNLeGiVMXbs1ODUUeDAsTgwDnPnLsDvyWLM9DPgAAAALFBm3dJqEFsmUwIZ//+nhAABLRuZg7hv6gBZSvSbbp/F4SOT5HTegoJqc2580EcnSjDkOugoQjA3qWQMxWlv3q6+qWj9voNGOksLM9PzibpotgWgBeg0M8ZtUpqyD73gAh+c9E/4wDXRDZwFSmAvwNly/R9k4lMfta3Q3JzPCu5Wj9DrNgy11vmTilvJSirL57HeoFYTPvpvSMi5h80F/J9J5S9PzsJ8WL8/itR8HpNW2cAAACPQZ+VRRUsI/8A3W79RHVIxS27WmHeDwtyprrB4mT4P5hEOaxbmvP4VT+l9dnUEtb/wxxnC4DyYh7wXFNGY6kOIH5n/G2P7VWAUSFefO8WhqeA4x7WWzBtZzwXszCXcZkpFmKn9Uyr3O0rGupcBKgU9V0s4bvUDSrz5Z3fgj/JDYYcTqLB+wb1kyPbE4HesYEAAAByAZ+0dEf/AWIXBP1Ji7ZghPdnJ4a4kTWNY3uXfVvkCsQAJphocDVs4e7wZMyjsMg4TYtNyGYkFMT0DpwP1Ot+ZbljrsGSu5RKhq+ouPRk3cliMUJCMuf0mzXQjkHkTmKUPEVOtmiw9Gn8bqDqS4RUZoPSAAAAeQGftmpH/wFizUiiF5h0f6RVpe8pqNTeQ3uk5wACWog/32GkjCOX30/iuPcWnH+fTS4+E5VrjkqxNQiKyH1K8K9E+h2BewB01GNj3jwbOZABvAv+PLJLXK1ZOIGyCkLf9Tdja0qIak1PKNtEdd0+UaQr3cRsACJAm4EAAACrQZu7SahBbJlMCGf//p4QAAS7+s0HsYl2C7pmei7vL+/POgUUrP8XorK3IGjf+wovAp8LEnan/m/n/qFnOg8Kzwl2eFUKmjH7wBQHgK3yJ40zVsd6Vs3rZIsxGHZwETfwWh+dSeuXCM0F+BpzpoIM+KJkPCsE26CmKDL59aTK4Vl6x9UDpUoQj/TWKJr7HRTK5GRvE9xlLf6pXQ7rinWeTL7fuyiogJndinxPAAAAdkGf2UUVLCP/AN1u/UR1SMUtunrDgqnxhRu9ecx6EYUr2tJPK/FtqkA694yeHV5TQTI84x9KNFvKIGc2ABHsYjtS7z3mlfxkXtwmpw1M3PaC2ReHS6MmBhRqCWqCrSB1Qb7uxMDsHOfywzDSJlIPBakRWkB8PxAAAABPAZ/4dEf/AWIXBP1Ji7ZgUzafeLIJNZH7vSc0B35YvTFVtesGJCkkhg3ZrDEgAIhoabsMRz2iuwPl2dVfrXq+Jk12NPbH3NkuvBwR/vw3oQAAAGEBn/pqR/8BYs1IoheYdA1nh/tNa7ki8VmqACVL0YkLFl6lgr+TEF/PgF2fFuP4z0QyAp9xbF4HCp37sbT6KHsmQuHz4e26DlQSwy4FQmYBU07ak4dYGIx/zIVvuZZS5AEfAAAA6EGb/0moQWyZTAhn//6eEAAEu6bbZB5B8rMNrFYAW8S5jjpCunAOV3DZtOsJ8c4zECtqkZnb1/Lm5NPFWacqampjWUMkgzJ74M3EQv/8jbQEZBtUFuY3qfhnSATu3ZruJK9jb24Sc1tgR7SoBKCKWFUoJILXSBVG8/oJwjUkMUnaDartkyChEewnfUiDvzxRxIFF2V8lMpEjlEJtJyU0irD3qD57mAwaeWDdkDqVhWYfPmfz73EnLV2lKQSw6tSBx9Q2VMeiDRgCqp0GfC0SjXE3d4qrUDNuNFBatQqmlpgebAo5vnId1YEAAACBQZ4dRRUsI/8A3W79RHVIxS2HfI7tfVcCo+DcVCsG88S272oIxZ/sQ/nColaHnqnQAcJDrB/G1mBYqq4npNBZqIsatip3FiN6zelabOFVAf7mOLr8h5/fwuqoS/xAeRAmifa5vIQt1LRANyCFyDKl7e772PmXpjyROg28zOlHZBKxAAAAbgGePHRH/wFiFwT9SYu03i7WV0tPbgzDCaggBbgBOjbOpHmoZzP1eq5WxDf1tAeEf2U9Hpg9nWbhlHYlu9FspUqS9IRAEqeCqqetAZt9I51/miyVBEk+oqnu+eqa3pvl+O5Nl8Dvw95sGtnowFJAAAAAYwGePmpH/wFizUiiF5h0DWdAmyQanexLoSGle4yJ7M4NgAcajuvoxkwSfpvrPlD8eFPwpg1yB0dpA2qLjOC3fcyW2ZSelS0bGPkUFJdq+dijQBcTYOxdgojiHCPic02vqHcCRgAAAMtBmiNJqEFsmUwIZ//+nhAAAcYYvOI4QrgBYuZDJJBMU/BGvp3B+lxlDtMiQNohwQrcjADFoZR1g8JVTSPHCWwIi3xvCkM0lGk595kU6R3FHCisPYGexKxmWnVpLpbCBNG5QS9LGOBJtVLG7z4mz27LncASUa/J2UaADEjOyY6P9RWuzSQHisxc7PzQZ34NScml8txVZRpp7VZLZV2z0Y7iWqJf5aP76SpSBtjMmMCrb1ksAKo+3BoDb2C0t1xLp1+eTEl8ybNpaydN+QAAAKxBnkFFFSwj/wDdbv1EdUjFLYd8jukCc1DMD3BQ3N3XN3XQXyoRu8sQAzxcWtHbnjLD36/df1hVKmCS/ERxYNTvwLHDl1zuheQvJj+y9/NH1w9JxZgSjsYdZWiDfRPpbWvX/b2DHjdlOUaROUe/x1SH+RR/Yy6H3CkgHYa8bWkoFuqQtMpiLVu2ep2yszvIHZtcEAu4cAIKO7XwjnNncvsBQ3kptQ9Kn44g5gMmAAAAdQGeYHRH/wFiFwT9SYu03jYz+f1t+ZgGX6ADzCGiwsLWDShKcGeiO+xbI/gLlLvnRv0ILaBsstH0+bFVPWKSuHhQWbB6wJu6rvpe3FSo94Dc6m3YBPNHahFU4dJ3BFOvxX+shT53wx6Jd6T2kRJOk4KBLMD5gQAAAIgBnmJqR/8BYs1IoheYdA1mu+6ypRcIe84R7o89nwgAPteo7H6Qk06seeQAF/rSWyYZ0qv0Lyp4Ga7f3M/2w78PDjKRpd72pBfi+TUPJokpW1A8MEhU3s5PRcrgIgI+pQ5Izf+JXACR1grdp97FOX9sMhHtYoRd40dG72rheuBBcCSiatdRwAI+AAAApEGaZ0moQWyZTAhn//6eEAABxLn51wlJagBZD2cl7cOPwVbGSyzKCOi6y1r220C4xE4iiHrroD9HRAyG3bUes+giVU7jlF0TpPeuHKA50ra4zBN9mPqdBe4/0f0Qw6yhjfb/Yfnufu3GdxGN1XdMMtq+jLfh5Q7qQOWK+7QxBd6x0c4y2U6uAFEJjGAfg6pEzpsUsLPIV/EnDfT07vFSe2+QQA7pAAAAekGehUUVLCP/AN1u/UR1SMUth3yO7FOYHyTHR5LGt8v1h2lzz78aA7NAAsHS8vf6J96iqLTNcdt4aSyZ0s5A9gDWAjfPNsk2PUvjQ/oyi7wOwsuDPHFj2lM4Yj/cP8Rc1V4bTWh2tiB/7RLifjlWrf04Ff85/3SMuxoRAAAAZQGepHRH/wFiFwT9SYu03jYz+f5SE11+gA8w4IfIsllxGnX4r6rR0GyKQ3B/T1MS80e2FgPP92URD2hARBN3+nvu1DomOxB5h5UOSJtlH/TmGvPF+8Mle72BmsJIRSiaO3dgAIOBAAAAbAGepmpH/wFizUiiF5h0DWdJ4inLiV87DA4CbLAY0IdMTNw9SLgdaUnXyBOrcrRBURBlkANs9fzsC2nd0TqBnE6h+tQPlh9bQmK1Y1xs15WIR1sDLreSPnc2C5ywblhz3LEqH1ZfYDVmAABZQQAAALFBmqtJqEFsmUwIZ//+nhAAAcTtp6ZsqcjAkWvMHV6sETrJN3Jb0gkQ52atzwKzqdX4N6b31mcEnxUaGCONWwe5KdL83fC21cpJUHpPn47/RM2OUt9U8CjkB3hgFkCjqMWa1KXSKNOZ7f0Ijk6p6aFmshLtgJDWDfKUMx9v0waCul/ByTkHU832Z09mT/Me6MQRl373mLXShduQ3j1P+PuMKtoPTsGVccr4/8PAy25vF5AAAABnQZ7JRRUsI/8A3W79RHVIxS2HfI7tK9MrTKkGo11Mu7YQlM84rvcAAXOfUoQGw6uscXZGYoTlwrT5kvel+y1NKYitl8u+pi0XJWAUSFuqfaHUxbSyn8nLKvViiXyNFKNobBAHssAGLAAAAFMBnuh0R/8BYhcE/UmLtN40xCmHfcl8VsZZ4gXsBI+67fsM3cMJ2LvUQUGD2qADY/fpq0F279yWFR75EfGGGdajQr+K7S0oBwUagQVZqdlkCPhQQQAAAHQBnupqR/8BYs1IoheYdA1mfiMNWYyR+CPHhsuiAFueRKxRcaQEIzv9J7fdw1inq3KG2w1hl0cS5eeZOLn46++D8/3a96JBbJE5uJoBvkJELnKApqLRVRCGESTXF+h851LbldafVd+WufGPayiFOAKnBHwwIAAAAKlBmu9JqEFsmUwIZ//+nhAAAcQ7FEKpqUuutJhrpxOedIWUdhdE99SQAgm93VMTHnEI3PIdZ4sANYl1Tqn0XxQuAK+qezf+XJyNJYmbJYUhygZ/ZbAkJGXzhhNWSCVVd4NEcc+D3tlZDdm+1C/hosC68H741xjZNRsuXhKrhP3pv6CrsjLeUEfgTlnNM/MWtwC1whvyYXkO7X0qPR3sHJCe84RDH+lY0foGAAAAhUGfDUUVLCP/AN1u/UR1SMUth3yO7qAeCBeAW4wDMz6nQ6IACGumsUbZuz137U2jNezODRBViYIH/i2godSwbYJKw24rikthvFRZKjW0XywIHvaBPWAPGjA8WsT67Oni4qm11w3aJNyJ8KaMF+MS2FQpbfBoFQCxGwnHRdy1qFceIZPYYpkAAABUAZ8sdEf/AWIXBP1Ji7TeOUoF7GCOKYZAEEiv/bSt7p0x3tikauEzsA7B7+rB9FgA2mY5aav9bofuTwDn+QljTl4EnMOFnRPGQ9pkPq+guaZxoDghAAAAbgGfLmpH/wFizUiiF5h0DWeH+0VL5uc9U1SAOiI8epilUhdvebwAAPe9JUBqO++zbgcepHQMgd1yptoo6HBy7t4+FxBqmffbsRsITydS9ozQurx3ROuGid2bjJ0rFj5d1GPD0NXHdtqPOi7TAOOBAAAAu0GbM0moQWyZTAhn//6eEAABxuE6RZCvSg4jZ0RBv8rjEmwwljueJV3mh5kwhQXjJQuMaTCY2nnSOcugGVuF3He3psN9YcYvaS7X8M495WAKfEwWNboVW+ihdp3n/XoHZec0Jspnf9bw7gDVdfxZg4fos6FP2tm2O/jExAhmKfdIlDh/lcxY4Jt2CPp9g0XWrnpMR+Esus9fpe6tBAa62JmQz+vFhJDjCwLtAGUOjKwCD3uvr/SEPsOkSoAAAACoQZ9RRRUsI/8A3W79RHVIxS2HfI7ri+5O9W1xCwDxrbxwPlp8AC4uQWjJN93dszipcNR4OCnQ2+3MbSX0fcsf1shS1qM5IVvFkdkUtabyQJq0OEWsb1Lu5dsR885hUfmyU2vJN10ru2ZBXRZTafwnB91rAX+cEVNoCAZvi+qm6HxFI9b4o9DYBNxCnO4dEHZKphcVh7X21xW1m01D5NSHKaNSWsaU6GLsAAAAjAGfcHRH/wFiFwT9SYu03jdHXSDNa/o4K85nT0NeADg0QYUwpxX2AuqnKOPBAX195afD9efS5VgvXdyp6XVQXQf2IHU1vfxoptra8A1px+0N7i6zMfUvPughX3KX9Gy7nNDZ2X5Pb/AaL8VvunySrCuQ9/PSao8ehapZlfBMxvczJlO8RZ7q2LZ050XBAAAAiwGfcmpH/wFizUiiF5h0DWbWyiJWdrAAA4KgvBzszGshj77A/iv8VmOmKktJdgwEIhjf2rqHQdqGEAfVcW9LSQvefdjxxPvdeoByc4RsTrLpQwJ7yj6BZ9WxJ1si1dt79DPHf45qiDdry9TlHRrJwczU4lepNxQ1ZMiRWmTAvgAJ1/IL0gfj9lB1wXcAAAEeQZt3SahBbJlMCGf//p4QAAGx4TpKZ7G+xRBbC2QAZsYXQkbV5rn09StNG1AEP8gns8w3x67PKe+3Npzyz3ZzaVMNFABk7ydb1CBcKT6e4LHHwRQx6+0pSLqdNFoLYQ69Quv5jvSJKeJc5dK+sKckXhjauFiPCuRNomELM9TKyI2Ydc5qbMGroyIfpC3cKqcTfpxz7cMflnaP1sbCAXuiqLBGYa9kAnko7TrsZNNfiSflniEI3K5AuBXDuhXX5XsDwTT7R7+8ZTiwT2YYc7JF5G4VqmVaxAfALG90qo5lk2uv88SV1Dx9Fy7klVOCO1H8uURRSJ2iFzEsZbH7VGXWODLZX0swIdqHnNr9wO2ssgssB/K5BiTaAg3rzKpN3AAAALhBn5VFFSwj/wDdbv1EdUjFLYd8ju5nn+qf2ZACOzFDSdhSFgBVp9Y0CSxXkWJTbb7Cnly4v8+cdCMwj1TDV7qlg4dRQJd4Nh2MPBXxQdgw/Bp/L2q5zEM04m+Lwb46qD+HZP7yHcHXFUo3VKhw973QySfbx0PHsPt+qNj72blG5Bi/3xYszd2smjHg+2t2A8oiIH94vApMzR6/W8IAmGGhlz4dxJU14vmXv/D/hTnG1AT9I1blWFiBAAAAfQGftHRH/wFiFwT9SYu03ji5KyFpFRl0AK3R3VvXURDjzKlGFCVuSK196UN341apNo+0mTu7UQJmySUMuFHHPA6OczNQ+VsNt6/1HYdv1VdTvy4pn+7erK1le9o3nUsloy+ShHp6TKTH5e5v5vtX4ZhPCzz1jRLFoxqf+4YUAAAApQGftmpH/wFizUiiF5h0DWbeIxUtQWjp9mo05BIgAHFhwYUwpw4r9Cem/D+7LuGSeK7/80sLl9Qz9HU20dm4dVvHrL8jPPfD3rMG4wr1NoEfy4IkzrYaiL9VSvGCqVxbd9i0kivp979lIxPMIHJlxTg8Ra4gmQP7FNi6NQVp5PBtlroQ+4eqZt5QhkFtNUVpbIimVSCj6hOL8DqrW4UhECjukbAsoQAAARRBm7tJqEFsmUwIZ//+nhAAAMi7F6AEhUctZgyxOAtp6LBHkBnpKbe01sYwNnNPlxUInj6QoEb1/j5A1pEhaAdfR/dxkWhvodsu9BX7BVJUnedkdFaKmMP7DJRcdJY6lHUsVLDKGLelqviI67l+P5CQTUGXQ+zW8dAEcBOCXPYZ1eqWle9JHe/59Q4pVjZbrzzQOpTlVklFU8Pyw9BNi0n39xTMJWw8Yhb1D6sBhiRiFChdoJ9YBZo29c7Vrr3zNp96sxBPwIGRDmaVRxP6KtvKaMo7NPnzh3CBeKsT+FqPiIusd8RavamP9O8BXII6Qfg8h1dw4iAp+4F/vIQnhKUH+WYb4etECyYIAQcMGRL9p9TzbMEAAACzQZ/ZRRUsI/8A3W79RHVIxS2HfI72onDdjZT+4lgCCAAXAS0ZqxqEtilG1P2LYoqBfwvWuhFn0GFAEysSHwPOHI1acbHkepzbuIs60Dswfkzn+8xMopnfnA61f1rk19rkmsReW2i+TI1Ny8+BtPNQF6Llb7/l3KZ2jiZROiSAo6zuxOsAFYzYNMFRlTWiPTrKZYFyWSfIhkplqyvJyfBhDmoOYFBPVq/GMUNP8EfEbfHXqYwAAACOAZ/4dEf/AWIXBP1Ji7TeRDL4ZnI+oAa8t4LD4ThuuJbCoUtzC/R1SOJhkf2fWORosqvWzkx70/3BDLwvZkWYmgNDwlRZtbiPk/ZR/YTCUxZOgie4XqSpZyeYaJz4f2fa5d2lUhIAl+6kA9XU+BwAXv2v4oxmgVa1/BSa5viLH3MpslESHKrPGWWklAD0gQAAAJsBn/pqR/8BYs1IoheYdA1pmgogW7sAFgRvMpczwtp8KY6gUhlBsg1aC+oMIml16vya2sjFUF/VX9BkdZNrk2EBjAb2WbJe6TCelbUCJpalk/4DlCLu/NgXeRR5U7Y7iLiDCfdnLC+CIEH9ypx775tD5/b+kr3/kaVtwNArOmUbJu7EU19Y/hfDnylRcgLJpHVQxNOozQQcQGCJgAAAAPJBm/9JqEFsmUwIZ//+nhAAAbvhMsyHsebdcRvomQAh+k2l3rhnlNgSNZwvDH7tdAblBg41DTMbhvNSh0qipeKJIL4gL5PPkSdRbeaAPgU3urr0vt3eh/onImo9V+eesJ0b0CfB5X43xJO7kx4wZeh4/g54Xi4awOQzfRmCQHSvzpirjrxids4mlS+5J1QLQUsF7NGCa2kbqUFR86AA1ARbGr+7Gs+bloNeFaqDZgOwx+aS7g0Tq50iXaQxixUPsP316UmXDIBHW2qNynqsqFHVBzk+szE1MDF1yBv4zXDHXHj0bvXzc+mLUtFrLqLoTN9BgQAAALNBnh1FFSwj/wDdbv1EdUjFLYd8jvai9qBrmJs2M/smWJsAC4ueCAdUPsFWq3yNPZfOvjuLkZDh+ujua2mMyEAbPEUMSHVALgJaM1Y1CWxSjaknnVchPpCXsAEGXA+JBOEF2nzhkSuTTFFRG4DSsGhkIlsNdUmYK9pBFdxApMIh0mBa/BtKj5rx+8lwTT+rSZXzGny7RttC0lnfg40fZgb/Rlsz/770GSQp8a6+6kv0AkILeQAAAKEBnjx0R/8BYhcE/UmLtN5EMv0HI+brOgA1OKqas9ffoOSwpazTfpgYZ0wgggBiLdtFx1/CC6v3r8ZcCfLyd9HKEmhseSNSMiNj4lsjUBetsnR5BSLA4Q20mAtlGqmvz4l53G+G94o44WTu4GipPYXR0cQ8NV1HEVcK1C824NZmrXXqzqbFGbYGv/TWLKY36CmmRo5p4rwxvmAp+oVnywDVgAAAAJsBnj5qR/8BYs1IoheYdA1pme4ztsVTYAAcdL/+mohWx8pDHtr3j4Xg0R4LAnBIuZcUJbVqPHFCaQGhjj2xf5PKHZrGdZAS037zCemh93E2Qe/YylF8sYBhYmj4lOFI50O800qZDIYmu77WSuXAnQaIynA+YkZLpxRtMEWu1NN7f+A5oQrWk1rHFPa1EhOr8Jyphne6CcP0JQlj2gAAANdBmiNJqEFsmUwIZ//+nhAAAXX3fwgdFQMeL86GX4+gC8914h1A/lCIdIVbsA5Dn2D1JTR0d0dE/UK0q7yCP3oqlZaqgq0MDRj5pYsH9Qwx8VYi5YpKxB/tXWXDS7gz6GsakY7/5wESPMPMdD88quVQiXJ9P1qf9GJ/K5linVmSvLoN3Ms7mH12G+fYr6KGruR+ZK+yiGEEYLn2CDxsepbj6LXcNd9sEEWcd2P4Qfq0mfFNenm0Fx8mzPF6kEsirZW+CtR1D3nerHh1qmsWncF09VmC6ACZgQAAAMdBnkFFFSwj/wDdbv1EdUjFLYd8jvai/JbWX35T2c24wjgAtvbVWAUSFdY7KsqS8AC/2Jf1dl25nmctuVUQy3zjCyCgJ/Ylb/Ok8jYt4loTI4t/ZdRbWwn86ThuXitKtpILk4IM/0INGiUKCkp0VVsabuSswiDFPMX7KboOSKCSOvej6D8n8ATNmLbJeQA+x6UOo1E/KF/euAQnQLgFmu7nXurQI9b70UV2oxXxYs3oTDDsXN+XfBtFGvbOeYiOcKPYr6jh7FFIAAAAqAGeYHRH/wFiFwT9SYu03kQyIhy3PB9AByWh7trh8EicfRqB24QxyGqiHmMPJuUhVG9o9e4ADDv/x19z0VsN/SDVkUvvG8S01xMFFCgCwpp1NzPpgUecBLTfIjQfaCddZ7SvyY+UeTizykPc0Df3Z4Y5yT32RPnQsXYdwY8S2AB9R0PxWQcx7/iak7zyk2j8OG2O1xv5AQDeRPZVTuDf/1GEo/IdYAAesQAAAIwBnmJqR/8BYs1IoheYdA1pmgqH/7gKkwKiuwLj1OQAiYu+dG/QgtoGyy0S35hVVPVLN+57QIGDbDdBf/6pJ//cbyd9aSo5Wfz+ITFsVM4apFSov5jewfdGC0eqGGIi+6yLcZy5JvFJreoTh3VsCQ6vI9bxGHzNPL6V/7nO5C5kqtJZ3IcGrRLCiLNHdAAAALxBmmdJqEFsmUwIZ//+nhAAAKyDGHZo+zjK5sB+78tsbep11gbDHyZpczsoQ38jwI0UF5hwzpHFCBjXC//bik33lmoh9HiWXJ+2VQ4G3RgbhKxDsVjB//IayDP+uYgiut8gY8Z/pUK1+6IcftqsjLozRcDZRjtoZF2qvwg1dg2qc36IHDaRuoXfmswqJoJK9OYizwpdSLZpfIbHJeIQ4nfuaipQeMEkX6FInvPYMsta8BCzI1ssePJrSjQDQwAAAHBBnoVFFSwj/wDdbv1EdUjFLYd8jvaicBmzFpgJTjNhvcji3IeFOqF6IAiJYzO1pJm+9e0cgdygvQhy1w4goozrXE+er9xZHICiHIaHU10U3/0T1ydJeXW394VZIBxgHyEUS0067IknE0gExIbXzrdJAAAAiQGepHRH/wFiFwT9SYu03kQy+lsTRql79ADV7FPDehFDp3QygWGlyWJDBtBFUpA1TJGwAyZXwnU1AOBz9TvFi4+GzP+GqvFnRAQMDHFF/Ml42kMI6Ju0Oy2Z/tIq8pk8+X5u4P0C62oExuNI5DGLYgk6dJ4/mBMvCJW0WWNUR3vlu7wYOUdp2kwJAAAAWwGepmpH/wFizUiiF5h0DWmaCctIuYnS9hZXoPr/AOcwcbszTidr/vIAjoakXDVYSWRE/EKVwDMFuVtZ9v9UjzlJFsZTpt+LOBb+rXlyYq1lJB+QfS1dbWTdg38AAAC+QZqrSahBbJlMCGf//p4QAACsWkKU9gDPqAEierHaGjdcUy++jbigbg3R5+UMkJdeMjNgcrpvXMY0AJRIgNGen5+wj2Amv0OrwDpcOPQ8aMwFYaPRze+DiNHJpRI9XGrWOy18djeIHXfy4u8ssHQhfw+OXMOP24Yo90u8OdDGpuzokLuf/Z65Y2PBS7D6Om3k8q0kzqen6Zysyipk9GwU06Vo3/RtkEAjxIzqjNDnX0Lvi1hJwZzaIBABw3bjcAAAAJBBnslFFSwj/wDdbv1EdUjFLYd8jvaicBmzvGaD1fTnDg0riKgP1g/pdOs83o/cRzSo6dIz/wv+qABVHaGN3g4x7znZHnWvgRzlUT4AiQo1w43KUBWBjkrU68v5pkAPCgNjmEGrtJIbUaL5QEE70UB/ECslWSyI0eVZSzpG8VHOHCpFBqRuYY9wLFXfuHiO5WAAAAB0AZ7odEf/AWIXBP1Ji7TeRDL6WyRRVdLMN8OPqdcu4WAKKgAnbwsv8AcbH7leiuGp9OBSxuzV5rjdPvGI7tpNVhFX4sgZAT9LhjH5NRfUl4xpS+RH+XZWQY4O6GruA7Tk1ou36YjQKgxaH4UkdSkpqvoIf4EAAAB4AZ7qakf/AWLNSKIXmHQNaZoJy0pbOJV0XydnMV6idFvC2mW8wUFc48DxbfSSrAFAKLYoNWk7YkYouN+2uZ8UEx3PFxtVTzqCD9QZydBEk2LcDQfs/me2WlsYUrxsmrRS4J6gj2sgNOgyA0vUfbU0MNsfjeEBDAqYAAAAoUGa70moQWyZTAhn//6eEAAArXxksoFYoilygdBij/6VoNlh/YveUiDGwQvbbE0UXMjacQOWvYn+yAyKfkZhTaLrCX5dqtc1BKk7ME7/qDVjuiKtA0szN84bLq9YVE3Tk+t/MJJSlN2K/nfYRLBKgPHKj8EgDzUZbK/yvbQ21dSyT162tvFuANedcTNZPoHpMpJ/Xs0fmzWSrBllQGsYdZdwAAAAa0GfDUUVLCP/AN1u/UR1SMUth3yO9qJwGbHa8oeVqkLG/SwcnWTjPfIAxR5GeO1ABqJHefaSSCpxecla70tX8tunALUWM5F+gwNY1IFU+Y0s6/4youQgNh4RRRuOl81TajeZ9ZbAbzOO+ClhAAAAawGfLHRH/wFiFwT9SYu03kQy+lsU2ORFRk6tdqxSXIrWfEtTP8ALL3iQvLPxQ57uV4ioLLAUm3nqSrEhCwo0WEJR4lsBDciO2PvOtciFa7qL7NBuIQh4d3yD3v+Cjp0tndJ/cIMTCndq3NkPAAAAYQGfLmpH/wFizUiiF5h0DWmaCctJ6dG0pGbeIpSJUReSZWNMsNEe7RsakQ7QAEZF5UyGIZLoAxT6fFs4QKLu8RV0QmCPQyBBSVG2uSPnED+1Rwv33IPkL5h2/k7+70l8BqUAAACvQZszSahBbJlMCGf//p4QAAA/X3c3CdjYCwAT0gKsZSdY/UkUb9wYwlvjZNCvlPkxwQji6wMRpfmSqWj+4IXoXc2Y698YF3NceKe5IN77cqmI21zKXQW8wxoFDv5Y+3ThzVQvnVrJs7BmMKza1NAlQJyZHjXyKLlDNHqc6czXfFptdxmip69u7qOF8lJTIj/qnKjsBOc04/zUEldSw2Wbx8goOzwJoT7fLjNtjRzK7gAAAJVBn1FFFSwj/wDdbv1EdUjFLYd8jvaicBmi8AcVs/1i10mRKOCHO4eEJhSwpTNlQAmqpyx3j8lsV0GRqZpuH+c+OojRjWgz41GLtIVfUO/dY2CIf7xhHjuUxkhNoJwIuU6WvqUdRGZ85/RMtyZ/JP4Gr3VLBw6idl6NKvvDqYFHgQSEcxQiKLnTpZ+a5AgaD2uhI5902AAAAFsBn3B0R/8BYhcE/UmLtN5EMvpaRDUbEC4ABPew0QdHEx4HXNhfi5XCxNyGGXtpFphsBAAbv4hgOxjRKy9fyENJPTo/wwS9BilGjCC7TB+MqcSWByqqz2Aa5IpJAAAAiAGfcmpH/wFizUiiF5h0DWmaCctAzIHQNQpg3DiSuPj4tWAALchcNfBUmvM8irJ7xE59CZiitCr8lmAL97VEE3ZNwZSSQ64QfzK2b5pBpwpcKQ2c6YsEo4Gh9XyQ2UHby4tgDa4ad4SkaDyHAXhGPUl1XAz0LafXiRlKa7EDMh227Vved0KkD0gAAACtQZt3SahBbJlMCGf//p4QAAA/Z03xZAAoDUU2qh+g2qPyVqnPVXZ1MOYZIqojSHpqiClWUBa3NplgrNrLkmVoRpuYt7QtSpa7n5HJaqEIUokmo1ziQvrjLj6HceEXAjWItod4YsR+Nv6omySmjriL8zI9uapB1r6Xr9JGZc6brrSKxtZ4S0UpQChmtTxurmA35dh5r30ICirAdbP8AOG5/XeZ8rwCwMbVrDQeiwMAAACvQZ+VRRUsI/8A3W79RHVIxS2HfI72onAZoStJj30hMemGTb5DaiAAXB9YwDESjXzogYNhbooANRM5trQrFOQvx1dI73x3O2wxNZQ4/3Qg7Acj1wrN4HGiIcFL1S4CJkrU6wNnbD3gkHJr3gDS0wwbxVANZNydsajnkJLGJKNz3597VzQYQYjfZYZEB62G4IyfAQATGtNGe8auA2nIyXR8TjnjPMVys2p5hVlvtjoG9QAAAGoBn7R0R/8BYhcE/UmLtN5EMvpawRKAri9iZQ7uxzEctbS5GbLtls9AABdAUHqouFXQ5WH7wZSDnBL4ZE2vkM1UxRZe7qfyN2JSaSX16Tkh4Y7cqyoPcxu48yaCXl8IHt/5cemd/+pnHQU0AAAAZgGftmpH/wFizUiiF5h0DWmaCctAzIHQNQoi9V5x86EdIAVh1Ddm/cNrIh+ymrqnDHmV3z57CK6ZUqHCt/xshvMy7uyL3OL3iRG3if8xUfTjZxpZOVqkGitZeQARUL9zZdMAClJCTwAAAOxBm7tJqEFsmUwIZ//+nhAAAD+8J0TGBPTWbu+AFs1xBLLKib0EkcF8Zv2RvaH05whjTvpeSrAGGpeP532H5bBUx8B8yaCHQeIAV0+29e2q9d/LcOKCa2Gss6nKkSKABCmXeEYX4pxsZqdZDsL7xGJ8TyMk3ZtqNa8JhDnWDaZruJOFu8q7P+P3Jpy9DvYxEIEmp/R15hKg/QpV7VqyFXgK3LshCwEN47DVoVfQDmT7zz41DpClWAxLe4F88KfFsg7FjnO2xN0LUhW5QwUgvPWnHymtEo/XqSJg4JDCy6odeJPq8HuZIZd397RfxwAAAGRBn9lFFSwj/wDdbv1EdUjFLYd8jvaicBmhJYmoCzOVNj2ggFzPWogqcRvL7wgGCZAZsm5/T5hJxvmubO1xRsiKpCT8V3niPSDXxSoJtEzH+wBJkb5mSoZrR+t9AB4dPAuKWCigAAAAcQGf+HRH/wFiFwT9SYu03kQy+lrBEoCuCYCghse20IrBtB+7Vb3RTOXQArcUOLiu+dG/TVbpPtkehjlKXdTjjTnu6QdriZJUC3uuDBUTzImIs7F7GTEF6mIoGsNrATLwSEGGpA39bmicE0WZZq5oiuHHAAAATgGf+mpH/wFizUiiF5h0DWmaCctAzIHQMoBeKRxYT7+I/goPniDo7fwawH1CTUTZb1fdVuA5LeABB7qo/L9LUQl9TmJPSf+vOeR6U3AQMAAAAQtBm/9JqEFsmUwIZ//+nhAAAD4KjO8PcgB9FQftZpxpY/El2xNpnwVLFucnt+KhkfVZzDT9YxejxAEiCj8s7UV5cmg19US+fbngkaYZWZjseUfnvqeutB99TKM/hKIfQJKwkzx0cEXJD3R/EbDTN0SdP7Ov1I3m9oC9R8ZuZEw9kT9KsA90fv3WPj3fDnc3WnlP1PjXdrWuqdM6iFrXvgTy2Zoiqoq2bVGVjvrxYEfqG4f0U4csl9TYAARkf6WKSMyBi3L/N0h+ciY1CCOMHMgNM+mei+/lcrSIJnbkoBXZpPtzUXGLsbOtKSUkgx+GQ6YpXyFsfyj+vetzy5bsaRKUftEKxjQHpn/J3oEAAACmQZ4dRRUsI/8A3W79RHVIxS2HfI72onAZoStJj37vaaAFgkrCnZk8v2LkF6SmH+Dv7/jY3IF+LkdYltmXsCp7pHDZtPOwMYHXRbYVpnLDP6iDeK0gFx0UVc8xHQ64TPtUtOwO/vZpzjUU6nltib9kfvdYg/gg3leHC1YP2Uw3EBnJaFPI0OCqrnfkUaz+BGxGzBOGoq/S2U0ymI+WFtGc2cvAl4BDwQAAAIEBnjx0R/8BYhcE/UmLtN5EMvpagiSlGdUeHwA3M0A/bFcc3gcyfsd2P4urHytpDmkmYVIS4Vqa2cUhBaMGn2kgJvfHjTk9bSNLNUGpLElOWt+kITasTozrSx0uiod2xfIAjybi1ZFkfJz4lK23zjUyypJl/LvwQMnArQMs+uYwKmAAAACHAZ4+akf/AWLNSKIXmHQNaZoJyzoF7YtJZz3oad7QAhzkHl8fBP/LWNMBqG39HstJq+hkyTJlLcWxACP6vlt43BIo51SYo9VqqIBshwvvr+iKicc6+XqYr6x2bmlQbgg75Ca9vB5QNpO4ydbmwoNmfkXJx2pizhQxezushZmIQthKhgQnoPmAAAABD0GaI0moQWyZTAhn//6eEAAAPhdAMgHQLCwA2oeVmBz/QNntKebga+rzx+dP7Tag3Oqn7Uq68x/56D7uurix6EMR1DL5lChnpAf5K5yjQD2Vfumyx0jc5x9+PuJSoWdSlB+G+w8mcJHE7NCPbO0LCj/kMcsVgB+xdtT6SiRp0sDI/Wi7E6ryYawxw5RxlGIhPO6rbPIW+qRxg+NxzDIpdlTGUFn2v7NjgwXK0tA4DNtq7IOhOsSWaqTwkx5CJhnDMIl+ZK21hj9geXZNm0wkyKqRVy0N1fjbtI57Y3ETDIzuDYG1Hr3/5hknASsfUZ/ZqzGTjJ6Df4RqiuSQmduDCqHhX2x9jhx9Y0+iji7J3oEAAACwQZ5BRRUsI/8A3W79RHVIxS2HfI72onAZlWZ1adrqk4fpwbDqjkTUAQ5QC4AWsGqxJoLPqZniyCZ9aCno5Uz/8HRchdJeWEJmKFVdgG5yHnRmZsFQKdAefWQPdgXarpXO3T7f8HJnFGwW7lLKJ2ieh8zoyfHdQklr+L6NX6ogMfhjIePixyebzittulif+78wy3tONbfepxGGhF2y5KsBjqcBP9/Ayu6ZP5+caMNtv8wAAABzAZ5gdEf/AWIXBP1Ji7TeRDL6WoIkpPaK2bbz6lEdFGIAFNca56ek2Z/JWaX4xNcAe7drLMXqd/249tljNDVCYQS8fEWkHt8YJr+ZIbe3UGRrpczfuJ9MuRJ472Wl+nKxIxiRUqBRd4GUl7CN693ui+UCTwAAAHABnmJqR/8BYs1IoheYdA1pmgnLOgXtiSdIpneCVhFo6nXDzAqmDIkwUhgimQAeXyizze4g9x8P+WyUvxSMs7V7uebqwyGGlc6/0xVVTga50U+A3C7MhuJQP00MjcPVrLUpN27Sqrfi7L2E5v2pQFlAAAAA3UGaZ0moQWyZTAhn//6eEAAAPhdAMlkMCUoAceGzJJ3liK4f3+Sf3ukUmlNHcLeCRIlwp0fL9tUI7rkrK5W1GZ8ugcVUACzUIAyfHafNFe3+G2cBkHaDsALkJzRDfWKQ4gbO5oivERMXAYTNpjGSzg4jIOEWPwOCviR+w+tz5CEr8M6JS6YBvqj357Xgb93fDszPINUL8Gnfm2SRKKsLvNLPzhNRBW3Er5Plp3vMqWBp1dY4V48pmyFgj6p+IFn7H2YX0LIHqj61FVYBuY40v/05beyvBSYWob9jYWphAAAAekGehUUVLCP/AN1u/UR1SMUth3yO9qJwGZVmdWmxvWZ6ppv/EvL+PDMr2mvFKezCx3qPYiiZ/LXOAM2IglzxHZpmcyAjwSSAaHTIN4lgGMu620bZpNKJ6YTlGlnLTJkkv6qrCIgb08OjfQHrRLHwQ6OplACVz7UrMC0hAAAAbQGepHRH/wFiFwT9SYu03kQy+lqCJKT2yPJizaVpSvx12jZmYbxbfpWr5qADU5GSLUEH5AJNmFIIUR8rNQnQa2ybGSnegQlzQvW/pT3+UYQUKmQOvsqsiSkxKXrR0Q0hxo+xunVuVyBNq3VCJuEAAABtAZ6makf/AWLNSKIXmHQNaZoJyzoF7YksVFEbdwUAMMUcTCHTw34jKvgAmQeXRMyX9tqsG0QNJ2vk7aVGV/uHalRU1kjt/9qKax1svK4Jql6OequOhKrJNVhEP1iRAKiM8oJNSA32okfIFrptwQAAALVBmqtJqEFsmUwIZ//+nhAAAD4KjObgEPTfH4TusiAMM6mfZHRMq2m5OLYRrJLDgvSRx4wiCMLDkiCwttsQ/5CkuMJLtOfdHiGot8oxIJ8ExOZruugX2DslthuYqeX+Q8qG+hAW+w1e3Zd//C7en3IS8keNx6dQnhSg2H8TezsM/ZTY2V88csLrgd08NGOYWe6TLoJMwGZ0WlqBDKWQoRbQHnaYRBWjBCPIRiJCvPPIfCiadt/cAAAAq0GeyUUVLCP/AN1u/UR1SMUth3yO9qJwGZVmdWmx4H1/Bb7WJxhkWU3JfrbUIyGIRdgQlpZrV/mHwvrAvQ9eo/KCEBs94ALZjBCLNlXNKyC8++t1au81Cbh1/fbzTePrcGFGzJRRPYf2OiU2ypmZOJZB48dxazADAi0SEcbiJgjzgMB/EHJOcnUIzVqytCcqdDF7BW+ItkPNkZEMTDwEWj5K8QQLGqJbKuCogAAAAHgBnuh0R/8BYhcE/UmLtN5EMvpagiSk9h1xqKj7yujy4ZU8HU7GVAASzHOt8auHfyQASO4pFehVtkAXxh2hW8gynaisWQVTWCesnGkw8wagUPXcjIY0SyHAbNgaKkBFpl8xTKFwhiRPDKmaLqifil5fePyba+qCJOEAAAB8AZ7qakf/AWLNSKIXmHQNaZoJyzoF7YkVwyD+KL8bbdoUMy2uKAAC0K15baxPgSdKV623a8KMOA8f5EOHP05q6ol0VhK/ZhsO2uCUETf0FZIreV+3SX6wXhMJIOfgAI25/Sdwg0DWqcc80N6w8qX0T9WnsEUmF6GMlDUGDAAAAPlBmu9JqEFsmUwIZ//+nhAAAD4FYWQACq1SzdOG8MdzLoxa/Tz2nJryOSZQkfRl80ZAq2Mep6d084NPWmYfdyc17lLWNDcCu1xRF/gdW4MnGTypQGwdLhMA46mMjnp/Dg0oov5E+1CKHORaCpoJlbPeC3h4wwWjw1V3kvhrpGMMt/GenAC3pqEEgRLIjlA9xu27kLP7xB0paWUCKnsjRv0cbJh9VR2AoPotVAAy8YMWJ9eQOwBVCV7PCeXvxOXL6V1Rg7vS16dJznjRYK9pjQaRM9QhlWAP6upZNZQMTGYhwNivjdumqD2jcNz+XzV8S/Z3f0t4fcyWSpgAAAB2QZ8NRRUsI/8A3W79RHVIxS2HfI72onAZlWZ1abGlTYjOhQWjk61F0yjrz+35HQKQzW+nrFsrz8AGtd9fSAMWyVmEDksuYws5v5OjHZp//eeQE/kRf+sBEK+dSr2387dbG09eHjiSBLkpoD04eCvOM36lMmCBxQAAAHcBnyx0R/8BYhcE/UmLtN5EMvpagiSk9wdwLy0fpI5BrG9qhZ6YAJ27RUyF4i+274/WpADKbfvkP+hmXmpdEw83gpHdz+vHKglicKFB3QQeUujgH6Cy/Lv5rkQdr9FG8VjyiIe23o0KN80d81MkuA9yaVfb5g4Q8QAAAFIBny5qR/8BYs1IoheYdA1pmgnLOgXtiR7Vf0+MKbxjlMX82AAmtyqhVq9FnNpfaXpVVIbk+rOTLKxV/05h2YK8lYXEVa8GeW9K3jP0TCoyKIQdAAAArkGbM0moQWyZTAhf//6MsAAAQH4mEqBwN/kFOOiUe/2dvwKaYUA51sxJ/k2v6Y8XpYVklFLxxvBFMl3b7C0NQIUP0cWSIm1rlo9EdJFTe24UPkpanlreJTBpsG8Fmey6zPF81Ez3pZvTzWMtIIe4aG7bTESzrlMkI27xmw5orBIiJhzZuUQJWW5NUjJrIft7H39p5k9KwblO35gCdBaxtz19WRL5cHYBZdGpOOnQeAAAAG1Bn1FFFSwj/wDdbv1EdUjFLYd8jvaicBmVZnVpwuzbMieSJxuCeo85cTJegnvBV7CgC6cAAs9P57mDWmZfTukWTPiCRtUkHQB3z6W8hgp+fej3DMWNopJQ1htmi0On+dj1tSauDtIaSEBlIJCAAAAAXQGfcHRH/wFiFwT9SYu03kQy+lqCJKT2uuBxTmpLsONmmc8vyK0JqM6jY5fk6/xACAJGriJxvb6oRy78CpW/tZdJMlqwas6SoRBfmy+EwdTxCKTHlH73K5SyLwCpgQAAAGEBn3JqR/8BYs1IoheYdA1pmgnLOgXtVIvdOr+eov4ev0EAFxWsh/sRDTbGUxhy4bCtzsS417Bh2lmrwVUrMPv8MX2afQ0ABwipH2lRtGLlKac56/qcCWaOL/HFdnFLA4JmAAAAdkGbdkmoQWyZTAhn//6eEAAAPl/fgSg458R025G1sR/6qSBJ6GrCzp+tINYjYworWuksCDl3H7461NXFRrnW/qUFlAWkn7blbj+L0BiVOxAvzI3TWm648L20w8s72uc1VjqUkm+4gYSLntuD8Sb5Jsx7UvJd6kgAAABhQZ+URRUsI/8A3W79RHVIxS2HfI72onAZlWZ1aYAgxXfWfmIqLy/S/ZPYazSD/I5JdfM4pmk8pymHUPABfIGOWsSnW/17BR83HXiqs4dG79YUywlNcRlwgkNlK9o9ooDtgQAAAFIBn7VqR/8BYs1IoheYdA1pmgnLOgXteOLuizhB6EtsHiM5MABM8170FulBBRckY9yIG8Gm7zYDVnPatBdMXnGiJwSi1R9osDUyneWsWanxAF3AAAAAdUGbuUmoQWyZTAj//IQAAA3ft2pumfyc/O2j0IPUwBmYfqoALLww0x5GZPBACF/EYlYa+pE2AOQWXegyQjY6wZgDZDrE2JF0XAvHuVyuyy/fGiLw6WaUpMtqCBVev8kbiuRwUmXt5ANNuWw5/7wi0zVmoGXpBQAAAF1Bn9dFFSx/AWMggUD1Mxe3F5bI56+8kXHkEiXvw+fOqr6mwn2MJ/Qzl+dtAZA/yW6cAorDfZ6ABzfhBkwFzwb3CULIM+PGETwlmtRifEICAwu0O7FseiLmjVHrxi0AAABuAZ/4akf/AWLNSKIXmHQNaZoJyznaQP/razlL0AKv7rXK01B0Y1HXSeZUyF4i+kNXL8h3XG/Azvko3FuhZRSOKLSlT/v+SebDEmO7VRwa1lNgCKuY5JV5irnyXmMsBO4/4AME+2Zz0wO8xc8QMqAAAAkQZYiCAA///vdonwKbXmGqgOSVxSXbT4H/q2dwfI/pAwAAAwAAAwAAFbekZYZCdC/yYgAABXwAsgXYRISAUsbwqBJk2OxGIvWhb5NLNc7+rz8GuHXHduUmxGkHbRjtBRIBfuXAn5+LShdiIPW1lvX4SSV48K4YDlSvcslt7h/jzuPaIp/eI/6Xblftak3D3JWH+J4dMLxGMN2tcCMLjmdB27gWMvNNnJALEUGSbBaEWXytZsjju8E/yGcE0Q7zTBPa4RsJhjDzRN89yrFwQwI49pb3+IUAr2rwKtd8PAkAcNzip0T0nhQCBaLO5sRSQIPzuOFkQ7dLoHuGLL8HB6p3lZiIOLnlr7lwkr1a4n2TQ1BLepu7B9zrrPNypfWtGhFBlP8RtXKCYMV7rUQ27vwszxiuGxcdeyH2cs8Fh0qo2ZZApQD2v4oyWhOzFvzxi41zv+WIimhIUGrhfdsIx+zJPzJ7s9g5t5RZjLzvGdnLADW9VtuTXALaby2RcE1p07h1UtLJ0CHIi6yF7Rjl/7TO9tjQ7cF19zt3JUe8mKZ7wZYzfFh5bTzDD9wE/pV4kGoeKlS8hyBrlOJXcR26utPEUztxrm1x1YFcC0RmLb/sGFO1cwt7P9d+JQFKJIlcHhCG3n8aJ4ypvmvq9ZlE6PJx+7CfKiaRfXsK/Co54I8GssfM7qyD69wki9ix44uVGlBDRs2QdwQKtGFbObvZH4DzEHRWJhuCNTa0yl379Anu7naVl4RbPwRgDlrIMXjpPig8w1WfMPUUftbwvB3NLQvOf9fhZ+6aYlFhWRco2ae7XCqo3KTlz3ISfUcI6iv2gmX1JCxWuUl/SV+zjZh8eKToPCUWoindw9yWlWbo/KTwckAyPZuao1s20ubvwL8Piu3M2k7jMUaF3NezSgWoBwAW4QJ3vdKa1lgM9cvrBSo65VnlumGu3ORjOx3tbEhCnExdUF5wrR4zRJ4nlqf88iezieezZPeFzOBBVl5aPf7hawtJeIdgmO57QMZauOymvHzThjQ2Bx3+tnaonZSHEqJ0zWmAAfhr6wA+e2Oj3RRQpq9LWdmghe/4MT/oxJVWk0rDZooUEiQ4kLG43JQcm0iaGOxLaHPsDI6/58ngofZdFYXYoY87i9piY38mbgl6mESJzqc20ADtQq5IMBLv5eJG98SxiNvq4DmyWMAWLaM1nM9f4s+HC1kfm+dr2RV/dT2iz8dEtSWmU6qY4zeW7newVE7bMZHnQdnAfh0FF6QYNQ2DuSpI7UC9onFWEvknhCwJrn0kvPCa82VDx5HHHstVHFJefvqHP5hzPXw82xqviocnfJWe3OHk/3mXD1LmNrjrvq9s2psC8GnmtdOPmo0idDudiRPOsAdusYWv53+C50iVifSOLhPoeinZnOysDfYucd/3klB7b5PqbUxos70agLkoYd0YGOke+2odG4IT5HMXvRomRl2FNzf7csXwKQG5oSEW7Nkv1up48K3vE2Wo6loG3DokbWFf/lpDgg2EN6UyV6tooBov7aqyW/MT+qE56FOcVWUdBV+S8QtZj0OnaqZU5KCuU7rRuP2Bn3QBeHb1iY0dWdwyp6qvdOjVMG+ExzsFGkjQO5ou6GsWm0eyUXYpanamKM2eYF1FjMP6o8UgW370zqLHrBlg4uMUe30fv4Y7uXXuWJgd6fIXhvrJG4X4QkT+gZ0OtBLzjEfncmjsEr4XQJ/A/LXpAn5Hb44T1Bi3o4IxxnEPCcpno5dQUN+/qDq3JlDcMHaRs1CiveOTz17b47ftoZW5Xh63V+3y1u5/9tw1dLudLY24J/b2LV2mTW2WGzCAe42IwnGsem+c5X9Pmy1wKzywtG7nWTJfaj72QoC5zQyrUngEQK3vKigFJ7iydlpkRcE/Q7MzwsbEGIOd433CiD+S8K+kG5SAfzkTO46PsRek7v7AmocxL1qitZVu4eZkDJPnZFoQMHWfgLj+rMoOIifvhyzS5NSfkp09sTaizMNoWFfYarSaf9BMx+Jo4IjWQfvJYKhaLxzKPtBg3BdQEwL9in9RpHNvqcxBRAujwxHNvzQ5jsQ+at1f915IpXUalefXJLnW6awNpdSGtkvVkZZ+uffVLZEi7ig5E+uWH1Vzi4NdwtD3q05+OWsEeOLH/c0ofMdydP0DjeqYQ9RcvFOR3rMRBDT8c7v2+AQGZZK9uYM4IM37zfUuxm589L8aZJlzTYqCgPz43zPI+Ex6xa3490KfXv5j5Y7XySctDLqtwSXagGkEwxaNizL92Fjjz/t5pz2AtPY2KOcH644d6zGFn3TgDACOfLYrPlV8USdl8C0HdOvvxOqcplgconHLG1ojiadW+zftGBeOjSdAPemIebFrV7tDr0EjZmnOewXGYEFBrcNImrra+i3sYhmJstaFe5GPMbsmhypnJuLWIhojbjTZVJXbBx5/t/6mZ+65AMbyyuOVZ6R8lT1muYPyLc4D0tj0dMatNACTK36ZT9IcjjyPdasrAABd5Fp4azoc2l3PgHVrcRIDgXxx9h0qh8pZVJWBEsQH9rU/H0tIB0tqy9mqqWXmyo+HUa1RKFxetUMmFoEzxZTMNakjpSvT4Ah9WQfysxWiNEqfhqkxEVPXItLPA+8nQTL1XmH5LJiFWWNpqLOgE13oCYrXbIYvzaKoxN+ldCiHT7KbwGCdD2k2AAAJiTXkOQRCogu8+JBJiH9MIO6Kk2+q8uMstO0z5NrIkuqZ3XpQFpWoNTv1FKSvbURm68E4/AqH1HhEcukx7GYDZChrFBaxKzYkEaUEDKRG129uYSZAFpkI5/Oj0D8WGp9jSzxCFj1iWYC/h/7s/dK7VFd/dfKg1sDYgAEIcrnLgSs0wofS3gWWZEKVsSZhOXzIn52/Vg8kOUDLRU8yffoF0vYhcIZtAZoEprhC5WwUJwGGV6BrwrEB3FPV/d+Qq58INtKUTxPda1IwauBM2sX7CQHEatAG8z7hNW3GajliFHQa3WpxhYs5RBwbnILmHrpXHhu3zafjjzLOoP4HMHOor7RLVV7PSVSo69ZjEzGAzZaKShaqaENdCvw0Zn2WED2uoPmH8AAA87KDlWhYEf5oAAAO6QAAAStBmiRsQz/+nhAAABpbSXIAQEPvegZcG521tgXLoHaebXu2YKA7DmErOsBPtwoVsWRkK8S8O0dQtT2AShxvSKfoywAyU8ZS1Xxxz0/c+Mqzth63Vd5V5giJaYtjhg9iuLiC5aEpjVuse6Eai6wnchAw6bwpwb1j7dEt4ihTuntCTTJfmdcDsIp0lNicBbM789R5cth4/mj/A5eIqoYyzgFoAdOXsk3/bCn8m0N9dVwN+V837Q1RLmCwY9/IZwFbEosplY8atvLMDBMvfRXWnmNUDmqYiyJ92IhBAiRVluN9xGG3I6T8rN4o2IeSLkOEn/6U4OaVZFIulKHwdibAsNqZkZTqTamId6EcM90F3prtZvE9avJRqPVcSpsuhlS0A9mwBd8N8In0C7Ta4AAAAMBBnkJ4hH8AAAiwJZKrBDvu0ALZ3hXaEhN9kLnrEc61d5qE3DVeJzfx+aCdI/O+xmf2evA2EOuxGEgNXPaLhU56EfvZgCntUsz0QBw0OHLO3UDTPYT6qiIwZlSZqNf5nMAjEIy5BwjKNgGIl7mJ0aN0Fe3S5UXdQYe4spfAmrrJ+uI82jMBrpsmQJaH4tcJPmh7Ay4JQ5tABav4SGqyymYj4qe5ahcGUcxTs2ZTgtXO5KTQwzTc8PDwC/vbLEj/EYEAAAB6AZ5hdEf/AAAfyyN+dJtxumjPwA3Mz96Mv5F1G91Jl3NbTnvN//mLrfERqlurXdzhJAWa7kdtre/HGcHnPmrcaK/V/D+IiOsG8rGpYFTa2jb5YVfI4qZmlNUmiQe64echK7DRk+MHcJiBrT/oJhpWNXVcrDkeb3IlYOEAAACHAZ5jakf/AAAfzvgm+kUdCoAVnv7LnEKxYnkv0JTOEbZOV7NCjKqgtHAvJescP7xDkZo89sC11PUUicqq6JpFyjlkXh7ZYNgGVaK9DrykkOVBfLNP4HTPXOT6EVlu7rE/CHJzwcxMlS3X3BjxM1g5685xtstpRIIBdO/FkaNyZr1VDHGC+j+gAAAAx0GaaEmoQWiZTAhn//6eEAAAGn9jy6JSoOy/w2bY6RkfdOfKAZ009ACNVIUEKalI/F1x8AcIe/kyPv+Ym964WtfRWNAq4lkQxQkV6igN8U5q6F/IATbx2+6p5KAOKEe7vrpE4nB98EJ/JnQa/jlR/oWnI97rsfm46WZWK/uKxDuW3AbP2qjb0H9SQhiunuo6lbvXVosYL1loIIPVhn/U3sFqUJMWi9TRnxHcFbiy3jpH/AV4BAVAUEKGpxI/Uyi1CyW4SzOGs2wAAABZQZ6GRREsI/8AAAixTHnx6khWkdrUKKzoPTzI0q+d+UAAb0ycU235mg6qBiyHvAAmldqGPHsfeskMTPKPSCADyPSHEJTJcDAkqwUIkNtQ7a9gJARuEAn4bTEAAABlAZ6ldEf/AAANsUqFiQKpABym+g0JarEvk+W6giAGUuvzu9JXbzU2bPtETID/HBRCZpMIBUdck34mbQW+aN/GLuTLjIyDkHioZtcm1bxgtbtSsizjeuhlyP9Iu6PPCBhunTffkz4AAABpAZ6nakf/AAAN1J9eNqB7bNzTbXroACAACs///G/RmKUtpz+86/KZilT++vqdb8k04+iDl8hMDFR49gL48aUPorhxRb+jTLz8ga40hiiun+hhh2sltvN+42ElgKv+B/EHL3ePw2jQ+AKdAAAAmUGarEmoQWyZTAhn//6eEAAAF9kgMdWUQp3TLMYs/QAArqqdMPC4+A9/Jw4Ftx6uXEstMRX9yvOyqoKnynUu2MKxpn////9GpfSISDZJhSiH/tjZmykLb8BAIERWcFvrvD+N6tRE0yQoDNuuPvwytUpWdu91uGY2grHHEKKJCum4xftjCbwfJy2QwzpjjGUjMmWCClOH/kUgzgAAAGJBnspFFSwj/wAACLFTB2qPLvAraUrgAA2B/b47gfM15BJwgII/ot2Z/2uumbPXtE17IEmCTAfWUGRpOhA7kqSLmU7s8zwGJr1VAGCIDrXjgFpW59vP4CmNY8UDQJA7N6NDEQAAAEgBnul0R/8AAA3OIvrAJpwimqPwTJNTTUpJXBKJrx8QAg8cMbtEM6mVgWIjGmG+2H7o0MMVkjudVSeoPErrYZzdScEpZglu2iEAAABSAZ7rakf/AAAN1J9dzRiAFUwyXPWeT3asrjqXs0WYFggHvafsKKXpOcAWnZdED2ATedWMeSkzFZ2DPTxhnO2XDRRt6+kUtWj+Ul77X0A6b5vbKQAAAPtBmvBJqEFsmUwIZ//+nhAAABfS0swdSEPbABF95xxSmtuNHKv5wBzvjIDVE/e9sxN32m3OHFsKXbsK5BcrsV04u51d8AnLa+84o1K+mXvQA2ybg2OSJD8mlzglh2SDauY3K7n4c2QHHLogKl4M6lTQxwyQcRqrw3i69b82UVF2fQetMhMueAxy5Ekhn//wR4YTTcZRZG3ABeTUJREbdWEct2DpMcYdBn92W5HoQUwl2j0urTeT8DzUTE6PD0ZsIL5bS+BtCopjBndbjyhLthDQ3+qu821cLsAiuO6WRfKFQGfFXIu5jl63UFviegXCwOr6NXr+AdTtM03CbwAAAGtBnw5FFSwj/wAACLFTE1CsNxk919mCfgBtKdZ/VHeOG3f7bjWoR8Qe165Ep4S6Q/vf9LK3SGye74aKdTIxbCmHb9gvWVvwD/WAf4V/hbKq7x3KTSmQxij1Gw8Uy546eDxfWcnZMdT0AVhQXAAAAGUBny10R/8AAA3OIxOy/tDWjIw7O1vLRdsoQh3AAODQfKts41j8NueRZlA0c2P+0jl1h5zDlxiOiqucJLJZrl/bNc4lnQsrkmhq48VLLtCvEe9azg6tis5GWOUTJzvWe5qgpwCogAAAAGQBny9qR/8AAA3Uq7ueysjrkoaN+VAAXLXk9aALNiVwzAAwpSaOzoQehZEJfvSZXxQx4iM2JpNYEkyUeNAREHorD3umGX9mT20glW1fJi1GRGxlrXYNQlf6GcFefzB23Y1TPhERAAAA9EGbNEmoQWyZTAhn//6eEAAAPlwnSQ9RnkUuAHBpyCZrPOBeWNUv8lM8I3AzrdLwCtWuc31BkRmUFIP+/d8XHVgla8L2ht347MPfeXgK/x6FCl2zdygRS7MOcMqeaAQD1prqhOV+BOWnexMsv+hkOG4YEGTphg/lB33f+Xm8V7IB26l9TFy24EJFpGrAQtQztZOMuMjHJwybHZ1A37geCaHKFZGyuTAu4KDmHQc5GmxgLqRxkVLR025D1vkDWStqX+Q+2IDVexoOVWLX+kkBsE6sv5ZmJCgyLhbH9PftL6k8mdmXB8132flq6MX/MfGP6ME6WygAAAB2QZ9SRRUsI/8AAAixUxNSCT3wCmFRVTDNVuncQ7BQAXO8EHgflVerO2iyqFZinTgLekUcv3KC02+sVxF1Css7SAADGCkM8CdH6wR3EEeAuvdEGQoNkbJ6Wqs3/MH9QC4AWsGqxJoLO9tI3HayTPHWWWjJYSMCDgAAAF8Bn3F0R/8AAA3OJIMLk6VK3gXOuSo8iuXMvDABOsGnioUvzGsh9nuWRHFIrS6Suk2Ge16rHZQShVf2LfNJ01+u+JAXXwcIbfho5ONx+q80VMzS1/cxbic9c7gsvm3B/wAAAGIBn3NqR/8AAA3Uq7yJxbjGUhmRkhAB86j8gv8rN6t/fMQT+o/EsNlcYOE9G0GSiQQv0Fucw1eJfjdPCbgSy/mB6isKLoqkCM88EKAaAK1QTLvhU2zDLhMRovh6RWaJ2rEB0QAAAOZBm3hJqEFsmUwIZ//+nhAAABifY1N8UaprQMARkIBn5HO44Yc08GzwvvFJyDAJ0GtXIVDrKBVWxsmwdLKR5WYpQAuJV1TYNYFGhGY/AuGhDyagC1YRZwIn9WHDZ3l2vnRfjsI3B+g2Q8OcxbfkZo6B3cU05aPaNE6iaFVMLN/9MvsDWikt/WHyNAgOwJsCgFc2wjKM599/o9fTHckyjZGUcYe4vopD0J1NWt/UReqLtyjznk9aWvS+Zuh7lsZs01fPkXaLzYbDHwSg5wleUPJ7lvNryHpQXruWEcvkHQoWXsyKm/h2EwAAAIJBn5ZFFSwj/wAACLFTCsaAB8S8Zp4mDm9kLvKXmomS2Y5F6EYLMf1z98zqBS5tHoQAfoRSyjBqb7e9aiY2u42OgjOTj5gOB24asu3CKYr85cTCShaKNsBZYkj3gykZ+2lA7rLN+5ynH/MIdIzw4vaGGwFvqkn+PiYmiSMvBNI96yOOAAAAWgGftXRH/wAADc4kgtvDGc+RyS6kSvht3V81y54qSAALZGJ5Ball6ANTDxw25gnIpBb/mNTA/cwBPNCILD6doh8yYF2QL8pz0C6pqPXsegK2fEwqDOBujWBB3QAAAF0Bn7dqR/8AAA3Un142nSQEnRzPdjaABYuGACcEj83V5rwTEYDVf79OYa+Y68rUUwOYanXM0UWaiSs3xJtvn50aem4vzdbNceWl/3L6QuN3SYPki9n/DxLxLeUgEDEAAAD8QZu8SahBbJlMCGf//p4QAAAX22HUODYAIxR+mEJCeb1BS1S73U3HBPXkCGUsOMcjqgObJ97KFoUK6vB+9/BdLFHbCiJdjh7hVesZ8hWxH+Wx/v339sLtEhUbuJFJzMNLJUU47d/yRvg6yMV51zkoSGSuwl0wN1D8zT1raw/7C6WeCI5E+1e7THdF0ZxXFxpn6r8JJNUUVI2BXbbwfnoenqNbRqX2GeXK6/zPUsQv+Nb4CQnFL/ZFlFw+9N+JknIOmdcSkFe9dtQjjnvnAdA6ZHPXOmvYBRX9sch/1RYLQMLuK/2a9kBqpQE4ecJ5lE0C7fEXQJ5CFKmrMytoAAAAg0Gf2kUVLCP/AAAIsVLD3iy8zGxSXd4gfBQ6Wo5f0VDvkMi0pp8CABONhdyifd0rweiRK+ktYwebkwevaghXZfQRlRRsNVwvm+/g5beGHEZGkyJzLlCb8nIixhBMDwp8faDC7lRokTBeJFaz4iy617oNf4j+KSrFoxXPOh7QgG4FLi4gAAAAZQGf+XRH/wAADc4jKpGjGPOH4/3ZUwl1L3/Evx6jsVjbWQrJQ70n92wAQ3NbwNSifajd1IjxQIHyZBRYsmF+zAWybIni0swfXVaDB7KcLZRginPyhY4wb6pXUnNuGBPYNK6c8GpBAAAAfQGf+2pH/wAADdSqepxhsGZYoPnErC4wHa9auVAATF4ghZGqURAn7fCHrmhR3FwQVE8b61mkKh7dOdIr3Qw3zin21bVlSBZVhxqWzEq6WQet4JinXOrDh9YqA8Fok72iCsXGe2kfJVerJmPWFjBuica7VPHaRAzdkiduIucaAAABIUGb4EmoQWyZTAhn//6eEAAAF9th1BzmSYAKWmDlMCs2jN0F4tOVQtD/rkSDnGkQRN7YvieyNZs+F7Df8PnhxuPTg+oDgTqjHJV1Qw0ZIDp7rBB/nYQWowfS+oeA+wrwNTn9BLcfp+0H+dK3Qx9tcG0QrxJa4MwDG6qJL2Eobu4zZa4/xgTOUclagNVSX+I8mVy1iwdv508A2vMuV2fR2MUX/66jSOJ2ZOOnPJaTxI3MWQChhsn9eE1VcZzZid37ifw35nMB2Cp/KT8CWBlxxwZjO+ySUpowmKnrEd6suy9GUaTIKKjIjw2wJ15YWn+Q+jeSM2Fna0wA7wx9040i/aD/5RiJppDKV+b1YlQ3aY3kbmIDgnS9SFLg2TpxWT6tDHEAAACfQZ4eRRUsI/8AAAixU7gsWvNp48SCIAhyneKqx2nb5e1OWiAxuVwpa6zPriJY5WE8E+KzzwmGqpqz3QBjJCaFIhO69ORO+UtV5u333l+K/qgJ9/sax5b+b1jfleNFriUnHEoZXtj16nYpUw7ATwB7ruPlwI6O/fNkZhA9blYJpvwxh16fgFgteI9A7C8/gPmFfLiwRdXH1GsB9jTF/dERAAAAkAGePXRH/wAADc4km9Esx1wAiYtoKCEDRdcYnfea0IShQ15bdlZkQLX94nP4TsGStNx1E4Sy2yI6q2CjcAt6tijqM2PsUokHv5bYxKpZcEqE3PRx8EsZ4hkpByGxpewlN19DB0v8RzQttz7Od077g12vNr3Rq/s9EvBU4enG9IruzhJL5h3CsMg0Uk547ApJ6wAAAJ0Bnj9qR/8AAA3Urp0AAyGUZAQElEWZ4Acp+0W2r92CFo1aCPOtLDSyVwHX9OlhyTWExuTDTx6UtruafdzsfXEW2AjwG9v6Iuj+b8j5d4qvvbT2/ipNydg3r9j9S8TnIgo+pgr9NG9HkFzBvGrl5dLzOCF7wn7h+GT2d6y2MN/qMeSfPB9RDFo6VY9m0ZTfbOzlgNpkU0M7dwpj5tFhAAAA5kGaJEmoQWyZTAhn//6eEAAAGbqHOQAtw0ZPGOBrreOadsuifRgUV8XnK//82owm6KLxCqIeaCt0rzd26+QBwDgjWFIGRjiI9eBYaXcaSkVgVI6KgCoMqVCdSB7aGZhIGgVfgwkEm8Holj4pPysCddjJ/wreaL8P0MmM3fLuGTf+38dJVQsRMfRILtoLeW2wJaw+kQTIY24EJ8qhvM2SVdnNKDY1VQRE3i/pYlME9zdt2NUCxOy8UpWeaKxXQ+jL1UyKWc3KPIsyfSGZZY5tCC9TENUkC3TZl01kej84GRSXPmKUdWQBAAAApkGeQkUVLCP/AAAIsVO8+I9H4ZhDZ+HpKwAWHusCt6WmtZYMN3bpQIgzNA1R+8UGyuMFI3jcVeJ9LNjY8vv9516CWTkuTBCqbJv/PjghTgtwoTo8rXvsiU20id19CSVu3JBCZr0ymR/nwR7DuN8Bdj6gEQjksjapYcc2Y9FpSwFrtUQKhWLLi8vm+hKkubQZZbAdR7k2+OWlQwii12xs2fh45Y7QsoEAAACWAZ5hdEf/AAANzifckShq+ABfg7rd0TEq6xazUkGA0enCJOCZAoBD25L51tYMlSX9MrEbBltUILT15d7+hcJYcGFOLvZTghvAaj4x4lAqZ6C4EsQWeUFPaxy8eZqz7PQAfS8yY8p4Kc44DJ7hAenA+Nf4fi/a3qFPwKAVwcWObMULw0Gij18/gwP9zdK9Nrl8USjfSMHpAAAAoQGeY2pH/wAADdSunCXzABfWTtItQQftjrzhQZoOz9G2+TA1zinTap0Maj68/krNL8T0Xea1HOm+EAbhdDIk1gUb/0eqW3tQtf0OYuHIrPTgdZz+UfKoF3WwNMAbg4R06qtqFL8F+5N1AfK2IHE3sSbDRF4Y70QJhgOhBcj1X0bXRq5uy9zvrgTaX/eWj5Js285jQmMzHoa7RF2T01Ioc/SAAAAA8UGaaEmoQWyZTAhn//6eEAAAGd9jzMemHYnHPhR4oH+nQEqNN95x5QZorwu+7tARSBL4LSjFOWK4+p9l/uCjDJlFkUp26gupL0Lp6qh/ZxpZvwXlMAbKgl04VZqd/4f5COQWe8LVqFrGGxcrBT2uuK8l5UsQaQ2nqC2TZMYop7EimA2OZH3zpTXBykuCAAWGN2mhV2ikHob6+WPIZiExagpWAETQrdW/7FlhqFI6VjerTkGpHBnbKdDd4Tr+lSb4DYHRsu5Y7CoUIHOsZqAJqtRNB6q0HxDyvsKdUL2wB4Ot3qam45usNkUonzwlUmaHMCAAAACjQZ6GRRUsI/8AAAj0okAtZsTcokMB3FEf6WX0npi79p+RWVlxrX2kIzjspGTk5Q4zZ6Rp47TwT+/OPFeZayLGk2XDL0x4mMbhfKTWGs4UKYM0kOQ6GtSxzZMQt6s9LwJMNPojoEQrFki5c9ajXYd1+b8dsSNqqJajpur5+MmjqaSnXEECKnaerCQNnMvNKVul5777HCss1UnfIAPCjPd9T6BQQQAAALMBnqV0R/8AAA4tKrajWsAUANUnxsp+AYPBiEBCIs1ApY19eI7fhM8vVxef441kfYOxAupetv/Uz4L0Me8+ezT8ML8uz82luaatJriFYYgZ3WYj/XZB9Xqa9PQwC5j3BJ82QZp16mNdfD3EzTKaMn7372OKgo3wWD6gf8Av0KzWbC8MP/jZeDQfW2aSYRgBZA5Id5VwwOOCJ73KSJLV+EYv3/pl3rfYhapTpb8nrW12kACHgAAAAI0BnqdqR/8AAA6L5MBQy2nhvc6jXvILsn0tWjxPtxuvZjKuHrxX7v282o/EcaWchOuu5nCBrz6keOsnJc5Zehq4CrmhOwl78AP/7c51Ww5G+nEMHeWz8TxCK/wOo8K61orL5qe4Nar9ZGQweu2zzz/Ql/iA8h5V8Pwe3dtI2JFsW3r7w5uCr+a5dNS+gpMAAADfQZqsSahBbJlMCGf//p4QAAAX/hOj0TPLJY6BfYtHABUdKF+Q9ihbBoAUkvyolAqx7Rs1JVCUTu+oByscT6IX3pUXP+yNATXW/G0zLXjgcn2VI4VbGdBwmE8Gx0nfFN2L4TtGl7V4Nh1/89NCzPtK1CcN/1rxmLYXsTdW1xEoCb5i1qMxg9aeynjsVa+6w6M9TLfZ8Xy+7J3G2Z6/DkMbVXwh8ZcyWBCRbtwwMJRzVQaZ2zy9G6YEoMdr49+f4D7wY82/BK+epx0ZWsHazst6LGFcPOR4GRsuWWzhKdzt6AAAAKlBnspFFSwj/wAABsN4Ll4OY5nuTH1tADiuHt5dTwO6nPvCugCuRXUj+cAKWpMKHqN8rXe8OKuAAKRHAQ1AnDxmz0ZnXXtjpX4tFpUhFjBkt44klNRfSLUckq2DJiE/BMfVpZ2p6veN2UEDl+hWTzHFe+bhv4dlKV2bUCAocIwXKcabi+Dw+aXhtXfuRJRLM/KagXbygx6Z2s9/6VLX0Tq7t4gPvsePfEPTAAAAewGe6XRH/wAACoeX4TyQZaiRbOnWvvcqL+XQAomuMsprvcxrIc2lgX459sbZuQIDo85kq+JD/WJHNAwAqdzdOK+vD/JOpbwWHwnDdcSKySBxvGycX3wQId90sVvQtBhINjTpoqtojRWUuOC3C5iaqOBcT9poOqTFCOKDpwAAAIwBnutqR/8AAAw/89mGCLt2lN7sMAHFhpL2xXHN4HMn7Hdj+LFyEFowabnk1hbQlBJINj4c5Osodv5HxhGX0YLPB8RNx/c2s7qI9SSEYcS6BNSlW+jvtuqIvH6Ucllx9cBkrceB0FL4xS3B4px8fCPXBKBc7WoQH/5AtVsEulW4GgI+P+1BsXxOVKB/gQAAAM1BmvBJqEFsmUwIZ//+nhAAAAp+Va4APavtU9tIseDCmWE8dw4w2jE1oA1/d2CpXzOakBB256optue9u0paqQTtp4pXwQ8ihp9+DkDIjvPZMyu4gTjc+USQseV4qvNBWjETmnjM//lxpIG62JpM9eFUtCBqGUish1mXEDm2K6IuENYnXLZfTlPvKKuH99yeJUN9OYmF8sQSyuxWAGf2fkeSoIL3Kh3eEfHgH9xUUNzu7VPidlkePIelo8mM9499uWqeuitZG3LmvOtnbK0LAAAAm0GfDkUVLCP/AAAGw3hAy+lNHACDADlrEp1v9evUyg3M2gMhamt0PrrwJezgv/wIPOYBiHr9mk9PqvXUR84RNLhjDydyY9pttlWBBeHkretVAU86uWRLfi5ZJAHJOSYu362sx6jSedD5HpGgVF3lRVPW39PQauxPa25RZsJtRkIps923JPYlVmTnHJD8eXwGBr0qt5HQybi+UJOAAAAAjgGfLXRH/wAABR/O2PfAERtHZy7fcihiegDdCUzhHcqyk+CuONQe/vuvjVQMG0CsR3IXWUU/sFr+BfVeu/KuCBD66aOaJlmnM9H2d3ypmjaznPBMqjV+rLkasuAtYgWO8QjRM9zU7Xy2qp+S9TTzwS1wlorQ/McGr8gDhrhULUinDKd9E5r7v80WhQivAj4AAACsAZ8vakf/AAAFZzL9SAFIBT20FLIiNCOvWTLj+8+EGA6EM1THeOatDzaVEjiyjbst583Bby8S3KdbE82uTYQGEq1V4FtES2zlWrR3lkVsrFR1IPiWfsw9E6HD6+b7AW15x4IDcew5su/Vh6LNGevv7WnWiyWLIpfnRvGdElXMn+6NUqpXMA0QG8D7O2rpPSh1E/dyq2YMP6fZt0WSPwz4gM3wmRIkgywytYDjgQAAALpBmzRJqEFsmUwIZ//+nhAAAAqPu/ptVVsF/WAljmFzhABevGqVwinD9vmdGV8DQQNhXMzvkpiIHU5/Ko5DzeDD0hQtjrurF0tGiiG+ERlv2cqQZKZYJTnuuIxCIUHaGBaSFQK3hHIElB6vJKVbeZOgIiCFmWt094UXS2ylwtVFdivD7DDuQrXB9FzW7u49LaRy/TNanJgP/hfKUCdvVBeJP9Sb6/RGfU++UoVqIjOtf9impwbMTUJyr4AAAAB6QZ9SRRUsI/8AAAbDeED1qFyK57+j+ZmgjR37lzAEBNNV96Nc+8zQNyU/bXPjI2xqJNJPue38KOeJtAfbGyIotV75OXrbp9a0xQJ+ZTLUmTHZMY3+sRwn7593auBtICeIV/6gZ1LjQHWD6A73BuJjXtoPppV7VRgwO6AAAAB3AZ9xdEf/AAAKrEGZV1csdly8wQxn9KAA4ujcNiw0d6MMg6oSyccjdWc34jqk2/lQXUiLMlWvlDbfbhekb8s8S0At0bQo1RZvxzaDj0z2g2JewsOe51T6IkaDLiNt4Ov370U7Qx5IzYVtfImmVHF1O+DnKTE+QU0AAABzAZ9zakf/AAAKrEGg890EYN3DmFXwwX1QA2+hT+9LRTu211cRoY/nDjwWHyAc/ndUY26xvtTYsGVK7tzkbt8pyNmfAt+ncXa5PAZGX2Hxo5tmB7KW4XS+AWxZrvLWTMhnmGYV1/Ir+Fhcx/156bbEdWkIeQAAAQtBm3hJqEFsmUwIZ//+nhAAAAn++8nHImRUAIU9aaXeuGfDu3gC/guHd/WvT3+CYwHD1aDgXyEYY8p88uMjI/yhgg91iA49BBatLPJtGbUD4d5/T095dZsRUkkZVRlYpdBuf7QIzqej0FLLj+a4KtG81mvoPQwmoAJrYCpciMyHPO+PiHfVoR6qDnMa3xP7Xy7iX5EQBstkpa722eM88C0FijQuHu+tqTiJDonoaKnXhYOxOAzjr4SX9eEcHs5b+hUIS4ZccbDZOmvNLGXEvavKSZRnFQgZTVTAOcX6Onzovi4JalmfYuXYzdKa5zeyD6GMRkg3UDpE/Jwv+6WGpr+Xtb3FfUeVhs0tVN0AAAChQZ+WRRUsI/8AAAMDOTQm/i6m+tFUABdA4uszBWEubzsGi5N8C6eJhGKwplhTzUV39OCVJg+OtipUbwXOnSwjhi6cPYGL1WUxZxnTW66NznKivGuv4wcwlk6NVLIPvWUvBw4/38/XUDMWJ7rRn2ofOifu3lQdbsXr2ja4EDS9W01w9gAteTFuPhw31EfHIfIuw6mhrYqnNM9ePCnK0GZmT8AAAACPAZ+1dEf/AAAE+8vPrlis6AC3BFPFSO+5jWUHby2isUyUs44snoCp6swGPnITe48nQkLPWC5dOHrJWzO65IfrFQhHgloTeyOE3C6ELfD3qDbb4kB5Pfc8zPEz0EU7l5c4xcw/fXxoFaDODT7C4jReWccazcN0emKNJpv5VluXoujRvu8IzLGhPXLPHWrQD0gAAACAAZ+3akf/AAAFHzNax8ARLx35YOyBhUjAvowtlr8eviWW8eWnruHpdrIXKzpgQ5ltMGwd9gD4YhQ285ifFP+mKOLG5FXeTsL93ey1ktqAzQgeU8huGiqFXfAj2Z71VrDb2N4c9DTWtVaMiWi5a6ff7FsnyrWRJoKYTimOjhdwtIEAAADHQZu8SahBbJlMCGf//p4QAAAJ8D0EWDW6PmgDiWnTL9por5YVNlaSKNnAff+Bs5yPWIJ0MCmUXRfYL55Fviif3qUkH+foff4q9ehD9QnkOeb/eOYAa/WuCjYIfbuugtH/poXD3/j48LY8wNDpg2PzUnInThk+tRgZkEuCtHDbxBcmoQCpPA0buJtBIj+WEwye2/9Ppch3ByPYIDLg6v3O5GvrbG9LQRkrS08imXXJHLDYQ7hCHPK9DCYhHqU4S+lT+Aad8pWOPgAAAI9Bn9pFFSwj/wAAAwNjbigCsxnWZiAwNtOwogiZ7Z9KXa/RjxkY7TjYUk7r0ReIR94bYJBcMEv5OpZZV0/8dzKZO+OlnDi9Ei3dUOKDfEcIqx/DuSrln+eZI4PZqls6ZClsgaHJ8nrIIsXjLnOdctv/qZ/0y3P+qGsC4eKTz3Y9yOnQ0K5C5VX/CRobXkWFlAAAAG8Bn/l0R/8AAAVnzswcALDuRZS1056+h1VMGD6kfJs8sopRNxN2AlAH0ThyQZlTOiReFwsJEtMqzoLrgJln03sjexYpbeV9kQKXIa6wxDfHlMo4unBahSv9BIioOJ5/OHuNU4m1hcvWZkt8PaoANSEAAABiAZ/7akf/AAAFZUuNR/PZkpqFID0gKQTzSiWZxsC72llKACcSNw2NOFdG2ROD12nPiVj5Q1GwDpHCxp6aqxiW1tjsnMoYnP/z9+2BVD5dJfmApNdFVuWxMx49jizgUsuoMqAAAADxQZvgSahBbJlMCGf//p4QAAAJqShcAF9etNLvga0nUhWzNk08Gt0tYgpJjDEcVI5cW9T1bUD7XVLlK49UExJQ5hq1ZPBi68CIV+GiV0QF2ocIWqcRi/Eja7W2J1HbIh6bkaxpZHYvYkCzhLchdX3iFFwoHvmSMUVe+eTAlz8o4onnpsUid3Km/zRS7FbPZ/sj+Yjndbr+j/wLeDE9af+cEEmb5McvKx9BAzbnQGZuSnjgKrkijLfVoM1oYhWI2oksgtdyCPOPk1S7ZPeEtzMNkrg/lRycZ262bgABi54eBmB4NrCV0ZTGbhq7MengdWAx8QAAAHlBnh5FFSwj/wAAAwMlNEV08Jul1RWwSp8C/a1gwMgIldkr/NTGK+QoAOA0jxGhCP814ugux7kIFC4/KPWmlhO1ixu24VDerK0lXpW5YJZF1hzvikIkuBcYYBlDgDId3E9Wh/rhHTFJbMCXTk5d5jaeNratWbGlGAgpAAAAhwGePXRH/wAABLcAxdM2Yxmig7l6tZek9Uwfu70AKs9Xltq/dgjnD1/PEPHBrPYEMZzEWhW5aTWExuWnzlI6vAsjRvY+5VthdyI/D3Yh8DfIEtvKUQDoTrwm1hHkTF1A0MlIDvHjA/KxSAvhIQp4z9K+NpCk+fLOgi3ZfeTcylWiWSKBRoDogAAAAIUBnj9qR/8AAAT7Mt1gAHE735urvapkfpzEMinO/oEG9IO2zYFdX9c6M/bBvrlI6ViF3BLq/Pn9aKEEQCSi2ylKykP0Z1bJH8I5RofnuFPcPEr95MDh/9uLkl138pRZboNryppa2a3b8uhJJc5hyFWPJwR1nRmEL/Aj++8Fot5nJqJiydxxAAAA9UGaJEmoQWyZTAhn//6eEAAACw4vQAC6jXWr+Y9g/0g/LyL3j4xRG8pRi33K3HcZPS9YnHm3oDKgxkJqJvoz7AhdaQkpyIxfAkuw+mGYMyqgTqyNWje9G6Zh77jPukruRZc2ppzFYBJJXU3F0eCpFpEILuSUldfKUQMckhEuyGPW9/0vQw4yndj9O7SM52IPgASSV7VyBqK4qiUSMla0awbZF/Vi80OXSYP2F7KymBX2C87yBfHSQ+GCSeX42rCXTSaMdTYhVA6PGsEAVrUX1uJkjS3nTY0iWKMY+NZtrbFoX+rlONM7hew03FIqqGS5shv0QFHwAAAAs0GeQkUVLCP/AAADA4sPjNn+CgBGAGGMcmTVyg36MaDHksdY7XX+9XpTQEzmUJuLD+evlD0xih3pMBnuLdCLchghRjIYYtF6xuX8qzTecaPHaJd1X6Yed0JR7Vj4xNfJHd09uYFZzSbvD+12O1hDme2Ev8KTKoEopVYb4/AwJgF+OTdV+DJ9GNO7SZGw3sz+l5gpcJhmKf4tLg1XMDVwUbgLzdbnTZOLAnalXavuKNYO4LKBAAAAlwGeYXRH/wAABWYzpHr4ACMeO/LB2QCVbUDy1ySAuG1puTs8sIRuyGrtt9uuKVUUhly5CmgIjKa5wpPJZnb+KCpYNRlSXiPrh6IeuQgHs8d4f9DeyN3hUM/Wk4Jh+T5OLXq+hG7OF8JmuLo3AtLZopNKMdqeyp2HesqcucI2WDVZc5gvr8z0OZQsHt+e0EyVtMDAnmxwdMEAAACMAZ5jakf/AAAFrzCUU4AAX1keXHJTQf9+A0u3Wv/qco6IwxI0enNg6OdQ3owuHLA45sQYj6TKRkfvQOUCwN5tVpwSroHcvM8Ve1Sc8f/XmVvNebEx+1rmcfZ5gQ8bRt9+8f5cTwkAPnyAPYGe+UypXdH2arq+HiU19vLVK9sYTwjgnMkBfqi2xqnRDpgAAAD+QZpoSahBbJlMCGf//p4QAAALH7v1g3swr4Svj92fzNRGI345oP7YOgA6yDnd/4/F/XNOE+02bpoAtlx30rPoSXx9pvds73UoUeiDLpoZ1jxnQCG+QRjgPC7ftYv1mVdL9ysPaudFhkyuX4BluQ3H5lIUzCk0i2t5vZ0ZplxPjGXKcWr2lZt7AEUD1VzwAclNraVmK3lnoiknPK8PgimouS2df0nElSXU4APV8KxaRmu6sZzFy+fLu+xDJQb1UnzYrKUaO22r19orfxA9egGX0Ixj4jhnhn9qBly2JAilKTZBX1/REg2IGywmt6zACEFulf5RRuUEbk7t0y67SbgAAACRQZ6GRRUsI/8AAAMDif0x7qxJx/tltSGy48g3HSiAFgDg+ypT4KWPcR2vQnUJaLYeH2t2Lyzzr9oZuNxP44YRZPFBGGzcT52HdgZDUs3/kP6yG8LgcWrZh9QZqPxYpJyysfPTHpMzaaQw2wTAOK9L63I/g/g1QAtjemd0EtyC9NSKZHTLJLkhHiSM7ntOovANmQAAAI4BnqV0R/8AAAWsUngSMpzGGmGASnj05KDwZ9zIyXuYBV13+QkANAPG682Jj+t3k514b8byHHgk0q4q/gOsMmN1xBfq9t6+wZeu8vCz8d06yg1zaFPvLWwv7bUd+J1VmXYUkEsbGBahlD23uU4PGbT93iEq75+by7XDGrj0lO3ebrG1AeRWgLIepWmJrQk4AAAAegGep2pH/wAABLhQSuHdBYfcJAvwA00uPJfD2lHc4hPhEiuiiuhwat5WA34zQcTTZZDC6QWINQtXtrM6mWvXMAGAnl2fTAev3MQQiQadnkEZw/EJ5SNQT8rvGSCoMZToUtlXHAsBVCZLSdJq8dlsYmVe4+NfOsjTnULBAAAA00GarEmoQWyZTAhn//6eEAAACTf5wp0mEt8zqWBXERipl/0iZ+qz4GeVglRDpbTIeySO9Zka2D7JqXg9IY+Y3Y0DBHptmH/ncQG/roIcrEoO3ES1cYmcmOUiZif3mcF9seZT2VhW7T7gmObrZ1PQE8j0b7rFG34UXmEV/AfOZCXKP4aYK7rzG4z3VZP1lY4BWdnRlgNRcLuP7C/HbvziNCMFLs5PEKQSccsvem3FJVjuL7MQhJxGilpmVtQ6Z36cssvILUMUGH2xN+hqWf0ecnd6ScAAAACRQZ7KRRUsI/8AAAMC/E1pc9/cAQ8SRupD/Oy14/u4pJo7cNYmDh30ndvi3I97ZhVHvbLYCpIot+muWJfl2hZrzRMGk9MW2XQ8xCzj+27HcKJV6Jwwzr2kM2cxS9PPC7sLKj5E5NncJJ2paQCp5ZK01z6lgPYUSJ2ZuJWK1T48i8Fo3lok3yeiQoC31qgE2KmBbQAAAIoBnul0R/8AAAS46jjYfBsVUAKsOGhDhlHvW1w9kPhx5lhyKV1LK8VNo5h/C0ogN6ljShjvU1CWxnxFeI9orAL8ezrvQ+54LAxIyFCJ3DyGK8HdCB6oGe1csZe+L/EW9xlJ9Gk73TZVabKyHKjL7bQcaRkeievKfm2G5fpK0WIn+/hDMsloQlKAf4EAAACPAZ7rakf/AAADAg37zAC7J/6mVjwPR34hRaFQirJ9z/zmldG7nNpJVQaqCtlNJlClTePtESgnf2/mBhI8+xdhPCbapDD7FtZMmfwcbUM5W/6MzF6LO5+mi3gqepeKIRLBY27rj0Ks2XULQJbHVRT0Db4oHmNk8MirHJTLJ08V3tlPFs3hhhXDcPH246KLFakAAADpQZrwSahBbJlMCGf//p4QAAADA/Yt3gANhf7VPKoDEIYPbCeLwyObuTVRCYA244meQVRDYusZxuoV5HxSIkTMrTEGzC/M690fqoBGd3agcpxRGU+TEI6+otc/kgqVEETd0hRze28Egm26rxYa0dcXlISk950uQgf7DdRHhB2E1y4lRe0CLwBuE8fQ88UZE+rHW3PodXfYXyQ8QkwWw4oVYmhKBMtjo0kXp2AGJ2UYvnqWknIpaOP/NZYZyqPQhuPFkhr9EtwYmSJURwE7GkLWeZXnULyoAPLKQtM7B19GDRt1cx9QFqd281MAAAB6QZ8ORRUsI/8AAAMBUMYL/FUANcN+ehA57Kz5vmvnjMNeBX03TY1eJnDQEO6iKFlEB/a8NjKzPoSWZMLTmk5YDNCuOLlNea/jIa0EdnnDWP7yUyLtSRpkE576+11tXpFbaOCCNP+mOUMw1h7xkGnhWiThP2r2CHbA9oAAAACrAZ8tdEf/AAAFH9lWywqXN0rGAAaK3tihAORdw0unqfj7PdbgUYSavmT7Oc4i8u3fONKl47wiQt2NABsQ0qS7F4u6dPZP+NBv70nRFkS/VPxfTHBenkr4y72OeHM99Vz5GyELW/4CJ1V1bhmWE1IDsTquCChEMPr/LgtrHfBEPTs2P8/30qm2zOuKtu81BqtkRoR6SWwc3vNIsxCCnzYAPil4dVula+LepwPSAAAAlAGfL2pH/wAABR1Mz9VnNUdAA5Vm2zFpH6kjC5JW0QVr6ts+93KwzgExL97B44m6OlKUkl5Dmx5oOXKtCCsTlJkgCEjeAwQDKm2SoXT25jelrnAO2VCEpN4dZfI/R/ch9Bcr2foESQL5DdTGHBMIb8I0BU1yxh74iWx+i5P/S8OAP352q5oxKwNJlsYI6RSoAY7iKl8AAAEQQZs0SahBbJlMCGf//p4QAAADA/vseTfxYJSJ4ZHOrlWhaAG6R9dGbE1+jRhXcQsPcd06fc6fjonaYOVKJhFtVAFBGZR+uLosLEhcwNJeS0G7cYwJk7oo3VPv5F6prxv6ZeJd2DwM+YqYZkOyv65Vv4SBD7SVAR7BsM+cPl93LW9SMyMbVm78f2eVb+7K+oCGwv/5d1p02arEhdd4JPOLGJTM0JN+WPTpfYH2Vwegs3jloJUeUG/aorXyLSFicGDnbjXmbpz9W4niRrreRwDcjtex6j0mbglAOEk7bwbIwdA+oTpLqHJF3Ff7/x6TTfFxh5dc4F4HCTNndpS5ExWwMB6fkoYR2kwX8Z4sHnQ4gYAAAACGQZ9SRRUsI/8AAAMBUFP22XcNKYMLtdfarny8hkaDo2THuIEu4VsACXZP64kl1wWmz8Yf/5rAqKFBDyx509SWTVciM7+ie2AhvGaLpZX7ljtaBWrnQTqvYZ2TdeKX25Vqf76DqAI3tnx70reF7otUv3jvZJ/CX8reT7ehrWdXvTw8NUO4HjAAAAB9AZ9xdEf/AAADAh2s6AHP0hoQwM3ra11h1GN37eM7zvuQGTP4VhN+8YfAosKfXvrww2iTAKq5ajnYY+4MOS02kaAI9LRCgKxXOE8b+o5fDt4RLtb0uucOYE8V6kQSUwzGoPnu0/XwtXjNynALFEcY2CJdh/QU6CFqpJIALaEAAABrAZ9zakf/AAADAfyBa4GHTQQ5LqagBB3bhsWGjvRhkHWxPHyhNeZR30A8Br+T4n1sz4RFN6GoxP5o/8tylmIR6FSnjChc+LXA9xLln6E/eNRZqxHRlhvWKeRq+/TTK6VdGqQ/qrOw8MtYG/EAAAEdQZt4SahBbJlMCGf//p4QAAADA7Q+nuACHyvtU9tsx4uS/eRhoCDI3uSIruUozZTtno1gIz3LPy/H3vlXtj4ceMtasyUUY7d/utQvb1z0H+s1d7Dzn0Zydfv8K/e2StQGb1oE3H3fo6lTPLQ42B3mC9bNowuQjzfiuVAxsseWC6uhVmgUOKhOWvAWuwaMsYyeUaELDAfzIWID3e93lZdcHr88ixtBhn+fzu1kCN5u8UxcEjb2zAjjUySu1K8L5m3oOUxC7SLLEfY5IYGQ6U92A6VzK/r3knQ943Ob/tx24AlRzxmFMG2nggz+Gh90Th08iPo+xBFVds+tw7HaLDCA0JylpIw81J2GxsD3UkSgFIEjRTC6OGq23CmzG62ZAAAAuEGflkUVLCP/AAADAUgKdwF1TwAlp/rFh2dwzJswVSKXg1EUPJ9QiaUmyJe4PlhirKvezPkWvL8bpgLvEJJRoUE9ZEj8vJ6tfeokSiMbcxMTLuVtOR2yiem1rKOeE+Hyjb0Ee22kJKCC8avaB3fy3aBOkeLhDxwi112DBiiHEw3Ma2dIFnu/moT4wEmR2xJ7WuSFgsNciL0pxhtXIkr7ddBbQlwXXZsMEwebwsE8z8X58laNPE9CCygAAACZAZ+1dEf/AAADAfuMh3VN1GnFp+AG5mktkwpw4r9Cem/D+7LuGSeK7/80sLl9Qz9HU20dg3Tgik3gV+rBzhPEmSKwE4ZI745vEQQSM8fR0bs2UZ9PC9fktUysBYCYjmvcFyiSTarAtn7SHJ/MVYo6+MiM1U7dvepl2Lk5uB2fAEyqTHWlpnklFE0jFJjoJt0fR6zMRyhImB4wAAAAigGft2pH/wAAAwH8gfQD8ACPdpDgaww3uJfKxDz37FToC445IAHgpu+exAU53Q+OCjbB/lj4Yyta8w7HhRbBKHEpJd3uWfRPdlwS7rdPk3wR56k8OEJLBx6tMGumgTwv8vS1s2LsZ+QToUi3l1RpYLm1iXryvIvVuiD27XOqxdRP065DrMpYIk7kIQAAAOBBm7xJqEFsmUwIZ//+nhAAAAMDtIIEyHQVdfsVADj12X2oCUrltyjnyp8+C/kFtI8CtU9RzplWdwpAgevnfV9YMXqc119J7Cbupsjx5oM91sqDJoIklmE5hMDSEr5BeJEitAPtt+XHlMw3wcNFb8VrPsu0AlT7PElYKbbVRo+9nXbI/t9hZTG8HQkeQjeACumV3OKCKFFvn4Ux6/mojsY7XRlICmKsQ8U4xHd0wtXH2YhiKk2nxKDjKSaBSJW0kIndsWyCQW7eYHtxZ8JbbyTyZlEUsRpWgSvnx9cfCfb4QAAAAJFBn9pFFSwj/wAAAwFIrQgArTeDDpkcDaf4oJDPNN9ucMA3fA2GRvQYvInmkmmqXEndibExX4dnkmfqa7qANxMkwbcibP2iXQOQNDXtuRdvNHUUGbJSNQ3Vrs1PU0lzrSpoFF1KYB4uzASQC72LPWoV+nsG9qo29LesO01AzS2flUfDeNHLrtzi4M7sC3j0ssx8AAAAgwGf+XRH/wAAAwH29zVIEAKg7zKXM8LafDM4EmHGQD6Lta/W2nypHgHPRtmCtAu4XxlQt7NS216hXdBdUSafFZKZMbEKDUjrKXICTwsVTb1/I0njUV1hZy2SZcs+B9Bm2kRkRihdJyGxbYgtzQWhoJzPuTKedYM08qCXLQ0oGMg7xA7pAAAAWAGf+2pH/wAAAwH290o25ituoZJ0XR0L0tX4g1QABoI5hLXpIU4lyz9CheR0s8+UX3fewqBdGEDvbntj99Zeujt96HRVDMxQ7zi8V+VHkCIRek/xcN0ELKAAAADXQZvgSahBbJlMCGf//p4QAAAJN03pI5XyBdDxcAIgt57azpbH+GXE5M6iWvt5FUrQRN1Na76HF6uqPH7jxQOws241z+D3cZdOzA++8zCgKtOx4VVYPhprHAFhXqT7qK3uMS57+ds2Xwcbz8QHwuPrpzZkryW0gx/82xEiMNrcgRut0lWZHIukdhThkB5p6KR4+Wq+9GCa7p1B38xJAy4f8k4dGfZ7/wKNPLae6LtliL9klujq2kClWFrl8R6WoboPHNa72WmDUf6Aq+FP22kev0G4Psz60DEAAABwQZ4eRRUsI/8AAAMBHgd5QtYPGflMp1LQJbFfmDRMlYZODRvnemjbFgQ0fkE4ACccLz/7jqdxyraVTVBlkEwrFgLyvU7A/wO9dn+B5gUPft+R46G7ci0jf/ImtmOSCPrd/dhnUkJBFdNQhv+Hft1LaQAAAHgBnj10R/8AAAMBvyC12tlcEQoAG5mgK5Ztp/PA8f3BqV3AVGkE2rw5cHbgCSJSL8T6Jemc/X3cM/iIPsYdmWxAdzFvL3GuQS0GY+Py1niOt+LMlBVRyf8EQ4hzooboOszoYdl9sC+2ONHyaY7hjgVjlSr0I+qgNWAAAABfAZ4/akf/AAADAcPREUiFmpxpC7pblXrIbPbyQW87uADpF1/OvF4EKk9W3ppXEBa5XBhROu+kCXOwdct4MWgWBpU9/qfW6H9NzC8AfsW7mSElRT31/6+0a6KFbiWU8sEAAAC6QZokSahBbJlMCGf//p4QAAADA3RROrFQ9MNq7jGSdp7/AAgQwRzrKKm9CTa/LfUMH49h3YGJDuyDwKgaNrrmYnk2/9z83H+xGL0OgdoLudF299OVyFPHIjSxPIKntV0xaVEY5lMTBGza41oF8KV4aFQPj131Y1V4h8Sa50x31oPPZ4dhhPpNcCUlRcSNn2BF6PYIcradjA+/vHiA1Yob1QQDcQyZgtKtSpe2sqI/oeUA8FyafbZnWCY0AAAAeEGeQkUVLCP/AAADAR20RLABZX7a5/dpk0v0m5WPqRrF8H08rERId43oZaxicZZVh/bywJ4e+fpu0aBuE65E3bfFzUkHhjE3GNlTpYXt5bobIStKXtPgdRDLmwMOAw62Pf6GuolcPj34SRK8l66wp3q5bYlGtK4BiwAAAGMBnmF0R/8AAAMBuu9fBzXHTby6V9E96yx5h+n4UPwKAEEl/ASjf047IsZmiEmckt6y91ZudpfhHJM2S9ZdXjedgyN78QAhan2YMOsDEY/78Kx9x8sOUECnNEwqSDvy4DrmXrEAAABUAZ5jakf/AAADAcWBNsP0ewl1dWV3U9/yYgkAAFn/eghF2aVc/6cCQVkyfXcYi9qiKlm0z4HpY3E0O40Odo4abaicdd9FuGzkc7lf9nsSZMWvjanBAAAA3EGaaEmoQWyZTAhn//6eEAAAAwNzbDpM2IAEZAAbEuPgGDCz+FCPHw3KkLjQKxPOJEuKtfKdTZZXdcZnzt6BaZo/+Z9kcsqaJZpwjLm9ykKnW5Nm1zNj1gFeamde1zl4M98vMqnrtjdxGCs9G6KnCGJ1SoNPo6tI/A3xAZDkeaH3KN5DGhCOgOPPU+Dea9k+aeDHH2eD5IY/23oJpPWC7xjEz87o8AdzegStfuYP9R7KjbOQyN1yKR7Td4Mx97qNgEssWb5ApjdSnG+V/DSi0/RhHzFmbx+sO/XskYAAAABqQZ6GRRUsI/8AAAMBHJFz5Vg/X131G0hvQAcYFJh61z6j9+2VuoourgyYNzUiZlvGKd4FBVhvFJNUYvE0EJBDIgvxvtUsl+wtlqL7PvR3E913uCc6n3Ulh9XZA8NLwdiC/UmK0EXg6iUTcQAAAFMBnqV0R/8AAAMBvyGkNrp/4K5mWuSAAnDg74fMBY8R3zG9TCBDsh5kW3fE8bjMnxAg5q3FPOFB0SSX7OvPt5PXUgZTp+ouNcwlugWPenCB9/ID/AAAAHABnqdqR/8AAAMBxQh1ojReFP5wO5ZRLgAnbZAWwWghowVaK7MS1ZzwixhpO1Y6F0VvF+vV2lXJEXmbV2X/ir82D/DCODQYmziriyxyI7mhh/ahK4rsfBQz2FRdicABWjAhDIHdpGPfrX8kG17ZEwFBAAAA1EGarEmoQWyZTAhn//6eEAAAAwNzJS+Rbld44dmEgAeuSsMg4vACz7gmpGha52qP6qqRkk2q9tW2sBMuEm/+NtN0NHGk64k83jvBfda+25mMyPXGFkE5VjYGJnTtEVxcqr0pUf1LCbO6M7dpKni0dvtq0AOePZFWMdSmsMVp4to5mxblP2QkfswGlKLrJXdJk/hdr4ZVjzapIoS8gyFESUwICR10Xmy+1wiukhyj8d7HMB3+JCca5xjDwJ/LwHVRaugNcW1B0nZVmjAGYXp9cjeXRqtgAAAAm0GeykUVLCP/AAADAR0FN5e3i+/jtJVOqUmEYAOfz9crJuw8T2cHou/up461TlPK3HNfIMO9mTBaGsCnzezLrW+98kGx9Ov8oDiMXKb1RP+1cacsYHI73KhX6aB7fIzi6qM25Pnlai7FOpxGhwVLTLvFl2jCF4V/xpXSH27bEVK6lPGajh1K+Z7VX/RLkYQHpDDUWZaV/XyZdZWxAAAAYgGe6XRH/wAAAwF9wtusD+MHnVMKYhVHoymoAadt8RX7sNihPbxtXS9s5PO9WChzGV/SxKwElGMyXx6s70YffWrIJZwtzl8Ewui6iBT4NEw2mRNMx5AI5dwXNobgGWg74H3BAAAASwGe62pH/wAAAwHFfpjd91dHuJ3MxjOOjFcHIz6Ot/C3zACCX38YH/i2hcei3lScMbHE67dSYXQfz/pbOgAMPW+HCoPP2O6h6xe/gQAAARBBmvBJqEFsmUwIZ//+nhAAAAMDdAcJFZ5UALYCJP2LGPt49iTDx+n3xZ1kdKqjl+wYntlRe35OR9hhtAW8Us+59QsBFuxz1rxKDhX92Eq/Dk/FwOmIpwqGpDFQv29gcs6Qz6B1tlZnc9YCiSmS15R8FyIk6ss30b8whvgA9gNkRJlKHpY6EtqCs2kBE3mz+X3zL3UpxyNcQDgkDEzxfTZY5lXXbI6li/KZ5QTQWUNKy5m5OyF4mFyTW4KrzuJKLrcNpB3LFeks2l32NzWJguer/Ka07jNVa0p/j2pKR0CtPnyN3sCGnc2OJFQ2bxOJVu6WuCnaQnfs5JN/KwuDe5Ej91HGCxqw3kCyGhWaAuZ6BwAAAKBBnw5FFSwj/wAAAwEeJZVw7v16AAIwGsCt6WmteyM9YeIsl0Rm4cEqSMS+4f5srL2nL87ivxnqnjenc1dHqyw3XFQZ3zZhZgMZCy4EYVPMpx29q6A5l/hgeImghplm+8hWBfBubXbBvjmUQdDWp9g+eZSCStyfL4/PglOoO99UAiVwjRXCWYFwsmDdriBwkrbjpXwyz+mDrNNGuGcChsemAAAATAGfLXRH/wAAAwHFtdburfOX2KAT0NHz1FmoaEk7whSUwAIe735WwMHhmIwO3Ju90oM6WK9IvtaJLFueZvyrGAAuR2a8+ELPZ/aAdEAAAACAAZ8vakf/AAADAcWB7xl8wAX93VTzqCD9Gom8o8VdzGEPp5qQMpGXdjQljJ684pJrAuqwlfxbE8rmQ1v7wy/E8scbhKkESCJIVaMoNReh1gKSCGnk60/bSavveGKkSbQORNIrSejm2/XZu+UmdWiFqU+TWuq3Zb2QtlnMlJ6e6AcAAADyQZs0SahBbJlMCGf//p4QAAADA3LH5BbFV6gBrmrHSxiTd8TGCoLi3L+mqctXDui14GWCegyGZx7u/PKccrh7IgCsgD8+PwIYX1aAOnbqNcetUp4fEIqozQaQFelpc0OPPS6BZFbIRst/zdYE9/QL1jIqJW7Gmy0wH+OtLc43kYHMHRimzGJ9+xA+qAM0/hhEL0WkyEuCC5nxHtaXrI1ZAH+y9eDppVe3T2iTLQPw4yL1EQf1FaTrE07HfWha7RJHM6t3gHL/57FiQVKcil1mVaVSQjke8PVvbvVM04z6ERRwXdyDWVyxllksHWmk2aIQHegAAABzQZ9SRRUsI/8AAAMBHjMkRsRibUbd+gGYjP81MFJC0p2gBpuyE4BUg1nGrVDONzRqWHcVLG20XfsVbuu0mHSzdix373HSuj6jKF1v+9+DwjcDyyF/7WSSj7MXgBR0E+mFZvTwbNghzYdHqXz5UBeCOSBWwAAAAHABn3F0R/8AAAMBksGbQY/qisxQcbgByrElx7U955aNAqfg7Vs2WWiGgHZFtzpfX3ZQbjr2s3bdFE3Eo5oDARZ/whknlFGibPsLKFizwcgILp+kL1VKPIHxy6yIPalAfhhzoUgcW+4ZK9NsgFhcqdGBAAAAXwGfc2pH/wAAAwHFgW6ZHYLKXyChDoC+SkDQTIsKrqdGY1PwPpl4ZwYOF+k0FdOcG9mZcc+PoL6Xw/vB4WvQHEwjnYPr+driaIrjlzuAC3b26ft1fNcSD7UexEwBLeJvAAAA5EGbeEmoQWyZTAhn//6eEAAAAwNzI2Z7dtIKUARzyKnTcnWjoCmtoiGfCO3g6zkhgUfC3JXj7+l6cZaYBfm/cvTQG3hNXsGqUxrVIiU69f/TH+PXgandYI7Ah5fJURxnRfzCTF4aYSsPWcatWEiu4piwoJqA+gfJ/sVf6krDxNzcP+yrZdBN+NQ1ytWeg5EQg9nfJlAviwOS5niyScJ8ZH+/U0ckL7eDGA92uk4Py+hAvzS8rbdHywfpWczj7iGn8/Bd5Jhm72yB/AYhHOYB0zQ6KLNH8Gn5Lv5eqdZjqUdntwfZnwAAAGJBn5ZFFSwj/wAAAwEeJZWE4ACIlKOzZ5/gn3W9PNplkLwDqvwjU58vQtBeG89pgSKS20UbcsVvCtb1j3MSw/qZtbvr7MhpqLlb2pZTD1Z+l/vhsKQWCDpUGzMrMwXk60xlQAAAAE8Bn7V0R/8AAAMB0LVRkjsV70Xq2rwb19HsqEd8fs72erAA1QEHpe7ZMg5JGi726pQtfj8bzasksnpx0KxMFj93d9DkZE9ux7x1poJCQL2AAAAATwGft2pH/wAAAwHP0dVBZTZktWDiB2g8gJCm4zwPX3eigjAA2P+y5xCs5FJ75/yTQ9bBknwEyZOXnuxedci2JLClOjrC2bSTG3u8BgtxbPkAAAEIQZu8SahBbJlMCGf//p4QAAADA3PilL0WkATQ4bFvrsAlJtaT2lcaOqk+vZL0zSvw63vfr99Q4EB7+/bYt7/jWUY5WhBUEJxQybWQ7bzQF/hBjFgZS75iCXSAQsobrGj6uifDbo4yjP+7JSZa4H8qRKTjWatKIB7oTuvpRZK30UiU92fQwupUvGjTmrZOUHgjNNftms7H+J2FB8o7s4MHssATtgfa3USz7+6eIGu6OW2xOyXiWeIeaayImuL/cbe7gBB/XMOQ/TUvUw6q+cCggA7RIPREpkAmXBUyt2IrbwGMTIxI469Q4mVRnJaUE7SqBsph+AHJ9E7NyBhqrDSAPr7SOnt9n9tAAAAAhkGf2kUVLCP/AAADARnLxMCjEAHN9yvQpLLcDrrA6zyAP6KJFAT8YU42l9CIUevyjTt9b+cMQ+5Nt37dMNzJXtdRudtlvyy2qCWf8RalUKegogqdPpvT2i4OTkLmp4lC+PRA/SN+EvjPTja73YgNDIGibm6yGfpupcT2M6lQ5oSZMkwLe5mAAAAAUgGf+XRH/wAAAwHDX2G1vrVNFfsQq3BQ0sAEU9ehW+lm+S95Jzb2NaG/oPhqu9d+yHt9vtqNj0aWHC/k+4H1Mz4xVAN8eDP+k8YlDJLzVJWDti8AAABbAZ/7akf/AAADAdB+J47B1BLwJqDGLYVuSv/2aAGhR86bbAN+2yoUUGPbysAOS0r7MMb521QNzh4KTpjeqJoYms+Zi3GDPyexir1s6APH6i2e60dbrdp3WgnOgAAAARlBm+BJqEFsmUwIZ//+nhAAAAMDjcJzxooFoaiX1bwAWFnO1P867/jReP583g+0N3NR/uYBpCzvF1rXhOY50xOr62Lsch4hFzxdaU9K2N3Q5EQ6D71PhqvIGhKEdFYbD3S1Me10o7KAbppgIQtkyFwocLI1Ngc+HtX2+unVOI4/B4JnsgLR+Td00k7NzQ1txS+wvV8VLb1SXpF+FVsVZSi0bxNPcIGK61KLf5CCut7Uow2pBOwV4w8zGUQ9q1p0D3o7PfGxMGnf9nWdf+WaqZshxZFzTSsCpKNsCc9H6k4fBnxmlXhsdGVNLxcVHZ8clidMnL5RuOPA7EYoD8tfyWvyxBKcUlqMHDad5mvG9i+SCu7sMv5ry3w2TwAAAGxBnh5FFSwj/wAAAwElf2ErM3snc8pWHvtWvn/mKJl7v1snTX3RrYl4d9Vww0AJlkUp0cevba87S/jKo+M4usH3v4a7u887615hLIvPwuLd6KTxd7wThsDeAYGEVcGherSnTYCYsKhKWEt/Dl8AAAA/AZ49dEf/AAADAc+H3badmSX+mzddKgSDlBzQfIEHnHwFVrEj4ZIyXXQVs/mADkShwib0VdSv6fz3Tj8+5HjAAAAAbAGeP2pH/wAAAwF+lBJiqWgUrTmP5NuBE46gA4sNJe2K45vA5k/Y7sfxYuQgtGDTdDBkry+YaWeZGWL+YJb9kWdymoxzizP/w8BTINjwsJ5ajt3wKN8D+kUHYXV0NKwtHHkQIF9yplLjdrC8UQAAAM9BmiRJqEFsmUwIZ//+nhAAAAMBWPDnjeQSlOHsfvbfJuIHRsoAK3MQpN4vx1nKcswyiCc/nxhH4ycQd1XBwVzsDugV+SkDfdqUBkrJv42mPkcwv/Y6gPp01xGW/TH1FHw7Ndi4Dc40XR6YNT0XXOLAZscqMV4Gpl7GLH19ymcrRe78tppN4YVA99Wc2INiSnqwQEnyuHky9oNQJKCZNBR5/+S84MiVjxe0dRpjIRdhlJ6OFRAsd/9eVyuN6HT4XtkarwwQfIMtUILqbEq1K+AAAABvQZ5CRRUsI/8AAAMA7e5HK0mh4f6K0KF7OAfluh0wAthi9kYX61FKPHEjcYThUEzedV6YulRsiQWTV+0NAj9G0QLueFgMwGWb4GMeI0H2sdqjIloe7Z3k8w7IIE61/P5R1y1BBikUj4lhw3MioC7hAAAAUAGeYXRH/wAAAwF9wtr1/xMZ0+R37MJCAEn2DmtAOjl/ESEOQxpy4MKj/3H5u7j8fvOkpgj01GIEJE9CpyKdfHNkEdRvndknWP+kygMo5eXpAAAAUAGeY2pH/wAAAwF+lBJizocjYEIZ0siT2oiP2NBG9/fYaB9QBoAZzNSEhRERZSPPM/zFVcZZsBj30ZS0j3AU/bKqtIgOeQYXpJnNoFHHAJeAAAAAokGaaEmoQWyZTAhn//6eEAAAAwFaUsPWOw8ACq1oYPSzlbTR6j5O81jUcq0NSypm+lXmY877/UXK6eQLPcPvzuZxSxpZfBeulzn1rZx54Hd/mVpyBkA1UEuzZGjmvyM6THnQl8J4ItHMiEnhyxori60zq6Mxl/2N3x2LT3rqCcKSuImQOsLteYbvaqqxzin8p7ev0PeEsudr8BbwZ8zp5l45QQAAAG9BnoZFFSwj/wAAAwDt7kcrSObZilwHHs4A6ctBBZgAWwrL072u2P+okfg4NBWP3v0tXT9BTdRPvKf/ePAqTQ3JPGphSdSa+vIWvhqfq88/z9vjUbj7DKPgSkYYfBEDBg3S7KZy4q6LLDALxhwU5dEAAABNAZ6ldEf/AAADAX3C3GHNjP3Te5u8aLbRE4dGQemZgBvEIol0N97bE4fTPMOniTjKnF0/OhnJnryR+ySjYj6Cizfl3YYCQh/hKqy1+dAAAABvAZ6nakf/AAADAX6UEhLZXBS/sBjyABM58t8ZXpWl2QyR9H+/XUacY6QqyWyWUOOkHP1UQI/uL4HVJjoOoZDebGFF+jqbaOvSoRFKgCH6pxGIViHxemyCtyD0VMCtaEphJ6tbc2EgjWOlGUmrrT79AAAA+UGarEmoQWyZTAhn//6eEAAAAwFY8Oe0nYAj3usjPFjLjkrku7Mzicy5/S1un8VzDPDKn5rat5hRiKcEJdTsft6KoV12kVKe4nS9kK9545fLlabtMc1doZ5EnEm9GKN4/y2cugZltanhC0dPM1RpI92PlBlU7AFR+tmW0YKP1+WepA4CTfeHLWvkoMk08QvBox4pgQZv4YUw3dHcr+5B0jEWkEG+ocXD/TMrkUL1mzNXeiRz2wF7dcCPdaYSEleBiqNikOvI7EecFDl2BZ/vc9GGQ/Ak/E/SRi4M0lW36R3duemQmTdhKwBI2oItVCCS3p5FvxMjZqdzpgAAAFpBnspFFSwj/wAAAwDt7kcOGJ8GE03a0P+DlgI+FxgfTaAABD14sqvymy8ww5nBEhMn+on368p71Bk7TKZkg4hySHS31H8vq5C2VQxeHTG1yOTgwoiGf2zIRx0AAABJAZ7pdEf/AAADAcW0Z6H/qHUCM77cpwvGFZ1Yz41ACJBSDy+Pgn/lrGmBKv05r9XD/Sc2WMvmByPDAZIf7nNEG3Tt4NiaRgIG9QAAAEMBnutqR/8AAAMBxfALYs8BQsCImUPlv7FQSIKQAWHciylrpz19DOLQJEp9r2Hv/08IwVjmVNaXRx8pQselcNphEZPZAAAA20Ga8EmoQWyZTAhn//6eEAAAAwFYfoKtyD5+HvabCmGAWFKAC6jC6SSeOG2CqfNjY4TeGaUB+ywiGT9QRFLfYtnn6xmxg+GdNpiNLH44RScb3TauSdSDq7J8g/TUeR4e/wF5ye3L6La9xgqglP10egJYc+FSkRSt6aAw2VB/lVNXjevHi174/qof8Pd6UuM2EYOCiWnNYbLCBdyXYQh5mPtZt8lyc1pBv8e9M8zufv99o/hNiNgoiQnj5Xb6wYbc5sje2u8MRi0AbehDmhwEknPXSXcvOtLth3ZiwQAAAG5Bnw5FFSwj/wAAAwDt7kcV+axUAsxMzeHPDX8/f3n4gASrJwq1eTlzHqI016iBFjk2n6z67SxpgnxxBLBgQHYxk6ud6HqiWKtuupLK5TD270tMc0fUAHnI7g03C6OTiB/+IYEGzuhQ/p00c4w84AAAAEwBny10R/8AAAMBfcLbq83F5Gcmz6eM7wALG+hytMAY8sboIncza2agBWXxjLJnER8pXo5FeyoAzPUC6XSjwJwssZE0cWb6gpAp2X+AAAAAWgGfL2pH/wAAAwF+lBFuz1OJUhq90hR9XV+yzuQigAlqnvqAOWg3XDUD0GpN9LDTSTVVUdTZvN5uVF+h0Afi2zRVwbXai7RH7oVJMHVovfBWpOX94qvS9pZ7/QAAAN9BmzRJqEFsmUwIZ//+nhAAAAMBWi8vhEwXem+0l0aFQ4EACE3kOXS37ntCdcRymmakLhp+0ifj6ZwpOGXV8Odo/Ep1bAi6sjQTNld+aR7ijVkeghfBg3Ss5bSsmP2wUmwT2I/YAX1Zplhweb6SLwhl20W4nj8D9IVw82PSbBE7CwA9ROE0c4odClksHUiLjMd8u2rqdti18vwpCK5uhNV7cvgL53fxj1TexS34g/ocLTPOzptbz8WmcFeLxes9keEz4cw6Yv+FaJXzNsXXdhessp8bPz/ARGh/9s2TjcvIAAAAfEGfUkUVLCP/AAADAO3uRxUdv4UuToT6OUALDlaHn9/C6qhL/EB5D9sVaB8r5OXdJp+iG/ZwuySilWiVb+FVaF6XcZCH1fjhhyPZBG2sr4Qq3yCnIwFBvBzCwJ4MRVLiUUkFiIEMz4Uh0Wy3NFCGDRP+XmEewnRmob9gb8AAAAB4AZ9xdEf/AAADAX3CzFegAA4Kv0zdZ1pfUujUw7V1AfpzVguAcWKtjsGPYnKzYsUIEZMopNZ1tXsAk/Q3cmB7SRi4oT+XXqTRAW6tO8mrt5w3OozuMJ+NlYPRzcwxhoN33Ulim17Ijl3xv7B1+3rhP5pMCT6SfKCBAAAAbgGfc2pH/wAAAwF+lBINTqIUEZYHUqagCPdCn96WHe9kEvisbZWlkxVjHrFekoqPYoBkpF2TzjaBJd5CD0P/J1/5uO/fxtFhiMklW3emZ+BIlwxyHnrVh463XJqYLgQCMQftJVv7AWL64hhr3MmBAAAA4UGbeEmoQWyZTAhn//6eEAAAAwFYs/IlIANBi8C4BHugwnVtyuhtPmaVCmmciQsTcklYewNjVR2d7CuuNds3hDca1zh9FGYMywLGdOG/NXXSgRUEdUxh2v/1u/q1F9CFvzCJgJp8gPkiRoUjuxQq/4MsBV+4ZkNMq5GpjlWVUxgNdjRmsEpciMn/MbpXJnSnt4d7wfmZnbkIGeQ5bxjsKKRxJcESjLIJbmuj7NOB0MYKsV/HDefYT4fa/QPMtl1nyBvLwi/8KMKQ/deOQo47nFIyd4HKAY//06froIZkqL7xwQAAAIZBn5ZFFSwj/wAAAwDt7kcuQ0jytYABcfLIYw2iUpti63m7Lj2TUsX5JZonLTuWhCPegCUG/5MHd1WUHJQSbfp89+SEbtzvgcaQ8LU2Ff0IsTgP5UB1V//FY2DFWMYWtH8eLF9uCFPfzC4TfLdZyqFPaedMp1XsUClnsG5T+whkyy3yUY8BFwAAAGgBn7V0R/8AAAMBfcLh25u0R11AAF9YLn4Z6PakrOyk5O+GVms5BVvNbQNrDL4GBsjwN/x43jEkyMt3pAn52on0pxhqxVt05JouBoZVAI8kQHAd5RqzjBndEIa5kJFcIfeRqNd13HvqCAAAAGUBn7dqR/8AAAMBfpQXfbWwM4XM0EtPUDMdgA4ILeNS9WQqTQz4VmQxNKiE7aQvXrUr7SqneKTWE2SSzurci9ewBzclIHQRQiUbpMrOtLsW1zNHoBcGZ8P7qDV4DxtdOAAPbZ9x0QAAARlBm7xJqEFsmUwIZ//+nhAAAAMBWO+0kpHAESlrUPIAnIdAFjky2CSibCtdzEqC/M41/zcb1X+CkjzUtO1rlKE6fbhcMvp8L63IlkxnakE3Z7xnyvEbzYqDczh7JeaNtam3ynDyYTn3cHUMgdHK3oLwf8P+8Fv3W6rl9ixElAnvzndHTemlsJA6FclVgFBCOsaOtchT20CSIdF7U7oFqTKHygnaTfaV4ooFyUyogawzljYu/Ig+abMJc+yL4n/FfU1vE1ihGboNJaybRfj4cT0xDd1R1YkJ2dF9CWK9g6rlrup/l4pVhJyFaDYWvEFvusT3IlbF+llrnJUh4LCN7LwpNyg17r/ST6ThgiRnKrMDTwCzstOa78u5YAAAAKBBn9pFFSwj/wAAAwDt7kbNTHmXUtBV5ITdKh5BalDFREf8V+zM86lBA+mb9a3R4AP53i7lFF50qP8YDpIiowGoemeiH5hJZHHfuDvWhdL/7JemH2PFjuz1NLWMXocM/ViQ9hMsDlX6iDIz9ASzApoocROIMGq4D7EwdF+2Pswin8XqFGzJ1qcqfUJ9TWW4XjEPAiVTI//5i/sUOE/VhMW0AAAAagGf+XRH/wAAAwF9wttbUU7H7HKy679TMkC/15oSUMAE7bVseIiGgflJmqQtmqBYmERp3onFzHwqON7hxy4llwVmVHjWee69Ypzk37ZblDB5K9f999KMFlm5xJi6dyfmt1fIrU/wR4XrboEAAABjAZ/7akf/AAADAX6UEpH0PcMvHtEjdvZP4l+wATrDKmQvEX2BH8rDblv2H8Nt7FJePppPKQCMWuCwPgCEGqB3LX/TBvZPY800SMNWO8Iv1n5l9ub138zX6QoeRxgm6m2tYOtgAAAA40Gb4EmoQWyZTAhn//6eEAAAAwFaYGmMcprwAUb00rfJxc1InmmoMURhsOwDT1rkGzYzTp1d6zsx7wzDNc0Nph2NOJ6JMmfNkX/kHDkuuTgnfxz8FRxEa5m210AkIA8xXtS6zf3MdHXPlVoeXA8l1/wCmqvowQqBozmF8vMx2Fo8tDjJVc4kF2gelv3c3oBAehYpwMYJA97WojZCAti1YwmogqDiMduqLq8YG2EcXR4EFBTYPXlQ87HjDDEdKyGp9+Z+44fDju1lo7bPXHl9j2Y4IS4QLqTni9n4BGfFP/wHWpAhAAAAZkGeHkUVLCP/AAADAO3uRwsI0rBJHWysbXeIS+Wgjza2lAt0s0Dnxzy3L4IZ5LY2qQQvj/Xb3gkHVSX5dIADs+2Y/pfBQyvbWdh9dIEb86xNsLrzidCzTM+UmQEO8rNgOuf7ToPjGQAAAFsBnj10R/8AAAMBfcLZHhh2CVz5/G2+jYC7fLGoANYb0H7TE1wLufx84kj9F76cqYw2TsvTG2gwMZvftf/W57I0BhEeQpat2X31D2KJcr2pJvqIlfyihhmJaAcEAAAAYQGeP2pH/wAAAwF+lBJhlJwTmRpmoACa1lRHNteq5TMsR56RG8/+mhpXC/p9CCyP/B3O/RNIx/uYekyhYlpzOr3b0Oe3x3M2IwZLP3LCkwPOMqhI43wlE5rp0dcJ76csAm8AAAE3QZokSahBbJlMCGf//p4QAAADAVmWVAErwATsh5Nd7SV/Hjay5CcxPMaDroALkirGb9HNG//v3UDR3DrlVoAaq6KRcze59LrrBtIhR088fqHIPEbo67MntpQnRtSiUh60z8Jq43KJvmJQrfPhx7XRvf3BUd9D6JRUXfte1gvNt3qd1YPrf+Z++e3aWVULBd0oiwVxSuxju4lcTw4ovLg27P6Dq37d2PnF/YDi94YUJVrRMJJKhtvuSbvI1skfi4U+S4NccluSceYkxTJ9nyxN/OMeGmf670sx2H9Imxnk1NQDokz2V7D8icn+uIxfG0RPtjw4IZrLMoPcxXLshUCOHKrIHJnxWsnHsp3GqYok5ahcxiBW1s4fbQWYQPn4YYnyG7cGNYh2MbllBvQrJ60WD1drA9zTrlgAAABpQZ5CRRUsI/8AAAMA7e5Gj2pS97IY6N4P1QAK+ssb3zm028fZ/8lYBQ3JQlx22ii1uAe0ksVsuZAgmeCBJ2WgGKSyNOSWFoPQmKHsYc702laxeWlkWMhAUh3YsGwpjxNZO/MxsOC9LvSBAAAATAGeYXRH/wAAAwF9wl6Ea/pvlCEjqy+LyENlTBACZH9pBJWD7uqlqBK73BscI65zqBN9FXM9dW5zlwbjUU/d9A/oiQ7JnyokD4ue+YEAAABdAZ5jakf/AAADAX6TtXxD4UiFnebygBLE6hrWnxaKmQvEX23fH61IAZTdMdL/rtfAgNGSBJwrxzp1s6hiUBJ/n7J2aYEAPY1n1IJm8g49x9IvvwBoYzndHZwNgU4oAAABQkGaaEmoQWyZTAhn//6eEAAAAwF15l3vQAHCxu1YHxgsKCaxGcyw5pf6o/UBoO/908gRuHyg+26T3eK/CR9iUS6pgLnKLhVCHtlQsCbzrlSir+S8SqsVlZYS9g2WamIuhnymdrpo3wiYkwzZ2YKtGT7XLcZVapZ1JM+YSnuxmSVB0eX95IGbp9kvB0mFfq/24sO7I9AJw0i2T6ME6r1HMybBzdJ9Jm9AegLrJQe9PJE6z0VuNcoPX2c0aOr4ABn/n5fKaq1BEoJwPrhiVax5PxI2ct/gbPSsX5knj6CaHkH7rKFiCH/A5M9RYVfmeL1zHaPbKzNmuBWialhj9nhV0pyS0npWltq3ZbtBQEcsTTWo/POYSF0RvAZ6oDpBA8gMVfVP2jg7ACm1/TMy83q74jJIqFYK2zKwIG8UCBV61KLLQMAAAACyQZ6GRRUsI/8AAAMBGlFY7p/8cN+v8BWAFmABn9JzGKPyZn5NPRNIx/uYgAYSky/pEGsrVfb5giB1AaYHOwk8pfAcKcmnhFuF8w63aoDXCTxgzwldR29lyVONeXl51U4wBytjpMw9XN1O+NmJfmjRCCae8Z08Jia7X6kTkEFWKJPxl9MDHhuccaRBV9nJQDAWsIfchngrPgV2m+f/jFJSK/hceQB3Y13kQMMVmbmUdgjFgQAAAH8BnqV0R/8AAAMBxIvZueWE9/1s53xjaj/LIATK9eIBv0Y/7524PWC3dPDnXUaXPJqsLL7IU9RQgj1iIUag/Rh4T/ecuRqAIbrEsRMkNw8UBU4sk/rprVUuz4sKWeIeArYpaQ7d994kx0qS0q/bFK3AqTNIz0FwIdgiydBFB/QQAAAAlwGep2pH/wAAAwHFgTbFO/kv5R0AKtawV82Jj9uCbqwyGGlc6/0xVVTmk6LgjS4425iby3cuCzUjShccxYvSG7YoE/Y37pNxw+TTcZUALDBM8g0PMZyE/Ks/w/BItf1bMq6QciHa22AQbLn+Sd6wgs9wAWfc6zqb6Y2grExmCoyXYw8URmTKNtekJFbbFDwsX4++2ymyCHkAAAEnQZqsSahBbJlMCGf//p4QAAADAXX3frA0XoABOpX3xIKz+PJw8yVSXBdUmE8AWHNSgs49lmpW6vUGFfpnvYf8rIriisHabqMBjRuHUtVtTdTbaHEQraOOfdtWplFepVm/cho0vwHFUtQfjhMbKWfJG8AD1QmWTRcc0/LSSGehsHU+7r65DMf62kCuaFJxleQqFJk7uV3ZYpizIAhIt1epHl5WmuQBrxVch3AvpzF+Xp4R+5JpiSFymcjotC/oIZS46tsti7uXWeWWLiUfovsHriM74kAJIy0jdhe5hQ5P07DH4IUIxAYDOhMQRR8jVT1wj0jL2wxDl6JIU3RT83JaMuatmkCx8phhTbDr2QzJgh12XICvminGCiOjw7T/5h1xXCEcqHHj4AAAAJlBnspFFSwj/wAAAwEeKkqOngygAFcLqbqbQ9qdm64lDbOLrPcHQgVPGiNyC8smPMwD/2X2ZtNIHkBYGgtH1j7wBgh72W7z5BX282RYY1mBIHu8H0lGGYRkKyuu2z8zMT/tWazV1UdnuxXiv8WRlxgPleZRPZQxrwWluN6dq4g03r16RLVd0VQmOpk24F7GYCQwxagSsBoUxW0AAAB9AZ7pdEf/AAADAcSL2bpd12O4ARhoxk1g6f9OJ66n66htwCgsOyl6FXUgwpBrEcUS3U+Eb+2bPHX2vxJRNqITex21iRVOCUUTGRFwIUNKySNtJCHEnK/oT1wwGa3kZMWt636jD7bAq9J9XIACsLfc3GuTNY6eltQi7O4J4s8AAACjAZ7rakf/AAADAcWBNsWPGUAJ2Nh+dSmy9PqTYWzJdU+CWFw9bofjHX8Od21fhedr5KFszbcbsGXp7IsPUAS2ILPDsiv7wUmsCrXZ8hIDpFAaBIK5y640HemeNWozDIXVALdd/4JBUTqgitZqN2UFHF3tgRldAIlsCEbLzsr5tcGQTXPlZrlsxPXpJfqffnMr5yZmKzcgloWJbA2byk2FFX1YswAAARVBmvBJqEFsmUwIZ//+nhAAAAMBY/d55/Vq5jNQqTthrmVQA2JhSHn1WXfi2Kk5/AzqbGXhp8CrP/IebDNJKj1aahHnLualMCYLCeTIZ+sKq5x8/LWi9CtM6StZd6F+/DvxHGJb8ARpjHyI6PjJ7IgpnmTFyIPAndgd70LSkQ09LhnEf8yzvdaeD3YdxigVHPyS/31eV3wHF8bmVyNWE4cZYiIEtrAnP1YDokTBSQ58ZQkZWtUoEZXfjKnwRBnjTumjK2hz15DX0hd6qZAGQqGJVFLPx70mRQbnEkvy19OfswrWqBZXfxw/eAE68FmwqcAI6VPRQX7q/5RZxTwfDZAKUZtEHQCZFRjhtQJS5AstelMe/u9BAAAAjEGfDkUVLCP/AAADAR4qSo6WRVJM+QMLzOoPGgwA06IvKW2pEAbizGKq/SgGh3ev/WfA0/LKCzQ4LetiUfhg9Sj7iRkVKJjEaXJkb/u6FGHsDOV4fOlA94Eu1bWPd1Bc5TU/0yfcXCA206UzvRhfvbEspjDf0yp0NLNobyleNkoqn7NU7M0+RlPxdJuAAAAAgwGfLXRH/wAAAwHEi9m6Az5AByWjtItQQfLeELIk71unwh2KGMj2jUnYMkpTXEYvlVi7z4jCPe9hCY4mSzSp1Oj58w+ZXwBnOOTBz7PEvpL+ki/VIJDN91KwbHyLeMO2uCUC52tQh1dsi++1Dis9wqg4tBZ7x/QX0z6JpO0DhsVIFUqAAAAAdgGfL2pH/wAAAwHFgTbE3lheiQ/gmABKu7n0RlMHnGQDhDpF8ayYM+ss33sTCQyjFYo+7tAB+GAF7aBuKrm7tSBgNLW0lcVf1fN7UgyfVGEbz9m2r0trl1bcqp6JO8qksLyU9pEyAAZsO7PH1ibqroV9uQCgUkEAAADmQZs0SahBbJlMCGf//p4QAAADAVl7DAXMIAKyaYsyxbBSOQag0e7s0v8Dfp2YezyU+TpjTQ815fuSBku1obHQD5z6XX37Rc1gsFa8gCx2daOzcU+PXGgsP7o6OMucNsnEtQjmRd5gYMKOZGfI2wlIV6iZ+NPgbl6rJ2WTD9CwsEG0VeLvO+rtJUo5m0s/tCV9csQn6qel6Q8QN1JCKJeUwE5ga/DChniGrRUwS8sHMG47tFGVQNLfH7br6qR1neL71z6GNZ8zilM53p5N4PwZxPJ77VJlvnNDOpruSNpb8N/uFeVcU0AAAABnQZ9SRRUsI/8AAAMBHYLoUAwW98+u+gcQBPY/1aACRrkqh9Y/Gq3mfZoqUOkYBjJWqMnnNngNUOi8GS96sF80Yf1VNqRi4i4fLJM3xrgaFAebyG9FoZNtOQOfeUFIkzXVrfpGqKAOmAAAAG4Bn3F0R/8AAAMB0K1vSBwyRmBoV/BUALOS/V7h6mKxi0MVgs2/jITLOdvdeAxaJpBUPvvE5ZDSZ1cPDmRMJIZSL0urFAVJxW0u3Jpw8lbO542HaQkhFp2t1Z8AP2LBLsPa3b7L4ZYR2AIqnvQTsQAAAFYBn3NqR/8AAAMB0O/+IheNUZHka5EO28kABDWhurKpAig+6RWJNJqsMsiXVvYvJBq08zKVHa5snt1WMOAy43qQ6o+Y4/d6UakXEetAKvQ6mOJR32ICbwAAALhBm3hJqEFsmUwIZ//+nhAAAAMBWd4oNIdzYL4+Qkjq3R/WUI1qWsAW3g7nIMfEsy8pNv0H7RyD54DtPfgLZ4hYTChe5I4KYSfA95d3XheTRWubEumIbJBuo9v8Z1Yh3VzMloXd/8vUvSeRCWEyOXyw4+U+5ro0AMNc9nCSsTQxLJ364elmG2vZRNtXPeByzkUtp3Vtx1XomYXBV8yg9GQdYtrKcJXdXGabCKURA6VpGzdE2auk5+fBAAAAXUGflkUVLCP/AAADAO3uRxChOFiKPqRrAJ+yudjoUAQjISzAR7TNadlufiy1orlHK04YOQj/K03dt0iDUVqyMj+8+mqHE3q34GOStH/0cN/yDdc4tTTk8sVvEqDpgAAAAEsBn7V0R/8AAAMBfcLcfET471lVr7aj59rACmAwhV7Kw0NQBxc3wQZQZraddf1bRaNd/s5dvi8YlsOJ9+/SxJlVh7mJgAQJuksdQ8AAAAA9AZ+3akf/AAADAX6T++GTL8C0TG+qQudQvvQBoq1Vwfk9JjNERUtXi4ZeDKBX69PAMpgy15Hqyz+jqAA3oQAAAI1Bm7xJqEFsmUwIZ//+nhAAAAMBWVZXRZAAKuzWTXQQFWyf+6JqunTckmWMBSD3Qij28bLAt3xm7oedpcVLW5oED48tSSn27R0pZiAStmjnybfpJA0akHe0nQeenqQXl1IXNDFevneUnyFPe2rpZykjgrHHgeV5hJgSUnXlutGylTWLrsK6oRh58lKLy9UAAAB9QZ/aRRUsI/8AAAMA7e5JKBXS+atTtc54KkMhCXgAXF0jnj+tgCqA3d084s8dLXCWpQapd4sf8unU9WElY6Hi1ACWNEUoMGsuyZPyhs/ID6ZnAqaOVTOe7q17NPuYIB+s81IwyvSQkdxZPuc2hmLNh45kFv82fBRbum08SsAAAABZAZ/5dEf/AAADAX3C4dv4biFCMd6LvwsIhdqPYAJ1g08VCmlfIRwSgiLckeuCUETiynwUHuz9DKB3PjJFUX9mWwZPb5+9PpbGU/g1IJHyd2mWrXdrZRdaCykAAABSAZ/7akf/AAADAX6UIUTg3Ijiwnr4ABwaEHmQ2WkNro+fHsw7F1M+Hy2N/VgvBgY5k1g2KgCi1aqraiHKcc0p6kz7I/dOfS8cwxt7ZpdF1+ALKAAAAMJBm+BJqEFsmUwIZ//+nhAAAAMBWuZW1wiqUN123hEgG1W9WMHDAzvB6QAtFyaWzGnIhN5NSp4spZeqcDW9CWA+cyc2Yy7nZe4DK9oi8GOXPPaS6m1AF1mTtic/YJDRoKfAE830Ee2FzfSDbsRSphyeURaWPxk1wWUtrn+ub9YBI483jgv+79gqebd9G59134FlUUMXF/FbgKab9aFVc6eiR//cS8sV0W75ACqdl5EbMwbrQmfSrqp/Wj798mdc4/lQMQAAAG5Bnh5FFSwj/wAAAwDt7kkutdGjoLgOw+n/QAAHFKpUdPxcycsmUWs3ynm6hZRCGFM006dNoKogoyfGEJrjswBKxDwuIW8sllkuVtwgy0J2HS1/E6YFfn/MNcWtYfFUiuENNllJdHjcy+t3iADKgQAAAGsBnj10R/8AAAMBfcL5Ij9++dy7uIyuGwAASyZnw2/s/sroyLNyEEi4ER13eeyjlu2J8fX6R7pK/W8aKT47L8eOOTATtIB+il9XVMK0PuIkVX+RHv/hPP9r+GylIyVN04ckiBsNC4KrxHA7oAAAAGYBnj9qR/8AAAMBfpQrSHP0hFxdQo+X+6wA5Foxc2oQL2gqwLIte236QtLPjswDOC2WNifWMjJGiL+0WZzsVBGNjqKpTYAsmBiURsPpLHxoW2F7J/Q+2cb++n7UmVR1+yt6kHfVBL0AAADfQZokSahBbJlMCGf//p4QAAADAIN03oncqHRvhgBtdzp1nm4JnfUfZJCUNAqFDOfugPXceX/PLw04E14Aqp91U66yLp74j1gvy1S2l44zcM7jZtTI03QVKYeuQR6Nnwv2u2Tmbx/IGzKfy4vunfGFlRrmEbdms5Yk+lbnYFh/74D0pDU/xzE4gUsk0RBAgm3teYHpTrlQJB/EvPEYimLU3z0OVQnJwczgMAnjMLsPcfaRw7DY+CoZah+Oqq2ExottZ5gEUZ8XJa7vWUKV1kSzJLgz/TWREE6SCcEPP4q1IAAAAGlBnkJFFSwj/wAAAwDt7kkutQRS+aa137KyPkapUvjragBVbfMQBL0R+vX7LKFgUypdFGHgUb9yiOaD8vKf+lZesrf2Pnoq58RYkKceibCOB1TKa32Mv1JM5xn3YPiDnCXo7uQUCb88gz8AAABWAZ5hdEf/AAADAX3C7Crvf7DaroaokOKwHoABM7grBaQK2TKuxg9iGxi2TsMDv70EIuzStg77+6b03SsfKCQVx7jl3Pb8/82VhBGLqt1TZk/NW7BA7oEAAABZAZ5jakf/AAADAX6UIURwzuAzW+JmpaLnSIwaDcKmuy8ta4sABHsIeXGapmIxcIK2bvRFzr256eXUsijrFZ89tFNKLjTUPc9rpsj1szuVogcuQxzwlU/zx3QAAADdQZpoSahBbJlMCGf//p4QAAADAVkHnTPWhirF12kANffkP8J1wGdHO/EU7mIit0EY6kuSKit21/nwlxLUMtnEhbyh57I88GrkrVKv6wOo0sSinpTojKFkwQfDThKkVNeG11idAvrLmv7/wH+Ls/KghsC3QYvcREq2x3Gy7BB7T6XSsGqkRx2mCEkPnyccMncm0KZ63R3akx6Is+9qekaIz7YQsShgdBwVmHSrTH9VL4PQ8yC7COu2PUeRywLASYMCIPXx9T+46x75yFfqaVxQAAUrrFHvCp2vUEWuONwAAACNQZ6GRRUsI/8AAAMA7e5JLrUM9FoS7oZtfBu7IwQEGx9UjokAM6JUBa3wxhzhZAHmmZnjDbHIhzeiYanrA45Bd8h8WZgktjFHSza4Nemn8L+fDOq2M+Yb5HSj5owBbDjzba1rA5h+SATOfAtMnSbH/T2xS/u2LreLOdpHK1V3JW4AdXUJEdw4kMyUrA2ZAAAAXAGepXRH/wAAAwF9wuwr1uZwwu9UQjW4imN1Gm82vALgW+X4wlC5gAI9hHZc2AMWIdMfAs75Jmo8y+ckIM1YWq6bI3CabY6OY/IOvl74BNGjXbXNqTmS9PThNSh4AAAAaAGep2pH/wAAAwF+lCFEvAG/7MzKbFR8umdTDsmM1oxYztkbOSv+/4Ap1X5HB+97jnoyJovc4jSH3VL/YqoPR84yo1Ce7S+cxvF7Tn6yWk7XCeXaL+VtNeb+E59U2WNUO+8xNZHFEATdAAAA30GarEmoQWyZTAhn//6eEAAAAwB+qg8TrMujhiNb/oAWPZKf+YtbPOjplShIkbv7haDOB9q70e6gVZLSzzjkfPFiHfb717m01zAHaXy2qYwUh10TKzmyK95auutEg1ynd9OeAdONkknRMsw8CcroetQluyPE5upzh+5YUVSw6C/syrbkQx1ocTyB0xFwDuNi+oUx7oNswiBGbfWQzI+H+tbgbiALeLHnHn17YFbW6YMYlT1r4G7g9lUR+3YAvwo+ohFcc2Vs9mOeoFxJt3pMgcYdbTCPmJgT9s8Zm082WXAAAAB7QZ7KRRUsI/8AAAMA7e5JLrYDsxk5K/emkgxHK0/DhV7Av5n52gqRhT3oAG4OPHM/xc41sCXebPNo1KfEfLsuYgORIVf9ryQHAlIe3CmiNHN0RH6g/txoH87RzvRESDjqEYNC2N6/ldxMbvmMk3tANKwtQUIUEpd2MxZRAAAAPgGe6XRH/wAAAwF9wuwrZ8MYpO81NsUWXRZGhuPxmMKmPWzTG4ZZXdXLIAAgTJA0En2ag0PIMqy3WnxPFkTBAAAAbQGe62pH/wAAAwF+lCFEkLDn36EJRHU9OACFO0n/eS2blTLnkzWQKaIbsbGq/6er4xq97JRD5qAv/O+5vWme1JRJnAP1r8u9EQVvu2QDsuqKfd1uSWp+g5eo67WxAvbhxhzybj3CyXpyXJq6esEAAADQQZrwSahBbJlMCGf//p4QAAADAVH3fvvoOagxDQLj3jFWAG79haxPSFLM+c3Fd5H+aO3VUJf22b6sOO0OcWsV376/zM11aaCJrj5Vc/ndG5OdUE3aL4HvIMYSXWmvDxlJWXBZ96gXxqO/7Kwq7JULz31phb5TGsILOwSZ23Hnk90S2p04zP3Ok5o5YpfVhMUjosRtCnbJB2/2Rj2Ii1gB6Jcmrf/hNBXXXpiiHSVle/JDG2ycMh9NmD4v2cb8DicGrtixDvgnks9yvUh4rdDTEwAAAIZBnw5FFSwj/wAAAwDt7kkutgyosyNUM6OJwzZa6mHKoyToACL3iO1NR4bPks/Tbfqn23FAaDS2OuC4c+QtRVP/dsJj0uchjIak2x1grw7Z9K4HycruW+mnajNn+zRzLeFw+WIfxd6803sbEyL6ab2JHWcSAcHQOkFAA+7EzmV9FbS7R5gDPgAAAGMBny10R/8AAAMBfcLsK5d6EPQ4Z8gCkcfs5du50rMZio+Ze5rck3Kddhxl7QYqSAyuJbD//p3cMMvcEIfQ09BJSl3KRYRom4JMZLlYeuFAebKlYHWsJXK6b576Oo5ABJf9RFwAAABoAZ8vakf/AAADAX6UIURw0YkxTApvpVAVUq1TN8ABStcZZTXVjAohlNQSriZamfopxZ8exPMje+bi9yhTnnImQ+qGeRHRhp2leRSBRRDgjZu9MFji9DogTNd829VtgbFok/stb93GKZ8AAADnQZs0SahBbJlMCF///oywAAADATn4nPPfk53kVCAARXdYoP+AIEZ/52iz7oAANpkzRR1Vl2Xv/I7WcAhjrejAbf9PLLFAmAFKHnyzajDUL9aLW7+FfmBHsOErdzMQyioNhalrVtmxcGotQ8u1g3LxirVAI9gcGAz6vyR+HF3Szvxm4M2Ez4v9T/TA7z0QwHHAHEoCpGCRn6MDw5JzmICfG0dMYasnQHQQUuLq6JqFrDyWJuttx2c0O+o0rI6Tvjd1EHsrbeEbrfwQY1JdXC7r5dSUlWz5Dvx7V/FtQ+HUztBeYsnII13oAAAAakGfUkUVLCP/AAADAO3uSS62DKi1P1Kdge28iD646R+fvCjODWaAEB3LO1mTKqOA9/+xB2jdYzYyNdzZojeu9npENERawavKe7twSZk+8J7ornp4PvThUuyI+PjA619GEpEVKLv63BX9ZHwAAABdAZ9xdEf/AAADAX3C7CtnyF7UKxkmvw1gamQidWET8ABnwQnE2vYjonkPK1tIbZmSMoJn7ludE/bHZ89u/EAQYn70L8EcggdzvQxHr3xv0ye3JcaTvReNphN0KAOnAAAAXgGfc2pH/wAAAwF+lCFEcM7gMux1SfRJ+bQVV41vWMulgAEfjicGs6b58UzqykAw2RWYgOvydaoDSgPfOnY0INWLzz5Jg5XmDkwf5uVPU9DdItblrUZk6GMNvccgPyEAAADpQZt4SahBbJlMCF///oywAAADAVT3NDXWZnLJ7ixVcbzlUpWcAUuLIYSSVIPGZ0fBvJzhoc3j2uj4Vf3wdnjrWbnMuEmYEWXTY86CuMSzJn46ut7BMX8F8HglFC4nVCds6WgJy5FJB27ucquxlnSgMtv5GCyDK/7lOrj3LHa4IQ7e8xbKM340y1PgyI4sezZV8y1N9AeVxk88nDbPvAbnNQRR0Bo3I4lgtxaUQT69dtRCQQ2vdc8E2h+a85mAeIgVUeKrsfa7U1qxwl38SkjVeIjDBR1xZ5DK04dIptc2VVA5XTbIFLO5K+EAAABbQZ+WRRUsI/8AAAMA7e5JLrTx+18J2rZrLb4OwesjyQtUKab6p1pLlbZh9cx2diehEmLjPAaAEN4u2rRaVFeN9VYK4OlAR/T32z1B3U/xXk2SPM0yT0Io8YvRUwAAAEgBn7V0R/8AAAMBfcLsK2fDGKUNXjRP5VK7WUDJEqIztfZEtxYPzoAFhz6q1SwmqEEXp4q3sSJGMG5lOgU4/jatK94rZHMwCDgAAABMAZ+3akf/AAADAX6UIUQfJMjB0Ijl4y9cFEXZhV+HD8shYAEyW8ny2a0QBNxGmbTbc1Fx4DScGMQI4dz5gZt5Z9uIMQw+9FYjcFAk4QAAALFBm7pJqEFsmUwUTDP//p4QAAADAVrmVtjkwHc7dABpZa1c2g4XrhaCkMLL3v/qIHguJSOV8XhTkPHhZyzyfFRsIkip/Q+nHAwiuo/YYp5UlZ1W6iPV29xCNhU7BcPdt/Qi/JW0s3vhS7vU1Bg/n7mofb5L6bOGwRBRnuew3LytmDW09yfyzYQMRTbPHHyZtGOBCVFnR6QTLMjB+SImT4aH0F8+1kTRErcCTtHDk2NdfbQAAABFAZ/Zakf/AAADAX7yKz7etB7Etu0YCPDxUVuWE+vMIwo/8k6AOuVZWkv1AABr43GWUy+Jc9y/cgHrvNsIyXh9ou3v5Ak4AAAA3kGb3knhClJlMCGf/p4QAAADAH7VE9n8AABs4ETS5vFgnfwi/7auQSrp55ROaPqzuo1eRNWy3GaDnuUy/SZfipr087atTkVQfNJYrBld/VA2tMzUE8CE3iG88yx5PAbkC8qe0UKuamK5rWvREl3Pt/nz7tpM+t2q51lynPCf9IF1ITF6VfOI/sgucVxQQHr+TqC1x1iaq+J4RK8RJCEfrMseJh9pp5gMdGHO0TiCRwRwuuILEru/0hE/TvHF0G0WkdaRhGvh1ywl9WHR4MN64W7lCwOnZ6jsjfe8X7GBjQAAAGBBn/xFNEwj/wAAAwDt22yV5CTFXPxI8aEgcS2zaDAAud4Mf52e/Egvd1vyV6fJKENW1FpyAwUDKxUW0V/CfRGtx0QktxXVx/UQFLm68FZjyiM7AvYkaN2GRcX6F9azEXAAAABUAZ4bdEf/AAADAX3C7Crvf7EDXjO8CT/XZNgA421aqiy+fOcBTM5UeU9YLSV9WkcgLG68x34d8dAsrYehHxBgXL0TaphbabYvuEXMCVPnuSg3Xt8tAAAAXAGeHWpH/wAAAwF+lCFEHyTObiYApHH7OXZh9+7KzruwtqHnOWN7oRrWSUrD8K96kP+4HwlMUJABpshKPYfX6C1ZOc/5czkf3jRyYksmzr/U8NZu7ieIgroriIeBAAAAekGaAkmoQWiZTAhf//6MsAAAAwCAHEyVe+7IAEi1pKMJai2jAeLJpjVBoSHufMuNqcuaybI7rp+6PVmq3UDbmFG9TkkBX11la49Ld6BMynx9ZeP3VNuSehfpdn5b5TsIDjiByr9ZTZjSpa7nhwKmNK0de8eogcWr42BAAAAAWUGeIEURLCP/AAADAO3uSS6yfvTn0sUfjWWsIt5G5lADddUcSHWabySRtzQKD3FrDVAJA46V8fT7r1hzEK9AtyM2qa6FdHuOL+rC5ulCrAdLypLGCo6zg4y5AAAAVAGeX3RH/wAAAwF9wuwq73+wIdbdLmPtXdqR1mubxDCNU+neAE1V0NM7deKtvbICJtq1bR83oprfL6jwvdaD/h2UapE+usgfTYGxb0ywXy9oEgMD0gAAAFEBnkFqR/8AAAMBfpQhRB8kzatiZ/pgYm7QYwArUG3jAyUVgnjd1JoupLsuAWB4rEfXU5ScC7kCra2bFFEad68AEZdg4vHSb8qhnB4XE4u4W0EAAACxQZpGSahBbJlMCF///oywAAADAIAcIo2+YCt5NQ7NtYAirmoRG+fzF2n7GZR1V6xGoKd06p/AMzy2nC2OdfIEdJwVQ/WLcE9tk/MgkDmv0KHcb+b6BvTSlOye5FaB9hR906opg3naxNU1y/+310BLAhNmOMlWxPaleRQlyHXI5OXRYCUwduNRjdlH+/9i5apjEGkeHR0gLpuQA3QUpJ/yGHGHU9bPU5qHDqhYIbYiZlJBAAAAT0GeZEUVLCP/AAADAO3uSS6yfvUoWKtXAAqSSVuFKPYsoifusZLLtTwVAnyF8Sv6oqqtbM9nuhvHZzzhRNfVW98sl8D0zDzy/qIscu8tgQMAAABMAZ6DdEf/AAADAX3C7Crvf7EI91zrnDLWxngBW0j3bQSBERoSX/xOBoujwsxLMbPZNfgxa4mcgTVfhGzXyDBA5jHXVapm+JguH3lGzAAAAE4BnoVqR/8AAAMBfpQhRB8kzg822CLuUs3p8WwiAGalfcse8993ItKc+K83PNQ8dlwhLBkb34frATtZipTONiUI+g69+jBFP2quRBrngz8AAACwQZqISahBbJlMFEwv//6MsAAAAwA1XCfBQABHVz2Yg9C82BRSiy8QJPBObDxel0m23xommR32ug5FbjmaePSc+4Fj+nOhNU7XWIAsBOIGnDCBgIM8G/lv+n4l6a2oiwLGysI6tcqm/weDl31jV5kHWCy294FsWf+1o1TzbJCH6vCvuf+UWGGfOdc7MJ2uQpSgY0qQA0JXSReMdCz7PXRShOV1kPEk1jpG8BsFoA5uySQAAABGAZ6nakf/AAADAX7yKz7L/daiQUsapm3oaa0ABv6lFm9ZTV+qwtkZJrAn38efT5YK59t/vRHdJ7Vl0j24FV2X+zBYY4AHTQAAANtBmqtJ4QpSZTAhn/6eEAAAAwB/eEtsv3zeAACJVU63uYT++v5SxMKTmFFOQEYsgSK6AZZBmqZkcR3eVAMYqZFo6P1+xVCB1YWoXEHu/+dN6J4yhgBayf5PUXCUZE2w/Ri6M7eLRXJaWfykKsQdq76JvxPc5vjtvPgflPRptU5nbspa3KsmRUuQArXO8FXevoxu4snYKrt0/EohbTt/sLr0nY83Qm+xeWw21r5hdm4qR6Ov5CkKcC2EZUhlw+RDq+T8Oe9lKJu1Ath8sXJLKmoqKW1UyXoMaRxE++EAAABiQZ7JRTRMI/8AAAMA7dtsleQkxXVvFTQWIhe9swADUXmdWHamOUQUIf4hTXI6gN5zunVuGlu91c5dp8biYKCUHWgfhdVnliQZLMQkAie4xqK+n+yh+GMPSDQSTRPhhlPAsoEAAABWAZ7qakf/AAADAX6UIUQfI/m8uZMfhW7CVACw5GReqUG0M6qeLLZtk1s9bWdpm9DZV5s4f86kzfD9jbEr36dWxgi8NvfMV9ns0vFn5WP4ahm6SGwwAysAAAFxQZrvSahBaJlMCGf//p4QAAADAHlDugAOQxiP8mO5xQtqWvpghEmvd0jrUp2AeNTr52MfWbznJW9xLLv025kX0pOAcxr2I6HjqIJVwTxlUbmq9wFch9vXf4aJ6rK8BTQ9J+sQbzMuVtRaihpw4oSlrWNssF+ubMVqqlG4FFeq6RteTM7itRm1oIPBXkU5LQ0tDKQmhy6z8zFHMCUwLLmPP3W/84M/uF1vCWrVCBZisYwlHNOku0YqYS69j+yNu1RP+2KosCI3VMLsUUTbbceIoPAniCfsm/mq44MOKrqNmXH4Dbp/ea5TVDmWFddXrv/y45rLqf+PwIPV5H5zitj+pGe+pig6Jm/YCdKah+ygg5BMR9QXnPp7Xz0/LF6DfnyUiK5HCkF1P2hcgIIvX2u2t1zq8SpW05f4YzSJiTxWlwF06x0HuJsld+02LakHeQiGhnK3zvjOA4IIw+3O5cBVB6lzjArtYdmlBUk0E4/e9tBTAAAAokGfDUURLCP/AAADAO3uSS6yfvVvWyAC/1Wx5WfS6sFnEvXmg273H+HEamXbzHDGWY8ykrRmCNcITmjfDycbKdZzzh+LlXMag6NaDxNX2bh0N5GlbU3EIBLNsyxahC8wJEiQ7Fmu+CC3yJem6hs2ng/9/31vQ7mNcvN0YVLNs9+qyFVwz2Hgqcqn87TD4Ll/+rTjLz03pUbWSTvSL1TsEfoKSQAAAJsBnyx0R/8AAAMBfcLsKu+AEDYiAAtIipOp0qWhJuOp7+5XxAAOJsg8eFfQ01lBbxMu4SwSgnbFj+KrMXitxA5sIq0AUeSo/qx1blg2Vkn5za8oEU/52PNahx3x2k8lFvCnS6RVElBTAd/hkD0n1xx1PvfvXyZtnN9iePiR2Cvn76jJfCYf5IN0/rhDhHjb4xIN2zBHkDK1Iu8akAAAAFsBny5qR/8AAAMBfpQhRB8lA5OaQX6L5kwAG1FfqtayVY441Mwv4HIAH95I9885OWq1sUMgn+qGY+Q5ZT7mOLrACc8mPKUgUtK/+93NU0ntpX6yWt8hUQcNzAJOAAAA/UGbM0moQWyZTAhn//6eEAAAAwB8BO1wA49sOoYKCxXS2uAIbi9pDv2uIDALD2bt+g1T1+3ZwUxTskk4G2a/OwVlLZr247qYodCUAmPtUJwtVa9E++4iaGWToIniGrZM1eHjMBAFsvDS6gIeMRsRb7y+iRAuAIDuKManqLzncL2LFqVgys0vCOTae+wdiM1mp7v9xBE0lGd0kahe6nrNyjYMu8jyuNaPH2d2igx/vg5dL5FdCEPmf9ye+GFGbtocA+phrYPWkzV7RvjUMt3aGpwTH3EYLjkWzwDOw/8Sq24VJSzz70ghtA/FQ5vyaqYh9v7kRT3MYGRmg4sjsDEAAABnQZ9RRRUsI/8AAAMA7e5JLrJ+9NWTRiMgWs6mVFf50U/YAWyCajPmvuZlgmWBAfG3C0IeL8312T4V6oqE87r9VRvdNBGdLbKZesJpOQjOYe44TE7wJxcbjIicpzYmJoBanaQeJjiA/wAAAFkBn3B0R/8AAAMBfcLsKu9/jm39T8aoAc/SGhDAzetrXPtw84wmNTGtXhHhY4byjhN9mLR1jLHPrl5mzvX6MP/Pc6Bi30Y2NgpZyKiRVgCiCUg91g/JGaC2gAAAADsBn3JqR/8AAAMBfpQhRB8kxVQsfrU5IEneEAEqc8jsX3Uh6KjQ2Iv681BkguhwQLaZXkhf9uZIfzDl3QAAANlBm3dJqEFsmUwIZ//+nhAAAAMAk0S4JACixtYKGG4DevWb/7+mwx+n5cgrKhg9sKxNR6J0B7g5HOIccOiTJdrMLtS6R1wn0RWdyPoWCQ2aUJHtENxnTvXfV2Yr9hhDYrF3J50Aqph9fvytpzjyDCfBwurqjPnGpL9j3wxCz1G6fNIxnLSbBBfF7EZjnqmV7hdyU+AiQNkx4EgdBtsRSUx4/HXgtuGbv2dtycCZVcdUwsefBHoFeemX4Bn4gNnFxsdWRRw4Ea9gQciiBQ5cOfDL8BMhEczUx1JBAAAATUGflUUVLCP/AAADAO3uSS6yfvUmpZDQrDh96qlBLOY/OqeR5oRbEFdrMbRfiaew5PQAJjFdqVKurXuEfb89md8on3pbHqp+4QbOTAcdAAAAKwGftHRH/wAAAwF9wuwq73+kRs1HVQeTpABLVfAhZaJ7YmcvO+fSiofUA/IAAAAjAZ+2akf/AAADAX6UIUQfJLiGOAf87wW8oz5g4LNbYrtYB8wAAAAsQZu5SahBbJlMFEwj//3hAAADAANj6OJHYnJaPn7gUHT8AAnEPjN1xzePJK0AAAAoAZ/Yakf/AAADAX7yKz7L/dTLfU5/zrLudGu1sGm034hxGXfVm3Aj4AAACH1liIQAP//+92ifApteYaqA5JXFJdtPgf+rZ3B8j+kDAAADAAADAAAVt6RlhkJ0L/JiAAAFfACyBdhEhIBSxvCoEiJIXA4y/Ahpn7oEaB1QAFB8pj4PsZjpGG0Sfetwp5F8pBJyIDTYwCHlUXERWY8dosdwEkYTFPx1oQOVp7MDgyzkmB8ick7hNEfz41DWujF355HWeYrzimQ3W7Grz3EgSvT/ZRRlF7/js6krYpbQHqMeKORq++TUbZBN6L8gfOdynqQcPGJbnnF4kr9bSldmfpF4kkhG9eI4k8YnV6C25zZfjNFt50/Fwwp4aZ6D88EuocxxxBljhi/2V1tfDCEoTp11DMSMl+8cyJVA5T95beHKOGtarSlhGaIFw3/wa2fETIFh/5kuU4BsluKs4RL7Mcm9/sdTPKfcACCcq/IFXWRAbMlz2Jf2XyW4yw0F8NKt5kFzTizKDyQjHS6xLTLYV29ErQdVHPoBNYc9U+1ohv9XdceD1rCfEE3L8P/GhTqvdgzPckGt4Ll3QcHcJKVs7wEYtACbywhfqWyHFiVTDJzgIAWbZEYex3W0uLVkmAo8N/a+Ta/NCE1uYNkAnlQl83kQIcdlxEV6MqmVtVGPasVph6tKAnGIs/Z9+MuSjm1FXLTt3w2RoYRcVv1c2XUm0XCiOn6UiYCQOD8ph7Ar8Y1wAANeO8ab27q5ewyElj5pXDJvPEmb5DqIUSyaPDulh03pPgiWMOXYjiujmRTGOvcXBzmFrchwZzE9zZVWHWtsrc5FewCxM81JQX4eZ2r/wWRBlL6C83R3lr7eV9WY+Q0vzR0XI7uaqHhrhL7EOOLU24P8ZwHnJXiy1SahCvuit6wZonktzzEkkNJY14iGTaIfCMvjcTJKjmNVL981ZQgQWiUroDoK1ms7xQdKFrlhwUlK7RCd/phk6sCS/wbeblkYqxzshSVDcRdPik96Q21/5oAnfKHJGm6xT4amVd4nu9dkZXB1lHMgGKXhu0Vz8z9DbYzF7bP6jGnN1vvsig6Xm6vn3urBV6AznpCRp2R4nok3NPxDkVh2gUuQeqHXjSsoCIl2nxNEklSX1jBiJdJVzOood4v53PuLlkD8yL5PwMEdv9maZs+VKL+4qGdAPD8WKSdHWeIn61pKGHiHqHh0Ansm3CcP+BRmLVuM/tn/65qq8kgsdOo6xsyBjxfif99TQGqNwzVME3KHiYGyG58gFg4mMJ+0u01NiQMMvVuMIhAozpKKH5ytn2Aza/H66z9jXClvIzSViy/jjl34J/iST7AsQxY4Qebgfv1cYMM1FD/GdFYaYbM6OWL1mAyMGvVoif+/6a05spX2TeRv0bFIUa09le9kh5lRBTqGqyJRqh07DUxhux0c+mQnyr3GBdL0e2MvodSxOwfU6TbKugM0KHxLThPwo+qI+81u9yfLPdyRI9rmxt+JJnuhOEQqc4fkRmXCs4yHeH1xU/bH2IvSd2xBrgQUvTl0gDlPkerqiGEnsVBswdT85Gx3myzcEqTriHqeM4m205R0I+lFUAbqInn+7sHXm0YxPFG8/RzEpgbIaP7QhHCPv3srkPMf2VCj9Y1y42u419c/IzL8IidfB+w1ZMYCQMHooh5Ncy0OIoGBAI4pdQS+1EdmwhPCdtcNo9WrRWuRHowSNxit6Xc+J3RDsls3KqxqNEkaUFJi9+nbgMSwAwdylvjgzzCbl85S0t40D8WtliO0hom4p6TAz/qY+E/i4L3GDRDPPWXo3ITNIPspDoNis+56r0+1tWfcQWtMb6Ans2b5qLkeFCwb38EVwPVZPDKoADWSBLmH3BiEXtqm9UP0NyWDYViKk+vUiQu8lhvz2H6644pQvMJNEBLofStJFDRcUVrWvAIaqv76Eo/HP++74tICbG6rBNoL6WsS/Xv5wvvOoCTqBnFAhwz0mf9oAjndr9sKPwZLh6OqonStZxeKMVFr+Ipeid3ulSqlz+dzZtz4PyyB5tGRvqvu8b4YFnHUIcTX2c+4N/mXw9ccSskZJY6Cs6rPqjjxOj5ijZwmNkNPCixZ3mGSXxc5L5NFuvjXm2xc/KFp5uEQu1iFAU7gQkjxWdZJo9BHHv4fZQMQ9ZiAGArxxCZlHFcpP6bHKD9QoQ8bn++N6ykBAZtGyqNjQ4Mg8Tp4dekNmtOOWNtPUKodJ9crO4PSvlWdCEm+g82LWrw8+RuzLz33jbDJnx2zSk9Grq3Gzz6EqqbtFxuvQFQZR5uyaHKWgInRUyjTQHClCre5nFF2X+D9TM/aIwEV4Btel4bpKoAzaHy9Ml6RhIEW5J+qCF7+QyB3WjXqGRE994lmqRI0+piAEsi168fx38NSgo0b5S1MS5+5nKWibLOBtSxEZ4uD5Ll1qfj8bbdz19VBNVUsvNlR8FJJLj2XZRLaslz1z2U5Vf2EBpKSiZ+AIfVkH6+DKnpcan49LRpvUP+vrJF/jwj3veXLFiI331aBLkOgE13oCYrX6gYvzaKoxN1lBlHQ8Otz+akqBnyc+PffyORBd58SCTEPztPst3bk4BgIwBbCrXBGf0Lqmd16TZ71qDU79RSkszQEZuvBOPu2Fk/4RHLpMheQO1dM6BEdR1Wy6qCj9mS7ltdvbmEkL2M38Dl13U1QlNOy9b3KZzkzteHpTf08u+oDmm+BU6UC4H3JVfwqCA7+2KFxwz2T26s89OdVy0gedv0VqrZ/4NZ7DYa4UMN+3Vwz+BFfGitzApqWusv1VAknFAX3TFE3+7iGgG1Eg0U928mmbWPaiv+NcTgN5n3CatuM1HRnCWg1utTj5Pc+WtopYily2VElY0u3zacl2G9b7AvRznPtQYZrJW64QQ+OvWYyjEGqC9MADkPsC0PRtKuCiWg2OS+KC02XbvAAAErK5UuaAAA5/ALKAAAAvkGaJGxDP/6eEAAAAwAw/FZo7k2AL/YyplEN61NugfDfhQsYbgibySGAEzPLpXqTWfp1V3skz5Q5q8nhGK1BHhlozG7AKQJPTWDJzt8BBiKoFzrxDUrypbBMyJtZgkEigWrIRF2Pbh3FzXUdqk3GbbQ3MTn3/14D0Odn3w/mQ3x5Rz/2T2XgLG1bEELzeh7EKNrK1iRyby4nw8OFLcw2EQAgs3726x6hqL1Zijgtmr38fSoKGUo3XDXcFPMPMzEAAAAoQZ5CeIR/AAADAArPMxFfmTuJKBWnUPbGkV5cAP/2dm+X6eqRIe/vOAAAAB8BnmF0R/8AAAMACWsZoGPeKawHtTdVhDKsv6AGGo+5AAAAHgGeY2pH/wAAAwAZGslJ9V0ZTR1W4Q3mwZwqQPuxgQAAAMVBmmhJqEFomUwIZ//+nhAAAAMAMP+wTfrlADjAcY2KxKvxu+3F/caLhbQ4Vk+gupGPz5DvxvytjOJjXJ6/Uv8J1KnVPHfkDv61uErZgDDn9Da0a3zH3GIDb9HXiDS145PuNH5Gv5LESMldaVCjB8OccEZcujIyM2y3mOgGPvGh15rTDILKqPL9jhbC3qeBrfvqw+ez4Sg2U04BsZmUuXjqzKw/3YafEUY6MU042FicYZTkzdD+3k5pgxCs/gl8leXlJ47xvAAAAEVBnoZFESwj/wAAAwAPf/4QbjaXLev5KxsACWc3ljW3JmfrFHoh1XUfwLNtjLri7YChuaIQikbp63oEUYmYwvLDBIiA9IEAAAAvAZ6ldEf/AAADABkeNodqEaHDYlArZzEJeT+xs4zU4NUltkZirnkbRVe6Vdx3urQAAAAjAZ6nakf/AAADABiJP3YppIkyBD/ioYQqWABtzDJQemlY6tsAAAB6QZqsSahBbJlMCGf//p4QAAADADESK3Y0VYAIs6zXdEm/PzHl0kWVvpuoSs7nU5jv9qbNYwbiF56y31SI1DZJ58Da0brQSsGQkoCMeGk1yxmnkjFWQUHC0u5DnOINNT/KsjJVh1pCL57qNoR7els5Kt3eWNc+1MDx2/EAAAAqQZ7KRRUsI/8AAAMAD1nXVh31a2cYlzepnk+Xr7Xl+tayFZfLzqsAELrqAAAAGgGe6XRH/wAAAwAJKxGPwCAXCtpz70yV7444AAAAIQGe62pH/wAAAwAZKT8rRxOxm+3MzADSgvEg3qXI9yRugQAAALBBmvBJqEFsmUwIZ//+nhAAAAMAMQPY1xSgBXUyw8ORknRRcD7rwK0rpwQ+ddvsLhYGokIUBKIxv8BzfLd16uBtYLwXXuVAXimqgSSFBTbUpHcfacrPFEuhumMPG6OHp04EolbeNQ6c+toJCvKzIhqRlpjc3BOmF6Xxh1CYya1H+NiXNSuTH4XRbw0VDjpykDMAZ90jZ4oATI0jo8X+ZkGfNhOOqy9JAk3rT7lkFfluwAAAACRBnw5FFSwj/wAAAwAP5uOG+7jW5uP05Wohu3CXq/LoJs8KO6EAAAAhAZ8tdEf/AAADAAmNvKy2R2Df2hyBFC1Cl+FKOOrGs5bQAAAAHAGfL2pH/wAAAwAZyT1nxAC7egd6ei8+nEv4toEAAACiQZs0SahBbJlMCGf//p4QAAADADJ+xozWA1AECFChFxFpyEN0KCqyKTwhoY2T7EdRayzxWEBb5AH9Cib7Nn/1ZAaCt5PgWxoOHd+nU75Z2gz1J9ROF7JPslmgqMCWo13TrwzO6YZhcBcerK+FJnyaEPgkOHr9esBpd+1aqR3/WfCAhuliy6wUgMo51ebRRerUmcTW8VKnNcCFtxhVxmfDsCfBAAAAJ0GfUkUVLCP/AAADAA/f9KM58TeeFWFZg49zAM6aVvuueO4Yw0INRQAAAB4Bn3F0R/8AAAMAGbwBsdBXTwmvAma1oHAfxAmIN2EAAAAaAZ9zakf/AAADAAmskJZeHd85qTDuDFOa6YAAAABlQZt4SahBbJlMCGf//p4QAAADADDivwRsVAHW/TQBsPXlJteSXNfHbWZE6jRaOnNZxJqNthvnwCrLbalqz5hVCqtQl3/vmWeneG4k7ZnzS4xJa5p8fMH/oNHMg1GQwtWLbPuU9+QAAAAjQZ+WRRUsI/8AAAMAArQUnyACnYJeqw5AezbkNG3OeJTec4EAAAAYAZ+1dEf/AAADAAQ1iB2fmTR38ZuYbsSAAAAAHAGft2pH/wAAAwAEN+cAShdfgyIK7bSMcteJNTAAAACXQZu8SahBbJlMCGf//p4QAAADADEOigbPLVABQNp9xXyEyzzEd93xoRrk9tyyuGmhDteyuyXCUWBY4nODYPBoYJz1aL3kDGOlbQEf5wPTwi7oY/J6bb9HPkinIAUoTZD+m2QXEZGCeap9S4Y63/fPgx8Sd4xet91nni4649R0lP/9YwAJTA1yKHVdwXCCOh5kvwZ+4zJVIQAAACdBn9pFFSwj/wAAAwAPjUdM968pyuzneSlsFCvfxNCFk0S/ZoX1p7MAAAAeAZ/5dEf/AAADABkr3lNnEIsANeK8p36MMCgZ4GhBAAAAIAGf+2pH/wAAAwAJrK09W9iH3ryoL0G9kDETA1QPUEhAAAAAlEGb4EmoQWyZTAhn//6eEAAAAwAyMPvgLY0J8ykHSUDuTUpRHviPoAK7hThaBi4SqOa18Qu7XO8wVyMv9FXxgVjJeuLYQiSBYLnKElcmD6s6AcOYPif9C5ZH4IbWFbec50EJiZ3Z3H8oU5osctwbJw8ntPnSSEK+0NrdfCcQOmLM2zVwzrqw6BQ0PeeTHRE0xgEWAYAAAAApQZ4eRRUsI/8AAAMABiCoZNDga9GDAgA9lg/t0Ypo3egu9IE5FYm4DUkAAAAaAZ49dEf/AAADAAmrDkMoV5ndk4T5HWDgP0AAAAAWAZ4/akf/AAADAAN1JDNjrr5m8zG4SAAAAK5BmiRJqEFsmUwIZ//+nhAAAAMAMjI7ahTr2LAFdgq8XUVIU3n/MAFB5QFYJ3tQzSwINs1riJ5HI4xNMAgzqWzANBZlNYahfnxxAtjCkSx5lfVM0kRq7bVD6Es4TXY8n6v54sIlA2gdAv+CJAZq+3/gf5LuvxMV5KIbMgIW0oJ5bd3ir55kO8E8fNFDf7qdwSrA05nI0LwPQhcFkP2fDZV2qvaKtHLvoefVaxpEFakAAAAyQZ5CRRUsI/8AAAMAD+RGQITTJgPcPdTnymh1jrK2MMkACU/yxUsNJFavcvGT+xBKVtwAAAAUAZ5hdEf/AAADAAOJD6xJGT5eXw0AAAAaAZ5jakf/AAADABm/rHa1PKMxJBL1B31/44EAAAB9QZpoSahBbJlMCGf//p4QAAADADEjjlOADdlY8dFFaUwqEg4aj3j/FXXS+8OxO9Rau1Fb7mOZsP8DneWsiiEhvq3miJfLJ9LnsYaDVlatztWeDAi4/HBy9KYOrxgCdgWOgae9HLF3+YDT4dJTwendi1ui0tA5Ai9vQhzez/gAAAAXQZ6GRRUsI/8AAAMAAirp/WTO9TDuC7kAAAATAZ6ldEf/AAADAAOJD4yC4dtuGAAAABABnqdqR/8AAAMAAEF+OCXBAAAAX0GarEmoQWyZTAhn//6eEAAAAwAw71a4AjPHPaL1n2jG1hYtRj5le6ataXRipTiyyAVhd1baEz0pcPysoRaM97RhISUYQjzDWISMjFTzXgy9oH2KBPc7gVFQMPzgUL3tAAAAFkGeykUVLCP/AAADAAJLAxs6/ZnKwqgAAAAQAZ7pdEf/AAADAABBWHlggAAAABABnutqR/8AAAMAAEF+OCXBAAAAIEGa8EmoQWyZTAhn//6eEAAAAwASTZwBMgmmfo9t3pgYAAAAFEGfDkUVLCP/AAADAADEbv+71O+7AAAAEAGfLXRH/wAAAwAAQVh5YIAAAAAQAZ8vakf/AAADAABBfjglwQAAAB1BmzRJqEFsmUwIX//+jLAAAAMAEnykPWQiIz6JuQAAABRBn1JFFSwj/wAAAwAAxG7/u9TvuwAAABABn3F0R/8AAAMAAEFYeWCBAAAAEAGfc2pH/wAAAwAAQX44JcAAAAAdQZt4SahBbJlMCF///oywAAADABJ8pD1kE0zfRNwAAAAUQZ+WRRUsI/8AAAMAAMRu/7vU77sAAAAQAZ+1dEf/AAADAABBWHlggAAAABABn7dqR/8AAAMAAEF+OCXAAAAAHUGbvEmoQWyZTAhf//6MsAAAAwASfKQ9ZBMln0TdAAAAFEGf2kUVLCP/AAADAADEbv+71O+7AAAAEAGf+XRH/wAAAwAAQVh5YIEAAAAQAZ/7akf/AAADAABBfjglwAAAABZBm+BJqEFsmUwIV//+OEAAAAMAAAyoAAAAFEGeHkUVLCP/AAADAADEbv+71O+7AAAAEAGePXRH/wAAAwAAQVh5YIAAAAAQAZ4/akf/AAADAABBfjglwAAAABdBmiRJqEFsmUwIR//94QAAAwAAAwAxYQAAABRBnkJFFSwj/wAAAwAAxG7/u9TvugAAABABnmF0R/8AAAMAAEFYeWCBAAAAEAGeY2pH/wAAAwAAQX44JcEAAAAWQZplSahBbJlMCP/8hAAAAwAAAwDAgAAAHbNtb292AAAAbG12aGQAAAAAAAAAAAAAAAAAAAPoAAAsiAABAAABAAAAAAAAAAAAAAAAAQAAAAAAAAAAAAAAAAAAAAEAAAAAAAAAAAAAAAAAAEAAAAAAAAAAAAAAAAAAAAAAAAAAAAAAAAAAAAAAAAACAAAc3XRyYWsAAABcdGtoZAAAAAMAAAAAAAAAAAAAAAEAAAAAAAAsiAAAAAAAAAAAAAAAAAAAAAAAAQAAAAAAAAAAAAAAAAAAAAEAAAAAAAAAAAAAAAAAAEAAAAACWAAAAZAAAAAAACRlZHRzAAAAHGVsc3QAAAAAAAAAAQAALIgAAAIAAAEAAAAAHFVtZGlhAAAAIG1kaGQAAAAAAAAAAAAAAAAAADIAAAI6AFXEAAAAAAAtaGRscgAAAAAAAAAAdmlkZQAAAAAAAAAAAAAAAFZpZGVvSGFuZGxlcgAAABwAbWluZgAAABR2bWhkAAAAAQAAAAAAAAAAAAAAJGRpbmYAAAAcZHJlZgAAAAAAAAABAAAADHVybCAAAAABAAAbwHN0YmwAAACYc3RzZAAAAAAAAAABAAAAiGF2YzEAAAAAAAAAAQAAAAAAAAAAAAAAAAAAAAACWAGQAEgAAABIAAAAAAAAAAEAAAAAAAAAAAAAAAAAAAAAAAAAAAAAAAAAAAAAAAAAAAAY//8AAAAyYXZjQwFkAB//4QAZZ2QAH6zZQJgz5eEAAAMAAQAAAwBkDxgxlgEABmjr48siwAAAABhzdHRzAAAAAAAAAAEAAAI6AAABAAAAABxzdHNzAAAAAAAAAAMAAAABAAAA+wAAAfUAABHAY3R0cwAAAAAAAAI2AAAAAQAAAgAAAAABAAAFAAAAAAEAAAIAAAAAAQAAAAAAAAABAAABAAAAAAEAAAUAAAAAAQAAAgAAAAABAAAAAAAAAAEAAAEAAAAAAQAABQAAAAABAAACAAAAAAEAAAAAAAAAAQAAAQAAAAABAAAFAAAAAAEAAAIAAAAAAQAAAAAAAAABAAABAAAAAAEAAAQAAAAAAgAAAQAAAAABAAAFAAAAAAEAAAIAAAAAAQAAAAAAAAABAAABAAAAAAEAAAUAAAAAAQAAAgAAAAABAAAAAAAAAAEAAAEAAAAAAQAABQAAAAABAAACAAAAAAEAAAAAAAAAAQAAAQAAAAABAAAFAAAAAAEAAAIAAAAAAQAAAAAAAAABAAABAAAAAAEAAAUAAAAAAQAAAgAAAAABAAAAAAAAAAEAAAEAAAAAAQAABQAAAAABAAACAAAAAAEAAAAAAAAAAQAAAQAAAAABAAAFAAAAAAEAAAIAAAAAAQAAAAAAAAABAAABAAAAAAEAAAUAAAAAAQAAAgAAAAABAAAAAAAAAAEAAAEAAAAAAQAABQAAAAABAAACAAAAAAEAAAAAAAAAAQAAAQAAAAABAAAFAAAAAAEAAAIAAAAAAQAAAAAAAAABAAABAAAAAAEAAAUAAAAAAQAAAgAAAAABAAAAAAAAAAEAAAEAAAAAAQAABQAAAAABAAACAAAAAAEAAAAAAAAAAQAAAQAAAAABAAAFAAAAAAEAAAIAAAAAAQAAAAAAAAABAAABAAAAAAEAAAUAAAAAAQAAAgAAAAABAAAAAAAAAAEAAAEAAAAAAQAABQAAAAABAAACAAAAAAEAAAAAAAAAAQAAAQAAAAABAAAFAAAAAAEAAAIAAAAAAQAAAAAAAAABAAABAAAAAAEAAAUAAAAAAQAAAgAAAAABAAAAAAAAAAEAAAEAAAAAAQAABQAAAAABAAACAAAAAAEAAAAAAAAAAQAAAQAAAAABAAAFAAAAAAEAAAIAAAAAAQAAAAAAAAABAAABAAAAAAEAAAUAAAAAAQAAAgAAAAABAAAAAAAAAAEAAAEAAAAAAQAABQAAAAABAAACAAAAAAEAAAAAAAAAAQAAAQAAAAABAAAFAAAAAAEAAAIAAAAAAQAAAAAAAAABAAABAAAAAAEAAAUAAAAAAQAAAgAAAAABAAAAAAAAAAEAAAEAAAAAAQAABQAAAAABAAACAAAAAAEAAAAAAAAAAQAAAQAAAAABAAAFAAAAAAEAAAIAAAAAAQAAAAAAAAABAAABAAAAAAEAAAUAAAAAAQAAAgAAAAABAAAAAAAAAAEAAAEAAAAAAQAABQAAAAABAAACAAAAAAEAAAAAAAAAAQAAAQAAAAABAAAFAAAAAAEAAAIAAAAAAQAAAAAAAAABAAABAAAAAAEAAAUAAAAAAQAAAgAAAAABAAAAAAAAAAEAAAEAAAAAAQAABQAAAAABAAACAAAAAAEAAAAAAAAAAQAAAQAAAAABAAAFAAAAAAEAAAIAAAAAAQAAAAAAAAABAAABAAAAAAEAAAUAAAAAAQAAAgAAAAABAAAAAAAAAAEAAAEAAAAAAQAABQAAAAABAAACAAAAAAEAAAAAAAAAAQAAAQAAAAABAAAFAAAAAAEAAAIAAAAAAQAAAAAAAAABAAABAAAAAAEAAAUAAAAAAQAAAgAAAAABAAAAAAAAAAEAAAEAAAAAAQAABQAAAAABAAACAAAAAAEAAAAAAAAAAQAAAQAAAAABAAAFAAAAAAEAAAIAAAAAAQAAAAAAAAABAAABAAAAAAEAAAUAAAAAAQAAAgAAAAABAAAAAAAAAAEAAAEAAAAAAQAABQAAAAABAAACAAAAAAEAAAAAAAAAAQAAAQAAAAABAAAFAAAAAAEAAAIAAAAAAQAAAAAAAAABAAABAAAAAAEAAAUAAAAAAQAAAgAAAAABAAAAAAAAAAEAAAEAAAAAAQAABQAAAAABAAACAAAAAAEAAAAAAAAAAQAAAQAAAAABAAAFAAAAAAEAAAIAAAAAAQAAAAAAAAABAAABAAAAAAEAAAUAAAAAAQAAAgAAAAABAAAAAAAAAAEAAAEAAAAAAQAABQAAAAABAAACAAAAAAEAAAAAAAAAAQAAAQAAAAABAAAFAAAAAAEAAAIAAAAAAQAAAAAAAAABAAABAAAAAAEAAAUAAAAAAQAAAgAAAAABAAAAAAAAAAEAAAEAAAAAAQAABQAAAAABAAACAAAAAAEAAAAAAAAAAQAAAQAAAAABAAAFAAAAAAEAAAIAAAAAAQAAAAAAAAABAAABAAAAAAEAAAUAAAAAAQAAAgAAAAABAAAAAAAAAAEAAAEAAAAAAQAABQAAAAABAAACAAAAAAEAAAAAAAAAAQAAAQAAAAABAAAFAAAAAAEAAAIAAAAAAQAAAAAAAAABAAABAAAAAAEAAAUAAAAAAQAAAgAAAAABAAAAAAAAAAEAAAEAAAAAAQAABQAAAAABAAACAAAAAAEAAAAAAAAAAQAAAQAAAAABAAAFAAAAAAEAAAIAAAAAAQAAAAAAAAABAAABAAAAAAEAAAUAAAAAAQAAAgAAAAABAAAAAAAAAAEAAAEAAAAAAQAABAAAAAACAAABAAAAAAEAAAQAAAAAAgAAAQAAAAABAAACAAAAAAEAAAUAAAAAAQAAAgAAAAABAAAAAAAAAAEAAAEAAAAAAQAABQAAAAABAAACAAAAAAEAAAAAAAAAAQAAAQAAAAABAAAFAAAAAAEAAAIAAAAAAQAAAAAAAAABAAABAAAAAAEAAAUAAAAAAQAAAgAAAAABAAAAAAAAAAEAAAEAAAAAAQAABQAAAAABAAACAAAAAAEAAAAAAAAAAQAAAQAAAAABAAAFAAAAAAEAAAIAAAAAAQAAAAAAAAABAAABAAAAAAEAAAUAAAAAAQAAAgAAAAABAAAAAAAAAAEAAAEAAAAAAQAABQAAAAABAAACAAAAAAEAAAAAAAAAAQAAAQAAAAABAAAFAAAAAAEAAAIAAAAAAQAAAAAAAAABAAABAAAAAAEAAAUAAAAAAQAAAgAAAAABAAAAAAAAAAEAAAEAAAAAAQAABQAAAAABAAACAAAAAAEAAAAAAAAAAQAAAQAAAAABAAAFAAAAAAEAAAIAAAAAAQAAAAAAAAABAAABAAAAAAEAAAUAAAAAAQAAAgAAAAABAAAAAAAAAAEAAAEAAAAAAQAABQAAAAABAAACAAAAAAEAAAAAAAAAAQAAAQAAAAABAAAFAAAAAAEAAAIAAAAAAQAAAAAAAAABAAABAAAAAAEAAAUAAAAAAQAAAgAAAAABAAAAAAAAAAEAAAEAAAAAAQAABQAAAAABAAACAAAAAAEAAAAAAAAAAQAAAQAAAAABAAAFAAAAAAEAAAIAAAAAAQAAAAAAAAABAAABAAAAAAEAAAUAAAAAAQAAAgAAAAABAAAAAAAAAAEAAAEAAAAAAQAABQAAAAABAAACAAAAAAEAAAAAAAAAAQAAAQAAAAABAAAFAAAAAAEAAAIAAAAAAQAAAAAAAAABAAABAAAAAAEAAAUAAAAAAQAAAgAAAAABAAAAAAAAAAEAAAEAAAAAAQAABQAAAAABAAACAAAAAAEAAAAAAAAAAQAAAQAAAAABAAAFAAAAAAEAAAIAAAAAAQAAAAAAAAABAAABAAAAAAEAAAUAAAAAAQAAAgAAAAABAAAAAAAAAAEAAAEAAAAAAQAABQAAAAABAAACAAAAAAEAAAAAAAAAAQAAAQAAAAABAAAFAAAAAAEAAAIAAAAAAQAAAAAAAAABAAABAAAAAAEAAAUAAAAAAQAAAgAAAAABAAAAAAAAAAEAAAEAAAAAAQAABQAAAAABAAACAAAAAAEAAAAAAAAAAQAAAQAAAAABAAAFAAAAAAEAAAIAAAAAAQAAAAAAAAABAAABAAAAAAEAAAUAAAAAAQAAAgAAAAABAAAAAAAAAAEAAAEAAAAAAQAABQAAAAABAAACAAAAAAEAAAAAAAAAAQAAAQAAAAABAAAFAAAAAAEAAAIAAAAAAQAAAAAAAAABAAABAAAAAAEAAAUAAAAAAQAAAgAAAAABAAAAAAAAAAEAAAEAAAAAAQAABQAAAAABAAACAAAAAAEAAAAAAAAAAQAAAQAAAAABAAAFAAAAAAEAAAIAAAAAAQAAAAAAAAABAAABAAAAAAEAAAUAAAAAAQAAAgAAAAABAAAAAAAAAAEAAAEAAAAAAQAABQAAAAABAAACAAAAAAEAAAAAAAAAAQAAAQAAAAABAAAFAAAAAAEAAAIAAAAAAQAAAAAAAAABAAABAAAAAAEAAAUAAAAAAQAAAgAAAAABAAAAAAAAAAEAAAEAAAAAAQAABQAAAAABAAACAAAAAAEAAAAAAAAAAQAAAQAAAAABAAAFAAAAAAEAAAIAAAAAAQAAAAAAAAABAAABAAAAAAEAAAUAAAAAAQAAAgAAAAABAAAAAAAAAAEAAAEAAAAAAQAABQAAAAABAAACAAAAAAEAAAAAAAAAAQAAAQAAAAABAAAFAAAAAAEAAAIAAAAAAQAAAAAAAAABAAABAAAAAAEAAAUAAAAAAQAAAgAAAAABAAAAAAAAAAEAAAEAAAAAAQAABQAAAAABAAACAAAAAAEAAAAAAAAAAQAAAQAAAAABAAAFAAAAAAEAAAIAAAAAAQAAAAAAAAABAAABAAAAAAEAAAUAAAAAAQAAAgAAAAABAAAAAAAAAAEAAAEAAAAAAQAABQAAAAABAAACAAAAAAEAAAAAAAAAAQAAAQAAAAABAAAFAAAAAAEAAAIAAAAAAQAAAAAAAAABAAABAAAAAAEAAAUAAAAAAQAAAgAAAAABAAAAAAAAAAEAAAEAAAAAAQAABQAAAAABAAACAAAAAAEAAAAAAAAAAQAAAQAAAAABAAAFAAAAAAEAAAIAAAAAAQAAAAAAAAABAAABAAAAAAEAAAMAAAAAAQAAAQAAAAABAAAFAAAAAAEAAAIAAAAAAQAAAAAAAAABAAABAAAAAAEAAAUAAAAAAQAAAgAAAAABAAAAAAAAAAEAAAEAAAAAAQAABQAAAAABAAACAAAAAAEAAAAAAAAAAQAAAQAAAAABAAADAAAAAAEAAAEAAAAAAQAABAAAAAACAAABAAAAAAEAAAUAAAAAAQAAAgAAAAABAAAAAAAAAAEAAAEAAAAAAQAABQAAAAABAAACAAAAAAEAAAAAAAAAAQAAAQAAAAABAAAFAAAAAAEAAAIAAAAAAQAAAAAAAAABAAABAAAAAAEAAAMAAAAAAQAAAQAAAAABAAACAAAAAAEAAAUAAAAAAQAAAgAAAAABAAAAAAAAAAEAAAEAAAAAAQAABQAAAAABAAACAAAAAAEAAAAAAAAAAQAAAQAAAAABAAAFAAAAAAEAAAIAAAAAAQAAAAAAAAABAAABAAAAAAEAAAUAAAAAAQAAAgAAAAABAAAAAAAAAAEAAAEAAAAAAQAABQAAAAABAAACAAAAAAEAAAAAAAAAAQAAAQAAAAABAAAFAAAAAAEAAAIAAAAAAQAAAAAAAAABAAABAAAAAAEAAAUAAAAAAQAAAgAAAAABAAAAAAAAAAEAAAEAAAAAAQAABQAAAAABAAACAAAAAAEAAAAAAAAAAQAAAQAAAAABAAAFAAAAAAEAAAIAAAAAAQAAAAAAAAABAAABAAAAAAEAAAUAAAAAAQAAAgAAAAABAAAAAAAAAAEAAAEAAAAAAQAABQAAAAABAAACAAAAAAEAAAAAAAAAAQAAAQAAAAABAAAFAAAAAAEAAAIAAAAAAQAAAAAAAAABAAABAAAAAAEAAAUAAAAAAQAAAgAAAAABAAAAAAAAAAEAAAEAAAAAAQAABQAAAAABAAACAAAAAAEAAAAAAAAAAQAAAQAAAAABAAAFAAAAAAEAAAIAAAAAAQAAAAAAAAABAAABAAAAAAEAAAUAAAAAAQAAAgAAAAABAAAAAAAAAAEAAAEAAAAAAQAABQAAAAABAAACAAAAAAEAAAAAAAAAAQAAAQAAAAABAAACAAAAABxzdHNjAAAAAAAAAAEAAAABAAACOgAAAAEAAAj8c3RzegAAAAAAAAAAAAACOgAACVoAAAH4AAAAlwAAAHMAAACAAAABUwAAAKEAAAChAAAAqgAAAQsAAACzAAAAiAAAAKgAAAEfAAAAjgAAAKwAAABzAAAA4gAAAIgAAACdAAABSQAAAJUAAACAAAAAlQAAAMsAAACcAAAAcgAAAHgAAADYAAAAvQAAAIYAAACPAAABFAAAAJsAAACAAAAAgQAAAP4AAACcAAAAkQAAALwAAADgAAAAjAAAALcAAACQAAAA/gAAALIAAACKAAAAhAAAAOUAAACqAAAAmwAAAIwAAADVAAAAkAAAAJYAAACcAAAA+QAAAJUAAACGAAAAdgAAAMUAAACMAAAAgwAAAJEAAADpAAAAygAAAJ0AAACgAAAA0wAAAIQAAACdAAAAfwAAAPQAAACVAAAAhAAAAI8AAADtAAAAmAAAAKsAAACaAAAA9gAAAJ8AAAB7AAAAggAAAMIAAAB4AAAAYgAAAIMAAADDAAAAlgAAAHUAAABnAAAA4wAAALUAAACAAAAAkAAAAMMAAACXAAAAkQAAAIYAAACZAAAAlwAAAHIAAABsAAAAswAAAKIAAABpAAAAlAAAAOwAAAB6AAAAggAAAH8AAADRAAAAgwAAAIEAAABwAAAA5AAAAIsAAAB+AAAAdgAAAPsAAACsAAAAfgAAAIIAAAD1AAAAmgAAAGMAAACQAAABCgAAAJsAAABtAAAAnQAAASEAAADHAAAAjgAAAJYAAAEEAAAAuAAAALQAAADRAAAAoAAAAIUAAACUAAAAgQAAAPsAAACXAAAAZAAAAHsAAAC1AAAAkwAAAHYAAAB9AAAArwAAAHoAAABTAAAAZQAAAOwAAACFAAAAcgAAAGcAAADPAAAAsAAAAHkAAACMAAAAqAAAAH4AAABpAAAAcAAAALUAAABrAAAAVwAAAHgAAACtAAAAiQAAAFgAAAByAAAAvwAAAKwAAACQAAAAjwAAASIAAAC8AAAAgQAAAKkAAAEYAAAAtwAAAJIAAACfAAAA9gAAALcAAAClAAAAnwAAANsAAADLAAAArAAAAJAAAADAAAAAdAAAAI0AAABfAAAAwgAAAJQAAAB4AAAAfAAAAKUAAABvAAAAbwAAAGUAAACzAAAAmQAAAF8AAACMAAAAsQAAALMAAABuAAAAagAAAPAAAABoAAAAdQAAAFIAAAEPAAAAqgAAAIUAAACLAAABEwAAALQAAAB3AAAAdAAAAOEAAAB+AAAAcQAAAHEAAAC5AAAArwAAAHwAAACAAAAA/QAAAHoAAAB7AAAAVgAAALIAAABxAAAAYQAAAGUAAAB6AAAAZQAAAFYAAAB5AAAAYQAAAHIAAAkUAAABLwAAAMQAAAB+AAAAiwAAAMsAAABdAAAAaQAAAG0AAACdAAAAZgAAAEwAAABWAAAA/wAAAG8AAABpAAAAaAAAAPgAAAB6AAAAYwAAAGYAAADqAAAAhgAAAF4AAABhAAABAAAAAIcAAABpAAAAgQAAASUAAACjAAAAlAAAAKEAAADqAAAAqgAAAJoAAAClAAAA9QAAAKcAAAC3AAAAkQAAAOMAAACtAAAAfwAAAJAAAADRAAAAnwAAAJIAAACwAAAAvgAAAH4AAAB7AAAAdwAAAQ8AAAClAAAAkwAAAIQAAADLAAAAkwAAAHMAAABmAAAA9QAAAH0AAACLAAAAiQAAAPkAAAC3AAAAmwAAAJAAAAECAAAAlQAAAJIAAAB+AAAA1wAAAJUAAACOAAAAkwAAAO0AAAB+AAAArwAAAJgAAAEUAAAAigAAAIEAAABvAAABIQAAALwAAACdAAAAjgAAAOQAAACVAAAAhwAAAFwAAADbAAAAdAAAAHwAAABjAAAAvgAAAHwAAABnAAAAWAAAAOAAAABuAAAAVwAAAHQAAADYAAAAnwAAAGYAAABPAAABFAAAAKQAAABQAAAAhAAAAPYAAAB3AAAAdAAAAGMAAADoAAAAZgAAAFMAAABTAAABDAAAAIoAAABWAAAAXwAAAR0AAABwAAAAQwAAAHAAAADTAAAAcwAAAFQAAABUAAAApgAAAHMAAABRAAAAcwAAAP0AAABeAAAATQAAAEcAAADfAAAAcgAAAFAAAABeAAAA4wAAAIAAAAB8AAAAcgAAAOUAAACKAAAAbAAAAGkAAAEdAAAApAAAAG4AAABnAAAA5wAAAGoAAABfAAAAZQAAATsAAABtAAAAUAAAAGEAAAFGAAAAtgAAAIMAAACbAAABKwAAAJ0AAACBAAAApwAAARkAAACQAAAAhwAAAHoAAADqAAAAawAAAHIAAABaAAAAvAAAAGEAAABPAAAAQQAAAJEAAACBAAAAXQAAAFYAAADGAAAAcgAAAG8AAABqAAAA4wAAAG0AAABaAAAAXQAAAOEAAACRAAAAYAAAAGwAAADjAAAAfwAAAEIAAABxAAAA1AAAAIoAAABnAAAAbAAAAOsAAABuAAAAYQAAAGIAAADtAAAAXwAAAEwAAABQAAAAtQAAAEkAAADiAAAAZAAAAFgAAABgAAAAfgAAAF0AAABYAAAAVQAAALUAAABTAAAAUAAAAFIAAAC0AAAASgAAAN8AAABmAAAAWgAAAXUAAACmAAAAnwAAAF8AAAEBAAAAawAAAF0AAAA/AAAA3QAAAFEAAAAvAAAAJwAAADAAAAAsAAAIgQAAAMIAAAAsAAAAIwAAACIAAADJAAAASQAAADMAAAAnAAAAfgAAAC4AAAAeAAAAJQAAALQAAAAoAAAAJQAAACAAAACmAAAAKwAAACIAAAAeAAAAaQAAACcAAAAcAAAAIAAAAJsAAAArAAAAIgAAACQAAACYAAAALQAAAB4AAAAaAAAAsgAAADYAAAAYAAAAHgAAAIEAAAAbAAAAFwAAABQAAABjAAAAGgAAABQAAAAUAAAAJAAAABgAAAAUAAAAFAAAACEAAAAYAAAAFAAAABQAAAAhAAAAGAAAABQAAAAUAAAAIQAAABgAAAAUAAAAFAAAABoAAAAYAAAAFAAAABQAAAAbAAAAGAAAABQAAAAUAAAAGgAAABRzdGNvAAAAAAAAAAEAAAAwAAAAYnVkdGEAAABabWV0YQAAAAAAAAAhaGRscgAAAAAAAAAAbWRpcmFwcGwAAAAAAAAAAAAAAAAtaWxzdAAAACWpdG9vAAAAHWRhdGEAAAABAAAAAExhdmY1OC4yOS4xMDA=\"></video>"
            ]
          },
          "metadata": {},
          "execution_count": 31
        }
      ],
      "source": [
        "from IPython.display import HTML\n",
        "from base64 import b64encode\n",
        "\n",
        "def show_video(video_path, video_width = 320):\n",
        "  # Read the video file in binary mode\n",
        "  video_file = open(video_path, \"r+b\").read()\n",
        "  # Encode the video in base64 format to embed in HTML\n",
        "  video_url = f\"data:video/mp4;base64,{b64encode(video_file).decode()}\"\n",
        "  # Return HTML video player with the embedded base64 video\n",
        "  return HTML(f\"\"\"<video width={video_width} controls><source src=\"{video_url}\"></video>\"\"\")\n",
        "\n",
        "# Display the video using the function\n",
        "show_video('./gym-results/' + res_prefix + '-episode-0.mp4')"
      ]
    },
    {
      "cell_type": "markdown",
      "metadata": {
        "id": "W8a2k_OLaCYO"
      },
      "source": [
        "(c) 2024 SW Lee"
      ]
    }
  ],
  "metadata": {
    "kernelspec": {
      "display_name": "Python 3",
      "name": "python3"
    },
    "language_info": {
      "codemirror_mode": {
        "name": "ipython",
        "version": 3
      },
      "file_extension": ".py",
      "mimetype": "text/x-python",
      "name": "python",
      "nbconvert_exporter": "python",
      "pygments_lexer": "ipython3",
      "version": "3.9.16"
    },
    "orig_nbformat": 4,
    "vscode": {
      "interpreter": {
        "hash": "71930d9c743a2c2f7d41567bb1e631f1d30be1b0f7ff3429fb86acce8edbed56"
      }
    },
    "colab": {
      "provenance": [],
      "gpuType": "T4"
    },
    "accelerator": "GPU",
    "widgets": {
      "application/vnd.jupyter.widget-state+json": {
        "0e0ce0a35b7f41c4896c60646c580720": {
          "model_module": "@jupyter-widgets/controls",
          "model_name": "HBoxModel",
          "model_module_version": "1.5.0",
          "state": {
            "_dom_classes": [],
            "_model_module": "@jupyter-widgets/controls",
            "_model_module_version": "1.5.0",
            "_model_name": "HBoxModel",
            "_view_count": null,
            "_view_module": "@jupyter-widgets/controls",
            "_view_module_version": "1.5.0",
            "_view_name": "HBoxView",
            "box_style": "",
            "children": [
              "IPY_MODEL_741478aa447e4e488a87adca54ea33cf",
              "IPY_MODEL_9ad584ba330546058ec3ed4e03bd22f4",
              "IPY_MODEL_c1c8dd86ff054e0ca9f53f71dca63863"
            ],
            "layout": "IPY_MODEL_fb8a48750d38408a883cbd555206ba67"
          }
        },
        "741478aa447e4e488a87adca54ea33cf": {
          "model_module": "@jupyter-widgets/controls",
          "model_name": "HTMLModel",
          "model_module_version": "1.5.0",
          "state": {
            "_dom_classes": [],
            "_model_module": "@jupyter-widgets/controls",
            "_model_module_version": "1.5.0",
            "_model_name": "HTMLModel",
            "_view_count": null,
            "_view_module": "@jupyter-widgets/controls",
            "_view_module_version": "1.5.0",
            "_view_name": "HTMLView",
            "description": "",
            "description_tooltip": null,
            "layout": "IPY_MODEL_ac11632c62334dc7b85bc169c000a078",
            "placeholder": "​",
            "style": "IPY_MODEL_96182db1e45b4e298462e7d303656481",
            "value": ""
          }
        },
        "9ad584ba330546058ec3ed4e03bd22f4": {
          "model_module": "@jupyter-widgets/controls",
          "model_name": "FloatProgressModel",
          "model_module_version": "1.5.0",
          "state": {
            "_dom_classes": [],
            "_model_module": "@jupyter-widgets/controls",
            "_model_module_version": "1.5.0",
            "_model_name": "FloatProgressModel",
            "_view_count": null,
            "_view_module": "@jupyter-widgets/controls",
            "_view_module_version": "1.5.0",
            "_view_name": "ProgressView",
            "bar_style": "danger",
            "description": "",
            "description_tooltip": null,
            "layout": "IPY_MODEL_ca16761b33774c85861181e27b31b096",
            "max": 400000,
            "min": 0,
            "orientation": "horizontal",
            "style": "IPY_MODEL_5faf4eda1bc94963bd5770b4302f7c9b",
            "value": 34055
          }
        },
        "c1c8dd86ff054e0ca9f53f71dca63863": {
          "model_module": "@jupyter-widgets/controls",
          "model_name": "HTMLModel",
          "model_module_version": "1.5.0",
          "state": {
            "_dom_classes": [],
            "_model_module": "@jupyter-widgets/controls",
            "_model_module_version": "1.5.0",
            "_model_name": "HTMLModel",
            "_view_count": null,
            "_view_module": "@jupyter-widgets/controls",
            "_view_module_version": "1.5.0",
            "_view_name": "HTMLView",
            "description": "",
            "description_tooltip": null,
            "layout": "IPY_MODEL_923eab5849d6448d9820618120d45fac",
            "placeholder": "​",
            "style": "IPY_MODEL_40f5663872424fc1b07761c8d7aca6a7",
            "value": "  9%|▊         | 34055/400000 [53:42&lt;8:11:15, 12.42it/s, episode=71, loss=29.7, reward=224, steps=0]"
          }
        },
        "fb8a48750d38408a883cbd555206ba67": {
          "model_module": "@jupyter-widgets/base",
          "model_name": "LayoutModel",
          "model_module_version": "1.2.0",
          "state": {
            "_model_module": "@jupyter-widgets/base",
            "_model_module_version": "1.2.0",
            "_model_name": "LayoutModel",
            "_view_count": null,
            "_view_module": "@jupyter-widgets/base",
            "_view_module_version": "1.2.0",
            "_view_name": "LayoutView",
            "align_content": null,
            "align_items": null,
            "align_self": null,
            "border": null,
            "bottom": null,
            "display": null,
            "flex": null,
            "flex_flow": null,
            "grid_area": null,
            "grid_auto_columns": null,
            "grid_auto_flow": null,
            "grid_auto_rows": null,
            "grid_column": null,
            "grid_gap": null,
            "grid_row": null,
            "grid_template_areas": null,
            "grid_template_columns": null,
            "grid_template_rows": null,
            "height": null,
            "justify_content": null,
            "justify_items": null,
            "left": null,
            "margin": null,
            "max_height": null,
            "max_width": null,
            "min_height": null,
            "min_width": null,
            "object_fit": null,
            "object_position": null,
            "order": null,
            "overflow": null,
            "overflow_x": null,
            "overflow_y": null,
            "padding": null,
            "right": null,
            "top": null,
            "visibility": null,
            "width": null
          }
        },
        "ac11632c62334dc7b85bc169c000a078": {
          "model_module": "@jupyter-widgets/base",
          "model_name": "LayoutModel",
          "model_module_version": "1.2.0",
          "state": {
            "_model_module": "@jupyter-widgets/base",
            "_model_module_version": "1.2.0",
            "_model_name": "LayoutModel",
            "_view_count": null,
            "_view_module": "@jupyter-widgets/base",
            "_view_module_version": "1.2.0",
            "_view_name": "LayoutView",
            "align_content": null,
            "align_items": null,
            "align_self": null,
            "border": null,
            "bottom": null,
            "display": null,
            "flex": null,
            "flex_flow": null,
            "grid_area": null,
            "grid_auto_columns": null,
            "grid_auto_flow": null,
            "grid_auto_rows": null,
            "grid_column": null,
            "grid_gap": null,
            "grid_row": null,
            "grid_template_areas": null,
            "grid_template_columns": null,
            "grid_template_rows": null,
            "height": null,
            "justify_content": null,
            "justify_items": null,
            "left": null,
            "margin": null,
            "max_height": null,
            "max_width": null,
            "min_height": null,
            "min_width": null,
            "object_fit": null,
            "object_position": null,
            "order": null,
            "overflow": null,
            "overflow_x": null,
            "overflow_y": null,
            "padding": null,
            "right": null,
            "top": null,
            "visibility": null,
            "width": null
          }
        },
        "96182db1e45b4e298462e7d303656481": {
          "model_module": "@jupyter-widgets/controls",
          "model_name": "DescriptionStyleModel",
          "model_module_version": "1.5.0",
          "state": {
            "_model_module": "@jupyter-widgets/controls",
            "_model_module_version": "1.5.0",
            "_model_name": "DescriptionStyleModel",
            "_view_count": null,
            "_view_module": "@jupyter-widgets/base",
            "_view_module_version": "1.2.0",
            "_view_name": "StyleView",
            "description_width": ""
          }
        },
        "ca16761b33774c85861181e27b31b096": {
          "model_module": "@jupyter-widgets/base",
          "model_name": "LayoutModel",
          "model_module_version": "1.2.0",
          "state": {
            "_model_module": "@jupyter-widgets/base",
            "_model_module_version": "1.2.0",
            "_model_name": "LayoutModel",
            "_view_count": null,
            "_view_module": "@jupyter-widgets/base",
            "_view_module_version": "1.2.0",
            "_view_name": "LayoutView",
            "align_content": null,
            "align_items": null,
            "align_self": null,
            "border": null,
            "bottom": null,
            "display": null,
            "flex": null,
            "flex_flow": null,
            "grid_area": null,
            "grid_auto_columns": null,
            "grid_auto_flow": null,
            "grid_auto_rows": null,
            "grid_column": null,
            "grid_gap": null,
            "grid_row": null,
            "grid_template_areas": null,
            "grid_template_columns": null,
            "grid_template_rows": null,
            "height": null,
            "justify_content": null,
            "justify_items": null,
            "left": null,
            "margin": null,
            "max_height": null,
            "max_width": null,
            "min_height": null,
            "min_width": null,
            "object_fit": null,
            "object_position": null,
            "order": null,
            "overflow": null,
            "overflow_x": null,
            "overflow_y": null,
            "padding": null,
            "right": null,
            "top": null,
            "visibility": null,
            "width": null
          }
        },
        "5faf4eda1bc94963bd5770b4302f7c9b": {
          "model_module": "@jupyter-widgets/controls",
          "model_name": "ProgressStyleModel",
          "model_module_version": "1.5.0",
          "state": {
            "_model_module": "@jupyter-widgets/controls",
            "_model_module_version": "1.5.0",
            "_model_name": "ProgressStyleModel",
            "_view_count": null,
            "_view_module": "@jupyter-widgets/base",
            "_view_module_version": "1.2.0",
            "_view_name": "StyleView",
            "bar_color": null,
            "description_width": ""
          }
        },
        "923eab5849d6448d9820618120d45fac": {
          "model_module": "@jupyter-widgets/base",
          "model_name": "LayoutModel",
          "model_module_version": "1.2.0",
          "state": {
            "_model_module": "@jupyter-widgets/base",
            "_model_module_version": "1.2.0",
            "_model_name": "LayoutModel",
            "_view_count": null,
            "_view_module": "@jupyter-widgets/base",
            "_view_module_version": "1.2.0",
            "_view_name": "LayoutView",
            "align_content": null,
            "align_items": null,
            "align_self": null,
            "border": null,
            "bottom": null,
            "display": null,
            "flex": null,
            "flex_flow": null,
            "grid_area": null,
            "grid_auto_columns": null,
            "grid_auto_flow": null,
            "grid_auto_rows": null,
            "grid_column": null,
            "grid_gap": null,
            "grid_row": null,
            "grid_template_areas": null,
            "grid_template_columns": null,
            "grid_template_rows": null,
            "height": null,
            "justify_content": null,
            "justify_items": null,
            "left": null,
            "margin": null,
            "max_height": null,
            "max_width": null,
            "min_height": null,
            "min_width": null,
            "object_fit": null,
            "object_position": null,
            "order": null,
            "overflow": null,
            "overflow_x": null,
            "overflow_y": null,
            "padding": null,
            "right": null,
            "top": null,
            "visibility": null,
            "width": null
          }
        },
        "40f5663872424fc1b07761c8d7aca6a7": {
          "model_module": "@jupyter-widgets/controls",
          "model_name": "DescriptionStyleModel",
          "model_module_version": "1.5.0",
          "state": {
            "_model_module": "@jupyter-widgets/controls",
            "_model_module_version": "1.5.0",
            "_model_name": "DescriptionStyleModel",
            "_view_count": null,
            "_view_module": "@jupyter-widgets/base",
            "_view_module_version": "1.2.0",
            "_view_name": "StyleView",
            "description_width": ""
          }
        },
        "eb6b2918de23499ea7740c530df0eabe": {
          "model_module": "@jupyter-widgets/controls",
          "model_name": "HBoxModel",
          "model_module_version": "1.5.0",
          "state": {
            "_dom_classes": [],
            "_model_module": "@jupyter-widgets/controls",
            "_model_module_version": "1.5.0",
            "_model_name": "HBoxModel",
            "_view_count": null,
            "_view_module": "@jupyter-widgets/controls",
            "_view_module_version": "1.5.0",
            "_view_name": "HBoxView",
            "box_style": "",
            "children": [
              "IPY_MODEL_2823908d43be468c9e5844a614b4b886",
              "IPY_MODEL_c08180b3189241f58cc142f20795644e",
              "IPY_MODEL_532d7395d6eb4912a7f6b016aa2ee592"
            ],
            "layout": "IPY_MODEL_3a1f6f95f6594b47b79e4facbadc8d26"
          }
        },
        "2823908d43be468c9e5844a614b4b886": {
          "model_module": "@jupyter-widgets/controls",
          "model_name": "HTMLModel",
          "model_module_version": "1.5.0",
          "state": {
            "_dom_classes": [],
            "_model_module": "@jupyter-widgets/controls",
            "_model_module_version": "1.5.0",
            "_model_name": "HTMLModel",
            "_view_count": null,
            "_view_module": "@jupyter-widgets/controls",
            "_view_module_version": "1.5.0",
            "_view_name": "HTMLView",
            "description": "",
            "description_tooltip": null,
            "layout": "IPY_MODEL_0a8af84bb5094147907673764c7e4087",
            "placeholder": "​",
            "style": "IPY_MODEL_69d7b796e2c942da9d98d905aa92c409",
            "value": "100%"
          }
        },
        "c08180b3189241f58cc142f20795644e": {
          "model_module": "@jupyter-widgets/controls",
          "model_name": "FloatProgressModel",
          "model_module_version": "1.5.0",
          "state": {
            "_dom_classes": [],
            "_model_module": "@jupyter-widgets/controls",
            "_model_module_version": "1.5.0",
            "_model_name": "FloatProgressModel",
            "_view_count": null,
            "_view_module": "@jupyter-widgets/controls",
            "_view_module_version": "1.5.0",
            "_view_name": "ProgressView",
            "bar_style": "success",
            "description": "",
            "description_tooltip": null,
            "layout": "IPY_MODEL_99eb5300beb74f7c8fae2a5a5f8eaa8e",
            "max": 20,
            "min": 0,
            "orientation": "horizontal",
            "style": "IPY_MODEL_dc961f883d514c2baef91f17dcae5420",
            "value": 20
          }
        },
        "532d7395d6eb4912a7f6b016aa2ee592": {
          "model_module": "@jupyter-widgets/controls",
          "model_name": "HTMLModel",
          "model_module_version": "1.5.0",
          "state": {
            "_dom_classes": [],
            "_model_module": "@jupyter-widgets/controls",
            "_model_module_version": "1.5.0",
            "_model_name": "HTMLModel",
            "_view_count": null,
            "_view_module": "@jupyter-widgets/controls",
            "_view_module_version": "1.5.0",
            "_view_name": "HTMLView",
            "description": "",
            "description_tooltip": null,
            "layout": "IPY_MODEL_39de9de5abd548588ca81fe3d0d524c1",
            "placeholder": "​",
            "style": "IPY_MODEL_c9b1c0813f694e76b93d10856808627c",
            "value": " 20/20 [01:02&lt;00:00,  3.34s/it]"
          }
        },
        "3a1f6f95f6594b47b79e4facbadc8d26": {
          "model_module": "@jupyter-widgets/base",
          "model_name": "LayoutModel",
          "model_module_version": "1.2.0",
          "state": {
            "_model_module": "@jupyter-widgets/base",
            "_model_module_version": "1.2.0",
            "_model_name": "LayoutModel",
            "_view_count": null,
            "_view_module": "@jupyter-widgets/base",
            "_view_module_version": "1.2.0",
            "_view_name": "LayoutView",
            "align_content": null,
            "align_items": null,
            "align_self": null,
            "border": null,
            "bottom": null,
            "display": null,
            "flex": null,
            "flex_flow": null,
            "grid_area": null,
            "grid_auto_columns": null,
            "grid_auto_flow": null,
            "grid_auto_rows": null,
            "grid_column": null,
            "grid_gap": null,
            "grid_row": null,
            "grid_template_areas": null,
            "grid_template_columns": null,
            "grid_template_rows": null,
            "height": null,
            "justify_content": null,
            "justify_items": null,
            "left": null,
            "margin": null,
            "max_height": null,
            "max_width": null,
            "min_height": null,
            "min_width": null,
            "object_fit": null,
            "object_position": null,
            "order": null,
            "overflow": null,
            "overflow_x": null,
            "overflow_y": null,
            "padding": null,
            "right": null,
            "top": null,
            "visibility": null,
            "width": null
          }
        },
        "0a8af84bb5094147907673764c7e4087": {
          "model_module": "@jupyter-widgets/base",
          "model_name": "LayoutModel",
          "model_module_version": "1.2.0",
          "state": {
            "_model_module": "@jupyter-widgets/base",
            "_model_module_version": "1.2.0",
            "_model_name": "LayoutModel",
            "_view_count": null,
            "_view_module": "@jupyter-widgets/base",
            "_view_module_version": "1.2.0",
            "_view_name": "LayoutView",
            "align_content": null,
            "align_items": null,
            "align_self": null,
            "border": null,
            "bottom": null,
            "display": null,
            "flex": null,
            "flex_flow": null,
            "grid_area": null,
            "grid_auto_columns": null,
            "grid_auto_flow": null,
            "grid_auto_rows": null,
            "grid_column": null,
            "grid_gap": null,
            "grid_row": null,
            "grid_template_areas": null,
            "grid_template_columns": null,
            "grid_template_rows": null,
            "height": null,
            "justify_content": null,
            "justify_items": null,
            "left": null,
            "margin": null,
            "max_height": null,
            "max_width": null,
            "min_height": null,
            "min_width": null,
            "object_fit": null,
            "object_position": null,
            "order": null,
            "overflow": null,
            "overflow_x": null,
            "overflow_y": null,
            "padding": null,
            "right": null,
            "top": null,
            "visibility": null,
            "width": null
          }
        },
        "69d7b796e2c942da9d98d905aa92c409": {
          "model_module": "@jupyter-widgets/controls",
          "model_name": "DescriptionStyleModel",
          "model_module_version": "1.5.0",
          "state": {
            "_model_module": "@jupyter-widgets/controls",
            "_model_module_version": "1.5.0",
            "_model_name": "DescriptionStyleModel",
            "_view_count": null,
            "_view_module": "@jupyter-widgets/base",
            "_view_module_version": "1.2.0",
            "_view_name": "StyleView",
            "description_width": ""
          }
        },
        "99eb5300beb74f7c8fae2a5a5f8eaa8e": {
          "model_module": "@jupyter-widgets/base",
          "model_name": "LayoutModel",
          "model_module_version": "1.2.0",
          "state": {
            "_model_module": "@jupyter-widgets/base",
            "_model_module_version": "1.2.0",
            "_model_name": "LayoutModel",
            "_view_count": null,
            "_view_module": "@jupyter-widgets/base",
            "_view_module_version": "1.2.0",
            "_view_name": "LayoutView",
            "align_content": null,
            "align_items": null,
            "align_self": null,
            "border": null,
            "bottom": null,
            "display": null,
            "flex": null,
            "flex_flow": null,
            "grid_area": null,
            "grid_auto_columns": null,
            "grid_auto_flow": null,
            "grid_auto_rows": null,
            "grid_column": null,
            "grid_gap": null,
            "grid_row": null,
            "grid_template_areas": null,
            "grid_template_columns": null,
            "grid_template_rows": null,
            "height": null,
            "justify_content": null,
            "justify_items": null,
            "left": null,
            "margin": null,
            "max_height": null,
            "max_width": null,
            "min_height": null,
            "min_width": null,
            "object_fit": null,
            "object_position": null,
            "order": null,
            "overflow": null,
            "overflow_x": null,
            "overflow_y": null,
            "padding": null,
            "right": null,
            "top": null,
            "visibility": null,
            "width": null
          }
        },
        "dc961f883d514c2baef91f17dcae5420": {
          "model_module": "@jupyter-widgets/controls",
          "model_name": "ProgressStyleModel",
          "model_module_version": "1.5.0",
          "state": {
            "_model_module": "@jupyter-widgets/controls",
            "_model_module_version": "1.5.0",
            "_model_name": "ProgressStyleModel",
            "_view_count": null,
            "_view_module": "@jupyter-widgets/base",
            "_view_module_version": "1.2.0",
            "_view_name": "StyleView",
            "bar_color": null,
            "description_width": ""
          }
        },
        "39de9de5abd548588ca81fe3d0d524c1": {
          "model_module": "@jupyter-widgets/base",
          "model_name": "LayoutModel",
          "model_module_version": "1.2.0",
          "state": {
            "_model_module": "@jupyter-widgets/base",
            "_model_module_version": "1.2.0",
            "_model_name": "LayoutModel",
            "_view_count": null,
            "_view_module": "@jupyter-widgets/base",
            "_view_module_version": "1.2.0",
            "_view_name": "LayoutView",
            "align_content": null,
            "align_items": null,
            "align_self": null,
            "border": null,
            "bottom": null,
            "display": null,
            "flex": null,
            "flex_flow": null,
            "grid_area": null,
            "grid_auto_columns": null,
            "grid_auto_flow": null,
            "grid_auto_rows": null,
            "grid_column": null,
            "grid_gap": null,
            "grid_row": null,
            "grid_template_areas": null,
            "grid_template_columns": null,
            "grid_template_rows": null,
            "height": null,
            "justify_content": null,
            "justify_items": null,
            "left": null,
            "margin": null,
            "max_height": null,
            "max_width": null,
            "min_height": null,
            "min_width": null,
            "object_fit": null,
            "object_position": null,
            "order": null,
            "overflow": null,
            "overflow_x": null,
            "overflow_y": null,
            "padding": null,
            "right": null,
            "top": null,
            "visibility": null,
            "width": null
          }
        },
        "c9b1c0813f694e76b93d10856808627c": {
          "model_module": "@jupyter-widgets/controls",
          "model_name": "DescriptionStyleModel",
          "model_module_version": "1.5.0",
          "state": {
            "_model_module": "@jupyter-widgets/controls",
            "_model_module_version": "1.5.0",
            "_model_name": "DescriptionStyleModel",
            "_view_count": null,
            "_view_module": "@jupyter-widgets/base",
            "_view_module_version": "1.2.0",
            "_view_name": "StyleView",
            "description_width": ""
          }
        }
      }
    }
  },
  "nbformat": 4,
  "nbformat_minor": 0
}