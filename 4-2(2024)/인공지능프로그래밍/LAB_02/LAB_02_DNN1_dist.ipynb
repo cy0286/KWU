{
 "cells": [
  {
   "cell_type": "markdown",
   "metadata": {},
   "source": [
    "AI Programming - SW Lee"
   ]
  },
  {
   "cell_type": "markdown",
   "metadata": {},
   "source": [
    "# Lab 02: Simple Deep Neural Network\n",
    "## Exercise: Predicting MNIST Digits"
   ]
  },
  {
   "cell_type": "markdown",
   "metadata": {
    "id": "NhC9a_u5Ta4u"
   },
   "source": [
    "### Prepare Mini-MNIST Dataset from Scikit-Learn\n",
    "http://yann.lecun.com/exdb/mnist/"
   ]
  },
  {
   "cell_type": "code",
   "execution_count": 136,
   "metadata": {},
   "outputs": [],
   "source": [
    "import numpy as np\n",
    "from sklearn.datasets import load_digits\n",
    "from sklearn.model_selection import train_test_split\n",
    "from sklearn.preprocessing import StandardScaler\n",
    "import matplotlib.pyplot as plt"
   ]
  },
  {
   "cell_type": "code",
   "execution_count": 137,
   "metadata": {
    "id": "MboBxtwcTa41"
   },
   "outputs": [],
   "source": [
    "digits = load_digits()\n",
    "\n",
    "# digits.data from sklearn contains 1797 images of 8x8 pixels\n",
    "# Each image has a hand-written digit\n",
    "digits_df = digits.images.reshape((len(digits.target), -1))\n",
    "digits_tf = digits.target\n",
    "\n",
    "# Splitting dataframe into train & test\n",
    "X_train_org, X_test_org, y_train_num, y_test = train_test_split(digits_df, digits_tf, test_size= 0.20, random_state= 101)\n",
    "\n",
    "# Digits data has range of [0,16], which often lead too big exponential values\n",
    "# so make them normal distribution of [0,1] with the sklearn package, or you can just divide them by 16\n",
    "sc = StandardScaler()\n",
    "X_train = sc.fit_transform(X_train_org)\n",
    "X_test = sc.transform(X_test_org)\n",
    "\n",
    "n_classes = 10\n",
    "\n",
    "# Transform Nx1 Y vector into Nx10 answer vector, so that we can perform one-to-all classification\n",
    "y_train = np.zeros((y_train_num.shape[0],10))\n",
    "for i in range(n_classes):\n",
    "    y_train[:,i] = (y_train_num == i)"
   ]
  },
  {
   "cell_type": "markdown",
   "metadata": {},
   "source": [
    "Define Utility Functions"
   ]
  },
  {
   "cell_type": "markdown",
   "metadata": {},
   "source": [
    "Sigmoid function can be defined as:\n",
    "\n",
    "$$ \\text{sigmoid}(x) = {1 \\over {1 + e^{-x}}} = {e^{x} \\over {1 + e^{x}}} $$\n",
    "\n",
    "Sigmoid function takes numbers between $[-\\infty, \\infty]$ and gives back numbers between $[0, 1]$.<br>\n",
    "However, the corresponding numpy implementation warns overflow for large negative inputs.<br>\n",
    "The function below is the implementation of numerically stable sigmoid. Complete the code **without using `if` statement**."
   ]
  },
  {
   "cell_type": "code",
   "execution_count": 138,
   "metadata": {},
   "outputs": [],
   "source": [
    "def mySigmoid(x):\n",
    "    ### START CODE HERE ###\n",
    "\n",
    "    positive = (x >= 0) # Create a boolean array indicating which elements in x are positive \n",
    "    x_p = x[positive]   # Extract the positive values from x\n",
    "    x_n = x[~positive]  # Extract the negative values from x\n",
    "    x[positive] = 1 / (1 + np.exp(-x_p))            # Apply the sigmoid function to the positive values\n",
    "    x[~positive] = np.exp(x_n) / (1 + np.exp(x_n))  # Apply the sigmoid function to the negative values\n",
    "\n",
    "    ### END CODE HERE ###\n",
    "    return x"
   ]
  },
  {
   "cell_type": "code",
   "execution_count": 139,
   "metadata": {},
   "outputs": [
    {
     "data": {
      "text/plain": [
       "array([0.5, 1. , 0. ])"
      ]
     },
     "execution_count": 139,
     "metadata": {},
     "output_type": "execute_result"
    }
   ],
   "source": [
    "mySigmoid(np.array([0.0, 1000.0, -1000.0]))"
   ]
  },
  {
   "cell_type": "markdown",
   "metadata": {},
   "source": [
    "Softmax function can be defined as:\n",
    "\n",
    "$$ \\text{softmax}(x_i) = {e^{x_i} \\over {\\sum_{k=1}^n e^{x_k}}} $$\n",
    "\n",
    "Softmax function also takes numbers between $[-\\infty, \\infty]$ and gives back numbers between $[0, 1]$.<br>\n",
    "Therefore, this function has the same overflow problem for large positive inputs.<br>\n",
    "The function below is the implementation of numerically stable softmax.<br>\n",
    "You can make the softmax stable by multiplying $e^{-M}$ to both numerator and denominator. <br>\n",
    "Complete the code **without using `if` statement**."
   ]
  },
  {
   "cell_type": "code",
   "execution_count": 140,
   "metadata": {},
   "outputs": [],
   "source": [
    "# define softmax. Assume (b, s)\n",
    "def mySoftmax(x):\n",
    "    ### START CODE HERE ###\n",
    "    \n",
    "    x = x - np.max(x, axis = -1, keepdims = True)        # Subtract the max value from each row for make x sufficiently small\n",
    "    x = np.exp(x)                                        # execute exponential function\n",
    "    x = x / np.sum(x, axis = -1, keepdims = True)        # calculate softmax\n",
    "\n",
    "    ### END CODE HERE ###\n",
    "    return x"
   ]
  },
  {
   "cell_type": "code",
   "execution_count": 141,
   "metadata": {},
   "outputs": [
    {
     "data": {
      "text/plain": [
       "array([0., 1., 0.])"
      ]
     },
     "execution_count": 141,
     "metadata": {},
     "output_type": "execute_result"
    }
   ],
   "source": [
    "mySoftmax(np.array([0.0, 1000.0, -1000.0]))"
   ]
  },
  {
   "cell_type": "code",
   "execution_count": 142,
   "metadata": {},
   "outputs": [
    {
     "name": "stdout",
     "output_type": "stream",
     "text": [
      "(1797, 64)\n",
      "(1437, 64)\n",
      "(1437, 10)\n",
      "[ 0.  0.  0.  9. 16.  6.  0.  0.  0.  0.  4. 15.  6. 15.  0.  0.  0.  0.\n",
      "  8. 11.  9. 11.  0.  0.  0.  0.  8. 16. 14.  2.  0.  0.  0.  0. 11. 16.\n",
      " 13.  0.  0.  0.  0.  6. 14.  2. 12.  9.  0.  0.  0.  5. 16. 11.  5. 13.\n",
      "  4.  0.  0.  0.  3.  8. 13. 16.  9.  0.]\n"
     ]
    },
    {
     "data": {
      "image/png": "[encoded data removed]",
      "text/plain": [
       "<Figure size 200x200 with 1 Axes>"
      ]
     },
     "metadata": {},
     "output_type": "display_data"
    },
    {
     "name": "stdout",
     "output_type": "stream",
     "text": [
      "The number is 3\n"
     ]
    }
   ],
   "source": [
    "# Print the shape of the digits DataFrame and the training data\n",
    "print(digits_df.shape)\n",
    "print(X_train.shape)\n",
    "print(y_train.shape)\n",
    "# Print the first sample from the original training data\n",
    "print(X_train_org[0])\n",
    "\n",
    "idx = np.random.randint(X_train.shape[0]) # Randomly select an index from the training data\n",
    "dimage = X_train_org[idx].reshape((8,8))  # Reshape the selected sample\n",
    "# Plot the image\n",
    "plt.figure(figsize=(2, 2))\n",
    "plt.gray()\n",
    "plt.matshow(dimage, fignum=1)\n",
    "plt.show()\n",
    "print('The number is', y_train_num[idx])"
   ]
  },
  {
   "cell_type": "markdown",
   "metadata": {},
   "source": [
    "### Simple DNN for Digit Classification"
   ]
  },
  {
   "cell_type": "markdown",
   "metadata": {},
   "source": [
    "Define Model Class"
   ]
  },
  {
   "cell_type": "code",
   "execution_count": 143,
   "metadata": {},
   "outputs": [],
   "source": [
    "class myDenseLayer:\n",
    "    def __init__(self, n_out, n_in):\n",
    "        # Initialize the weights and biases\n",
    "        self.wegt = np.empty((n_out, n_in))\n",
    "        self.bias = np.zeros((n_out))\n",
    "        self.saved_x = None     # store x to use while backpropagation\n",
    "\n",
    "    def forward(self, x):       # (b, i)\n",
    "        ### START CODE HERE ###\n",
    "\n",
    "        self.saved_x = x                                          # Save x for use in backpropagation\n",
    "        x_lin = (np.matmul(self.wegt, x.T).T) + self.bias         # Linear Prediction\n",
    "        ### END CODE HERE ###\n",
    "        return x_lin\n",
    "\n",
    "    def backward(self, x, x_in):  # x = dJ/dz (b, c)\n",
    "        # Check if input during forward pass matches the one during backpropagation\n",
    "        assert np.array_equal(self.saved_x, x_in), print('x_in does not equal to input X.')\n",
    "        ### START CODE HERE ###\n",
    "        \n",
    "        dw = np.matmul(x.T, x_in)         # Gradients for weights\n",
    "        db = np.sum(x, axis = 0)          # Gradients for biases\n",
    "        wdJdz = np.matmul(x, self.wegt)   # Propagation for lower layer\n",
    "        \n",
    "        ### END CODE HERE ###\n",
    "        return dw, db, wdJdz"
   ]
  },
  {
   "cell_type": "code",
   "execution_count": 144,
   "metadata": {},
   "outputs": [
    {
     "name": "stdout",
     "output_type": "stream",
     "text": [
      "[[[ 3.23890168  3.05091188 -3.32627831]\n",
      "  [ 0.388114    3.36724875  1.06158492]\n",
      "  [ 3.10267869  1.87570497 -1.8326582 ]]\n",
      "\n",
      " [[-7.60581826  2.36703751 -1.16423539]\n",
      "  [ 3.48035012  2.41940644 -0.13917734]\n",
      "  [ 1.20541315  2.07585619 -1.5435161 ]]]\n"
     ]
    }
   ],
   "source": [
    "np.random.seed(0)\n",
    "\n",
    "tmp = myDenseLayer(3,5)\n",
    "tmp.wegt = np.random.randn(3,5)\n",
    "tmp.bias = np.random.randn(3)\n",
    "\n",
    "print(tmp.forward(np.random.randn(2,5,3)))"
   ]
  },
  {
   "cell_type": "markdown",
   "metadata": {},
   "source": [
    "**Expected Outputs**\n",
    "\n",
    "```\n",
    "[[[ 3.23890168  3.05091188 -3.32627831]\n",
    "  [ 0.388114    3.36724875  1.06158492]\n",
    "  [ 3.10267869  1.87570497 -1.8326582 ]]\n",
    "\n",
    " [[-7.60581826  2.36703751 -1.16423539]\n",
    "  [ 3.48035012  2.41940644 -0.13917734]\n",
    "  [ 1.20541315  2.07585619 -1.5435161 ]]]\n",
    "```"
   ]
  },
  {
   "cell_type": "markdown",
   "metadata": {},
   "source": [
    "Define Backpropagation of Activation Functions"
   ]
  },
  {
   "cell_type": "code",
   "execution_count": 145,
   "metadata": {},
   "outputs": [],
   "source": [
    "def dJdz_sigmoid(wdJdz_upper, az): # Backpropagation through the sigmoid activation function\n",
    "    ### START CODE HERE ###\n",
    "\n",
    "    dJdz = wdJdz_upper * (az * (1 - az))  # backpropagation through activation function\n",
    "    \n",
    "    ### END CODE HERE ###\n",
    "    return dJdz\n",
    "\n",
    "def dJdz_softmax(y_hat, y):       # Backpropagation through the softmax activation function\n",
    "    ### START CODE HERE ###\n",
    "    \n",
    "    dJdz =  y_hat - y                     # backpropagation through activation function\n",
    "    \n",
    "    ### END CODE HERE ###\n",
    "    return dJdz"
   ]
  },
  {
   "cell_type": "code",
   "execution_count": 146,
   "metadata": {},
   "outputs": [
    {
     "name": "stdout",
     "output_type": "stream",
     "text": [
      "[-4.90531647 -0.64834065 -1.89126428]\n",
      "[ 0.53948992 -0.29540078 -1.55749236]\n"
     ]
    }
   ],
   "source": [
    "np.random.seed(0)\n",
    "\n",
    "print(dJdz_sigmoid(np.random.randn(3),np.random.randn(3)))\n",
    "print(dJdz_softmax(np.random.randn(3),np.random.randn(3)))"
   ]
  },
  {
   "cell_type": "markdown",
   "metadata": {},
   "source": [
    "**Expected Outputs**\n",
    "\n",
    "```\n",
    "[-4.90531647 -0.64834065 -1.89126428]\n",
    "[ 0.53948992 -0.29540078 -1.55749236]\n",
    "```"
   ]
  },
  {
   "cell_type": "markdown",
   "metadata": {},
   "source": [
    "Define Training Functions<br>"
   ]
  },
  {
   "cell_type": "code",
   "execution_count": 147,
   "metadata": {},
   "outputs": [],
   "source": [
    "def my_forward(l1, l2, l3, X_in): # Forward propagation through three layers\n",
    "    ### START CODE HERE ###\n",
    "\n",
    "    a_1 = mySigmoid(l1.forward(X_in))                 # first stage forward(sigmoid)\n",
    "    a_2 = mySigmoid(l2.forward(a_1))                  # second stage forward(sigmoid)\n",
    "    a_3 = mySoftmax(l3.forward(a_2))                  # third stage forward(softmax)\n",
    "\n",
    "    ### END CODE HERE ###\n",
    "    return a_1, a_2, a_3\n",
    "\n",
    "def my_backward(l1, l2, l3, a_1, a_2, a_3, X_in, y_true): # Backward propagation through three layers\n",
    "    ### START CODE HERE ###\n",
    "\n",
    "    dw_3, db_3, wdJdz_3 = l3.backward(dJdz_softmax(a_3, y_true), a_2)     # go through 3rd stage backward(softmax)\n",
    "    dw_2, db_2, wdJdz_2 = l2.backward(dJdz_sigmoid(wdJdz_3, a_2), a_1)    # go through 2nd stage backward(sigmoid)\n",
    "    dw_1, db_1, _       = l1.backward(dJdz_sigmoid(wdJdz_2, a_1), X_in)   # go through 1st stage backward(sigmoid)\n",
    "\n",
    "    ### END CODE HERE ###\n",
    "\n",
    "    # Return gradients for all layers\n",
    "    d_1 = [dw_1, db_1]\n",
    "    d_2 = [dw_2, db_2]\n",
    "    d_3 = [dw_3, db_3]\n",
    "    \n",
    "    return d_1, d_2, d_3\n",
    "\n",
    "def my_loss(l1, l2, l3, X_in, y_true): # Calculate the loss\n",
    "    ### START CODE HERE ###\n",
    "\n",
    "    a_1,a_2,a_3 = my_forward(l1, l2, l3, X_in)                   # Forward pass to get the predictions\n",
    "    loss = -(np.sum(y_true * np.log(a_3))) / X_in.shape[0]       # calculate cross-entropy loss\n",
    "\n",
    "    ### END CODE HERE ###\n",
    "    return loss\n",
    "    \n",
    "def my_predict(l1, l2, l3, X_in):     # Make predictions\n",
    "    ### START CODE HERE ###\n",
    "    \n",
    "    a_1,a_2,a_3 = my_forward(l1, l2, l3, X_in)       # Forward pass to get the softmax probabilities\n",
    "    pred = np.argmax(a_3, axis=1)                    # make prediction\n",
    "\n",
    "    ### END CODE HERE ###\n",
    "    return pred"
   ]
  },
  {
   "cell_type": "markdown",
   "metadata": {},
   "source": [
    "Create a NN model and check the matrix dimensions"
   ]
  },
  {
   "cell_type": "code",
   "execution_count": 148,
   "metadata": {
    "id": "DT0rMw-rTa5A"
   },
   "outputs": [
    {
     "name": "stdout",
     "output_type": "stream",
     "text": [
      "(1437, 64) (1437, 10)\n",
      "(80, 64) (80,)\n",
      "(70, 80) (70,)\n",
      "(10, 70) (10,)\n"
     ]
    }
   ],
   "source": [
    "# Define the number of inputs, hidden units, and output classes\n",
    "n_inputs  = 64\n",
    "n_hidden1 = 80\n",
    "n_hidden2 = 70\n",
    "n_classes = 10\n",
    "\n",
    "# Initialize three layers of the neural network\n",
    "l1 = myDenseLayer(n_hidden1, n_inputs)\n",
    "l2 = myDenseLayer(n_hidden2, n_hidden1)\n",
    "l3 = myDenseLayer(n_classes, n_hidden2)\n",
    "\n",
    "print(X_train.shape, y_train.shape)\n",
    "print(l1.wegt.shape, l1.bias.shape)\n",
    "print(l2.wegt.shape, l2.bias.shape)\n",
    "print(l3.wegt.shape, l3.bias.shape)"
   ]
  },
  {
   "cell_type": "markdown",
   "metadata": {},
   "source": [
    "**Expected Outputs**\n",
    "\n",
    "```\n",
    "(1437, 64) (1437, 10)\n",
    "(80, 64) (80,)\n",
    "(70, 80) (70,)\n",
    "(10, 70) (10,)\n",
    "```"
   ]
  },
  {
   "cell_type": "markdown",
   "metadata": {},
   "source": [
    "Weight Initialization"
   ]
  },
  {
   "cell_type": "code",
   "execution_count": 149,
   "metadata": {},
   "outputs": [],
   "source": [
    "# Weights are initialized to...\n",
    "l1.wegt = np.random.randn(n_hidden1, n_inputs)\n",
    "l2.wegt = np.random.randn(n_hidden2, n_hidden1)\n",
    "l3.wegt = np.random.randn(n_classes, n_hidden2)"
   ]
  },
  {
   "cell_type": "markdown",
   "metadata": {},
   "source": [
    "Training Simple Neural Network Model (3 layer model) (<b>Update weights</b>)"
   ]
  },
  {
   "cell_type": "code",
   "execution_count": 150,
   "metadata": {
    "colab": {
     "base_uri": "https://localhost:8080/"
    },
    "executionInfo": {
     "elapsed": 55777,
     "status": "ok",
     "timestamp": 1649259680196,
     "user": {
      "displayName": "Seong-Won Lee",
      "userId": "14858304546124675216"
     },
     "user_tz": -540
    },
    "id": "qODinrZlTa5C",
    "outputId": "8237949a-964a-49cd-f3e9-fb65759245e7"
   },
   "outputs": [
    {
     "name": "stdout",
     "output_type": "stream",
     "text": [
      "Epoch:  500,  loss: 0.01596297\n",
      "Epoch: 1000,  loss: 0.00289776\n",
      "Epoch: 1500,  loss: 0.00176497\n",
      "Epoch: 2000,  loss: 0.00104026\n",
      "Epoch: 2500,  loss: 0.00081159\n",
      "Epoch: 3000,  loss: 0.00058899\n",
      "Epoch: 3500,  loss: 0.00046510\n",
      "Epoch: 4000,  loss: 0.00033567\n",
      "Epoch: 4500,  loss: 0.00027970\n",
      "Epoch: 5000,  loss: 0.00021400\n"
     ]
    }
   ],
   "source": [
    "# alpha: learning rate, lamda: regularization factor\n",
    "alpha = 0.01\n",
    "n_epochs = 5000\n",
    "\n",
    "for epoch in range(n_epochs): # Training loop\n",
    "    ### START CODE HERE ###\n",
    "\n",
    "    # Forward Path\n",
    "    a_1, a_2, a_3 = my_forward(l1, l2, l3, X_train)                             # Forward pass through the network\n",
    "    \n",
    "    # Backward Path\n",
    "    d_1, d_2, d_3 =  my_backward(l1, l2, l3, a_1, a_2, a_3, X_train, y_train)   # Backward pass to compute gradients for all layers\n",
    "\n",
    "    ### END CODE HERE ###\n",
    "    # Extract the gradients for weights and biases from each layer\n",
    "    dw_1, db_1 = d_1\n",
    "    dw_2, db_2 = d_2\n",
    "    dw_3, db_3 = d_3\n",
    "\n",
    "    # Update weights and biases\n",
    "    ### START CODE HERE ###\n",
    "    l3.wegt -= alpha * dw_3\n",
    "    l3.bias -= alpha * db_3\n",
    "    l2.wegt -= alpha * dw_2\n",
    "    l2.bias -= alpha * db_2\n",
    "    l1.wegt -= alpha * dw_1\n",
    "    l1.bias -= alpha * db_1\n",
    "    \n",
    "    ### END CODE HERE ###\n",
    "\n",
    "    # Print loss\n",
    "    if ((epoch+1)%500==0):\n",
    "        loss_J = my_loss(l1, l2, l3, X_train, y_train)\n",
    "        print('Epoch: %4d,  loss: %10.8f' % (epoch+1, loss_J))"
   ]
  },
  {
   "cell_type": "markdown",
   "metadata": {},
   "source": [
    "Evaluate Model Performance"
   ]
  },
  {
   "cell_type": "code",
   "execution_count": 151,
   "metadata": {
    "colab": {
     "base_uri": "https://localhost:8080/"
    },
    "executionInfo": {
     "elapsed": 292,
     "status": "ok",
     "timestamp": 1649259686353,
     "user": {
      "displayName": "Seong-Won Lee",
      "userId": "14858304546124675216"
     },
     "user_tz": -540
    },
    "id": "xMvLn6SJTa5D",
    "outputId": "229cafc3-c9c5-4dd2-f7bc-d4cdf90c4d46"
   },
   "outputs": [
    {
     "data": {
      "text/plain": [
       "0.9444444444444444"
      ]
     },
     "execution_count": 151,
     "metadata": {},
     "output_type": "execute_result"
    }
   ],
   "source": [
    "from sklearn.metrics import accuracy_score\n",
    "\n",
    "# Make predictions on the test set using the trained model\n",
    "y_pred = my_predict(l1, l2, l3, X_test)\n",
    "\n",
    "accuracy_score(y_pred, y_test)"
   ]
  },
  {
   "cell_type": "markdown",
   "metadata": {
    "id": "WieUxPz9Ta5F"
   },
   "source": [
    "Neural Network from scikit-learn"
   ]
  },
  {
   "cell_type": "code",
   "execution_count": 152,
   "metadata": {
    "colab": {
     "base_uri": "https://localhost:8080/"
    },
    "executionInfo": {
     "elapsed": 3086,
     "status": "ok",
     "timestamp": 1649259694763,
     "user": {
      "displayName": "Seong-Won Lee",
      "userId": "14858304546124675216"
     },
     "user_tz": -540
    },
    "id": "w8AcitiaTa5G",
    "outputId": "09455c7b-a58f-4492-b5cb-431eab436f6c"
   },
   "outputs": [
    {
     "data": {
      "text/plain": [
       "0.9666666666666667"
      ]
     },
     "execution_count": 152,
     "metadata": {},
     "output_type": "execute_result"
    }
   ],
   "source": [
    "from sklearn.neural_network import MLPClassifier\n",
    "\n",
    "mlp = MLPClassifier(hidden_layer_sizes=(80, 70, ), activation='logistic', solver='sgd', \\\n",
    "                    alpha=0.01, learning_rate_init=0.01, max_iter=1000)\n",
    "\n",
    "# Training/Fitting the Model\n",
    "mlp.fit(X_train, y_train_num)\n",
    "\n",
    "# Making Predictions\n",
    "s_pred = mlp.predict(X_test)\n",
    "accuracy_score(s_pred, y_test)"
   ]
  },
  {
   "cell_type": "markdown",
   "metadata": {
    "id": "BmZQrDH9n0PK"
   },
   "source": [
    "### Test Model with a random sample\n"
   ]
  },
  {
   "cell_type": "code",
   "execution_count": 154,
   "metadata": {},
   "outputs": [
    {
     "data": {
      "image/png": "[encoded data removed]",
      "text/plain": [
       "<Figure size 200x200 with 1 Axes>"
      ]
     },
     "metadata": {},
     "output_type": "display_data"
    },
    {
     "name": "stdout",
     "output_type": "stream",
     "text": [
      "My prediction is 3\n",
      "sk prediction is 3\n",
      "Actual number is 3\n"
     ]
    }
   ],
   "source": [
    "idx = np.random.randint(X_test.shape[0])\n",
    "dimage = X_test_org[idx].reshape((8,8))\n",
    "# Plot the image\n",
    "plt.figure(figsize=(2, 2))\n",
    "plt.gray()\n",
    "plt.matshow(dimage, fignum=1)\n",
    "plt.show()\n",
    "\n",
    "X_input = np.expand_dims(X_test[idx], 0)\n",
    "\n",
    "y_pred = my_predict(l1, l2, l3, X_input)\n",
    "\n",
    "s_pred = mlp.predict(X_input)\n",
    "\n",
    "print('My prediction is ' + str(y_pred[0]))\n",
    "print('sk prediction is ' + str(s_pred[0]))\n",
    "print('Actual number is ' + str(y_test[idx]))\n"
   ]
  },
  {
   "cell_type": "markdown",
   "metadata": {},
   "source": [
    "(c) 2024 SW Lee"
   ]
  }
 ],
 "metadata": {
  "colab": {
   "collapsed_sections": [],
   "name": "ML_L06_01_MNIST.ipynb",
   "provenance": []
  },
  "kernelspec": {
   "display_name": "Python 3 (ipykernel)",
   "language": "python",
   "name": "python3"
  },
  "language_info": {
   "codemirror_mode": {
    "name": "ipython",
    "version": 3
   },
   "file_extension": ".py",
   "mimetype": "text/x-python",
   "name": "python",
   "nbconvert_exporter": "python",
   "pygments_lexer": "ipython3",
   "version": "3.11.7"
  },
  "vscode": {
   "interpreter": {
    "hash": "19c3f3f12223855b5e5811df3b51e2142b7f938327ffb9b9a66299337f7b60d0"
   }
  }
 },
 "nbformat": 4,
 "nbformat_minor": 4
}
