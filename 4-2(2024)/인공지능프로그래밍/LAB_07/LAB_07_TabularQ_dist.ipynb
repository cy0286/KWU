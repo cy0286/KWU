{
  "cells": [
    {
      "cell_type": "markdown",
      "metadata": {
        "id": "Q1xGo30VmT8O"
      },
      "source": [
        "AI Programming - SW Lee"
      ]
    },
    {
      "cell_type": "markdown",
      "metadata": {
        "id": "Ar-XXiW4mT8P"
      },
      "source": [
        "# Lab 07: Tabular Q Learning\n",
        "## Exercise: Frozen Lake, Taxi"
      ]
    },
    {
      "cell_type": "markdown",
      "metadata": {
        "id": "wWYMoiocmT8Q"
      },
      "source": [
        "### Prepare Library Packages"
      ]
    },
    {
      "cell_type": "code",
      "execution_count": 59,
      "metadata": {
        "colab": {
          "base_uri": "https://localhost:8080/"
        },
        "id": "ayVJlw1gmT8Q",
        "outputId": "d2abe9b8-3d7f-4e1a-cde3-e1a7bac95040"
      },
      "outputs": [
        {
          "output_type": "stream",
          "name": "stdout",
          "text": [
            "Requirement already satisfied: gymnasium in /usr/local/lib/python3.10/dist-packages (1.0.0)\n",
            "Requirement already satisfied: numpy>=1.21.0 in /usr/local/lib/python3.10/dist-packages (from gymnasium) (1.26.4)\n",
            "Requirement already satisfied: cloudpickle>=1.2.0 in /usr/local/lib/python3.10/dist-packages (from gymnasium) (3.1.0)\n",
            "Requirement already satisfied: typing-extensions>=4.3.0 in /usr/local/lib/python3.10/dist-packages (from gymnasium) (4.12.2)\n",
            "Requirement already satisfied: farama-notifications>=0.0.1 in /usr/local/lib/python3.10/dist-packages (from gymnasium) (0.0.4)\n"
          ]
        }
      ],
      "source": [
        "# Check if this code runs in Colab\n",
        "RunningInCOLAB = 'google.colab' in str(get_ipython())\n",
        "\n",
        "# Installing the required library and Import tqdm for notebook if Colab\n",
        "if RunningInCOLAB:\n",
        "    !pip install gymnasium\n",
        "    from tqdm.notebook import tqdm\n",
        "else:\n",
        "    from tqdm import tqdm"
      ]
    },
    {
      "cell_type": "code",
      "execution_count": 60,
      "metadata": {
        "id": "ywSKNM-hmT8Q"
      },
      "outputs": [],
      "source": [
        "# Importing libraries\n",
        "import numpy as np\n",
        "import matplotlib.pyplot as plt\n",
        "\n",
        "import gymnasium as gym\n",
        "from gymnasium import wrappers"
      ]
    },
    {
      "cell_type": "code",
      "execution_count": 61,
      "metadata": {
        "colab": {
          "base_uri": "https://localhost:8080/",
          "height": 35
        },
        "id": "rsB-VHVYmT8Q",
        "outputId": "51845f58-09c5-454e-c17b-c90dd3dfb252"
      },
      "outputs": [
        {
          "output_type": "execute_result",
          "data": {
            "text/plain": [
              "'1.0.0'"
            ],
            "application/vnd.google.colaboratory.intrinsic+json": {
              "type": "string"
            }
          },
          "metadata": {},
          "execution_count": 61
        }
      ],
      "source": [
        "# Check the installed version\n",
        "gym.__version__"
      ]
    },
    {
      "cell_type": "markdown",
      "metadata": {
        "id": "WYfyDernmT8R"
      },
      "source": [
        "### Select Environment"
      ]
    },
    {
      "cell_type": "markdown",
      "metadata": {
        "id": "3WS9Fcv1mT8R"
      },
      "source": [
        "**Frozen Lake**<br>\n",
        "https://gymnasium.farama.org/environments/toy_text/frozen_lake/\n",
        "\n",
        "\n",
        "**Taxi**<br>\n",
        "https://gymnasium.farama.org/environments/toy_text/taxi/\n",
        "\n",
        "**Blackjack**<br>\n",
        "https://gymnasium.farama.org/environments/toy_text/blackjack/"
      ]
    },
    {
      "cell_type": "code",
      "execution_count": 62,
      "metadata": {
        "id": "hAxqWrhemT8R"
      },
      "outputs": [],
      "source": [
        "# select evironment\n",
        "# Text Game: 0 for FrozenLake 4x4, 1 for Taxi, 2 for Blackjack\n",
        "\n",
        "SELECT_ENV = 2 # Choose the environment"
      ]
    },
    {
      "cell_type": "code",
      "execution_count": 63,
      "metadata": {
        "id": "E7Yv1pesmT8R"
      },
      "outputs": [],
      "source": [
        "# Frozen Lake configuration settings\n",
        "if SELECT_ENV == 0:\n",
        "    env_name, res_prefix = 'FrozenLake-v1', 'lak4'           # Environment name and result file prefix\n",
        "    max_episodes, max_ep_steps, goal_score = 3000, 500, 0.8  # Number of learning episodes, maximum steps per episode and goal score\n",
        "    val_ep_num, lr_rate, discount_rate = 20, 0.8, 0.95       # Number of evaluation episodes, learning rate, discount rate\n",
        "# Taxi configuration settings\n",
        "elif SELECT_ENV == 1:\n",
        "    env_name, res_prefix = 'Taxi-v3', 'taxi'\n",
        "    max_episodes, max_ep_steps, goal_score = 1000, 500, 8.0\n",
        "    val_ep_num, lr_rate, discount_rate = 20, 0.8, 0.95\n",
        "# Blackjack configuration settings\n",
        "elif SELECT_ENV == 2:\n",
        "    env_name, res_prefix = 'Blackjack-v1', 'blkj'\n",
        "    max_episodes, max_ep_steps, goal_score = 5000, 10, -0.05\n",
        "    val_ep_num, lr_rate, discount_rate = 1000, 0.1, 0.95\n",
        "# Error in invalid selection\n",
        "else: assert False, 'environment selection error'\n",
        "\n",
        "# Create a Gym environment to the selected environment\n",
        "def create_env():\n",
        "    if   SELECT_ENV == 0:   # Create Forzen Lake Environment\n",
        "        env = gym.make(env_name, desc=None, map_name='4x4', is_slippery=True, render_mode='rgb_array')\n",
        "    elif   SELECT_ENV == 1: # Create Taxi Environment\n",
        "        env = gym.make(env_name, render_mode='rgb_array')\n",
        "    elif   SELECT_ENV == 2: # Create Blackjack Environment\n",
        "        env = gym.make(env_name, natural=False, sab=False, render_mode='rgb_array')\n",
        "    else: pass              # Do not process incorrect choices\n",
        "    return env"
      ]
    },
    {
      "cell_type": "code",
      "execution_count": 64,
      "metadata": {
        "id": "3wH3wPR0mT8R"
      },
      "outputs": [],
      "source": [
        "# Environmental Initialization Function\n",
        "def env_reset(env):\n",
        "    observation = env.reset() # Initialize the environment and bring in initial observations\n",
        "    obs = observation[0] if type(observation)==tuple else observation # Use the first value if the observation is a tuple\n",
        "    if SELECT_ENV == 2: # In a Blackjack environment\n",
        "        state = obs[0] + 32 * obs[2] + 64 * obs[1] # State calculation\n",
        "    else: state = obs   # Use as is in other environments\n",
        "    return state\n",
        "\n",
        "# One-step execution function in the environment\n",
        "def env_step(env, action):\n",
        "    observation = env.step(action) # Use a given action to take a step forward in environment\n",
        "    if SELECT_ENV == 2:\n",
        "        state = observation[0][0] + 32 * observation[0][2] + 64 * observation[0][1]\n",
        "    else: state = observation[0]\n",
        "    reward = observation[1] # Get rewards\n",
        "    done = observation[2] or observation[3] if len(observation)>4 else observation[2] # Determininig whether to done\n",
        "    return state, reward, done"
      ]
    },
    {
      "cell_type": "code",
      "execution_count": 65,
      "metadata": {
        "id": "ZjxH-1acmT8S"
      },
      "outputs": [],
      "source": [
        "env = create_env() # Call function that creates environment\n",
        "state = env_reset(env) # Initialize the environment and get the initial state\n",
        "state, reward, done = env_step(env, env.action_space.sample()) # Select a random action and apply it to the environment to receive a new condition, reward, done"
      ]
    },
    {
      "cell_type": "markdown",
      "metadata": {
        "id": "Gn1iaYxhmT8S"
      },
      "source": [
        "### Check and Show Environment Variables"
      ]
    },
    {
      "cell_type": "code",
      "execution_count": 66,
      "metadata": {
        "id": "-67pHnvimT8S"
      },
      "outputs": [],
      "source": [
        "# Check the action space type and set corresponding parameters\n",
        "action_shape = env.action_space.shape\n",
        "action_space_type = type(env.action_space)\n",
        "\n",
        "# For Discrete action space\n",
        "if action_space_type==gym.spaces.discrete.Discrete:\n",
        "    actn_space = 'DISCRETE'\n",
        "    action_shape = (1,)\n",
        "    action_dims = 1\n",
        "    action_range = env.action_space.n\n",
        "    num_actions = action_range  # number of actions is action range for DISCRETE actions\n",
        "    action_batch_shape = (None, action_range)\n",
        "# For Continuous action space\n",
        "elif action_space_type==gym.spaces.box.Box:\n",
        "    actn_space = 'CONTINUOUS'\n",
        "    action_dims = action_shape[0]\n",
        "    actn_uppr_bound = env.action_space.high[0]\n",
        "    actn_lowr_bound = env.action_space.low[0]\n",
        "    action_range = (actn_uppr_bound - actn_lowr_bound) # x0.5 for tanh output\n",
        "    action_batch_shape = tuple([None]+[x for x in action_shape])\n",
        "    num_actions = action_dims   # number of actions is action dimension for CONTINUOUS actions\n",
        "# If neither is the case\n",
        "else: assert False, 'other action space type are not supported'\n",
        "\n",
        "# Check the observation space type and set corresponding parameters\n",
        "observation_space_type = type(env.observation_space)\n",
        "observation_shape = env.observation_space.shape\n",
        "\n",
        "# For Discrete observation space\n",
        "if observation_space_type==gym.spaces.discrete.Discrete:\n",
        "    observation_shape = (1,)\n",
        "    num_states = env.observation_space.n\n",
        "# For Box (continuous) observation space\n",
        "elif observation_space_type==gym.spaces.box.Box:\n",
        "    num_states = observation_shape[0]\n",
        "# For Tuple observation space (e.g., multiple spaces combined)\n",
        "elif observation_space_type==gym.spaces.tuple.Tuple:\n",
        "    observation_shape = tuple([x.n for x in env.observation_space])\n",
        "    num_states = np.prod(observation_shape)\n",
        "# Unsupported\n",
        "else: print('observation space type error')\n",
        "\n",
        "# Define state shape and batch shape depending on environment\n",
        "if SELECT_ENV == 2:\n",
        "    state_shape = (1,)\n",
        "    state_batch_shape = (None,1)\n",
        "else:\n",
        "    state_shape = observation_shape\n",
        "    state_batch_shape = tuple([None]+[x for x in observation_shape])\n",
        "\n",
        "# Set value shape\n",
        "value_shape = (1,)\n",
        "num_values = 1"
      ]
    },
    {
      "cell_type": "code",
      "execution_count": 67,
      "metadata": {
        "colab": {
          "base_uri": "https://localhost:8080/"
        },
        "id": "PbLYGZWamT8S",
        "outputId": "98f23e70-5549-46db-c488-8be5b9352498"
      },
      "outputs": [
        {
          "output_type": "stream",
          "name": "stdout",
          "text": [
            "Action space  <class 'gymnasium.spaces.discrete.Discrete'>\n",
            "Action shape  (1,)\n",
            "Action dimensions  1\n",
            "Action range  2\n",
            "Action batch shape  (None, 2)\n",
            "Observation space  <class 'gymnasium.spaces.tuple.Tuple'>\n",
            "Observation shape  (32, 11, 2)\n",
            "Size of State Space  704\n",
            "State shape  (1,)\n",
            "State batch shape  (None, 1)\n",
            "Vallue shape  (1,)\n",
            "Value dimensions  1\n"
          ]
        }
      ],
      "source": [
        "# Prints action space, shape, dimensions, range, max/min values, batch shape,\n",
        "# observation space, shape, state size, state shape, batch shape, and value dimensions\n",
        "print('Action space ', action_space_type)\n",
        "print('Action shape ', action_shape)\n",
        "print('Action dimensions ', action_dims)\n",
        "print('Action range ', action_range)\n",
        "if action_space_type==gym.spaces.box.Box:\n",
        "    print('Max Value of Action ', actn_uppr_bound)\n",
        "    print('Min Value of Action ', actn_lowr_bound)\n",
        "else: pass\n",
        "print('Action batch shape ', action_batch_shape)\n",
        "\n",
        "print('Observation space ', observation_space_type)\n",
        "print('Observation shape ', observation_shape)\n",
        "print('Size of State Space ', num_states)\n",
        "print('State shape ', state_shape)\n",
        "print('State batch shape ', state_batch_shape)\n",
        "\n",
        "print('Vallue shape ', value_shape)\n",
        "print('Value dimensions ', num_values)"
      ]
    },
    {
      "cell_type": "markdown",
      "metadata": {
        "id": "1jKHXhaymT8S"
      },
      "source": [
        "### Define and Initialize The Agent\n",
        "### **Exercise:** Define Q-table (Numpy)"
      ]
    },
    {
      "cell_type": "code",
      "execution_count": 68,
      "metadata": {
        "colab": {
          "base_uri": "https://localhost:8080/"
        },
        "id": "LAYzjCpxmT8S",
        "outputId": "9dc43539-19f1-45f6-9914-07187d84e7a9"
      },
      "outputs": [
        {
          "output_type": "stream",
          "name": "stdout",
          "text": [
            "(704, 2)\n"
          ]
        }
      ],
      "source": [
        "### START CODE HERE ###\n",
        "\n",
        "Q_table = np.zeros((num_states, num_actions)) # Q-table initialized with zeros based on the number of states and actions\n",
        "\n",
        "###  END CODE HERE  ###\n",
        "\n",
        "print(Q_table.shape)"
      ]
    },
    {
      "cell_type": "markdown",
      "metadata": {
        "id": "d6Vny8dpmT8S"
      },
      "source": [
        "### Define and Initialize Hyperparameters"
      ]
    },
    {
      "cell_type": "code",
      "execution_count": 69,
      "metadata": {
        "id": "j3Ykr7L-mT8S"
      },
      "outputs": [],
      "source": [
        "total_episodes = max_episodes   # Total episodes\n",
        "max_steps = max_ep_steps        # Max steps per episode\n",
        "learning_rate = lr_rate         # Learning rate\n",
        "gamma = discount_rate           # Discounting rate\n",
        "val_episodes = val_ep_num       # Number of validation episodes"
      ]
    },
    {
      "cell_type": "markdown",
      "metadata": {
        "id": "dXOImZJymT8S"
      },
      "source": [
        "### Define Epsilon Function\n",
        "\n",
        "This is an example of exponential decay epsilon function. One of easist epsilon decay functions is simply to multiply 0.9. You can define your own epsilon function."
      ]
    },
    {
      "cell_type": "code",
      "execution_count": 70,
      "metadata": {
        "id": "fzCCIAHfmT8S"
      },
      "outputs": [],
      "source": [
        "# Exploration parameters for epsilon greedy strategy\n",
        "class Epsilon:\n",
        "    def __init__(self, max_steps):\n",
        "        self.explore_start = 1.0            # Initial exploration probability at start\n",
        "        self.explore_stop = 0.01            # Minimum exploration probability\n",
        "        self.decay_rate = 20.0/max_steps    # Exponential decay rate for reducing exploration prob (4.6 ~ max_step = 0.01)\n",
        "        self.steps = 0                      # Counter to track the number of steps taken\n",
        "\n",
        "    def get_epsilon(self):\n",
        "        # Calculate the current exploration probability using exponential decay formula\n",
        "        eps = (self.explore_stop\n",
        "            + (self.explore_start - self.explore_stop) * np.exp(-self.decay_rate * self.steps))\n",
        "        self.steps += 1                     # Increment the step counter\n",
        "        return eps                          # Return the current exploration probability"
      ]
    },
    {
      "cell_type": "markdown",
      "metadata": {
        "id": "oLfoQDmlmT8S"
      },
      "source": [
        "### Learning Procedures\n",
        "\n",
        "Q-learning is an off-policy TD control algorithm.\n",
        "\n",
        "$$ Q(s_t, a_t) \\leftarrow Q(s_t, a_t) + \\alpha (r_{t} + \\gamma \\max_{a} Q(s_{t+1},a) - Q(s_t,a_t) ) $$\n",
        "\n",
        "The target policy $\\pi$ is greedy w.r.t. $Q(s,a)$\n",
        "\n",
        "$$ \\pi (s_{t}) = \\arg \\max_{a^\\prime} Q(s_{t},a^\\prime) $$\n",
        "\n",
        "### **Exercise:** Define Training Loop and Evaluation Loop"
      ]
    },
    {
      "cell_type": "code",
      "execution_count": 71,
      "metadata": {
        "id": "xYwrxuX5mT8S"
      },
      "outputs": [],
      "source": [
        "def evaluate_policy(env, qtable, num_average, images=None):\n",
        "\n",
        "    total_reward = 0.0               # Accumulates total reward over all evaluation episodes\n",
        "    total_steps = 0                  # Accumulates total steps taken across episodes\n",
        "    episodes_to_play = num_average   # Number of episodes to play for evaluation\n",
        "    for _ in range(episodes_to_play):  # Play n episode and calculate average performance\n",
        "        state = env_reset(env)         # Reset the environment to its initial state\n",
        "        if images!=None: images.append(env.render()) # If images is provided, capture the environment's initial render\n",
        "        done = False  # Track whether the episode is finished\n",
        "        episode_reward = 0.0  # Accumulates reward for the current episode\n",
        "        while not done:  # Continue until the episode is finished\n",
        "\n",
        "            ### START CODE HERE ###\n",
        "\n",
        "            action = np.argmax(qtable[state])                     # Select the best action from the Q-table for the current state\n",
        "            next_state, reward, done = env_step(env, action)      # Take action and observe the next state, reward, and done flag\n",
        "\n",
        "            ###  END CODE HERE  ###\n",
        "\n",
        "            if images!=None: images.append(env.render()) # If images is provided, capture the environment's render after each step\n",
        "            state = next_state                          # Update current state to the next state\n",
        "            episode_reward += reward                    # Accumulate the reward for this episode\n",
        "            total_steps += 1                            # Increment the total step count\n",
        "        total_reward += episode_reward                  # Add the episode's reward to the total reward\n",
        "    average_reward = total_reward / episodes_to_play    # Take the average reward of evaluations\n",
        "    average_steps = total_steps / episodes_to_play      # Take the average steps of evaluations\n",
        "\n",
        "    return average_reward, average_steps, images        # Return the averages and images\n"
      ]
    },
    {
      "cell_type": "code",
      "execution_count": 72,
      "metadata": {
        "colab": {
          "base_uri": "https://localhost:8080/",
          "height": 67,
          "referenced_widgets": [
            "54630634058040c89fc41f05ab13192c",
            "b0160d5ae5624baca421d4438426c3bf",
            "ef0dfea4c86741e382cf688672c65a27",
            "b81d3a65b5b447bc8035d34b89ae1fc2",
            "bb6c54171f2e46d7ac1b6e719d325d5d",
            "2233f4e527bf46a291288c525310686d",
            "6f1573405f064cafb8549f30a8101d40",
            "5d4d94d3d35c482ca407c6a8d1b9b262",
            "2bece3b8402a44fe9e6189eab06015c8",
            "9dd7c7e28b864b88aaacaecbb83ee863",
            "38b6495694b14b4c85fb5142182ecfc3"
          ]
        },
        "id": "cW0u-75qmT8T",
        "outputId": "11e687d1-2517-4a7a-ed5e-03f4a76dd264"
      },
      "outputs": [
        {
          "output_type": "display_data",
          "data": {
            "text/plain": [
              "  0%|          | 0/5000 [00:00<?, ?it/s]"
            ],
            "application/vnd.jupyter.widget-view+json": {
              "version_major": 2,
              "version_minor": 0,
              "model_id": "54630634058040c89fc41f05ab13192c"
            }
          },
          "metadata": {}
        },
        {
          "output_type": "stream",
          "name": "stdout",
          "text": [
            "episodes:  247, final_reward -0.04\n"
          ]
        }
      ],
      "source": [
        "history = {'rewards' : []}                          # Dictionary to logs of rewards\n",
        "epsF = Epsilon(total_episodes)                      # Generate epsilon object for epsilon-greedy strategy\n",
        "\n",
        "# Create a progress bar\n",
        "pbar = tqdm(range(total_episodes), bar_format='{l_bar}{bar:10}{r_bar}{bar:-10b}')\n",
        "\n",
        "for episodes in pbar: # Iterate through all episodes\n",
        "\n",
        "    # initialize variables for a new episode\n",
        "    epis_rewards = 0                                # Total rewards accumulated in episode\n",
        "    epis_steps = 0                                  # Total steps token in episode\n",
        "    done = False                                    # Episode end flag\n",
        "\n",
        "    state = env_reset(env)                          # Reset the environment to the initial state\n",
        "\n",
        "    epsilon = epsF.get_epsilon()                    # Get the current epsilon value for exploration\n",
        "\n",
        "    while not done:                                 # Simulate until the terminal state of the episode\n",
        "\n",
        "        ### START CODE HERE ###\n",
        "\n",
        "        # Get a random number for exploration decision\n",
        "        random_number = np.random.rand()\n",
        "        # If random number > greater than epsilon --> exploitation\n",
        "        if random_number > epsilon:\n",
        "            #  Find an index of the biggest Q value for this state\n",
        "            action = np.argmax(Q_table[state])\n",
        "         # Else doing a random choice --> exploration\n",
        "        else:\n",
        "            #  Get a random integer in [0,action_range)\n",
        "            action = np.random.randint(0, action_range)\n",
        "\n",
        "        # Take the action to environment and observe the next state, reward, and done flag\n",
        "        next_state, reward, done = env_step(env, action)\n",
        "        # Update Q-table using Q-learning update rule\n",
        "        Q_table[state, action] += learning_rate * (reward + gamma * np.max(Q_table[next_state] - Q_table[state, action]))\n",
        "\n",
        "\n",
        "        ###  END CODE HERE  ###\n",
        "\n",
        "        epis_rewards += reward                      # Accumulate rewards to calculate the episode reward\n",
        "        state = next_state                          # Set state for the next state\n",
        "\n",
        "        if epis_steps > max_steps: break            # Terminate if the episode exceeds the maximum steps\n",
        "        else: epis_steps += 1                       # Increment step count\n",
        "\n",
        "    # Evaluate the policy after each episode\n",
        "    eval_reward, eval_steps, _ = evaluate_policy(env, Q_table, val_episodes) # Evaluate the policy\n",
        "\n",
        "    history['rewards'].append(eval_reward) # Log the evaluation reward\n",
        "\n",
        "    pbar.set_postfix({'reward':eval_reward, 'steps':eval_steps}) # Update progress bar\n",
        "\n",
        "    if eval_reward>goal_score: break                # Exit if convergence\n",
        "\n",
        "print('episodes:{0:5d}, final_reward {1:4.2f}'.format(episodes, eval_reward))"
      ]
    },
    {
      "cell_type": "markdown",
      "metadata": {
        "id": "7fJJA6T2mT8T"
      },
      "source": [
        "### Plot Training Histories"
      ]
    },
    {
      "cell_type": "code",
      "execution_count": 73,
      "metadata": {
        "colab": {
          "base_uri": "https://localhost:8080/",
          "height": 388
        },
        "id": "fypue1PDmT8T",
        "outputId": "bfaba349-633a-4a35-9afb-bd71e948f975"
      },
      "outputs": [
        {
          "output_type": "display_data",
          "data": {
            "text/plain": [
              "<Figure size 500x400 with 1 Axes>"
            ],
            "image/png": "[encoded data removed]"
          },
          "metadata": {}
        }
      ],
      "source": [
        "# Plot loss and accuracy\n",
        "def plot_graphs(log_history, log_labels, graph_labels, graph_colors=['b-','g-']):\n",
        "    num_graphs = len(log_labels)\n",
        "    plt.figure(figsize=(5*num_graphs,4))\n",
        "    for i in range(num_graphs):\n",
        "        plt.subplot(1,num_graphs,i+1)\n",
        "        plt.plot(log_history[log_labels[i]], graph_colors[i], label=graph_labels[i])\n",
        "        plt.xlabel('episodes')\n",
        "        plt.legend()\n",
        "    plt.show()\n",
        "    return\n",
        "\n",
        "# Configuration for plotting\n",
        "log_labels    = ['rewards']\n",
        "label_strings = ['reward']\n",
        "label_colors  = ['g-']\n",
        "plot_graphs(history, log_labels, label_strings, label_colors)"
      ]
    },
    {
      "cell_type": "markdown",
      "metadata": {
        "id": "MuvG9CRXmT8T"
      },
      "source": [
        "### Evaluate the Agent\n",
        "\n",
        "Evaluate the agent here to show the performance"
      ]
    },
    {
      "cell_type": "code",
      "execution_count": 74,
      "metadata": {
        "colab": {
          "base_uri": "https://localhost:8080/",
          "height": 67,
          "referenced_widgets": [
            "76917339c8814f1fadeb20f26076a988",
            "e5a13a6719764edfb2e117fc7b88a46a",
            "f29d4582c2144644a4c4ccface4627d2",
            "b773351b008b47dabe5b1b9fd13b9092",
            "104d7e540d82412395f01afe07d40e83",
            "1c35e85aa78a41148e7f1e6367ef5067",
            "ccf0f4bece8d4c0d94d5f3a5d840a30f",
            "f8ff0458c2324bde8d11668f88a7ac0f",
            "7b9488bb2ae54e35a2d3555f0ed432ef",
            "988f38989d744acc8daa99c65f50bd90",
            "4e657e944b9442c0b8efa7a4fdd250ce"
          ]
        },
        "id": "aTMgseQrmT8T",
        "outputId": "87f60509-df93-4491-bcbf-14ba90fabffe"
      },
      "outputs": [
        {
          "output_type": "display_data",
          "data": {
            "text/plain": [
              "  0%|          | 0/20 [00:00<?, ?it/s]"
            ],
            "application/vnd.jupyter.widget-view+json": {
              "version_major": 2,
              "version_minor": 0,
              "model_id": "76917339c8814f1fadeb20f26076a988"
            }
          },
          "metadata": {}
        },
        {
          "output_type": "stream",
          "name": "stdout",
          "text": [
            "Evaluation Result: -0.2\n"
          ]
        }
      ],
      "source": [
        "# Evaluate the policy over multiple episodes and calculate the average reward\n",
        "evaluate_episodes = 20\n",
        "sum_episode_rewards = 0.0\n",
        "pbar = tqdm(range(evaluate_episodes))\n",
        "\n",
        "for i in pbar:\n",
        "    rewards, _, _ = evaluate_policy(env, Q_table, 1)\n",
        "    sum_episode_rewards += rewards\n",
        "\n",
        "env.close()\n",
        "\n",
        "print('Evaluation Result:',  sum_episode_rewards/evaluate_episodes)"
      ]
    },
    {
      "cell_type": "markdown",
      "metadata": {
        "id": "O5VJSnYBmT8T"
      },
      "source": [
        "## See How The Agent Works"
      ]
    },
    {
      "cell_type": "code",
      "execution_count": 75,
      "metadata": {
        "colab": {
          "base_uri": "https://localhost:8080/"
        },
        "id": "n4mWWLyvmT8T",
        "outputId": "7f8f84bc-5eee-48a3-9b95-f8b555cf5a8b"
      },
      "outputs": [
        {
          "output_type": "stream",
          "name": "stdout",
          "text": [
            "Sample Total Reward: 1.0\n"
          ]
        }
      ],
      "source": [
        "# Evaluate the policy in the selected environment and optionally record video or collect images\n",
        "env = create_env()\n",
        "\n",
        "if SELECT_ENV != 2:\n",
        "    env = wrappers.RecordVideo(env, video_folder='./gym-results/', name_prefix=res_prefix)\n",
        "    eval_reward, _, _ = evaluate_policy(env, Q_table, 1)\n",
        "else:\n",
        "    ims = []\n",
        "    eval_reward, _, ims = evaluate_policy(env, Q_table, 1, ims)\n",
        "\n",
        "print('Sample Total Reward:', eval_reward)\n",
        "\n",
        "env.close()"
      ]
    },
    {
      "cell_type": "code",
      "execution_count": 76,
      "metadata": {
        "colab": {
          "base_uri": "https://localhost:8080/",
          "height": 501
        },
        "id": "vCJiPXJQmT8T",
        "outputId": "f273a36a-8669-42c1-cf3a-14bd280f2a59"
      },
      "outputs": [
        {
          "output_type": "display_data",
          "data": {
            "text/plain": [
              "<Figure size 300x300 with 1 Axes>"
            ],
            "image/png": "[encoded data removed]"
          },
          "metadata": {}
        },
        {
          "output_type": "display_data",
          "data": {
            "text/plain": [
              "<Figure size 300x300 with 1 Axes>"
            ],
            "image/png": "[encoded data removed]"
          },
          "metadata": {}
        }
      ],
      "source": [
        "# Display a recorded video or render images from the evaluation depending on the environment type\n",
        "from IPython.display import HTML, display\n",
        "from base64 import b64encode\n",
        "\n",
        "def show_video(video_path, video_width = 320):\n",
        "    video_file = open(video_path, \"r+b\").read()\n",
        "    video_url = f\"data:video/mp4;base64,{b64encode(video_file).decode()}\"\n",
        "    return HTML(f\"\"\"<video width={video_width} controls><source src=\"{video_url}\"></video>\"\"\")\n",
        "\n",
        "if SELECT_ENV==2:\n",
        "    for i in range(len(ims)):\n",
        "        plt.figure(figsize=(3,3))\n",
        "        plt.imshow(ims[i])\n",
        "        plt.show()\n",
        "else:\n",
        "    display(show_video('./gym-results/' + res_prefix + '-episode-0.mp4'))"
      ]
    },
    {
      "cell_type": "markdown",
      "metadata": {
        "id": "ezmy5UInmT8T"
      },
      "source": [
        "(c) 2024 SW Lee"
      ]
    }
  ],
  "metadata": {
    "kernelspec": {
      "display_name": "tf2",
      "language": "python",
      "name": "python3"
    },
    "language_info": {
      "codemirror_mode": {
        "name": "ipython",
        "version": 3
      },
      "file_extension": ".py",
      "mimetype": "text/x-python",
      "name": "python",
      "nbconvert_exporter": "python",
      "pygments_lexer": "ipython3",
      "version": "3.9.16"
    },
    "orig_nbformat": 4,
    "vscode": {
      "interpreter": {
        "hash": "71930d9c743a2c2f7d41567bb1e631f1d30be1b0f7ff3429fb86acce8edbed56"
      }
    },
    "colab": {
      "provenance": []
    },
    "widgets": {
      "application/vnd.jupyter.widget-state+json": {
        "54630634058040c89fc41f05ab13192c": {
          "model_module": "@jupyter-widgets/controls",
          "model_name": "HBoxModel",
          "model_module_version": "1.5.0",
          "state": {
            "_dom_classes": [],
            "_model_module": "@jupyter-widgets/controls",
            "_model_module_version": "1.5.0",
            "_model_name": "HBoxModel",
            "_view_count": null,
            "_view_module": "@jupyter-widgets/controls",
            "_view_module_version": "1.5.0",
            "_view_name": "HBoxView",
            "box_style": "",
            "children": [
              "IPY_MODEL_b0160d5ae5624baca421d4438426c3bf",
              "IPY_MODEL_ef0dfea4c86741e382cf688672c65a27",
              "IPY_MODEL_b81d3a65b5b447bc8035d34b89ae1fc2"
            ],
            "layout": "IPY_MODEL_bb6c54171f2e46d7ac1b6e719d325d5d"
          }
        },
        "b0160d5ae5624baca421d4438426c3bf": {
          "model_module": "@jupyter-widgets/controls",
          "model_name": "HTMLModel",
          "model_module_version": "1.5.0",
          "state": {
            "_dom_classes": [],
            "_model_module": "@jupyter-widgets/controls",
            "_model_module_version": "1.5.0",
            "_model_name": "HTMLModel",
            "_view_count": null,
            "_view_module": "@jupyter-widgets/controls",
            "_view_module_version": "1.5.0",
            "_view_name": "HTMLView",
            "description": "",
            "description_tooltip": null,
            "layout": "IPY_MODEL_2233f4e527bf46a291288c525310686d",
            "placeholder": "​",
            "style": "IPY_MODEL_6f1573405f064cafb8549f30a8101d40",
            "value": ""
          }
        },
        "ef0dfea4c86741e382cf688672c65a27": {
          "model_module": "@jupyter-widgets/controls",
          "model_name": "FloatProgressModel",
          "model_module_version": "1.5.0",
          "state": {
            "_dom_classes": [],
            "_model_module": "@jupyter-widgets/controls",
            "_model_module_version": "1.5.0",
            "_model_name": "FloatProgressModel",
            "_view_count": null,
            "_view_module": "@jupyter-widgets/controls",
            "_view_module_version": "1.5.0",
            "_view_name": "ProgressView",
            "bar_style": "danger",
            "description": "",
            "description_tooltip": null,
            "layout": "IPY_MODEL_5d4d94d3d35c482ca407c6a8d1b9b262",
            "max": 5000,
            "min": 0,
            "orientation": "horizontal",
            "style": "IPY_MODEL_2bece3b8402a44fe9e6189eab06015c8",
            "value": 247
          }
        },
        "b81d3a65b5b447bc8035d34b89ae1fc2": {
          "model_module": "@jupyter-widgets/controls",
          "model_name": "HTMLModel",
          "model_module_version": "1.5.0",
          "state": {
            "_dom_classes": [],
            "_model_module": "@jupyter-widgets/controls",
            "_model_module_version": "1.5.0",
            "_model_name": "HTMLModel",
            "_view_count": null,
            "_view_module": "@jupyter-widgets/controls",
            "_view_module_version": "1.5.0",
            "_view_name": "HTMLView",
            "description": "",
            "description_tooltip": null,
            "layout": "IPY_MODEL_9dd7c7e28b864b88aaacaecbb83ee863",
            "placeholder": "​",
            "style": "IPY_MODEL_38b6495694b14b4c85fb5142182ecfc3",
            "value": "  5%|▍         | 247/5000 [00:49&lt;12:03,  6.57it/s, reward=-0.044, steps=1.26]"
          }
        },
        "bb6c54171f2e46d7ac1b6e719d325d5d": {
          "model_module": "@jupyter-widgets/base",
          "model_name": "LayoutModel",
          "model_module_version": "1.2.0",
          "state": {
            "_model_module": "@jupyter-widgets/base",
            "_model_module_version": "1.2.0",
            "_model_name": "LayoutModel",
            "_view_count": null,
            "_view_module": "@jupyter-widgets/base",
            "_view_module_version": "1.2.0",
            "_view_name": "LayoutView",
            "align_content": null,
            "align_items": null,
            "align_self": null,
            "border": null,
            "bottom": null,
            "display": null,
            "flex": null,
            "flex_flow": null,
            "grid_area": null,
            "grid_auto_columns": null,
            "grid_auto_flow": null,
            "grid_auto_rows": null,
            "grid_column": null,
            "grid_gap": null,
            "grid_row": null,
            "grid_template_areas": null,
            "grid_template_columns": null,
            "grid_template_rows": null,
            "height": null,
            "justify_content": null,
            "justify_items": null,
            "left": null,
            "margin": null,
            "max_height": null,
            "max_width": null,
            "min_height": null,
            "min_width": null,
            "object_fit": null,
            "object_position": null,
            "order": null,
            "overflow": null,
            "overflow_x": null,
            "overflow_y": null,
            "padding": null,
            "right": null,
            "top": null,
            "visibility": null,
            "width": null
          }
        },
        "2233f4e527bf46a291288c525310686d": {
          "model_module": "@jupyter-widgets/base",
          "model_name": "LayoutModel",
          "model_module_version": "1.2.0",
          "state": {
            "_model_module": "@jupyter-widgets/base",
            "_model_module_version": "1.2.0",
            "_model_name": "LayoutModel",
            "_view_count": null,
            "_view_module": "@jupyter-widgets/base",
            "_view_module_version": "1.2.0",
            "_view_name": "LayoutView",
            "align_content": null,
            "align_items": null,
            "align_self": null,
            "border": null,
            "bottom": null,
            "display": null,
            "flex": null,
            "flex_flow": null,
            "grid_area": null,
            "grid_auto_columns": null,
            "grid_auto_flow": null,
            "grid_auto_rows": null,
            "grid_column": null,
            "grid_gap": null,
            "grid_row": null,
            "grid_template_areas": null,
            "grid_template_columns": null,
            "grid_template_rows": null,
            "height": null,
            "justify_content": null,
            "justify_items": null,
            "left": null,
            "margin": null,
            "max_height": null,
            "max_width": null,
            "min_height": null,
            "min_width": null,
            "object_fit": null,
            "object_position": null,
            "order": null,
            "overflow": null,
            "overflow_x": null,
            "overflow_y": null,
            "padding": null,
            "right": null,
            "top": null,
            "visibility": null,
            "width": null
          }
        },
        "6f1573405f064cafb8549f30a8101d40": {
          "model_module": "@jupyter-widgets/controls",
          "model_name": "DescriptionStyleModel",
          "model_module_version": "1.5.0",
          "state": {
            "_model_module": "@jupyter-widgets/controls",
            "_model_module_version": "1.5.0",
            "_model_name": "DescriptionStyleModel",
            "_view_count": null,
            "_view_module": "@jupyter-widgets/base",
            "_view_module_version": "1.2.0",
            "_view_name": "StyleView",
            "description_width": ""
          }
        },
        "5d4d94d3d35c482ca407c6a8d1b9b262": {
          "model_module": "@jupyter-widgets/base",
          "model_name": "LayoutModel",
          "model_module_version": "1.2.0",
          "state": {
            "_model_module": "@jupyter-widgets/base",
            "_model_module_version": "1.2.0",
            "_model_name": "LayoutModel",
            "_view_count": null,
            "_view_module": "@jupyter-widgets/base",
            "_view_module_version": "1.2.0",
            "_view_name": "LayoutView",
            "align_content": null,
            "align_items": null,
            "align_self": null,
            "border": null,
            "bottom": null,
            "display": null,
            "flex": null,
            "flex_flow": null,
            "grid_area": null,
            "grid_auto_columns": null,
            "grid_auto_flow": null,
            "grid_auto_rows": null,
            "grid_column": null,
            "grid_gap": null,
            "grid_row": null,
            "grid_template_areas": null,
            "grid_template_columns": null,
            "grid_template_rows": null,
            "height": null,
            "justify_content": null,
            "justify_items": null,
            "left": null,
            "margin": null,
            "max_height": null,
            "max_width": null,
            "min_height": null,
            "min_width": null,
            "object_fit": null,
            "object_position": null,
            "order": null,
            "overflow": null,
            "overflow_x": null,
            "overflow_y": null,
            "padding": null,
            "right": null,
            "top": null,
            "visibility": null,
            "width": null
          }
        },
        "2bece3b8402a44fe9e6189eab06015c8": {
          "model_module": "@jupyter-widgets/controls",
          "model_name": "ProgressStyleModel",
          "model_module_version": "1.5.0",
          "state": {
            "_model_module": "@jupyter-widgets/controls",
            "_model_module_version": "1.5.0",
            "_model_name": "ProgressStyleModel",
            "_view_count": null,
            "_view_module": "@jupyter-widgets/base",
            "_view_module_version": "1.2.0",
            "_view_name": "StyleView",
            "bar_color": null,
            "description_width": ""
          }
        },
        "9dd7c7e28b864b88aaacaecbb83ee863": {
          "model_module": "@jupyter-widgets/base",
          "model_name": "LayoutModel",
          "model_module_version": "1.2.0",
          "state": {
            "_model_module": "@jupyter-widgets/base",
            "_model_module_version": "1.2.0",
            "_model_name": "LayoutModel",
            "_view_count": null,
            "_view_module": "@jupyter-widgets/base",
            "_view_module_version": "1.2.0",
            "_view_name": "LayoutView",
            "align_content": null,
            "align_items": null,
            "align_self": null,
            "border": null,
            "bottom": null,
            "display": null,
            "flex": null,
            "flex_flow": null,
            "grid_area": null,
            "grid_auto_columns": null,
            "grid_auto_flow": null,
            "grid_auto_rows": null,
            "grid_column": null,
            "grid_gap": null,
            "grid_row": null,
            "grid_template_areas": null,
            "grid_template_columns": null,
            "grid_template_rows": null,
            "height": null,
            "justify_content": null,
            "justify_items": null,
            "left": null,
            "margin": null,
            "max_height": null,
            "max_width": null,
            "min_height": null,
            "min_width": null,
            "object_fit": null,
            "object_position": null,
            "order": null,
            "overflow": null,
            "overflow_x": null,
            "overflow_y": null,
            "padding": null,
            "right": null,
            "top": null,
            "visibility": null,
            "width": null
          }
        },
        "38b6495694b14b4c85fb5142182ecfc3": {
          "model_module": "@jupyter-widgets/controls",
          "model_name": "DescriptionStyleModel",
          "model_module_version": "1.5.0",
          "state": {
            "_model_module": "@jupyter-widgets/controls",
            "_model_module_version": "1.5.0",
            "_model_name": "DescriptionStyleModel",
            "_view_count": null,
            "_view_module": "@jupyter-widgets/base",
            "_view_module_version": "1.2.0",
            "_view_name": "StyleView",
            "description_width": ""
          }
        },
        "76917339c8814f1fadeb20f26076a988": {
          "model_module": "@jupyter-widgets/controls",
          "model_name": "HBoxModel",
          "model_module_version": "1.5.0",
          "state": {
            "_dom_classes": [],
            "_model_module": "@jupyter-widgets/controls",
            "_model_module_version": "1.5.0",
            "_model_name": "HBoxModel",
            "_view_count": null,
            "_view_module": "@jupyter-widgets/controls",
            "_view_module_version": "1.5.0",
            "_view_name": "HBoxView",
            "box_style": "",
            "children": [
              "IPY_MODEL_e5a13a6719764edfb2e117fc7b88a46a",
              "IPY_MODEL_f29d4582c2144644a4c4ccface4627d2",
              "IPY_MODEL_b773351b008b47dabe5b1b9fd13b9092"
            ],
            "layout": "IPY_MODEL_104d7e540d82412395f01afe07d40e83"
          }
        },
        "e5a13a6719764edfb2e117fc7b88a46a": {
          "model_module": "@jupyter-widgets/controls",
          "model_name": "HTMLModel",
          "model_module_version": "1.5.0",
          "state": {
            "_dom_classes": [],
            "_model_module": "@jupyter-widgets/controls",
            "_model_module_version": "1.5.0",
            "_model_name": "HTMLModel",
            "_view_count": null,
            "_view_module": "@jupyter-widgets/controls",
            "_view_module_version": "1.5.0",
            "_view_name": "HTMLView",
            "description": "",
            "description_tooltip": null,
            "layout": "IPY_MODEL_1c35e85aa78a41148e7f1e6367ef5067",
            "placeholder": "​",
            "style": "IPY_MODEL_ccf0f4bece8d4c0d94d5f3a5d840a30f",
            "value": "100%"
          }
        },
        "f29d4582c2144644a4c4ccface4627d2": {
          "model_module": "@jupyter-widgets/controls",
          "model_name": "FloatProgressModel",
          "model_module_version": "1.5.0",
          "state": {
            "_dom_classes": [],
            "_model_module": "@jupyter-widgets/controls",
            "_model_module_version": "1.5.0",
            "_model_name": "FloatProgressModel",
            "_view_count": null,
            "_view_module": "@jupyter-widgets/controls",
            "_view_module_version": "1.5.0",
            "_view_name": "ProgressView",
            "bar_style": "success",
            "description": "",
            "description_tooltip": null,
            "layout": "IPY_MODEL_f8ff0458c2324bde8d11668f88a7ac0f",
            "max": 20,
            "min": 0,
            "orientation": "horizontal",
            "style": "IPY_MODEL_7b9488bb2ae54e35a2d3555f0ed432ef",
            "value": 20
          }
        },
        "b773351b008b47dabe5b1b9fd13b9092": {
          "model_module": "@jupyter-widgets/controls",
          "model_name": "HTMLModel",
          "model_module_version": "1.5.0",
          "state": {
            "_dom_classes": [],
            "_model_module": "@jupyter-widgets/controls",
            "_model_module_version": "1.5.0",
            "_model_name": "HTMLModel",
            "_view_count": null,
            "_view_module": "@jupyter-widgets/controls",
            "_view_module_version": "1.5.0",
            "_view_name": "HTMLView",
            "description": "",
            "description_tooltip": null,
            "layout": "IPY_MODEL_988f38989d744acc8daa99c65f50bd90",
            "placeholder": "​",
            "style": "IPY_MODEL_4e657e944b9442c0b8efa7a4fdd250ce",
            "value": " 20/20 [00:00&lt;00:00, 647.56it/s]"
          }
        },
        "104d7e540d82412395f01afe07d40e83": {
          "model_module": "@jupyter-widgets/base",
          "model_name": "LayoutModel",
          "model_module_version": "1.2.0",
          "state": {
            "_model_module": "@jupyter-widgets/base",
            "_model_module_version": "1.2.0",
            "_model_name": "LayoutModel",
            "_view_count": null,
            "_view_module": "@jupyter-widgets/base",
            "_view_module_version": "1.2.0",
            "_view_name": "LayoutView",
            "align_content": null,
            "align_items": null,
            "align_self": null,
            "border": null,
            "bottom": null,
            "display": null,
            "flex": null,
            "flex_flow": null,
            "grid_area": null,
            "grid_auto_columns": null,
            "grid_auto_flow": null,
            "grid_auto_rows": null,
            "grid_column": null,
            "grid_gap": null,
            "grid_row": null,
            "grid_template_areas": null,
            "grid_template_columns": null,
            "grid_template_rows": null,
            "height": null,
            "justify_content": null,
            "justify_items": null,
            "left": null,
            "margin": null,
            "max_height": null,
            "max_width": null,
            "min_height": null,
            "min_width": null,
            "object_fit": null,
            "object_position": null,
            "order": null,
            "overflow": null,
            "overflow_x": null,
            "overflow_y": null,
            "padding": null,
            "right": null,
            "top": null,
            "visibility": null,
            "width": null
          }
        },
        "1c35e85aa78a41148e7f1e6367ef5067": {
          "model_module": "@jupyter-widgets/base",
          "model_name": "LayoutModel",
          "model_module_version": "1.2.0",
          "state": {
            "_model_module": "@jupyter-widgets/base",
            "_model_module_version": "1.2.0",
            "_model_name": "LayoutModel",
            "_view_count": null,
            "_view_module": "@jupyter-widgets/base",
            "_view_module_version": "1.2.0",
            "_view_name": "LayoutView",
            "align_content": null,
            "align_items": null,
            "align_self": null,
            "border": null,
            "bottom": null,
            "display": null,
            "flex": null,
            "flex_flow": null,
            "grid_area": null,
            "grid_auto_columns": null,
            "grid_auto_flow": null,
            "grid_auto_rows": null,
            "grid_column": null,
            "grid_gap": null,
            "grid_row": null,
            "grid_template_areas": null,
            "grid_template_columns": null,
            "grid_template_rows": null,
            "height": null,
            "justify_content": null,
            "justify_items": null,
            "left": null,
            "margin": null,
            "max_height": null,
            "max_width": null,
            "min_height": null,
            "min_width": null,
            "object_fit": null,
            "object_position": null,
            "order": null,
            "overflow": null,
            "overflow_x": null,
            "overflow_y": null,
            "padding": null,
            "right": null,
            "top": null,
            "visibility": null,
            "width": null
          }
        },
        "ccf0f4bece8d4c0d94d5f3a5d840a30f": {
          "model_module": "@jupyter-widgets/controls",
          "model_name": "DescriptionStyleModel",
          "model_module_version": "1.5.0",
          "state": {
            "_model_module": "@jupyter-widgets/controls",
            "_model_module_version": "1.5.0",
            "_model_name": "DescriptionStyleModel",
            "_view_count": null,
            "_view_module": "@jupyter-widgets/base",
            "_view_module_version": "1.2.0",
            "_view_name": "StyleView",
            "description_width": ""
          }
        },
        "f8ff0458c2324bde8d11668f88a7ac0f": {
          "model_module": "@jupyter-widgets/base",
          "model_name": "LayoutModel",
          "model_module_version": "1.2.0",
          "state": {
            "_model_module": "@jupyter-widgets/base",
            "_model_module_version": "1.2.0",
            "_model_name": "LayoutModel",
            "_view_count": null,
            "_view_module": "@jupyter-widgets/base",
            "_view_module_version": "1.2.0",
            "_view_name": "LayoutView",
            "align_content": null,
            "align_items": null,
            "align_self": null,
            "border": null,
            "bottom": null,
            "display": null,
            "flex": null,
            "flex_flow": null,
            "grid_area": null,
            "grid_auto_columns": null,
            "grid_auto_flow": null,
            "grid_auto_rows": null,
            "grid_column": null,
            "grid_gap": null,
            "grid_row": null,
            "grid_template_areas": null,
            "grid_template_columns": null,
            "grid_template_rows": null,
            "height": null,
            "justify_content": null,
            "justify_items": null,
            "left": null,
            "margin": null,
            "max_height": null,
            "max_width": null,
            "min_height": null,
            "min_width": null,
            "object_fit": null,
            "object_position": null,
            "order": null,
            "overflow": null,
            "overflow_x": null,
            "overflow_y": null,
            "padding": null,
            "right": null,
            "top": null,
            "visibility": null,
            "width": null
          }
        },
        "7b9488bb2ae54e35a2d3555f0ed432ef": {
          "model_module": "@jupyter-widgets/controls",
          "model_name": "ProgressStyleModel",
          "model_module_version": "1.5.0",
          "state": {
            "_model_module": "@jupyter-widgets/controls",
            "_model_module_version": "1.5.0",
            "_model_name": "ProgressStyleModel",
            "_view_count": null,
            "_view_module": "@jupyter-widgets/base",
            "_view_module_version": "1.2.0",
            "_view_name": "StyleView",
            "bar_color": null,
            "description_width": ""
          }
        },
        "988f38989d744acc8daa99c65f50bd90": {
          "model_module": "@jupyter-widgets/base",
          "model_name": "LayoutModel",
          "model_module_version": "1.2.0",
          "state": {
            "_model_module": "@jupyter-widgets/base",
            "_model_module_version": "1.2.0",
            "_model_name": "LayoutModel",
            "_view_count": null,
            "_view_module": "@jupyter-widgets/base",
            "_view_module_version": "1.2.0",
            "_view_name": "LayoutView",
            "align_content": null,
            "align_items": null,
            "align_self": null,
            "border": null,
            "bottom": null,
            "display": null,
            "flex": null,
            "flex_flow": null,
            "grid_area": null,
            "grid_auto_columns": null,
            "grid_auto_flow": null,
            "grid_auto_rows": null,
            "grid_column": null,
            "grid_gap": null,
            "grid_row": null,
            "grid_template_areas": null,
            "grid_template_columns": null,
            "grid_template_rows": null,
            "height": null,
            "justify_content": null,
            "justify_items": null,
            "left": null,
            "margin": null,
            "max_height": null,
            "max_width": null,
            "min_height": null,
            "min_width": null,
            "object_fit": null,
            "object_position": null,
            "order": null,
            "overflow": null,
            "overflow_x": null,
            "overflow_y": null,
            "padding": null,
            "right": null,
            "top": null,
            "visibility": null,
            "width": null
          }
        },
        "4e657e944b9442c0b8efa7a4fdd250ce": {
          "model_module": "@jupyter-widgets/controls",
          "model_name": "DescriptionStyleModel",
          "model_module_version": "1.5.0",
          "state": {
            "_model_module": "@jupyter-widgets/controls",
            "_model_module_version": "1.5.0",
            "_model_name": "DescriptionStyleModel",
            "_view_count": null,
            "_view_module": "@jupyter-widgets/base",
            "_view_module_version": "1.2.0",
            "_view_name": "StyleView",
            "description_width": ""
          }
        }
      }
    }
  },
  "nbformat": 4,
  "nbformat_minor": 0
}